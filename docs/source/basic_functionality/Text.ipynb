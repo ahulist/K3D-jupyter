{
 "cells": [
  {
   "cell_type": "markdown",
   "metadata": {},
   "source": [
    "## Text\n",
    "\n",
    "There are three kinds of text objects:\n",
    "\n",
    " - on the 3D scene `k3d.text`, renders in canvas\n",
    " - on the 2D canvas `k3d.text2d`, renders in canvas\n",
    " - `k3d.texture_text` renders as texture in WebGL"
   ]
  },
  {
   "cell_type": "code",
   "execution_count": 1,
   "metadata": {},
   "outputs": [
    {
     "data": {
      "application/vnd.jupyter.widget-view+json": {
       "model_id": "338d4c8723e24411a7ed8bb055cb3b18",
       "version_major": 2,
       "version_minor": 0
      },
      "text/plain": [
       "Output()"
      ]
     },
     "metadata": {},
     "output_type": "display_data"
    }
   ],
   "source": [
    "import k3d\n",
    "import numpy as np \n",
    "\n",
    "\n",
    "g = 9.81\n",
    "v0 = 24\n",
    "alpha = np.radians(45)\n",
    "\n",
    "plot = k3d.plot()\n",
    "\n",
    "for alpha in np.linspace(1,89,15):\n",
    "    alpha = np.radians(alpha)\n",
    "    t_end = 2*v0*np.sin(alpha)/g\n",
    "    t = np.linspace(0,t_end,100) \n",
    "\n",
    "    \n",
    "    # note .T at the end, k3d takes data (x1,y1,z1),(x2,y2,z2)...\n",
    "    traj3d = np.stack([ v0*t*np.cos(alpha), \\\n",
    "                        20*alpha+np.zeros_like(t), \\\n",
    "                        v0*t*np.sin(alpha)-g*t**2/2 ]).T.astype(np.float32)\n",
    "\n",
    "    plt_traj = k3d.line(traj3d) \n",
    "    plt_text = k3d.text('h_{max}', \\\n",
    "                        position=[np.cos(alpha)*t_end*v0/2, 20*alpha, (v0*np.sin(alpha))**2/(2*g)],\\\n",
    "                        color=0xff0000, size=1)\n",
    "    plt_text2d = k3d.text2d(r'\\text{ballistic trajectory: } h=v_0 t \\sin \\alpha - \\frac{g t^2}{2}', \\\n",
    "                            position=[0.0, 0.0], color=0x0000ff, size=1)\n",
    "    plt_texture_text = k3d.texture_text('START', position=[0, 0, 0],\\\n",
    "                                        font_face='Calibri', color=255, size=2)\n",
    "\n",
    "    plot += plt_text \n",
    "    plot += plt_text2d \n",
    "    plot += plt_texture_text\n",
    "    plot += plt_traj\n",
    "\n",
    "plot.display()"
   ]
  }
 ],
 "metadata": {
  "kernelspec": {
   "display_name": "Python 3",
   "language": "python",
   "name": "python3"
  },
  "language_info": {
   "codemirror_mode": {
    "name": "ipython",
    "version": 3
   },
   "file_extension": ".py",
   "mimetype": "text/x-python",
   "name": "python",
   "nbconvert_exporter": "python",
   "pygments_lexer": "ipython3",
   "version": "3.6.8"
  },
  "widgets": {
   "application/vnd.jupyter.widget-state+json": {
    "state": {
     "0323c3603bb5401283161dfe20541607": {
      "model_module": "@jupyter-widgets/base",
      "model_module_version": "1.2.0",
      "model_name": "LayoutModel",
      "state": {}
     },
     "0435bd9bd4b04594aa92422c14e31f41": {
      "model_module": "k3d",
      "model_module_version": "2.7.3",
      "model_name": "ObjectModel",
      "state": {
       "_view_count": null,
       "_view_module": null,
       "_view_module_version": "",
       "_view_name": null,
       "color": 255,
       "compression_level": 0,
       "font_face": "Calibri",
       "font_size": 68,
       "font_weight": 400,
       "id": 140293937034408,
       "name": "TextureText #12",
       "position": [
        0,
        0,
        0
       ],
       "size": 2,
       "text": "START",
       "type": "TextureText",
       "visible": true
      }
     },
     "0501b2f10f6a4059a9c5b6a270b08feb": {
      "model_module": "k3d",
      "model_module_version": "2.7.3",
      "model_name": "ObjectModel",
      "state": {
       "_view_count": null,
       "_view_module": null,
       "_view_module_version": "",
       "_view_name": null,
       "color": 255,
       "compression_level": 0,
       "font_face": "Calibri",
       "font_size": 68,
       "font_weight": 400,
       "id": 140293936938680,
       "name": "TextureText #11",
       "position": [
        0,
        0,
        0
       ],
       "size": 2,
       "text": "START",
       "type": "TextureText",
       "visible": true
      }
     },
     "06c21b660a0b4b94940aa35390258026": {
      "buffers": [
       {
        "data": "eNoDAAAAAAE=",
        "encoding": "base64",
        "path": [
         "attribute",
         "compressed_buffer"
        ]
       },
       {
        "data": "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",
        "encoding": "base64",
        "path": [
         "color_map",
         "compressed_buffer"
        ]
       },
       {
        "data": "eNoDAAAAAAE=",
        "encoding": "base64",
        "path": [
         "colors",
         "compressed_buffer"
        ]
       },
       {
        "data": "eNpjYGiwZ8AAxIsBAF7EAv0=",
        "encoding": "base64",
        "path": [
         "model_matrix",
         "compressed_buffer"
        ]
       },
       {
        "data": "eNo91HtIU3EUB/BbKC0GYoUtWkomlWQqpkn20HtO4ShNHPNBFmlpZgMRMh8UI5MIM81klloqhjTC3mHCIDXKKOkxExUTQZhhoQxZkFGCdXbw7K99GPf+7u+c3/f8FEVRvpguAP0o1cO6BI9dSWsTqocb2cY3DQmO3im239gE/a9TPV73fJX6cGAfezw6RnX05rJT3Onqn6+X2edmSlVah22ru6bqHZ3sGcMdereHrWnrVOP7B9mL9XZaZ4r9KeS9mmOfZ5eYRmlNH/B4fuM3FTL92Kk1blpfx668uagOGYPZhjZf0Du2se2vtJCXHANLewbaMzv3rA5+JRrYt5cFQnx/Krs3exNcgSz255qtQHWxP1RtB93eQnaXKQpy7KXsatdOSNNXsJMzdgPVzl6ojYfWpqvsWw0IkHmdHWhOhOkAK7ve7xBQf9juS4chwtrC9uxlyHiXXTZigjJ/G7vlRQbV1cl+nHcE+mqfsB85j1KNXezGyOOg0drZRUk5VG8Pe0fsSTBWvWY753Kp9nfsi+WnoNn3I1szmE/fHmRb5k+Ds3KEPTlbQD0ZZ4c/PQNhyiS7YL+Z+jPFrrtnhmLLD3bHqJl65fL65V+39xk6U++7PuUL3jXT9ArKt2znl6Psgc4dZW9JcStQ9tzatBKllrnfWpQaKRsotVu7/VF6Mh2wBqVXu0oCUHpI+UHp7UT0epSeR1g3oJxFxc8glDOijKGc3eZnIShnWua/BeWsB4pCUTJAOUTJRmFEOEpm+mojUbK02hWFkjHKKkr2uh/EomRSo41DyWqWeQ9KhinPKNn+F6qiZN5YhSiz0PH9AMqMUOZRZsdgO4gyU82+ySizNpuXgjKDVD/KbN4IMaHMrLMyHWWWY5yZKDNOs4My+2Ptx1DuhDAlG+WusGSfkD177g2UuyU4KB/lzim2FKDcRW8nzLh0R93/DzTHDaw=",
        "encoding": "base64",
        "path": [
         "vertices",
         "compressed_buffer"
        ]
       }
      ],
      "model_module": "k3d",
      "model_module_version": "2.7.3",
      "model_name": "ObjectModel",
      "state": {
       "_view_count": null,
       "_view_module": null,
       "_view_module_version": "",
       "_view_name": null,
       "attribute": {
        "dtype": "float32",
        "shape": [
         0
        ]
       },
       "color": 255,
       "color_map": {
        "dtype": "float32",
        "shape": [
         1024
        ]
       },
       "color_range": [],
       "colors": {
        "dtype": "uint32",
        "shape": [
         0
        ]
       },
       "compression_level": 0,
       "id": 140293940018872,
       "model_matrix": {
        "dtype": "float32",
        "shape": [
         4,
         4
        ]
       },
       "name": "Line #8",
       "radial_segments": 8,
       "shader": "thick",
       "type": "Line",
       "vertices": {
        "dtype": "float32",
        "shape": [
         100,
         3
        ]
       },
       "visible": true,
       "width": 0.01
      }
     },
     "0a14e0d4f12d4974968b8deb369e1b67": {
      "model_module": "k3d",
      "model_module_version": "2.7.3",
      "model_name": "ObjectModel",
      "state": {
       "_view_count": null,
       "_view_module": null,
       "_view_module_version": "",
       "_view_name": null,
       "color": 255,
       "compression_level": 0,
       "id": 140293936936160,
       "name": "Text2d #9",
       "position": [
        0,
        0
       ],
       "reference_point": "lt",
       "size": 1,
       "text": "\\text{ballistic trajectory: } h=v_0 t \\sin \\alpha - \\frac{g t^2}{2}",
       "type": "Text2d",
       "visible": true
      }
     },
     "0c625da2904349739005380a894d5071": {
      "model_module": "k3d",
      "model_module_version": "2.7.3",
      "model_name": "ObjectModel",
      "state": {
       "_view_count": null,
       "_view_module": null,
       "_view_module_version": "",
       "_view_name": null,
       "color": 255,
       "compression_level": 0,
       "id": 140293936935208,
       "name": "Text2d #11",
       "position": [
        0,
        0
       ],
       "reference_point": "lt",
       "size": 1,
       "text": "\\text{ballistic trajectory: } h=v_0 t \\sin \\alpha - \\frac{g t^2}{2}",
       "type": "Text2d",
       "visible": true
      }
     },
     "14d249283d844a88b7a9114e6178b79f": {
      "model_module": "k3d",
      "model_module_version": "2.7.3",
      "model_name": "ObjectModel",
      "state": {
       "_view_count": null,
       "_view_module": null,
       "_view_module_version": "",
       "_view_name": null,
       "color": 16711680,
       "compression_level": 0,
       "id": 140293937034856,
       "name": "Text #13",
       "position": [
        13.393340399358909,
        26.678604280484755,
        27.74123756053532
       ],
       "reference_point": "lb",
       "size": 1,
       "text": "h_{max}",
       "type": "Text",
       "visible": true
      }
     },
     "15d93afe253f4cc79cb3f086b2fd621f": {
      "model_module": "k3d",
      "model_module_version": "2.7.3",
      "model_name": "ObjectModel",
      "state": {
       "_view_count": null,
       "_view_module": null,
       "_view_module_version": "",
       "_view_name": null,
       "color": 255,
       "compression_level": 0,
       "id": 140293937033960,
       "name": "Text2d #12",
       "position": [
        0,
        0
       ],
       "reference_point": "lt",
       "size": 1,
       "text": "\\text{ballistic trajectory: } h=v_0 t \\sin \\alpha - \\frac{g t^2}{2}",
       "type": "Text2d",
       "visible": true
      }
     },
     "193ddc36f20d43238369b480f9760166": {
      "model_module": "k3d",
      "model_module_version": "2.7.3",
      "model_name": "ObjectModel",
      "state": {
       "_view_count": null,
       "_view_module": null,
       "_view_module_version": "",
       "_view_name": null,
       "color": 255,
       "compression_level": 0,
       "font_face": "Calibri",
       "font_size": 68,
       "font_weight": 400,
       "id": 140293937033904,
       "name": "TextureText #13",
       "position": [
        0,
        0,
        0
       ],
       "size": 2,
       "text": "START",
       "type": "TextureText",
       "visible": true
      }
     },
     "1e74265d68e144238a8452c495b94f6a": {
      "model_module": "k3d",
      "model_module_version": "2.7.3",
      "model_name": "ObjectModel",
      "state": {
       "_view_count": null,
       "_view_module": null,
       "_view_module_version": "",
       "_view_name": null,
       "color": 255,
       "compression_level": 0,
       "id": 140293940018704,
       "name": "Text2d #7",
       "position": [
        0,
        0
       ],
       "reference_point": "lt",
       "size": 1,
       "text": "\\text{ballistic trajectory: } h=v_0 t \\sin \\alpha - \\frac{g t^2}{2}",
       "type": "Text2d",
       "visible": true
      }
     },
     "1fc2ef9d676441a59b2291d7f2858781": {
      "buffers": [
       {
        "data": "eNoDAAAAAAE=",
        "encoding": "base64",
        "path": [
         "attribute",
         "compressed_buffer"
        ]
       },
       {
        "data": "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",
        "encoding": "base64",
        "path": [
         "color_map",
         "compressed_buffer"
        ]
       },
       {
        "data": "eNoDAAAAAAE=",
        "encoding": "base64",
        "path": [
         "colors",
         "compressed_buffer"
        ]
       },
       {
        "data": "eNpjYGiwZ8AAxIsBAF7EAv0=",
        "encoding": "base64",
        "path": [
         "model_matrix",
         "compressed_buffer"
        ]
       },
       {
        "data": "eNo9lF1I02EUxlcjkVEWGRlaZmVYhpWhJEW6R4qRQraQFmaiUoZkI4TEmBmFyioxraREkjDtw8/KStISs1K3lGGmLZ2WXuWN5AddFELnf+i8V/tdvP+d55zzPEen0+l6zw6BfnR59mvRGh9cUhKTZzfEaBx/c6mxrS+Bea7psJHeMCc0XDVWhjYy15rq6I2L2bbVaXRbZ5kHzVP03mDU+OgPPa5/C2DWt69EZWgY86+oDaizRTMHJu0A1WIuDtwHx7o05r1FcXBbs5lDyyyY/36ZOSnmJEgPs7P0HPTht5hthXlUq5L5lU8BfK/UGP9rprqNzPaAG9g4+JI5Lfk2aehgHrFWYFdwD/P8kSrS42Ju8n4AnHcze5c+Im0TzIun6mHunmK+5/uUdM4yu5e/QKrfX+aWsVbSvAgab7/YjqgIL+a46Q7Sb2D2Cu9Cp8eHOf3AR+rFlzllWy9MhX7Mfyed2gyZd2f1wxUWxLyqx0U9BjOXzQ3AMryFuXlmUJszc9a7IYznhzM7079S75HMjiE3MkL2MJ/2H9F2wVy7cxTTrljmgjUemomJWf/Zg5zceOZNJ8a0fTFPvh7DQlAic+zPMZrVMcWFjmT1hnaqvl2WfUr9p7k7U9Uq97cqDbR3pW3t+xylOdXPpnqpOXNJ9UjeUL2vNhSomURFFKlZJaXY1QzJP2q2Vc+L1cw7PSVqFxNeZWpH5DG1u83Hy9VOTYV3ILvObK6AeIB8CPFGo74K4hlX2H2Il2Ys1RCPkVch3otseAjxpGX4McSrF3T1EA+TnyHefpvYDPH8eP4zSBZ0T1ogGSHPQ7Kzf6EVkqmMkDZI1uzmN5AMUi4g2eyr7YRkdtrVBcnyij8fIBmn7ECyn3jIAbkJObmfILfibnW/aNbuBuS2jP4egNychaAvkFu0Pn4YcqP+AWWBRRI=",
        "encoding": "base64",
        "path": [
         "vertices",
         "compressed_buffer"
        ]
       }
      ],
      "model_module": "k3d",
      "model_module_version": "2.7.3",
      "model_name": "ObjectModel",
      "state": {
       "_view_count": null,
       "_view_module": null,
       "_view_module_version": "",
       "_view_name": null,
       "attribute": {
        "dtype": "float32",
        "shape": [
         0
        ]
       },
       "color": 255,
       "color_map": {
        "dtype": "float32",
        "shape": [
         1024
        ]
       },
       "color_range": [],
       "colors": {
        "dtype": "uint32",
        "shape": [
         0
        ]
       },
       "compression_level": 0,
       "id": 140293937035024,
       "model_matrix": {
        "dtype": "float32",
        "shape": [
         4,
         4
        ]
       },
       "name": "Line #13",
       "radial_segments": 8,
       "shader": "thick",
       "type": "Line",
       "vertices": {
        "dtype": "float32",
        "shape": [
         100,
         3
        ]
       },
       "visible": true,
       "width": 0.01
      }
     },
     "2148b097a38b4b089dcdb270c171a86f": {
      "buffers": [
       {
        "data": "eNoDAAAAAAE=",
        "encoding": "base64",
        "path": [
         "attribute",
         "compressed_buffer"
        ]
       },
       {
        "data": "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",
        "encoding": "base64",
        "path": [
         "color_map",
         "compressed_buffer"
        ]
       },
       {
        "data": "eNoDAAAAAAE=",
        "encoding": "base64",
        "path": [
         "colors",
         "compressed_buffer"
        ]
       },
       {
        "data": "eNpjYGiwZ8AAxIsBAF7EAv0=",
        "encoding": "base64",
        "path": [
         "model_matrix",
         "compressed_buffer"
        ]
       },
       {
        "data": "eNo9lGtIVGEQhg+023bBpEjzUsaupKhlEVpR6TkzERqJSojmJYxKRKTQytUugkmxWIjgmpkstnnbwHC3iOiikIFCrO4PI4MkJCRys8JSuoBCs1Nzfp3nx/ed752Z9x1FUZTgYSfQR/FWrlQDfC42V/VWNjCbfr9WPfE+5vO5mzQ6owV4++0sLdWXwBx+ok7zxGcyD5W3adG2CuZGv5vONzDXTo5oBmc7sx3e090+Zl/kvFa9OMC8IdkA9BZzfusa+Hx0irn/QRhE2+aYQ2wW6H+nQICbQrcC6WGOPJ4MMyvWMT87mQoGZwRzuTkNzLuj4b9mIM3MRm8eFJQkMX99XAzVi/uZZ4pKocV+kPnnwBnSk8kc8rYKxoZymdP7LpO2YuYRxxUwzZUy/3hxlXRWMMe+tIEWdYG5xHmdNNcx3y9shJSYa8xL802kv4E5r6wZ8gcb/+l/3kK1NDPHzLaCNaeV2fGrjepqZ4740A722Q7mTpeDauxiTjrcAe56F7PPe4fq7WM+G3cXRsM9zJtPdVLtj5jfXOoCv+cJc0tFN/VhgPkY9oAxfYg58XsP9WSYeVVtL1imXjF/+9gbmBfzZIILVOs483imi3o1oXNR0KR+hmaq363pntb/aZr7pL91c98XXQPNXdf2cHxB16xF/dFr8ZUt6TWSN1Bqr1KWofQkJcaI0itDhgmlh+QflN4231qN0vP8wSCUWZing1FmRB5DmZ07cT3KTK05oSizTrkYhuIB8iGKN0aHN6J4xj4bheKlgrVmFI+RV1G8N1O0BcWT7vpY1L16Lw7Fw+RnFG8bF7aheH40fAdKFuzqTpSMkOdRsmO5sQslU37PHpSseSb2omSQcoGSzVSLipJZYzqgZHns9AGUjFN2ULJf+DQNZSdYpg6h7Aq/IUM0B/YGym6pyc5G2Tmq9QjKLlruyEHZUX8BYKj5iQ==",
        "encoding": "base64",
        "path": [
         "vertices",
         "compressed_buffer"
        ]
       }
      ],
      "model_module": "k3d",
      "model_module_version": "2.7.3",
      "model_name": "ObjectModel",
      "state": {
       "_view_count": null,
       "_view_module": null,
       "_view_module_version": "",
       "_view_name": null,
       "attribute": {
        "dtype": "float32",
        "shape": [
         0
        ]
       },
       "color": 255,
       "color_map": {
        "dtype": "float32",
        "shape": [
         1024
        ]
       },
       "color_range": [],
       "colors": {
        "dtype": "uint32",
        "shape": [
         0
        ]
       },
       "compression_level": 0,
       "id": 140293936935432,
       "model_matrix": {
        "dtype": "float32",
        "shape": [
         4,
         4
        ]
       },
       "name": "Line #10",
       "radial_segments": 8,
       "shader": "thick",
       "type": "Line",
       "vertices": {
        "dtype": "float32",
        "shape": [
         100,
         3
        ]
       },
       "visible": true,
       "width": 0.01
      }
     },
     "22ea70db691c4569b016f4af7a21f9fd": {
      "model_module": "k3d",
      "model_module_version": "2.7.3",
      "model_name": "ObjectModel",
      "state": {
       "_view_count": null,
       "_view_module": null,
       "_view_module_version": "",
       "_view_name": null,
       "color": 255,
       "compression_level": 0,
       "id": 140293940015904,
       "name": "Text2d #5",
       "position": [
        0,
        0
       ],
       "reference_point": "lt",
       "size": 1,
       "text": "\\text{ballistic trajectory: } h=v_0 t \\sin \\alpha - \\frac{g t^2}{2}",
       "type": "Text2d",
       "visible": true
      }
     },
     "26d3f38ab9114581aa27695baa372128": {
      "model_module": "k3d",
      "model_module_version": "2.7.3",
      "model_name": "ObjectModel",
      "state": {
       "_view_count": null,
       "_view_module": null,
       "_view_module_version": "",
       "_view_name": null,
       "color": 255,
       "compression_level": 0,
       "font_face": "Calibri",
       "font_size": 68,
       "font_weight": 400,
       "id": 140293936615496,
       "name": "TextureText #15",
       "position": [
        0,
        0,
        0
       ],
       "size": 2,
       "text": "START",
       "type": "TextureText",
       "visible": true
      }
     },
     "2bc92a4c308a44c786bdcf2449698557": {
      "model_module": "@jupyter-widgets/base",
      "model_module_version": "1.2.0",
      "model_name": "LayoutModel",
      "state": {}
     },
     "3356ea117cba43b3bf4b0d2bc185cb1b": {
      "buffers": [
       {
        "data": "eNoDAAAAAAE=",
        "encoding": "base64",
        "path": [
         "attribute",
         "compressed_buffer"
        ]
       },
       {
        "data": "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",
        "encoding": "base64",
        "path": [
         "color_map",
         "compressed_buffer"
        ]
       },
       {
        "data": "eNoDAAAAAAE=",
        "encoding": "base64",
        "path": [
         "colors",
         "compressed_buffer"
        ]
       },
       {
        "data": "eNpjYGiwZ8AAxIsBAF7EAv0=",
        "encoding": "base64",
        "path": [
         "model_matrix",
         "compressed_buffer"
        ]
       },
       {
        "data": "eNo9lG1IU3EUxq9Gw6WImilU4gdHEhGjJIUk77l/qVZgiu+olJRJHxRKTKQ0LVoZojV7URRBSjMxe59I9gKWpImGQ2wlykIRDVchOQTJdXb0fz7tx7j33HOe8zxHURTl3Mgk4I8yoeuL8/Cn15viJnRC9fDJpBtxBrOFeMU+hP/3Eddf1KmWqkXiirQdqsEcCB6OunBQdffvJLbOn1KxDrG3rVLtPpxFbEm9ie8WEV8ra1a788zEP450Yh0LceubHrWurZl4eKwfa3YQ59TZ1MJZK3HK0hTW7yN+9u+naoocIS7udOG3vhMnuhUwnJmF9Z4Beya+/dkX3I9WieMXAqA7b6Pm4TbHFnAW+xL3tm8FnIv4qhYO2XdDib2eREBdWxjxHmckDFojiIPduwBnJ+6cNkL0uJH4b2MUFM7uI140xECrK5b4/uX9gPoQ654fgKBQE3HYSwBT5DHiuevxUBGTSpxvPASoIXF9hwmcGbnEZa6jOGP+Wg8hCZBdWkB8wicR5y0iPj6cBAMNpcQBp5Nx9kvE57+kQFPOFeJavzTUwUyctT0dbAVVxN9W01GTamK/VxmgL69dmyU2E/WxEFffywS15g6x/UMmalXPXNLcyM/gTvndrq4WrjlofcDfmnn7kHvAvXNv20Yec8/R4095luSpFzwjeoNnr/rVw5q0unpZq/er71hD9A9r6/LvZ82DQgd4F7vDh3hH6DHeXZ5xlHdaETPGu25Sv7IH0IfsjdHESfaMM8PBXvLJnWaPoVfZe+rZefZkdumCJr1aUvlbkx5GP2vS2123ljTp+YGGZU1mYaZlRZMZQc9rMjs1dkXITDXleAuZtQ7HBiEziLkQMpsf53RCZtZW4CNklh1/9EJmHLMjZPZXlv2EvAn6cn8hb0WIV4CQNwTzJeRt2avfLOTNUWuChbxFCYEhYv1Gtf8H94pGNA==",
        "encoding": "base64",
        "path": [
         "vertices",
         "compressed_buffer"
        ]
       }
      ],
      "model_module": "k3d",
      "model_module_version": "2.7.3",
      "model_name": "ObjectModel",
      "state": {
       "_view_count": null,
       "_view_module": null,
       "_view_module_version": "",
       "_view_name": null,
       "attribute": {
        "dtype": "float32",
        "shape": [
         0
        ]
       },
       "color": 255,
       "color_map": {
        "dtype": "float32",
        "shape": [
         1024
        ]
       },
       "color_range": [],
       "colors": {
        "dtype": "uint32",
        "shape": [
         0
        ]
       },
       "compression_level": 0,
       "id": 140293939855032,
       "model_matrix": {
        "dtype": "float32",
        "shape": [
         4,
         4
        ]
       },
       "name": "Line #4",
       "radial_segments": 8,
       "shader": "thick",
       "type": "Line",
       "vertices": {
        "dtype": "float32",
        "shape": [
         100,
         3
        ]
       },
       "visible": true,
       "width": 0.01
      }
     },
     "338d4c8723e24411a7ed8bb055cb3b18": {
      "model_module": "@jupyter-widgets/output",
      "model_module_version": "1.0.0",
      "model_name": "OutputModel",
      "state": {
       "layout": "IPY_MODEL_2bc92a4c308a44c786bdcf2449698557",
       "outputs": [
        {
         "data": {
          "application/vnd.jupyter.widget-view+json": {
           "model_id": "769bcd2b1f2544978d88a78deac1be8e",
           "version_major": 2,
           "version_minor": 0
          },
          "text/plain": "Plot(antialias=3, axes=['x', 'y', 'z'], axes_helper=1.0, background_color=16777215, camera=[2, -3, 0.2, 0.0, 0…"
         },
         "metadata": {},
         "output_type": "display_data"
        }
       ]
      }
     },
     "34a6ea40843d48c0b230a0470b9cf9e1": {
      "buffers": [
       {
        "data": "eNoDAAAAAAE=",
        "encoding": "base64",
        "path": [
         "attribute",
         "compressed_buffer"
        ]
       },
       {
        "data": "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",
        "encoding": "base64",
        "path": [
         "color_map",
         "compressed_buffer"
        ]
       },
       {
        "data": "eNoDAAAAAAE=",
        "encoding": "base64",
        "path": [
         "colors",
         "compressed_buffer"
        ]
       },
       {
        "data": "eNpjYGiwZ8AAxIsBAF7EAv0=",
        "encoding": "base64",
        "path": [
         "model_matrix",
         "compressed_buffer"
        ]
       },
       {
        "data": "eNo9lFFIk2EUhn/JLkRSBgsKw24ctMhIs1Ayv//kIgMLYZBk2k1DkyJSkTLBYWoWCkuUxNCiElcmhWwqaiyUNdBypaPFUJZmrZwgqDiSSDr/oe9c7bn4/p33nPO+R1EUZeXub8AfZdz2IlPjI+oDMW4zHtd4aEivPsuvIfZ7ClV8Qzza06I61n3EUwYnvtkifjz/WZ0s0mdpfPhLBN8bid31sTAylkXsPZYAjnUz8cj9/fDSUEp8py4DsBZxqj4HvO57xG9PnIPJojbiA/EW8EQeEd+qKgPUQ/y8tgZc+5zEc60NWMtF7BtogsGCiaz/mrGuj7ituB1eNweJCzc6UcMS8U7zU7C71oldVjvq2SLOr+6DvJvRQuOFk/2oLYb4wtcByNXFE787NYI69cR7rS7I6d1NXNowjpoTibsLPGDKTiL+uDWB+o3Ey2VToM4dJI44PmEvacRrbh9kVmYQB7v92gyJR80BSI8zETdOz2KPp4lNiUFIs58lXs2Y1+ZMbEv6BinqeeI9wUXs/SLxw+IfkBy4RBzjCmm7IC75/hOM5deIBwO/cCYVxBtdS2CIrSJOSglr+yLObg2DbqaW2OwO46zqmW2JjfwGd8rf7rjSzP+Zq7NxraahFtaAe2dtMdHtrDmnt4N7aczr5B7RG9z79q4nPBNTdjfPqm6ph2eI/uHZRh3t45mrc694F9bb/bwj9Bjv7q93kHeaWTnMu65OeMMeQB+yNzZLxtgz6XFu9tINp0dIj6FXhfTehvJBSE+m2b1CerXizLSQHkY/C+nttQ6/kJ5PUQNCZuF6aFbIjKDnhczOSuqCkJlKDiwKmbWr1pCQGcRcCJnN8PtlITNrLF8RMsuXd60KmXHMjpDZD1kiQt4EQ+ymkLfC0v9HatbuhpC3ZbVGUeXN0c1EqfIWHTJsU+WN+gcQUoj9",
        "encoding": "base64",
        "path": [
         "vertices",
         "compressed_buffer"
        ]
       }
      ],
      "model_module": "k3d",
      "model_module_version": "2.7.3",
      "model_name": "ObjectModel",
      "state": {
       "_view_count": null,
       "_view_module": null,
       "_view_module_version": "",
       "_view_name": null,
       "attribute": {
        "dtype": "float32",
        "shape": [
         0
        ]
       },
       "color": 255,
       "color_map": {
        "dtype": "float32",
        "shape": [
         1024
        ]
       },
       "color_range": [],
       "colors": {
        "dtype": "uint32",
        "shape": [
         0
        ]
       },
       "compression_level": 0,
       "id": 140293937036984,
       "model_matrix": {
        "dtype": "float32",
        "shape": [
         4,
         4
        ]
       },
       "name": "Line #15",
       "radial_segments": 8,
       "shader": "thick",
       "type": "Line",
       "vertices": {
        "dtype": "float32",
        "shape": [
         100,
         3
        ]
       },
       "visible": true,
       "width": 0.01
      }
     },
     "3687088e92f34aa4a553dd2fa5c3ee80": {
      "buffers": [
       {
        "data": "eNoDAAAAAAE=",
        "encoding": "base64",
        "path": [
         "attribute",
         "compressed_buffer"
        ]
       },
       {
        "data": "eNodl3lYjd37xTOUWWgyFJEMeUPpFfXse6WSNCC+kSklRMbmTh0SUipUSnklGZIS0oxERZqolEqDIYXMJaTCb5/fn891nWvv57nvtT5rHSkpKamIuLt6Hlad8+fNdBD89u/X/xYmrz/R45Keimo0f5YSBunY6H93kNN/Hloo5N0zEKT+RuhbWdjqv9D5Lfm90PPovv7qu6f0/3xWYefi4oTOwz36+0cU64+rBcu7d0/IjVcWrO/06sc12bNXL18KMxQhFCweK1j99GP8fLbYfLMwok1X2PjPCRYWOoJ9SQoQ7OetElqcLvLzVJlqeqzg+NVTEJVmsBsps9mD5izhQ0uIYL/iIT/fgNWaVwlD18UK1e11rLJiGbMf1y7ITk0RnHLf8/vsWGbuQJaqkS+EZfWy9q97GL+bLbKpFqocBxB/f+YzUpMVHHwjGAeMoCOBgax9ugEb7NQlRN0fQ2GhoSwxcAVz7yfNfOTU6FR0NBup68jmRw9j2W7/EP9elgAftvmFAit++y8lXr7MQuoC2IZMFfbTBXQjJYXZLg5ny4eoM5mRi+lmdjZr/BbDIi7OYL9ylhOfD7vRkMDSvLT4eeuouKiIBfVPY2v2z2X2/26hyooKFuycy1iGHgvu2U3P6uqYyeQSJjOCWFeeiPg8Wc34GuYRbMAi8vyo7d07lmbXzNzUDZljzGFq//qVrWr7zDobDdnlncH0q6uLaWX1MOUMQyatFcq/X4oWO/SnJZkLmEZzBPkf6k8Og4aQ/EcwJj7F5zGQgkpHksFWxhK7z9DRkKEUfWk0JQh67KfNeT6fETQ5agL5HpzL0sMvUWSEPHVETaFrm7WZ6YUkPq/RNCpekzoGzmSDAq7RmRhlirylQ+qR09lp/VQ+P1WqqNYnmdnqLD83g+IvTqawL4Yk6juRRcre5POcRnoDzWj5YhUWoplDV5P/IQ1lK+o3eSwbNuYun+9sMptuQw+SlVjfqjzKSNchmZkbKOaXAvu77j6f9zwymbaFtqkosLrsQrqTI5DF6J3//5zwrojP34BqfrvS278KrOhzCT24b0zn6rypt1CJZT8q4/swpZXV++n4nrEsNOAxPSqzIOgeorheFfZofAXfzzLSjAyg1k2T2JXISnpa/T/68ymIqs9MZf6fn/B92dBaw2O0yluTzZ5RTU2N6+hweBgpfZvD4i2f8v3Z0evnEaTzXY9Fraqh1pZNlDU1mt7uNmSnzGr5PreS8c7T5LHCjLFpdfTp4w56dD2W1EOXs+/tdXy/eyjryzmyHr2WPb78jL53upGaZjx5v3Rgikvq+b69yHrrZerTuIPdbK6n371iCj13hUR9PJivY4NE/6T07BrtN/Vl0U0NdPDAARosm0qbrQ8xx4WNXA+H6LpRBv2SPcIyzzZSwOHDpO6ZTRsqjzLNT40Sv1BK4m3qFx3OrGY2UXBQELk25NJduygW6NDE9RJC24fmU6BGDLM52kTHjx2j08IDsuqMY4uSmyT+ooAdRTT8TjzzuNdEJ8LD6dPpUoo/kMQ0Spq4niJIu/QxhRlfZxeKmyjq5Emy7q6kyr7pTPpuk8SPtHL6U1qTk83Sk5ro9H//kY1NHWk432EpIU1cbzHkE9BAhhPz2bjNTXQ2NpZiM5+TSlkh09VpkviXmltf0U3nUtbyq5EunD9PpgqtpDSqgvlnNnI9XqQO43dkdK2aCU6NlHDpEuW4fSCthc9YoXyjxO+UePEzfaptYiaZDXQlKYm6q9vJc0szi17SwPWaTMekv1PF1zesz/N6un7tGhnP7aK9nh/Y/k31Ej6Q4NhDwT1fWOerZ5SWmkpe0X+oW9zJ9q18xvWcTh9apLCst4uNz6+jrMxMStrbF/95/2ZPJ9dJeEJOiv2R2CNF+/fV0u1bt8j8ujTy5vcj1fIarvccGmc6AMpe0pShWEN3c3Op9+VA/MkcQPbWTyX8oRzRYGz5MYikgqupID+ffEYNxXjdoZSVVcX9cJ/GXBkGddFwMmh4Qg8LC8nfSBZ97oyg3O+VEl5RecMI6PWTI60BlVRaUkJvXUeh3FyBTslWcL+U0e0h8jgSpUTfh5dT+ePHNOOCApLfjKGt0o8lfCMbPSV4z1emio4yqnryhGQrR0MUOp4G15ZyP1WTleNYaH1UJb3UEqqtqaFhv8dhqqUa+R4qlvCQjMJVsDZNnRosi6ihvp7uTZmA+gnTaMnwh9xvjZw3qrgQrkFdDx7Qi+fP6YblJLChmlTvdl/CT3r9Qg3OR2dR59gCet3cTBbO6jioqE0Ls/O4H1vocp+pyEjQoXKLe/T2zRsaGDYNlQt0qaouV8JbMp+ggXWt88lt3R368P492SXPwOlwgUJrb3O/fqQp8zSx0gy03ewWffn8mYLzZ+LoUEOanJEt4TOFms+GZb0x5Spl0beODpKr0sLJtEVk45LB/dxJ32zmwO2UGSk8SKOfP37QrCYdXAy2pGruU85zOrlhLuYEL6Ou5SnU091NU17qwiF6BR04do37vZcqbOcjJ20l1eYn098/f8iqQQ++Taup+kuShP+4aS3AQ3E9vVBIpAN+ffDmEUOrrR116SRwHvRFlhEgm+VAGy3j6dDBflDOMoBogiMpb7ggyQt0TDWEY7QThTido8P+0ph+0ggXJu2iG7vPcl7I4GyfhZiR60xXd52hwIABMHYygfF2dypwPC3JF/woX4QsDRHJrz1FQUcGIV57MQw4pwpMozhPBmNmuBnm7NlPo7QiKSR4CPZ8NkfG9gNkLH9CkkfYvsgSH/YcojUdoXTs6DB8ilmCMN/DlF16jPNmOFo/L4VmdCDZxoVQ6HFZGDEriG8FcaYHSfILLQHLcfZNCJkLgRQeNhIJj1egXvk4jel/mPNoFEJGWmPI+jBKf3iQIk7IwWXZSsxJOEHxAX6SvINp8Cos64mk0IB9dDJSAR/zbJCwOpryu0ScV4qw7FyNqrz/aLKDO0VHKcF80loo6pyhjMI9knxEi/k6LE05Sz1qO+i/U2MwyHk99s09Tz+8HTnPxiIqzBYHCi+SZtlGijk9DnuvbsB8uwRar2QryVMk37fDg35JVLRuNcWeUYFcrT2aU5Jpd8z/OO/GI6VlI3Y7Xqe6mqUUd3YCHD45YPvUVBIPMZfkL/5p34Ssr+nUrGdC589NRNuXzZhVkEWHNi3gPJyEK21bkBp7i94FCnTxghoMnjvi94E7FJCgK8lrFD3ayvdzj+LvadOleHVMzt6G0s0FtKBak/NyChaccUKbQyHVvJpGlxOmQmvvdpg6FdOmNjVJvqNy1Q4UeZXR+/fjKSlxOtQ0d2LK8XJS54y4kqSBKb93wu7qE1JskKfkKzNQ/3AX/q16SqJiWUkfwPiju2En9YyKUwbTtaua6GO5B691GikoTJrzdib8BzjDe88LmrddilKuz0JijjP6pTXTNPEPSZ+ExQ4XrO9tpVtyH1nqDS34KrrC2KKNks68Ymmp2ph92xXR5z/SvrG1LD1tDvzWuEH37xe6E1TGeN/Agk43NNl/I7cveSwz41/4BrojqOQHGZhnsazMubBQ8kDvvG7KPJvMsrN0ERjnAe2rv0mm/Rzj/QSGkz2x6YQUHIyi2K2b8+F03hNfl/eF0pkQdvuWHkaO88Ighf74K32A5dzWx5RjXkh9Jg1h1G7G+wxnvxdq4yS+WsNy7zCcchDByWkQbsw1YXdzCV0PRFg9dwhKLmuze3eB9Ene8Os/DK0dEyT9GU0ib/yoHo5yOVmWn7cAm0q9cSJhBG5ekmIF+YYwVfKBmXgUYo60CfcLjCBa74NBK+TBBtcKvC9BKdYHFbzUP5cuEQofLER7nQ/2yozGkpv5wsNCE0wbLsak12OwwT5PKHq4CKeZGMF542BiVCjwfoU1jmKUnlPBskuVQknxYmwOFqP84ATMrn8tlJaYITlRDE/HiSjU/i2UlZpjfL4Y+RZqkO8vy3gfQ1m1GDfmqMNvgxp7/MgSGa/4fcpToZ6mx8ofL0H2OzHUZaaj/OcKVlG+FD/bxAhs18Cm97sk/xewtFUMi+f/wCPenz2ptEJVvRjOZTOh4h7Bqp4sh3OJGNW3Z6Os8gKrrlqB6eliuCdrY2lyGuN9D91RYiyM1YFuTwGreWqNn+5iaIfNhWpmNautWYnhS8SY4T8PVnWtrK52FVRUxdDy1oOq7U/G+yFWffTh/hFw63x/qn+2GjmpPvi0hRBXOIzn2RqYu/rAz9YApuOUqLFhLabO9EHySkOk8u7M+yTsX3tj11JjONto0POm9Rh4whuRpiYYYqTD884WxLwha2iKUxuJXr7YAN1mEXL0zdCebSrpn3jpJ0LwvxZINV1Bza/sYaEswuJZS9BHwZbn4UaopnqhYNoyzJywjVpeOyDNyAsnJy7HWCc3SV/FkUpPHB/zPyR2+dKb1s1IX+uJMyNWovitP8/LLTjc7IEdMjZ49yuY3r11xCFHD1h3r4binHBJv8XJD+7o+LAW9yOi6X3bNlzd5Y5RDevxSO0sz1MnyH1zw4fCDfj4Ip4+ftiO695uOHDNHoeLkyV9GG+k3ZAe5oALb9Lo86ed8I92xcjdm+Ex5zbP212w13FFxUJHvErNp69fdqOl0QX58tuw3KFE0p/hH+mCxHonXDd8Qh3tzpDb6AKTkzsQalnP89gFd01csMZkFz7tbabOb67wWuSChLbdCC97L+nbELa6YIGvMxbO+kY/vrtDKtkFfjKumB3Tw/PaAxsVXNHX1w0q/fqi66cnhHhXDGxzxwxtGfB+jn7r3PDD2BNjrAej+5cIyfPckXDCC4O3DkdPtzeWzffAtBoRrm4bhd4eH4xe54msYT6YtEIRvM9DLtYLzvpi3J8yFn9+70VcrwhudnvR+1oFf//sg7Y719PefbAOmggpqf0wl96Loghf3Bmjjv8DsOJB3g==",
        "encoding": "base64",
        "path": [
         "color_map",
         "compressed_buffer"
        ]
       },
       {
        "data": "eNoDAAAAAAE=",
        "encoding": "base64",
        "path": [
         "colors",
         "compressed_buffer"
        ]
       },
       {
        "data": "eNpjYGiwZ8AAxIsBAF7EAv0=",
        "encoding": "base64",
        "path": [
         "model_matrix",
         "compressed_buffer"
        ]
       },
       {
        "data": "eNo9lF9Ik2EUxj8xJEYNQVDIIilFmwgZDkTqe3ckUjCK0WBhagvKUHGR1LD8k4XLoVGYiMZKVCwtW5Im0lBbWZqpG2KMSWLoReBFklJdlEbnO3jeq/0uzrf3Oec8z1EURUlobTHhj1Lpqlc1PlZce6TSpRMa2yLDVe/0SeLBxkwVa4jv59WoboOH2DrWhjUB4qSqYTVkXyeOqJ/Hep1J4x8rv9SG+VjiK/7twm1IIXaYo8WzCpX4X9V+gW8R77AcFJN7zhF3zB0WIXsZ8chGtvj59SZxQcAiUA9xXY5NhKc2ERsvl4iGeTdxsckhom51mbY047se4oFSp9g3N0jccqoeNYwSq/p74lD8BHHPoybUEyAOhrUKuBoiHs94iNqWiK9ntwvz+ArxmqELda4TJy93C1vMX+ID9l7UHAYar/hfiPS0COLSbf2oX0f8Sj8ofAt64tHvQ9hLFHFDh1dkOWOIYw0j2Fcs8aW6NyKQEkfsfP0We4wnPusbE9ZgEvGG+4M2Z+L84xNisTqVuGb2I/ZuJL6Y/EkUJmYQR+ZOabsgrsqfFquBTGKPcQZnkkXcsTwjHOU5xNbzfm1fxLNev9iMsxDrv/lxVqclOyfzZA3uVH67s+yC/E/zeJF8q3mXXWrAvUttu8ccUrMtpkL20lVyQ/aI3pC9R+tq5UzS027LWeUWuOQM0T9ytm39d+TMfQt35S6WIhrljtBjcncJZ5rlTrOcLcC7Lup7AOwB9CGwNzzhbcCeCaS0A3tpzdoJ7DH0KrD3jM+fAHvSGuwB9uo1pRfYw+hnYG+PWPqAPb9Y/RI4C8rTAeCMoOeBs3N0cwg4U4WJXuCsuczDwBnEXABnc/qxDzizq4F3wFmO/PMeOOOYHeDsW05MAt8ER/kU8K1o7ZxhzdrdAL4tX37PAt+czbjPwLdob04Qtm5U93901/6g",
        "encoding": "base64",
        "path": [
         "vertices",
         "compressed_buffer"
        ]
       }
      ],
      "model_module": "k3d",
      "model_module_version": "2.7.3",
      "model_name": "ObjectModel",
      "state": {
       "_view_count": null,
       "_view_module": null,
       "_view_module_version": "",
       "_view_name": null,
       "attribute": {
        "dtype": "float32",
        "shape": [
         0
        ]
       },
       "color": 255,
       "color_map": {
        "dtype": "float32",
        "shape": [
         1024
        ]
       },
       "color_range": [],
       "colors": {
        "dtype": "uint32",
        "shape": [
         0
        ]
       },
       "compression_level": 0,
       "id": 140293939853464,
       "model_matrix": {
        "dtype": "float32",
        "shape": [
         4,
         4
        ]
       },
       "name": "Line #3",
       "radial_segments": 8,
       "shader": "thick",
       "type": "Line",
       "vertices": {
        "dtype": "float32",
        "shape": [
         100,
         3
        ]
       },
       "visible": true,
       "width": 0.01
      }
     },
     "406aa9f5ac2545909a6e0e88f0dae167": {
      "model_module": "k3d",
      "model_module_version": "2.7.3",
      "model_name": "ObjectModel",
      "state": {
       "_view_count": null,
       "_view_module": null,
       "_view_module_version": "",
       "_view_name": null,
       "color": 255,
       "compression_level": 0,
       "id": 140293939852512,
       "name": "Text2d #1",
       "position": [
        0,
        0
       ],
       "reference_point": "lt",
       "size": 1,
       "text": "\\text{ballistic trajectory: } h=v_0 t \\sin \\alpha - \\frac{g t^2}{2}",
       "type": "Text2d",
       "visible": true
      }
     },
     "45d80f8a2adc4674aa938c0569b65752": {
      "model_module": "k3d",
      "model_module_version": "2.7.3",
      "model_name": "ObjectModel",
      "state": {
       "_view_count": null,
       "_view_module": null,
       "_view_module_version": "",
       "_view_name": null,
       "color": 16711680,
       "compression_level": 0,
       "id": 140294153171912,
       "name": "Text #1",
       "position": [
        1.024572380256909,
        0.3490658503988659,
        0.008941988710521391
       ],
       "reference_point": "lb",
       "size": 1,
       "text": "h_{max}",
       "type": "Text",
       "visible": true
      }
     },
     "4bb2963365694a259772b06466f8474b": {
      "model_module": "k3d",
      "model_module_version": "2.7.3",
      "model_name": "ObjectModel",
      "state": {
       "_view_count": null,
       "_view_module": null,
       "_view_module_version": "",
       "_view_name": null,
       "color": 16711680,
       "compression_level": 0,
       "id": 140293939853576,
       "name": "Text #2",
       "position": [
        7.386033431031443,
        2.5431940529060233,
        0.47215048145810673
       ],
       "reference_point": "lb",
       "size": 1,
       "text": "h_{max}",
       "type": "Text",
       "visible": true
      }
     },
     "4d0bb7db21614fb7aff4bfede532df91": {
      "model_module": "k3d",
      "model_module_version": "2.7.3",
      "model_name": "ObjectModel",
      "state": {
       "_view_count": null,
       "_view_module": null,
       "_view_module_version": "",
       "_view_name": null,
       "color": 255,
       "compression_level": 0,
       "id": 140293936937224,
       "name": "Text2d #10",
       "position": [
        0,
        0
       ],
       "reference_point": "lt",
       "size": 1,
       "text": "\\text{ballistic trajectory: } h=v_0 t \\sin \\alpha - \\frac{g t^2}{2}",
       "type": "Text2d",
       "visible": true
      }
     },
     "553df126795e4a778fbee99457205b5b": {
      "model_module": "k3d",
      "model_module_version": "2.7.3",
      "model_name": "ObjectModel",
      "state": {
       "_view_count": null,
       "_view_module": null,
       "_view_module_version": "",
       "_view_name": null,
       "color": 255,
       "compression_level": 0,
       "id": 140293940017584,
       "name": "Text2d #6",
       "position": [
        0,
        0
       ],
       "reference_point": "lt",
       "size": 1,
       "text": "\\text{ballistic trajectory: } h=v_0 t \\sin \\alpha - \\frac{g t^2}{2}",
       "type": "Text2d",
       "visible": true
      }
     },
     "55ca5549d1b646cfa28f874b7521bd7b": {
      "model_module": "k3d",
      "model_module_version": "2.7.3",
      "model_name": "ObjectModel",
      "state": {
       "_view_count": null,
       "_view_module": null,
       "_view_module_version": "",
       "_view_name": null,
       "color": 16711680,
       "compression_level": 0,
       "id": 140293939854360,
       "name": "Text #9",
       "position": [
        28.65395731680366,
        17.902091470456124,
        17.87385773612569
       ],
       "reference_point": "lb",
       "size": 1,
       "text": "h_{max}",
       "type": "Text",
       "visible": true
      }
     },
     "55f97a82b16e460aab387cba65a8ba97": {
      "buffers": [
       {
        "data": "eNoDAAAAAAE=",
        "encoding": "base64",
        "path": [
         "attribute",
         "compressed_buffer"
        ]
       },
       {
        "data": "eNodl3lYjd37xTOUWWgyFJEMeUPpFfXse6WSNCC+kSklRMbmTh0SUipUSnklGZIS0oxERZqolEqDIYXMJaTCb5/fn891nWvv57nvtT5rHSkpKamIuLt6Hlad8+fNdBD89u/X/xYmrz/R45Keimo0f5YSBunY6H93kNN/Hloo5N0zEKT+RuhbWdjqv9D5Lfm90PPovv7qu6f0/3xWYefi4oTOwz36+0cU64+rBcu7d0/IjVcWrO/06sc12bNXL18KMxQhFCweK1j99GP8fLbYfLMwok1X2PjPCRYWOoJ9SQoQ7OetElqcLvLzVJlqeqzg+NVTEJVmsBsps9mD5izhQ0uIYL/iIT/fgNWaVwlD18UK1e11rLJiGbMf1y7ITk0RnHLf8/vsWGbuQJaqkS+EZfWy9q97GL+bLbKpFqocBxB/f+YzUpMVHHwjGAeMoCOBgax9ugEb7NQlRN0fQ2GhoSwxcAVz7yfNfOTU6FR0NBup68jmRw9j2W7/EP9elgAftvmFAit++y8lXr7MQuoC2IZMFfbTBXQjJYXZLg5ny4eoM5mRi+lmdjZr/BbDIi7OYL9ylhOfD7vRkMDSvLT4eeuouKiIBfVPY2v2z2X2/26hyooKFuycy1iGHgvu2U3P6uqYyeQSJjOCWFeeiPg8Wc34GuYRbMAi8vyo7d07lmbXzNzUDZljzGFq//qVrWr7zDobDdnlncH0q6uLaWX1MOUMQyatFcq/X4oWO/SnJZkLmEZzBPkf6k8Og4aQ/EcwJj7F5zGQgkpHksFWxhK7z9DRkKEUfWk0JQh67KfNeT6fETQ5agL5HpzL0sMvUWSEPHVETaFrm7WZ6YUkPq/RNCpekzoGzmSDAq7RmRhlirylQ+qR09lp/VQ+P1WqqNYnmdnqLD83g+IvTqawL4Yk6juRRcre5POcRnoDzWj5YhUWoplDV5P/IQ1lK+o3eSwbNuYun+9sMptuQw+SlVjfqjzKSNchmZkbKOaXAvu77j6f9zwymbaFtqkosLrsQrqTI5DF6J3//5zwrojP34BqfrvS278KrOhzCT24b0zn6rypt1CJZT8q4/swpZXV++n4nrEsNOAxPSqzIOgeorheFfZofAXfzzLSjAyg1k2T2JXISnpa/T/68ymIqs9MZf6fn/B92dBaw2O0yluTzZ5RTU2N6+hweBgpfZvD4i2f8v3Z0evnEaTzXY9Fraqh1pZNlDU1mt7uNmSnzGr5PreS8c7T5LHCjLFpdfTp4w56dD2W1EOXs+/tdXy/eyjryzmyHr2WPb78jL53upGaZjx5v3Rgikvq+b69yHrrZerTuIPdbK6n371iCj13hUR9PJivY4NE/6T07BrtN/Vl0U0NdPDAARosm0qbrQ8xx4WNXA+H6LpRBv2SPcIyzzZSwOHDpO6ZTRsqjzLNT40Sv1BK4m3qFx3OrGY2UXBQELk25NJduygW6NDE9RJC24fmU6BGDLM52kTHjx2j08IDsuqMY4uSmyT+ooAdRTT8TjzzuNdEJ8LD6dPpUoo/kMQ0Spq4niJIu/QxhRlfZxeKmyjq5Emy7q6kyr7pTPpuk8SPtHL6U1qTk83Sk5ro9H//kY1NHWk432EpIU1cbzHkE9BAhhPz2bjNTXQ2NpZiM5+TSlkh09VpkviXmltf0U3nUtbyq5EunD9PpgqtpDSqgvlnNnI9XqQO43dkdK2aCU6NlHDpEuW4fSCthc9YoXyjxO+UePEzfaptYiaZDXQlKYm6q9vJc0szi17SwPWaTMekv1PF1zesz/N6un7tGhnP7aK9nh/Y/k31Ej6Q4NhDwT1fWOerZ5SWmkpe0X+oW9zJ9q18xvWcTh9apLCst4uNz6+jrMxMStrbF/95/2ZPJ9dJeEJOiv2R2CNF+/fV0u1bt8j8ujTy5vcj1fIarvccGmc6AMpe0pShWEN3c3Op9+VA/MkcQPbWTyX8oRzRYGz5MYikgqupID+ffEYNxXjdoZSVVcX9cJ/GXBkGddFwMmh4Qg8LC8nfSBZ97oyg3O+VEl5RecMI6PWTI60BlVRaUkJvXUeh3FyBTslWcL+U0e0h8jgSpUTfh5dT+ePHNOOCApLfjKGt0o8lfCMbPSV4z1emio4yqnryhGQrR0MUOp4G15ZyP1WTleNYaH1UJb3UEqqtqaFhv8dhqqUa+R4qlvCQjMJVsDZNnRosi6ihvp7uTZmA+gnTaMnwh9xvjZw3qrgQrkFdDx7Qi+fP6YblJLChmlTvdl/CT3r9Qg3OR2dR59gCet3cTBbO6jioqE0Ls/O4H1vocp+pyEjQoXKLe/T2zRsaGDYNlQt0qaouV8JbMp+ggXWt88lt3R368P492SXPwOlwgUJrb3O/fqQp8zSx0gy03ewWffn8mYLzZ+LoUEOanJEt4TOFms+GZb0x5Spl0beODpKr0sLJtEVk45LB/dxJ32zmwO2UGSk8SKOfP37QrCYdXAy2pGruU85zOrlhLuYEL6Ou5SnU091NU17qwiF6BR04do37vZcqbOcjJ20l1eYn098/f8iqQQ++Taup+kuShP+4aS3AQ3E9vVBIpAN+ffDmEUOrrR116SRwHvRFlhEgm+VAGy3j6dDBflDOMoBogiMpb7ggyQt0TDWEY7QThTido8P+0ph+0ggXJu2iG7vPcl7I4GyfhZiR60xXd52hwIABMHYygfF2dypwPC3JF/woX4QsDRHJrz1FQUcGIV57MQw4pwpMozhPBmNmuBnm7NlPo7QiKSR4CPZ8NkfG9gNkLH9CkkfYvsgSH/YcojUdoXTs6DB8ilmCMN/DlF16jPNmOFo/L4VmdCDZxoVQ6HFZGDEriG8FcaYHSfILLQHLcfZNCJkLgRQeNhIJj1egXvk4jel/mPNoFEJGWmPI+jBKf3iQIk7IwWXZSsxJOEHxAX6SvINp8Cos64mk0IB9dDJSAR/zbJCwOpryu0ScV4qw7FyNqrz/aLKDO0VHKcF80loo6pyhjMI9knxEi/k6LE05Sz1qO+i/U2MwyHk99s09Tz+8HTnPxiIqzBYHCi+SZtlGijk9DnuvbsB8uwRar2QryVMk37fDg35JVLRuNcWeUYFcrT2aU5Jpd8z/OO/GI6VlI3Y7Xqe6mqUUd3YCHD45YPvUVBIPMZfkL/5p34Ssr+nUrGdC589NRNuXzZhVkEWHNi3gPJyEK21bkBp7i94FCnTxghoMnjvi94E7FJCgK8lrFD3ayvdzj+LvadOleHVMzt6G0s0FtKBak/NyChaccUKbQyHVvJpGlxOmQmvvdpg6FdOmNjVJvqNy1Q4UeZXR+/fjKSlxOtQ0d2LK8XJS54y4kqSBKb93wu7qE1JskKfkKzNQ/3AX/q16SqJiWUkfwPiju2En9YyKUwbTtaua6GO5B691GikoTJrzdib8BzjDe88LmrddilKuz0JijjP6pTXTNPEPSZ+ExQ4XrO9tpVtyH1nqDS34KrrC2KKNks68Ymmp2ph92xXR5z/SvrG1LD1tDvzWuEH37xe6E1TGeN/Agk43NNl/I7cveSwz41/4BrojqOQHGZhnsazMubBQ8kDvvG7KPJvMsrN0ERjnAe2rv0mm/Rzj/QSGkz2x6YQUHIyi2K2b8+F03hNfl/eF0pkQdvuWHkaO88Ighf74K32A5dzWx5RjXkh9Jg1h1G7G+wxnvxdq4yS+WsNy7zCcchDByWkQbsw1YXdzCV0PRFg9dwhKLmuze3eB9Ene8Os/DK0dEyT9GU0ib/yoHo5yOVmWn7cAm0q9cSJhBG5ekmIF+YYwVfKBmXgUYo60CfcLjCBa74NBK+TBBtcKvC9BKdYHFbzUP5cuEQofLER7nQ/2yozGkpv5wsNCE0wbLsak12OwwT5PKHq4CKeZGMF542BiVCjwfoU1jmKUnlPBskuVQknxYmwOFqP84ATMrn8tlJaYITlRDE/HiSjU/i2UlZpjfL4Y+RZqkO8vy3gfQ1m1GDfmqMNvgxp7/MgSGa/4fcpToZ6mx8ofL0H2OzHUZaaj/OcKVlG+FD/bxAhs18Cm97sk/xewtFUMi+f/wCPenz2ptEJVvRjOZTOh4h7Bqp4sh3OJGNW3Z6Os8gKrrlqB6eliuCdrY2lyGuN9D91RYiyM1YFuTwGreWqNn+5iaIfNhWpmNautWYnhS8SY4T8PVnWtrK52FVRUxdDy1oOq7U/G+yFWffTh/hFw63x/qn+2GjmpPvi0hRBXOIzn2RqYu/rAz9YApuOUqLFhLabO9EHySkOk8u7M+yTsX3tj11JjONto0POm9Rh4whuRpiYYYqTD884WxLwha2iKUxuJXr7YAN1mEXL0zdCebSrpn3jpJ0LwvxZINV1Bza/sYaEswuJZS9BHwZbn4UaopnqhYNoyzJywjVpeOyDNyAsnJy7HWCc3SV/FkUpPHB/zPyR2+dKb1s1IX+uJMyNWovitP8/LLTjc7IEdMjZ49yuY3r11xCFHD1h3r4binHBJv8XJD+7o+LAW9yOi6X3bNlzd5Y5RDevxSO0sz1MnyH1zw4fCDfj4Ip4+ftiO695uOHDNHoeLkyV9GG+k3ZAe5oALb9Lo86ed8I92xcjdm+Ex5zbP212w13FFxUJHvErNp69fdqOl0QX58tuw3KFE0p/hH+mCxHonXDd8Qh3tzpDb6AKTkzsQalnP89gFd01csMZkFz7tbabOb67wWuSChLbdCC97L+nbELa6YIGvMxbO+kY/vrtDKtkFfjKumB3Tw/PaAxsVXNHX1w0q/fqi66cnhHhXDGxzxwxtGfB+jn7r3PDD2BNjrAej+5cIyfPckXDCC4O3DkdPtzeWzffAtBoRrm4bhd4eH4xe54msYT6YtEIRvM9DLtYLzvpi3J8yFn9+70VcrwhudnvR+1oFf//sg7Y719PefbAOmggpqf0wl96Loghf3Bmjjv8DsOJB3g==",
        "encoding": "base64",
        "path": [
         "color_map",
         "compressed_buffer"
        ]
       },
       {
        "data": "eNoDAAAAAAE=",
        "encoding": "base64",
        "path": [
         "colors",
         "compressed_buffer"
        ]
       },
       {
        "data": "eNpjYGiwZ8AAxIsBAF7EAv0=",
        "encoding": "base64",
        "path": [
         "model_matrix",
         "compressed_buffer"
        ]
       },
       {
        "data": "eNo9lH1IU2EUxmemiUmKSaRmQy2XmqImGzHbfT1lsf4oUCiFMhZYxgoFoyxK6UPUYhIZi7TQQk2WzJqbJlLaBwYaZUFggqhoKJKWFlgZ2LnHzvvX/XF533ufc87zHI1GozmyIjgdHxqb4btJ5eBTJ0w2Q6Gi8r7VkyZHrJtYVxqv4Bni3j1HladR64TKL75dVxyxqcSJ0U1KbVImcdzzbjxfSOzpGVQUbTnx+7g5vGsnTitZKZJjGokHw4IE/mv5vTVcRCW8Ij5eECNqkz4S5+iSRUjqGPHaaqNAPcS3XBnC17hEPFy2XyjaVekqzwbkiL/1a9L/axaomThPbxWnGyKI3w4WoYbNxH8SL4iZh1uJizdcRj2pxAcXy8SxR0biUHclattJ3L3bJkace4nNbTdQZyZxx+9qke3KIfYLu42aLcQ7QmrEgCef+MDUXdRfSJxlrxPmzrPE2zY+wFpKiRdKG4Ql9wpxXVcT1lVOHP+hWUSMXiOu6XFgjVXEM5UtYshyk3hTghPrtRMrjlZhH7+zrMHrCdZ+j1ib4hJZefeJv6S1qbMgrop0i8DJZuLwUTf2pIXYVuwR/fmPicemPeq8iMMM7aJiuoNYf7gde9UledfJbnkGZyrves32ym+OOPvkv54VvJMacO5S27m5T1JztuuzrEVfNCxrRG/I2ud/TsieDHimZK9az3yVPUT/yN5af/2QPTd3LshZ6M4vyhmhx+Ts5i96Ac/UkusNPOsBkw+wB9CHwN5wLvkBeyZi1B/YS7aeAGCPoVeBvWe9FATsySFLMLBXzRAC7GH0M7C3dd7rgT1vHw8FzoLP63DgjKDngbMzcVULnKmsvEjgrL3MiAbOIOYCOJv1vjrgzAZObgHOcsmbOOCMY3aAs3+oIhF4J/TnJwHvCqM5hTWrewN4t4T664F3TsW0AXgXLfRtB95R/wBgnI08",
        "encoding": "base64",
        "path": [
         "vertices",
         "compressed_buffer"
        ]
       }
      ],
      "model_module": "k3d",
      "model_module_version": "2.7.3",
      "model_name": "ObjectModel",
      "state": {
       "_view_count": null,
       "_view_module": null,
       "_view_module_version": "",
       "_view_name": null,
       "attribute": {
        "dtype": "float32",
        "shape": [
         0
        ]
       },
       "color": 255,
       "color_map": {
        "dtype": "float32",
        "shape": [
         1024
        ]
       },
       "color_range": [],
       "colors": {
        "dtype": "uint32",
        "shape": [
         0
        ]
       },
       "compression_level": 0,
       "id": 140293940015176,
       "model_matrix": {
        "dtype": "float32",
        "shape": [
         4,
         4
        ]
       },
       "name": "Line #5",
       "radial_segments": 8,
       "shader": "thick",
       "type": "Line",
       "vertices": {
        "dtype": "float32",
        "shape": [
         100,
         3
        ]
       },
       "visible": true,
       "width": 0.01
      }
     },
     "6568b6279b634ea69ad93c38fa061916": {
      "buffers": [
       {
        "data": "eNoDAAAAAAE=",
        "encoding": "base64",
        "path": [
         "attribute",
         "compressed_buffer"
        ]
       },
       {
        "data": "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",
        "encoding": "base64",
        "path": [
         "color_map",
         "compressed_buffer"
        ]
       },
       {
        "data": "eNoDAAAAAAE=",
        "encoding": "base64",
        "path": [
         "colors",
         "compressed_buffer"
        ]
       },
       {
        "data": "eNpjYGiwZ8AAxIsBAF7EAv0=",
        "encoding": "base64",
        "path": [
         "model_matrix",
         "compressed_buffer"
        ]
       },
       {
        "data": "eNo9lGtIk3EUxlcqpeQl6Go4yQqNxBahkrjjToWGkmZXLAnLlroiKAqGCZk2UT9klqnMJAxNsiCXlyjRLo4wlhomI7yQ5oXStEaRRaSd99jZp/0+/N+d55zzPEelUqks7QE6+lFpbatA4bePzJFaWzlzo3q1dkAzxjySkKqlN1EKX/x5U+s5C8wzmU/ojZ75ROiA1m4xMbdvmKX35cwed72hZvQ+c3CvP3jOtjFHV26G8yt7mJMWRAHVYj6pioedsb+YT5mTwW5x0ymc0W2AAvBmTrltBNLDHOSWC45DAcx++QVUaxPz1fdFkHQ2VPdfM9UF5rHhCnheuIvZZq4iDXuZQ9bWQlD1EWavCw9Ij36+bqkFrrWeYd5uaiZtRuZSbIGsyWzmdNsz0mlibgqwgsZYyHwppoM0FzG/2vYGRlxLmAt+d5P+cubXee+grLiS2TRsp17uMLe690Gcupb53NyAMkPm6pcfYK6unjlx30fqsYk5yzIKDeFPmdcNjitzZo62f4I0azvz+K0J6r2DeeGWL+Cb2MlccX1K2QVz/Ytp6Bq0M2PbV5pJP/Oe/G+QYxhi7vN3KPtiHr7igLCZz8z6xw6a1bSTJ3K/O9/QTp3fVvr8df5n1qQKpda9eBcUDbR3FG0uyxejaNYYPVB6Se5fgtIjeQOl9+aqpSgzGXFdhjIrn/QVKDMk/6DM1hCyBmXmZcV+KLuw/vBH2RF5DGV36pb1KDuNUwei7Np4eSOKB8iHKN7oiQlB8cxcnQbFS8FeW1E8Rl5F8V5ebziKJxvCI1C8OmSORPEw+RnF2xHHEMXzadYdKFm4ERiNkhHyPEp2pqZiUTLlm7gbJWsxjQkoGaRcoGSzKnM/Sma7Bg+iZPmPLgkl45QdlOwfWHQU5SbkGFJQbsXDzuOiWbkbKLfFvSQN5eaEzWSg3KLUw6dx/kZl1/wDhFQd0A==",
        "encoding": "base64",
        "path": [
         "vertices",
         "compressed_buffer"
        ]
       }
      ],
      "model_module": "k3d",
      "model_module_version": "2.7.3",
      "model_name": "ObjectModel",
      "state": {
       "_view_count": null,
       "_view_module": null,
       "_view_module_version": "",
       "_view_name": null,
       "attribute": {
        "dtype": "float32",
        "shape": [
         0
        ]
       },
       "color": 255,
       "color_map": {
        "dtype": "float32",
        "shape": [
         1024
        ]
       },
       "color_range": [],
       "colors": {
        "dtype": "uint32",
        "shape": [
         0
        ]
       },
       "compression_level": 0,
       "id": 140293939853296,
       "model_matrix": {
        "dtype": "float32",
        "shape": [
         4,
         4
        ]
       },
       "name": "Line #2",
       "radial_segments": 8,
       "shader": "thick",
       "type": "Line",
       "vertices": {
        "dtype": "float32",
        "shape": [
         100,
         3
        ]
       },
       "visible": true,
       "width": 0.01
      }
     },
     "682cd435c9e845ee86b777c7f636a201": {
      "model_module": "k3d",
      "model_module_version": "2.7.3",
      "model_name": "ObjectModel",
      "state": {
       "_view_count": null,
       "_view_module": null,
       "_view_module_version": "",
       "_view_name": null,
       "color": 255,
       "compression_level": 0,
       "font_face": "Calibri",
       "font_size": 68,
       "font_weight": 400,
       "id": 140293937033848,
       "name": "TextureText #14",
       "position": [
        0,
        0,
        0
       ],
       "size": 2,
       "text": "START",
       "type": "TextureText",
       "visible": true
      }
     },
     "6a2f5cab38954c8c8d10f871847a28fc": {
      "model_module": "k3d",
      "model_module_version": "2.7.3",
      "model_name": "ObjectModel",
      "state": {
       "_view_count": null,
       "_view_module": null,
       "_view_module_version": "",
       "_view_name": null,
       "color": 16711680,
       "compression_level": 0,
       "id": 140293940018816,
       "name": "Text #7",
       "position": [
        28.653957316803655,
        13.513835065441809,
        11.483940429011927
       ],
       "reference_point": "lb",
       "size": 1,
       "text": "h_{max}",
       "type": "Text",
       "visible": true
      }
     },
     "6d53998b3ab043b9a13bbdd43054a6d0": {
      "model_module": "k3d",
      "model_module_version": "2.7.3",
      "model_name": "ObjectModel",
      "state": {
       "_view_count": null,
       "_view_module": null,
       "_view_module_version": "",
       "_view_name": null,
       "color": 16711680,
       "compression_level": 0,
       "id": 140293940016184,
       "name": "Text #15",
       "position": [
        1.0245723802569142,
        31.066860685499066,
        29.3488561764271
       ],
       "reference_point": "lb",
       "size": 1,
       "text": "h_{max}",
       "type": "Text",
       "visible": true
      }
     },
     "6d787635162043eea86fd8fc1d1852c7": {
      "model_module": "k3d",
      "model_module_version": "2.7.3",
      "model_name": "ObjectModel",
      "state": {
       "_view_count": null,
       "_view_module": null,
       "_view_module_version": "",
       "_view_name": null,
       "color": 255,
       "compression_level": 0,
       "id": 140293939853128,
       "name": "Text2d #2",
       "position": [
        0,
        0
       ],
       "reference_point": "lt",
       "size": 1,
       "text": "\\text{ballistic trajectory: } h=v_0 t \\sin \\alpha - \\frac{g t^2}{2}",
       "type": "Text2d",
       "visible": true
      }
     },
     "6ebb2289b7eb47c1b3c04b7d2e04aaa3": {
      "model_module": "k3d",
      "model_module_version": "2.7.3",
      "model_name": "ObjectModel",
      "state": {
       "_view_count": null,
       "_view_module": null,
       "_view_module_version": "",
       "_view_name": null,
       "color": 255,
       "compression_level": 0,
       "font_face": "Calibri",
       "font_size": 68,
       "font_weight": 400,
       "id": 140293939854080,
       "name": "TextureText #8",
       "position": [
        0,
        0,
        0
       ],
       "size": 2,
       "text": "START",
       "type": "TextureText",
       "visible": true
      }
     },
     "70e1d938b15641159f4e20d43bfd0764": {
      "model_module": "k3d",
      "model_module_version": "2.7.3",
      "model_name": "ObjectModel",
      "state": {
       "_view_count": null,
       "_view_module": null,
       "_view_module_version": "",
       "_view_name": null,
       "color": 255,
       "compression_level": 0,
       "id": 140293939853912,
       "name": "Text2d #4",
       "position": [
        0,
        0
       ],
       "reference_point": "lt",
       "size": 1,
       "text": "\\text{ballistic trajectory: } h=v_0 t \\sin \\alpha - \\frac{g t^2}{2}",
       "type": "Text2d",
       "visible": true
      }
     },
     "71906e3293d54ff39c1937e56ee54302": {
      "model_module": "k3d",
      "model_module_version": "2.7.3",
      "model_name": "ObjectModel",
      "state": {
       "_view_count": null,
       "_view_module": null,
       "_view_module_version": "",
       "_view_name": null,
       "color": 255,
       "compression_level": 0,
       "font_face": "Calibri",
       "font_size": 68,
       "font_weight": 400,
       "id": 140293936937840,
       "name": "TextureText #10",
       "position": [
        0,
        0,
        0
       ],
       "size": 2,
       "text": "START",
       "type": "TextureText",
       "visible": true
      }
     },
     "769bcd2b1f2544978d88a78deac1be8e": {
      "model_module": "k3d",
      "model_module_version": "2.7.3",
      "model_name": "PlotModel",
      "state": {
       "_backend_version": "2.7.3",
       "_dom_classes": [],
       "_view_count": null,
       "antialias": 3,
       "auto_rendering": true,
       "axes": [
        "x",
        "y",
        "z"
       ],
       "axes_helper": 1,
       "background_color": 16777215,
       "camera": [
        65.99529342862144,
        -28.173434253537685,
        9.660093774626041,
        34.70366501770499,
        18.76400836283686,
        6.530930933534414,
        0,
        0,
        1
       ],
       "camera_animation": [],
       "camera_auto_fit": true,
       "camera_fov": 60,
       "camera_no_pan": false,
       "camera_no_rotate": false,
       "camera_no_zoom": false,
       "clipping_planes": [],
       "colorbar_object_id": -1,
       "fps": 25,
       "fps_meter": false,
       "grid": [
        -1,
        -1,
        -1,
        1,
        1,
        1
       ],
       "grid_auto_fit": true,
       "grid_visible": true,
       "height": 512,
       "layout": "IPY_MODEL_0323c3603bb5401283161dfe20541607",
       "lighting": 1.5,
       "menu_visibility": true,
       "mode": "view",
       "name": null,
       "object_ids": [
        140294153171912,
        140293939852512,
        140293939852680,
        140293939852064,
        140293939853576,
        140293939853128,
        140293939854192,
        140293939853296,
        140293939852176,
        140293939854528,
        140293939854584,
        140293939853464,
        140293939852568,
        140293939853912,
        140293939852456,
        140293939855032,
        140293939853800,
        140293940015904,
        140293940015288,
        140293940015176,
        140293939853016,
        140293940017584,
        140293940015848,
        140293940017024,
        140293940018816,
        140293940018704,
        140293940018312,
        140293940016408,
        140293940018648,
        140293936935488,
        140293939854080,
        140293940018872,
        140293939854360,
        140293936936160,
        140293936937000,
        140293936936328,
        140293939853184,
        140293936937224,
        140293936937840,
        140293936935432,
        140293936938568,
        140293936935208,
        140293936938680,
        140293936936720,
        140293939854416,
        140293937033960,
        140293937034408,
        140293936938960,
        140293937034856,
        140293937035640,
        140293937033904,
        140293937035024,
        140293940015736,
        140293937035752,
        140293937033848,
        140293937036256,
        140293940016184,
        140293937035360,
        140293936615496,
        140293937036984
       ],
       "rendering_steps": 1,
       "screenshot": "",
       "screenshot_scale": 2,
       "snapshot": "",
       "time": 0,
       "voxel_paint_color": 0
      }
     },
     "7a3aeeed48434994a48e05d6be1e2d09": {
      "model_module": "k3d",
      "model_module_version": "2.7.3",
      "model_name": "ObjectModel",
      "state": {
       "_view_count": null,
       "_view_module": null,
       "_view_module_version": "",
       "_view_name": null,
       "color": 16711680,
       "compression_level": 0,
       "id": 140293939853016,
       "name": "Text #6",
       "position": [
        26.57618334769952,
        11.319706862934654,
        8.442177352075767
       ],
       "reference_point": "lb",
       "size": 1,
       "text": "h_{max}",
       "type": "Text",
       "visible": true
      }
     },
     "7fc5609f8a494c2ba16575708ba2533d": {
      "model_module": "k3d",
      "model_module_version": "2.7.3",
      "model_name": "ObjectModel",
      "state": {
       "_view_count": null,
       "_view_module": null,
       "_view_module_version": "",
       "_view_name": null,
       "color": 16711680,
       "compression_level": 0,
       "id": 140293939853800,
       "name": "Text #5",
       "position": [
        23.22410376972745,
        9.125578660427495,
        5.699459829504493
       ],
       "reference_point": "lb",
       "size": 1,
       "text": "h_{max}",
       "type": "Text",
       "visible": true
      }
     },
     "86ac855e506a4514afd2571c8e49a99d": {
      "model_module": "k3d",
      "model_module_version": "2.7.3",
      "model_name": "ObjectModel",
      "state": {
       "_view_count": null,
       "_view_module": null,
       "_view_module_version": "",
       "_view_name": null,
       "color": 255,
       "compression_level": 0,
       "id": 140293937035360,
       "name": "Text2d #15",
       "position": [
        0,
        0
       ],
       "reference_point": "lt",
       "size": 1,
       "text": "\\text{ballistic trajectory: } h=v_0 t \\sin \\alpha - \\frac{g t^2}{2}",
       "type": "Text2d",
       "visible": true
      }
     },
     "889485166138422fa6e42f1776e0507e": {
      "model_module": "k3d",
      "model_module_version": "2.7.3",
      "model_name": "ObjectModel",
      "state": {
       "_view_count": null,
       "_view_module": null,
       "_view_module_version": "",
       "_view_name": null,
       "color": 255,
       "compression_level": 0,
       "font_face": "Calibri",
       "font_size": 68,
       "font_weight": 400,
       "id": 140293939852456,
       "name": "TextureText #4",
       "position": [
        0,
        0,
        0
       ],
       "size": 2,
       "text": "START",
       "type": "TextureText",
       "visible": true
      }
     },
     "8a8800c51c6747e1b85e27bd6725ab6a": {
      "model_module": "k3d",
      "model_module_version": "2.7.3",
      "model_name": "ObjectModel",
      "state": {
       "_view_count": null,
       "_view_module": null,
       "_view_module_version": "",
       "_view_name": null,
       "color": 255,
       "compression_level": 0,
       "font_face": "Calibri",
       "font_size": 68,
       "font_weight": 400,
       "id": 140293940015848,
       "name": "TextureText #6",
       "position": [
        0,
        0,
        0
       ],
       "size": 2,
       "text": "START",
       "type": "TextureText",
       "visible": true
      }
     },
     "8dd63475616c4321b44b4e2e15f7e726": {
      "model_module": "k3d",
      "model_module_version": "2.7.3",
      "model_name": "ObjectModel",
      "state": {
       "_view_count": null,
       "_view_module": null,
       "_view_module_version": "",
       "_view_name": null,
       "color": 16711680,
       "compression_level": 0,
       "id": 140293939853184,
       "name": "Text #10",
       "position": [
        26.576183347699512,
        20.09621967296328,
        20.915620813061853
       ],
       "reference_point": "lb",
       "size": 1,
       "text": "h_{max}",
       "type": "Text",
       "visible": true
      }
     },
     "93cc5ecf5d7a45dcb443fa28357bb9df": {
      "model_module": "k3d",
      "model_module_version": "2.7.3",
      "model_name": "ObjectModel",
      "state": {
       "_view_count": null,
       "_view_module": null,
       "_view_module_version": "",
       "_view_name": null,
       "color": 16711680,
       "compression_level": 0,
       "id": 140293939854416,
       "name": "Text #12",
       "position": [
        18.758447975505494,
        24.484476077977597,
        25.970499308568783
       ],
       "reference_point": "lb",
       "size": 1,
       "text": "h_{max}",
       "type": "Text",
       "visible": true
      }
     },
     "a1b4569747974451ae3c126098357c22": {
      "model_module": "k3d",
      "model_module_version": "2.7.3",
      "model_name": "ObjectModel",
      "state": {
       "_view_count": null,
       "_view_module": null,
       "_view_module_version": "",
       "_view_name": null,
       "color": 255,
       "compression_level": 0,
       "id": 140293936935488,
       "name": "Text2d #8",
       "position": [
        0,
        0
       ],
       "reference_point": "lt",
       "size": 1,
       "text": "\\text{ballistic trajectory: } h=v_0 t \\sin \\alpha - \\frac{g t^2}{2}",
       "type": "Text2d",
       "visible": true
      }
     },
     "a4981ac074724666acb67d154427f3bc": {
      "model_module": "k3d",
      "model_module_version": "2.7.3",
      "model_name": "ObjectModel",
      "state": {
       "_view_count": null,
       "_view_module": null,
       "_view_module_version": "",
       "_view_name": null,
       "color": 255,
       "compression_level": 0,
       "id": 140293937035752,
       "name": "Text2d #14",
       "position": [
        0,
        0
       ],
       "reference_point": "lt",
       "size": 1,
       "text": "\\text{ballistic trajectory: } h=v_0 t \\sin \\alpha - \\frac{g t^2}{2}",
       "type": "Text2d",
       "visible": true
      }
     },
     "a807ad7a0970482a8a1e6c21b8f91c44": {
      "model_module": "k3d",
      "model_module_version": "2.7.3",
      "model_name": "ObjectModel",
      "state": {
       "_view_count": null,
       "_view_module": null,
       "_view_module_version": "",
       "_view_name": null,
       "color": 255,
       "compression_level": 0,
       "font_face": "Calibri",
       "font_size": 68,
       "font_weight": 400,
       "id": 140293936937000,
       "name": "TextureText #9",
       "position": [
        0,
        0,
        0
       ],
       "size": 2,
       "text": "START",
       "type": "TextureText",
       "visible": true
      }
     },
     "a88225c4403d4c0b82abb9527712355e": {
      "model_module": "k3d",
      "model_module_version": "2.7.3",
      "model_name": "ObjectModel",
      "state": {
       "_view_count": null,
       "_view_module": null,
       "_view_module_version": "",
       "_view_name": null,
       "color": 255,
       "compression_level": 0,
       "id": 140293937035640,
       "name": "Text2d #13",
       "position": [
        0,
        0
       ],
       "reference_point": "lt",
       "size": 1,
       "text": "\\text{ballistic trajectory: } h=v_0 t \\sin \\alpha - \\frac{g t^2}{2}",
       "type": "Text2d",
       "visible": true
      }
     },
     "aa230913ed0d452394e79a0750a66de6": {
      "model_module": "k3d",
      "model_module_version": "2.7.3",
      "model_name": "ObjectModel",
      "state": {
       "_view_count": null,
       "_view_module": null,
       "_view_module_version": "",
       "_view_name": null,
       "color": 255,
       "compression_level": 0,
       "font_face": "Calibri",
       "font_size": 68,
       "font_weight": 400,
       "id": 140293940015288,
       "name": "TextureText #5",
       "position": [
        0,
        0,
        0
       ],
       "size": 2,
       "text": "START",
       "type": "TextureText",
       "visible": true
      }
     },
     "ac1af0bacf6c4b03a6c2ba376a8bbaf3": {
      "model_module": "k3d",
      "model_module_version": "2.7.3",
      "model_name": "ObjectModel",
      "state": {
       "_view_count": null,
       "_view_module": null,
       "_view_module_version": "",
       "_view_name": null,
       "color": 255,
       "compression_level": 0,
       "font_face": "Calibri",
       "font_size": 68,
       "font_weight": 400,
       "id": 140293940018312,
       "name": "TextureText #7",
       "position": [
        0,
        0,
        0
       ],
       "size": 2,
       "text": "START",
       "type": "TextureText",
       "visible": true
      }
     },
     "b582e64ad9f741fe848fe01ce5dc1d5d": {
      "model_module": "k3d",
      "model_module_version": "2.7.3",
      "model_name": "ObjectModel",
      "state": {
       "_view_count": null,
       "_view_module": null,
       "_view_module_version": "",
       "_view_name": null,
       "color": 16711680,
       "compression_level": 0,
       "id": 140293939852568,
       "name": "Text #4",
       "position": [
        18.758447975505497,
        6.931450457920337,
        3.387298856568827
       ],
       "reference_point": "lb",
       "size": 1,
       "text": "h_{max}",
       "type": "Text",
       "visible": true
      }
     },
     "bd65cd351437490fbf53394e3949bb7b": {
      "model_module": "k3d",
      "model_module_version": "2.7.3",
      "model_name": "ObjectModel",
      "state": {
       "_view_count": null,
       "_view_module": null,
       "_view_module_version": "",
       "_view_name": null,
       "color": 16711680,
       "compression_level": 0,
       "id": 140293936938568,
       "name": "Text #11",
       "position": [
        23.224103769727453,
        22.290347875470435,
        23.65833833563312
       ],
       "reference_point": "lb",
       "size": 1,
       "text": "h_{max}",
       "type": "Text",
       "visible": true
      }
     },
     "bfe73925e6f0441f8914e53948f51101": {
      "model_module": "k3d",
      "model_module_version": "2.7.3",
      "model_name": "ObjectModel",
      "state": {
       "_view_count": null,
       "_view_module": null,
       "_view_module_version": "",
       "_view_name": null,
       "color": 255,
       "compression_level": 0,
       "id": 140293939854528,
       "name": "Text2d #3",
       "position": [
        0,
        0
       ],
       "reference_point": "lt",
       "size": 1,
       "text": "\\text{ballistic trajectory: } h=v_0 t \\sin \\alpha - \\frac{g t^2}{2}",
       "type": "Text2d",
       "visible": true
      }
     },
     "d7df0979c88f484299c9e0942ed022aa": {
      "model_module": "k3d",
      "model_module_version": "2.7.3",
      "model_name": "ObjectModel",
      "state": {
       "_view_count": null,
       "_view_module": null,
       "_view_module_version": "",
       "_view_name": null,
       "color": 16711680,
       "compression_level": 0,
       "id": 140293939852176,
       "name": "Text #3",
       "position": [
        13.393340399358912,
        4.73732225541318,
        1.6165606046022953
       ],
       "reference_point": "lb",
       "size": 1,
       "text": "h_{max}",
       "type": "Text",
       "visible": true
      }
     },
     "db24e1afd66448bdb6bbe8537a0105d5": {
      "buffers": [
       {
        "data": "eNoDAAAAAAE=",
        "encoding": "base64",
        "path": [
         "attribute",
         "compressed_buffer"
        ]
       },
       {
        "data": "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",
        "encoding": "base64",
        "path": [
         "color_map",
         "compressed_buffer"
        ]
       },
       {
        "data": "eNoDAAAAAAE=",
        "encoding": "base64",
        "path": [
         "colors",
         "compressed_buffer"
        ]
       },
       {
        "data": "eNpjYGiwZ8AAxIsBAF7EAv0=",
        "encoding": "base64",
        "path": [
         "model_matrix",
         "compressed_buffer"
        ]
       },
       {
        "data": "eNo9lFtI03EUx1fiFEtrOkvwUq7L8LIUW877/ucYlWYSmWUJNsJUsAcvSKwCNcogDSklEvWhkGZqCNmFdSNEGtHDTCnIh0WFFDbBh2TNhXQ8eva0z8N/53fO93y/R6VSqYYzyoB+VKOpWvMKOxJ/542mdjNfmKgxqwtczP3vRsz0jbLCnz0/zDM5mcx/ljYq6oIK5hqLXukZamU+lAwK1WHurjitTDx7wHzE06DM5NiZMy5dUxbGPzCr9tyiOi7m5a4+Jca5wJz2yEY118EK91kfKwPzIcw53ldUX8usSXYo9sZY5tjwj/TWbuYzwzOK05sCaz3Tu5nMVz1uZbYZmauHFqmHw8wtm5cVX2Ap8y9tANBczEk+NWg6qpmDX4ZAjLOOufV4GOjDLzJ3OzRAszPnayMhrqiNuSMrCgbmbzDXZ0VDQmcn80JEHJA+zBsc28E4dZf5bckOsDf2r871YheYI+8z//PqgTRkvhKRCIVlw8wD6mRwekeZLdMGKO19wvzcmgKkM/OQNxUsrtfMppI0mG0eX9WnbS/UxjuYdV1GoF2s6mDdB02Vk8zWzHTwBX5iDptOhxbbF+bcAybSx8Uc1GWC9rnvzOftJtLqp5/vGNz+b2in/v/eq1v019SHL/nfGhlb9vdAe0fprdwXgNJzXJEaZZZvfcEoM5I3UGavygtF0SShcxOKVu6vGhQNyT8o2ta3bkHR3DgVhbILjy4aZUfkMZTdXZ7YhrJTc6QOZdfrq3aieIB8iOKN60EJKJ4pLEtC8VLoQwOKx8irKN67XZiG4snSXiOKV7e601E8TH5G8Xb/zWwUz1tcuShZ0KUoKBkhz6NkZ3ByP0qmauMPomTN0FCAkkHKBUo2xyKKUTLbVHkUJcsZT4+hZJyyg5L9NydOotyEFtsplFuR/7dceqbbUoFyW973WFBuTvvcWZRbVJx9Dtdu1OB/C+nV+w==",
        "encoding": "base64",
        "path": [
         "vertices",
         "compressed_buffer"
        ]
       }
      ],
      "model_module": "k3d",
      "model_module_version": "2.7.3",
      "model_name": "ObjectModel",
      "state": {
       "_view_count": null,
       "_view_module": null,
       "_view_module_version": "",
       "_view_name": null,
       "attribute": {
        "dtype": "float32",
        "shape": [
         0
        ]
       },
       "color": 255,
       "color_map": {
        "dtype": "float32",
        "shape": [
         1024
        ]
       },
       "color_range": [],
       "colors": {
        "dtype": "uint32",
        "shape": [
         0
        ]
       },
       "compression_level": 0,
       "id": 140293940016408,
       "model_matrix": {
        "dtype": "float32",
        "shape": [
         4,
         4
        ]
       },
       "name": "Line #7",
       "radial_segments": 8,
       "shader": "thick",
       "type": "Line",
       "vertices": {
        "dtype": "float32",
        "shape": [
         100,
         3
        ]
       },
       "visible": true,
       "width": 0.01
      }
     },
     "dd76e251ff4d42448f2fcc7818e89108": {
      "model_module": "k3d",
      "model_module_version": "2.7.3",
      "model_name": "ObjectModel",
      "state": {
       "_view_count": null,
       "_view_module": null,
       "_view_module_version": "",
       "_view_name": null,
       "color": 255,
       "compression_level": 0,
       "font_face": "Calibri",
       "font_size": 68,
       "font_weight": 400,
       "id": 140293939854192,
       "name": "TextureText #2",
       "position": [
        0,
        0,
        0
       ],
       "size": 2,
       "text": "START",
       "type": "TextureText",
       "visible": true
      }
     },
     "e0ffd825c9b74e64b377389c81610977": {
      "model_module": "k3d",
      "model_module_version": "2.7.3",
      "model_name": "ObjectModel",
      "state": {
       "_view_count": null,
       "_view_module": null,
       "_view_module_version": "",
       "_view_name": null,
       "color": 16711680,
       "compression_level": 0,
       "id": 140293940018648,
       "name": "Text #8",
       "position": [
        29.357798165137613,
        15.707963267948966,
        14.678899082568803
       ],
       "reference_point": "lb",
       "size": 1,
       "text": "h_{max}",
       "type": "Text",
       "visible": true
      }
     },
     "e320ca1ad250411c86d0e6f27718f666": {
      "buffers": [
       {
        "data": "eNoDAAAAAAE=",
        "encoding": "base64",
        "path": [
         "attribute",
         "compressed_buffer"
        ]
       },
       {
        "data": "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",
        "encoding": "base64",
        "path": [
         "color_map",
         "compressed_buffer"
        ]
       },
       {
        "data": "eNoDAAAAAAE=",
        "encoding": "base64",
        "path": [
         "colors",
         "compressed_buffer"
        ]
       },
       {
        "data": "eNpjYGiwZ8AAxIsBAF7EAv0=",
        "encoding": "base64",
        "path": [
         "model_matrix",
         "compressed_buffer"
        ]
       },
       {
        "data": "eNo91H9IU1EUB/BnaaWi60lCZgmRCwdpGRJu97b7Qv8wMpEKqkFCJNgvIjRRixS1EGs0okilEqJwaKXM+VsZuUzIYqBCMbKwAmlFxpRM06TzTt3z1z5/vN177j3fcxVFUbw97VZF/3U0c90RVf1mr8O0W7e53mx5eLgc7fPWWuAbdN1Qp8U9O44uGZ2Eb5bR3RfC2MixdVbdYtUGBuugD2xKYX2DVnSwdw9zzx5Eb5w4xB4bT6HHqwsY7IWOdZUx31Dtv+9dV2HN2+iEnBtseK4RrT69A+s3o0d8jcyT1IHOcjfBXh603dbKumwvrf9rhn3H0QXBAdZm/4BemnwONQTQR26NMKdnFn1xzSjUs4w+rr1luaWhQreBvYfawtFV859YtmpA95d+0c+O7uv/zrJa4tAVgzNQcwI64tovlpmRiLbFLun3g+5JVbg2kYLealnBPUlp6PktoZwXm9HbfoRxuEO09+5qnh6diR4whfMu2150XEMET3PmoP2BSA73jF6Kj+Kp2lF05fZo3mbPQ59ONPBk/wl0528Dh16g89vXclPhOXTxPpU7PUXowAuVGyPL0M82x3DoF3oxL4arY5Xo+ssxPLf0CtmRUEPfQE/pv1Fn7LRmtuqgva5336QaoO9UW3hoHdWc1dJAZ6nJvUdnhGzQ2cPuP6A7ycx4RHdVHWiiO4T80N2G7HpCd65NtFIvKqpc1CPIGPXuj6+LesqLe6nXl+IHKAOQQ8rGQsEgZSY9eoiyVNIxLGTGIKtCZu+n8lrITKY5fUJmtWj/qJAZhjwLme2ZhjdCZj5V8ws5C+en3gk5I5B5IWdneudHIWcq2f9ZyFk7WzEl5AzCXAg5m19ffRNyZk2F00LO8sn1QSFnHGZHyNmfyp8T8k0wRi4I+VbkuxZlzfq7IeTbEixXNPnmqGMhmnyLdhhXavKN+gtgwk4V",
        "encoding": "base64",
        "path": [
         "vertices",
         "compressed_buffer"
        ]
       }
      ],
      "model_module": "k3d",
      "model_module_version": "2.7.3",
      "model_name": "ObjectModel",
      "state": {
       "_view_count": null,
       "_view_module": null,
       "_view_module_version": "",
       "_view_name": null,
       "attribute": {
        "dtype": "float32",
        "shape": [
         0
        ]
       },
       "color": 255,
       "color_map": {
        "dtype": "float32",
        "shape": [
         1024
        ]
       },
       "color_range": [],
       "colors": {
        "dtype": "uint32",
        "shape": [
         0
        ]
       },
       "compression_level": 0,
       "id": 140293939852064,
       "model_matrix": {
        "dtype": "float32",
        "shape": [
         4,
         4
        ]
       },
       "name": "Line #1",
       "radial_segments": 8,
       "shader": "thick",
       "type": "Line",
       "vertices": {
        "dtype": "float32",
        "shape": [
         100,
         3
        ]
       },
       "visible": true,
       "width": 0.01
      }
     },
     "e3216d862c614b3288b90a7bd6029987": {
      "buffers": [
       {
        "data": "eNoDAAAAAAE=",
        "encoding": "base64",
        "path": [
         "attribute",
         "compressed_buffer"
        ]
       },
       {
        "data": "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",
        "encoding": "base64",
        "path": [
         "color_map",
         "compressed_buffer"
        ]
       },
       {
        "data": "eNoDAAAAAAE=",
        "encoding": "base64",
        "path": [
         "colors",
         "compressed_buffer"
        ]
       },
       {
        "data": "eNpjYGiwZ8AAxIsBAF7EAv0=",
        "encoding": "base64",
        "path": [
         "model_matrix",
         "compressed_buffer"
        ]
       },
       {
        "data": "eNo9lEtIlFEUx790HkmoFGEZKjmSZdIDTXs6373HQgMxCY00IQo0FQIlnKxF1IRMDyJyzF4SRoFK4UzhIiXDCQxinLFcuMjFBAaN6WLABxqGnTm3863ub3HPvefx/x9N07TW1DyJh+ZvitOjPPbjjd3fdJs4LzVb9+4MEtdbrul4R0Q5pqNbtwezFReN4Z1S4vykRT3D1UgcXJMg8B3iZ66twtT1lNjZmSPswdeKxVFxeeUDceelCoF/EY/l1Yrfp0PEKS6HyHBFiH25N0Xfd01G+cbMHXw/jjjY0CbCazcQ97x9gn9tIU4Y7hLp+zPk/5zx32xiZ26fqKrZR3z/cT/mcIR4x8igaHcfIz4xMIz5lKrY5s8i4DtFDEt+zO0scWLhN2GNXCCur5jAPBtV7J5JIdKuEH/6GsKcrys++FMUZLaqOw3haH9U7PlZUTl0T71pi2Atbeqv3jnhKO9QOSwtRnuoYhP+CPfMc+Ks2RWs8aWq5cGq8Di7ieWqJrHPqlfJMXI02Ut8a1OsrKrpJ65YjpXT3vfE4Y8mibNQsXVmaS72EZ9bMMt29whxca1F2kJfiBcGLRLnRVw3Z5G6Y5z4RaJVBnwTBlfHTxp3cKZGbMurKeNNa+SX8dfDw7NGDjh3I7d34/NGziJt2aglWP/XqBG1AVx7sxYL3JOCTDNwr0wlVuAeon6Ae9v2aB1wzyuH4oFnkT6VCDwj1Bjw7Dy7NwLP1FGeBDzrgqubgTWAOgTWxuhICrBm3DNpwFqqWp8OrDHUKrD2wtXbgDXpcW4HQ6s9WcAaRj0Da9s8vwtY86PJe4G94NZzgD2Cmgf2ju1uPrCnpr0HgL3mnTgE7EH0BbA37TYd2LPmYgns5cDFQmCPo3eAvX9moAh4J9hCx4F3xbSphHOO7g3g3dJSVga8c3THSeBdZOksB95R/wAKa7IT",
        "encoding": "base64",
        "path": [
         "vertices",
         "compressed_buffer"
        ]
       }
      ],
      "model_module": "k3d",
      "model_module_version": "2.7.3",
      "model_name": "ObjectModel",
      "state": {
       "_view_count": null,
       "_view_module": null,
       "_view_module_version": "",
       "_view_name": null,
       "attribute": {
        "dtype": "float32",
        "shape": [
         0
        ]
       },
       "color": 255,
       "color_map": {
        "dtype": "float32",
        "shape": [
         1024
        ]
       },
       "color_range": [],
       "colors": {
        "dtype": "uint32",
        "shape": [
         0
        ]
       },
       "compression_level": 0,
       "id": 140293940017024,
       "model_matrix": {
        "dtype": "float32",
        "shape": [
         4,
         4
        ]
       },
       "name": "Line #6",
       "radial_segments": 8,
       "shader": "thick",
       "type": "Line",
       "vertices": {
        "dtype": "float32",
        "shape": [
         100,
         3
        ]
       },
       "visible": true,
       "width": 0.01
      }
     },
     "e39f5c3d04374c9f803eebe02e725968": {
      "buffers": [
       {
        "data": "eNoDAAAAAAE=",
        "encoding": "base64",
        "path": [
         "attribute",
         "compressed_buffer"
        ]
       },
       {
        "data": "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",
        "encoding": "base64",
        "path": [
         "color_map",
         "compressed_buffer"
        ]
       },
       {
        "data": "eNoDAAAAAAE=",
        "encoding": "base64",
        "path": [
         "colors",
         "compressed_buffer"
        ]
       },
       {
        "data": "eNpjYGiwZ8AAxIsBAF7EAv0=",
        "encoding": "base64",
        "path": [
         "model_matrix",
         "compressed_buffer"
        ]
       },
       {
        "data": "eNo9lF9Ik2EUxleWOBJxFu6iQiIhDUoSdITYvvNGaBclRGHoAiPpj0yIiCmFKdVoVJYTo9WyBtNw4RCEiSGuWC7mn2ZKaUyMUUNK0oXYMATtfIfec7Xfxfn2Puec5zkajUZTEH0H+KOZSQ4cUrlt+bZxJlkYVT7yJEnJttqJ46bDCtYQd35rUuy2JeK9l15gjU5ROUUMKuvBXOLi2gjWC+KR+YTSV1JBfPqMFuy2K8R1i5nQV20lDuRkA75FfDD1ALR2thPPOIphPeghfhU+CrVzPuJO7ylAPcRjBWehdE+YOOuCGfpKIsTPoQ6yL84p/zXju0vE6X+tsN61RpwRu4saNoPKHvdDWLi6hXja0IZ6dMROlwMqH+mJl2efobadxLG4C4Z9u4lrpjpQZy6x1d4FhVN5xIZd3ai5gLjR2gMdiSJik78X9Qvij6M+yNCXEke8/djLceJr1QPQaDhJ3BMfxL4qiK+XvYWF8iri2VsB7PE88ef7Q1BZbyY+V/NenTPxnR0hCDnqiRX3MPZ+g7hlbQScppvElv1j6i6Il/I/wKTZRrwpNYwzuUfc/ToM2oYHxPNF4+q+iP2t42BsbiPO8Y/jrB4zW9qfcg3ulL/1el38n8M+N78VG3zJGnDvrG17uJs1F071cC8nvvZyj+gN7t222M8z6UgM8KzerPl5hugfnm0iLcgzz9CHeBf7skZ5R+gx3l113gTvtNHwiXftNE6zB9CH7I2Jsln2zEJ5lL2UUvWdPYZeZe8ZL/9kT1bW/wLpVUtTHKSH0c8gve1t+QPS8yHHCsgsxFyrIDOCngeZneYvGiEz5TRtFDJrnmiSkBnEXAiZzaEfyUJmdtKcImSWo7+1QmYcsyNk9ldXUoW8CdqGNCFvReaGdCFvCOZLyNuSr90q5M0xNm8T8hYd02UKeaP+AX6IQpU=",
        "encoding": "base64",
        "path": [
         "vertices",
         "compressed_buffer"
        ]
       }
      ],
      "model_module": "k3d",
      "model_module_version": "2.7.3",
      "model_name": "ObjectModel",
      "state": {
       "_view_count": null,
       "_view_module": null,
       "_view_module_version": "",
       "_view_name": null,
       "attribute": {
        "dtype": "float32",
        "shape": [
         0
        ]
       },
       "color": 255,
       "color_map": {
        "dtype": "float32",
        "shape": [
         1024
        ]
       },
       "color_range": [],
       "colors": {
        "dtype": "uint32",
        "shape": [
         0
        ]
       },
       "compression_level": 0,
       "id": 140293936938960,
       "model_matrix": {
        "dtype": "float32",
        "shape": [
         4,
         4
        ]
       },
       "name": "Line #12",
       "radial_segments": 8,
       "shader": "thick",
       "type": "Line",
       "vertices": {
        "dtype": "float32",
        "shape": [
         100,
         3
        ]
       },
       "visible": true,
       "width": 0.01
      }
     },
     "e3b6b1de91504f3abc31e0b085c3da2f": {
      "model_module": "k3d",
      "model_module_version": "2.7.3",
      "model_name": "ObjectModel",
      "state": {
       "_view_count": null,
       "_view_module": null,
       "_view_module_version": "",
       "_view_name": null,
       "color": 16711680,
       "compression_level": 0,
       "id": 140293940015736,
       "name": "Text #14",
       "position": [
        7.3860334310314535,
        28.872732482991907,
        28.885647683679498
       ],
       "reference_point": "lb",
       "size": 1,
       "text": "h_{max}",
       "type": "Text",
       "visible": true
      }
     },
     "e88564c60ce04f7c8afa7a6a08045028": {
      "buffers": [
       {
        "data": "eNoDAAAAAAE=",
        "encoding": "base64",
        "path": [
         "attribute",
         "compressed_buffer"
        ]
       },
       {
        "data": "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",
        "encoding": "base64",
        "path": [
         "color_map",
         "compressed_buffer"
        ]
       },
       {
        "data": "eNoDAAAAAAE=",
        "encoding": "base64",
        "path": [
         "colors",
         "compressed_buffer"
        ]
       },
       {
        "data": "eNpjYGiwZ8AAxIsBAF7EAv0=",
        "encoding": "base64",
        "path": [
         "model_matrix",
         "compressed_buffer"
        ]
       },
       {
        "data": "eNo9lGtIk2EUx6fZLEnEa2FmOCQz8RYjFa2956SJSzQk0xLDxMxQQisTRPJCaXmZUCINtRuhaYHQmjXCEJNC/DARQgqZGIkgMwYhaUJ1dtbZp/f34Xme93/O+f+PSqVSNSR1A31UowlBOifXeSbpRhN6mMsjzTp1lo154rpaoTOKk9MrEpWvaSnME1VFijrrPHMotCjGkWbm3NO9dL6H2cMxrEyNDTLHBY3TXQvz/IRVcUzOMG+tL9E7NuZ+008lzOpgXmjwBOOIBzj54HcfeLbmw/zKLxBID3P931CwXNvH3GjSwNTYAeYPMYfAuhkP/zUDaWb2upwMy43I7BGnA8fkSea0NxmwtT2f2eyVDVQXc1VIHvh3XmK+YC+AMGs18/3WYogKqHe9uVxKOptd2rwrIDy7lfnRjyrS3M48bayB6O5u5sSdN0h/D/N8Wj1o5x4wv9PepFoGmK9sNIEu+Cnzw7ctVNcg89q5W6AvfMFctHibahxlXslog/y+1y5thjtUr4W52HIXSmzjzJkf26n2SeZccwdURnxirmvtpD7MMI+ndEFt2SyzxtpFPfnMPHTCAE1DX5j1jw3UHxvzrgUDdKx+c2nbNFCvVtzcG2t3n6GZuu8+qV53vxkV8Nv9r5emP24NNHcUbUVb21A0h2erUWpZ6t+BUiN5A6X28mO+KD2J7vZD6ZV90R+lh+QflN7WNIeg9Fw7twdlFr80e1FmRB5DmV3D1H6UmeqCNSiz9iyPRPEA+RDFG23e0Sie0RfGoHjJdzgWxWPkVRTv3dMfRvFkfp8Wxau77UdQPEx+RvH2QFcqiudLbEdRsqCJV1AyQp5Hyc7z2XSUTFVGZKJkLfZqFkoGKRco2TQF5qBktrbsFEqWk815KBmn7KBk//2ZApSd0DR0FmVXHN8oEs3OvYGyW6aNJSg7p2O1FGUX5aReRNlR/wCd+eDF",
        "encoding": "base64",
        "path": [
         "vertices",
         "compressed_buffer"
        ]
       }
      ],
      "model_module": "k3d",
      "model_module_version": "2.7.3",
      "model_name": "ObjectModel",
      "state": {
       "_view_count": null,
       "_view_module": null,
       "_view_module_version": "",
       "_view_name": null,
       "attribute": {
        "dtype": "float32",
        "shape": [
         0
        ]
       },
       "color": 255,
       "color_map": {
        "dtype": "float32",
        "shape": [
         1024
        ]
       },
       "color_range": [],
       "colors": {
        "dtype": "uint32",
        "shape": [
         0
        ]
       },
       "compression_level": 0,
       "id": 140293936936328,
       "model_matrix": {
        "dtype": "float32",
        "shape": [
         4,
         4
        ]
       },
       "name": "Line #9",
       "radial_segments": 8,
       "shader": "thick",
       "type": "Line",
       "vertices": {
        "dtype": "float32",
        "shape": [
         100,
         3
        ]
       },
       "visible": true,
       "width": 0.01
      }
     },
     "f0caeb5e529b413cb200da4484f3a19c": {
      "model_module": "k3d",
      "model_module_version": "2.7.3",
      "model_name": "ObjectModel",
      "state": {
       "_view_count": null,
       "_view_module": null,
       "_view_module_version": "",
       "_view_name": null,
       "color": 255,
       "compression_level": 0,
       "font_face": "Calibri",
       "font_size": 68,
       "font_weight": 400,
       "id": 140293939854584,
       "name": "TextureText #3",
       "position": [
        0,
        0,
        0
       ],
       "size": 2,
       "text": "START",
       "type": "TextureText",
       "visible": true
      }
     },
     "f3b80dc6041741368898b080c86a3414": {
      "buffers": [
       {
        "data": "eNoDAAAAAAE=",
        "encoding": "base64",
        "path": [
         "attribute",
         "compressed_buffer"
        ]
       },
       {
        "data": "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",
        "encoding": "base64",
        "path": [
         "color_map",
         "compressed_buffer"
        ]
       },
       {
        "data": "eNoDAAAAAAE=",
        "encoding": "base64",
        "path": [
         "colors",
         "compressed_buffer"
        ]
       },
       {
        "data": "eNpjYGiwZ8AAxIsBAF7EAv0=",
        "encoding": "base64",
        "path": [
         "model_matrix",
         "compressed_buffer"
        ]
       },
       {
        "data": "eNo9lGtIVHEQxS9plKVp0cOMFCSySGxBUrRc7yHLUKyUSlbDrBBNsnd0Mw0fGegX84UmmShGqJCJvUisSCtJtNpqKR+p6BomClagJGlzx2Y/7e/D/+6cmTlnFEVRYmdGQD9KUIerUWfPwaLgoI4yZkvcCrXXYGV+F2ZS6U2wzsaYfNVp1sg8EdFIbxKYtQyzamnMYe6b/Envy5idIh1wZ7ie+Wa7K5xmnzEX9nvhwhoz83SJH6gWc8dYCELCppmXDkbB0rhQ1fnJxXjkGp2ZzbUpID3MpvRUTEZ7Mm/UsqnWFubozFyYzm5T/2umukbmngUleJG3h3nrlXLSEMUc0FqJTTWxzH+6a0hPAvO5l7W40XKKufLyPdKmMV9TmpA2lsHsEf2YdOYwn0lvhkHLY9bOPyfN+cx+Aa0Ysi9mru96TfrLmC2+b1FaUDHfY1In9VLNvD/lPcLd7zLfxkd9hsw11s+Yq7vPfMT0hXp8yPzhVjea/J/O62/o1efM/LXwGxLbWplP7xqg3tuZm98Mwi2yk7ll7ZC+C+ZL24fR1WdhHvG20kx6mB0nrMhKHmAevTqi74s5rZ96mxplfuX8nWY1YeMf2b9sb2intm8rXP7a/jNtTIHUqt1rB9FAe4dos1u1GKLZoC2B9HK4xxHSI3kD0vujquWQmQzZr4TMyiVpNWSG5B/IbJN91kFmXlqwHrKLtt8ekB2RxyC7c2/eANlpuLsXZNda5maIB8iHEG+YQ30gnpmrM0C85L3MF+Ix8irEe9c/+UM82eQfCPHqQPkOiIfJzxBvBx4FxPOJbTshWSjy2g3JCHkekp3x8TBIptwiIyBZC32wD5JBygUkm1WpByCZ7eo7BMnyjGqCZJyyA8n+wUVxkJuQlRwPuRUNncdEs343ILfFoTgRcnP8pk5AbtHxmJOQG/UPGa9f9w==",
        "encoding": "base64",
        "path": [
         "vertices",
         "compressed_buffer"
        ]
       }
      ],
      "model_module": "k3d",
      "model_module_version": "2.7.3",
      "model_name": "ObjectModel",
      "state": {
       "_view_count": null,
       "_view_module": null,
       "_view_module_version": "",
       "_view_name": null,
       "attribute": {
        "dtype": "float32",
        "shape": [
         0
        ]
       },
       "color": 255,
       "color_map": {
        "dtype": "float32",
        "shape": [
         1024
        ]
       },
       "color_range": [],
       "colors": {
        "dtype": "uint32",
        "shape": [
         0
        ]
       },
       "compression_level": 0,
       "id": 140293937036256,
       "model_matrix": {
        "dtype": "float32",
        "shape": [
         4,
         4
        ]
       },
       "name": "Line #14",
       "radial_segments": 8,
       "shader": "thick",
       "type": "Line",
       "vertices": {
        "dtype": "float32",
        "shape": [
         100,
         3
        ]
       },
       "visible": true,
       "width": 0.01
      }
     },
     "f51d8b7670854ea0aefb801364c40c98": {
      "model_module": "k3d",
      "model_module_version": "2.7.3",
      "model_name": "ObjectModel",
      "state": {
       "_view_count": null,
       "_view_module": null,
       "_view_module_version": "",
       "_view_name": null,
       "color": 255,
       "compression_level": 0,
       "font_face": "Calibri",
       "font_size": 68,
       "font_weight": 400,
       "id": 140293939852680,
       "name": "TextureText #1",
       "position": [
        0,
        0,
        0
       ],
       "size": 2,
       "text": "START",
       "type": "TextureText",
       "visible": true
      }
     },
     "ff81fa93976d419d837baec8de9d80ed": {
      "buffers": [
       {
        "data": "eNoDAAAAAAE=",
        "encoding": "base64",
        "path": [
         "attribute",
         "compressed_buffer"
        ]
       },
       {
        "data": "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",
        "encoding": "base64",
        "path": [
         "color_map",
         "compressed_buffer"
        ]
       },
       {
        "data": "eNoDAAAAAAE=",
        "encoding": "base64",
        "path": [
         "colors",
         "compressed_buffer"
        ]
       },
       {
        "data": "eNpjYGiwZ8AAxIsBAF7EAv0=",
        "encoding": "base64",
        "path": [
         "model_matrix",
         "compressed_buffer"
        ]
       },
       {
        "data": "eNo9lGtIlFEQhldES0mNMs3KTCMvYbGKtISyuzMluEV/ViIjEZYwlgySkkJDK4uUZI0MFmSNzBLFbL3nnSTDSsFEilIQDS3LSssixSKbHZvz63t+nPOdd2bedzQajabC3Aj00dh03/QutiecMdh0mQYXD/bOGWqimpkTF2OMdIZZP3zS2BYWYHTxjO6msSYqjjnfWmt0aM3Mn5b66Hwm89a5CaMhpIB5W+IS3bUzZ+d5QUx4JXNS0Qagt5j/JoVC2K5eZkdrNDi0wyt33+jAP+4dc1EVAulhHos8BJ7xy8wBx46AIWQVuFint8Cfcl/4rxlIM3N0YBZk3Q9mdvPJJQ07mMdH8uFrVTRzvUcB6Ylj/uVVBCcexDM7PxSTtn3Mo44SGHceYM6JspNOM7PtRimkNB5lXj9YRpotzL7v78BQi5X5wqsK0p/JnFpWCab288wNCdVUy0Xm7JYasKRdYW72fEh1FTAf19ZB8MR15muxDVRjMfMWnyYYtZQwh/c0U7125nsHH4F9spT5Vl0r1X6beeFzGySn32V+qelwzYJ502wH+E1XM79t6qSe1DJ7m7tgwFq/0p/nXa55Mb8I7IbCmVbmw4Zu6lWn4v2nHqszNFN11222T/1z3Nmv3uo+Pag00NyVtuzvr5XmlMYRVcues2OqRvKGqn3+55TqyVDLR9WrunNfVA/JP6q3GYs/VM9N7QtqFhE5v9WMyGNqdvO5bigztaS5o8x6SO+B4gHyIYo3nMurUTwTPOGN4iVbzxoUj5FXUbyXcXktiidHLetQvGpCfxQPk59RvB3hvhHF8/bJIJQseDzdjJIR8jxKdqauhqBkKjk9FCVrTxK3o2SQcoGSzXLPCJTM+k1HomQ579lOlIxTdlCyn1q4G2UnDFi1KLsi3hQrml17A2W3BHnvQdk5hTM6lF200L8XV3bUpch/uo0QHQ==",
        "encoding": "base64",
        "path": [
         "vertices",
         "compressed_buffer"
        ]
       }
      ],
      "model_module": "k3d",
      "model_module_version": "2.7.3",
      "model_name": "ObjectModel",
      "state": {
       "_view_count": null,
       "_view_module": null,
       "_view_module_version": "",
       "_view_name": null,
       "attribute": {
        "dtype": "float32",
        "shape": [
         0
        ]
       },
       "color": 255,
       "color_map": {
        "dtype": "float32",
        "shape": [
         1024
        ]
       },
       "color_range": [],
       "colors": {
        "dtype": "uint32",
        "shape": [
         0
        ]
       },
       "compression_level": 0,
       "id": 140293936936720,
       "model_matrix": {
        "dtype": "float32",
        "shape": [
         4,
         4
        ]
       },
       "name": "Line #11",
       "radial_segments": 8,
       "shader": "thick",
       "type": "Line",
       "vertices": {
        "dtype": "float32",
        "shape": [
         100,
         3
        ]
       },
       "visible": true,
       "width": 0.01
      }
     }
    },
    "version_major": 2,
    "version_minor": 0
   }
  }
 },
 "nbformat": 4,
 "nbformat_minor": 2
}
