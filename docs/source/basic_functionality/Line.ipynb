{
 "cells": [
  {
   "cell_type": "markdown",
   "metadata": {},
   "source": [
    "## Line\n",
    "\n",
    "Let us draw a trajectory of `N` steps of an approximation to the [Wiener Process](https://en.wikipedia.org/wiki/Wiener_process) in three dimensions.\n",
    "\n",
    "Below, a blue thin line is a trajectory and the total displacement is shown with red thick line. \n",
    "\n",
    "Line takes data as an array of coordinates `[number_of_points,3]`."
   ]
  },
  {
   "cell_type": "code",
   "execution_count": 2,
   "metadata": {},
   "outputs": [
    {
     "data": {
      "application/vnd.jupyter.widget-view+json": {
       "model_id": "22997b9a7a9148c08f4aee91290ea6e2",
       "version_major": 2,
       "version_minor": 0
      },
      "text/plain": [
       "Output()"
      ]
     },
     "metadata": {},
     "output_type": "display_data"
    }
   ],
   "source": [
    "import numpy as np\n",
    "import k3d\n",
    "plot = k3d.plot(camera_auto_fit=False)\n",
    "N = 10000\n",
    "traj = np.cumsum(np.random.randn(N,3).astype(np.float32),axis=0)\n",
    "plt_line = k3d.line(traj, shader='mesh', width=0.5)\n",
    "plt_line2 = k3d.line([traj[0],traj[-1]],shader='mesh', width=2.5, color=0xff0000)\n",
    "plot += plt_line\n",
    "plot += plt_line2\n",
    "plot.display()"
   ]
  },
  {
   "cell_type": "markdown",
   "metadata": {},
   "source": [
    "The update of vertices can be easily done by updating attribute of an object. For example we can generate other realization of the Wiener process:"
   ]
  },
  {
   "cell_type": "code",
   "execution_count": null,
   "metadata": {},
   "outputs": [],
   "source": [
    "plot.camera_auto_fit = False\n",
    "plot.grid_auto_fit = False"
   ]
  },
  {
   "cell_type": "code",
   "execution_count": null,
   "metadata": {},
   "outputs": [],
   "source": [
    "import time\n",
    "for i in range(40):\n",
    "    traj = np.cumsum(np.random.randn(N,3).astype(np.float32),axis=0)\n",
    "    plt_line.vertices = traj\n",
    "    plt_line2.vertices = [traj[0],traj[-1]]\n",
    "    time.sleep(0.25)"
   ]
  }
 ],
 "metadata": {
  "kernelspec": {
   "display_name": "Python 3",
   "language": "python",
   "name": "python3"
  },
  "language_info": {
   "codemirror_mode": {
    "name": "ipython",
    "version": 3
   },
   "file_extension": ".py",
   "mimetype": "text/x-python",
   "name": "python",
   "nbconvert_exporter": "python",
   "pygments_lexer": "ipython3",
   "version": "3.6.8"
  }
 },
 "nbformat": 4,
 "nbformat_minor": 2
}
