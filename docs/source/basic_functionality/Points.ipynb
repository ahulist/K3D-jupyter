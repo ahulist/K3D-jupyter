{
 "cells": [
  {
   "cell_type": "markdown",
   "metadata": {},
   "source": [
    "## Points\n",
    "\n",
    "To draw points one needs to prepare data in the array of coordinates `[number_of_points, 3]`. Colors for all the points can either be the same or have an individual value (`colors` attribute).\n",
    "\n",
    "When the number of points is larger than $10^3$ it is recommended to use fast shaders: `flat`, `3d` or `3dSpecular`. The `mesh` shader generates much bigger overhead, but it has a properly triangularized sphere representing each point."
   ]
  },
  {
   "cell_type": "code",
   "execution_count": 1,
   "metadata": {},
   "outputs": [
    {
     "data": {
      "application/vnd.jupyter.widget-view+json": {
       "model_id": "693a3eb632ae4f6f89efe1292a97b42e",
       "version_major": 2,
       "version_minor": 0
      },
      "text/plain": [
       "Output()"
      ]
     },
     "metadata": {},
     "output_type": "display_data"
    }
   ],
   "source": [
    "import k3d\n",
    "import numpy as np \n",
    "\n",
    "x = np.random.randn(1000,3).astype(np.float32)\n",
    "point_size = 0.2\n",
    "\n",
    "plot = k3d.plot(name='points')\n",
    "plt_points = k3d.points(positions=x, point_size=0.2)\n",
    "plot += plt_points\n",
    "plt_points.shader='3d'\n",
    "plot.display()"
   ]
  },
  {
   "cell_type": "markdown",
   "metadata": {},
   "source": [
    "We can color points with some scalar value:"
   ]
  },
  {
   "cell_type": "code",
   "execution_count": 2,
   "metadata": {},
   "outputs": [],
   "source": [
    "f = (np.sum(x**3-.1*x**2,axis=1))\n",
    "colormap = k3d.colormaps.basic_color_maps.WarmCool\n",
    "colors = k3d.helpers.map_colors(f,colormap,[-2,.1])\n",
    "colors = colors.astype(np.uint32)"
   ]
  },
  {
   "cell_type": "markdown",
   "metadata": {},
   "source": [
    "Using ipywidgets communication we can sent precomputed colors to the exising plot:"
   ]
  },
  {
   "cell_type": "code",
   "execution_count": 3,
   "metadata": {},
   "outputs": [],
   "source": [
    "plt_points.colors = colors"
   ]
  },
  {
   "cell_type": "code",
   "execution_count": 4,
   "metadata": {},
   "outputs": [],
   "source": [
    "plt_points.positions = {str(t):x/(1+t*3) for t in np.linspace(0,4,4)}"
   ]
  },
  {
   "cell_type": "code",
   "execution_count": 5,
   "metadata": {},
   "outputs": [],
   "source": [
    "plot.start_auto_play()"
   ]
  }
 ],
 "metadata": {
  "kernelspec": {
   "display_name": "Python 3",
   "language": "python",
   "name": "python3"
  },
  "language_info": {
   "codemirror_mode": {
    "name": "ipython",
    "version": 3
   },
   "file_extension": ".py",
   "mimetype": "text/x-python",
   "name": "python",
   "nbconvert_exporter": "python",
   "pygments_lexer": "ipython3",
   "version": "3.6.8"
  },
  "nbTranslate": {
   "displayLangs": [
    "en",
    "pl"
   ],
   "hotkey": "alt-t",
   "langInMainMenu": true,
   "sourceLang": "pl",
   "targetLang": "en",
   "useGoogleTranslate": true
  },
  "widgets": {
   "application/vnd.jupyter.widget-state+json": {
    "state": {
     "026cce39884c48b09c0a4ae7af0fbbff": {
      "model_module": "k3d",
      "model_module_version": "2.7.3",
      "model_name": "PlotModel",
      "state": {
       "_backend_version": "2.7.3",
       "_dom_classes": [],
       "_view_count": null,
       "antialias": 3,
       "auto_rendering": true,
       "axes": [
        "x",
        "y",
        "z"
       ],
       "axes_helper": 1,
       "background_color": 16777215,
       "camera": [
        4.8933774353466095,
        -6.483744045001328,
        -0.3908467445759676,
        0.5356830167349423,
        0.05279758291617008,
        -0.8266161864371336,
        0,
        0,
        1
       ],
       "camera_animation": [],
       "camera_auto_fit": true,
       "camera_fov": 60,
       "camera_no_pan": false,
       "camera_no_rotate": false,
       "camera_no_zoom": false,
       "clipping_planes": [],
       "colorbar_object_id": -1,
       "fps": 25,
       "fps_meter": false,
       "grid": [
        -1,
        -1,
        -1,
        1,
        1,
        1
       ],
       "grid_auto_fit": true,
       "grid_visible": true,
       "height": 512,
       "layout": "IPY_MODEL_ee981e080b124865a503cbd2cf6e708c",
       "lighting": 1.5,
       "menu_visibility": true,
       "mode": "view",
       "name": "points",
       "object_ids": [
        140203846891112
       ],
       "rendering_steps": 1,
       "screenshot": "",
       "screenshot_scale": 2,
       "snapshot": "",
       "time": 0,
       "voxel_paint_color": 0
      }
     },
     "693a3eb632ae4f6f89efe1292a97b42e": {
      "model_module": "@jupyter-widgets/output",
      "model_module_version": "1.0.0",
      "model_name": "OutputModel",
      "state": {
       "layout": "IPY_MODEL_cfa65979cec144c28142e1c28d191506",
       "outputs": [
        {
         "data": {
          "application/vnd.jupyter.widget-view+json": {
           "model_id": "026cce39884c48b09c0a4ae7af0fbbff",
           "version_major": 2,
           "version_minor": 0
          },
          "text/plain": "Plot(antialias=3, axes=['x', 'y', 'z'], axes_helper=1.0, background_color=16777215, camera=[2, -3, 0.2, 0.0, 0…"
         },
         "metadata": {},
         "output_type": "display_data"
        }
       ]
      }
     },
     "6c1bd17671f14967809084821eb2f01c": {
      "buffers": [
       {
        "data": "eNqNV+lPXUUUP4n6WaNGExNjjFo/uhDrgiAVtbKUtexlhxbaytJCpVAFrLW0SAELlVpa24BQK4XWwmOR7e0LvH2D9/hjvDPDzLvDzA39cDNn5sxy5szv/M65rt/7oavRButp8fDOM0/A2lSNZdpHH5I3LnUwOf71BaaXzVXrUGsoOCyMv/+CjvXdo8NMj7900uqPfiWs27IYcWtaC3PnUr2pOo/bi47r877Gsqkyh9OfLTdz83rO24U9qZ76QD3uuX0D94OBaMyGylzBB3R+9scrbMzZ/4swz3PvDyyHglEImw2gz/kSTBW8zfRDOvVay6ky4e7G8iww15dAwBcRfLJ3rmElhGXf3+NsbPDiBvin77M1t/pdYCzLYutCywQL6AzZ/mMj7pjPMhOZPrgwK30/Y0k6t95QmCK9+050R/Bv0luLXL8keU24Y2htOeavxiqmi7hd5PyyTOnb7+07Olu4vY3Hjkjnavnc2lzDzcV4+O2KNH72fqaqoyIWsg/BxKiHW2soSQNHVysM/LRB1iEcKbHlHh0icTcyIPWtLLZpa+9oYu9nO3dSWLPlIFyS+9mq9N4YZ0WphFMu/wDh9RXNsxF2cz5ZYfc2FKWAbiYA2xskRpEsW0vs4/3X2WCNcdyZ41j2P/pHsNHnIXFiKE5jY+jOH70yz/aauEX8nPDGotRu1EZ8XvA9IHFka63HbeDJDDevrdaC5TvXXeCfmoC7w258Z8Z1VhOOB7p/T5udw8zm1e4Y/kozhDHEu9FwGGzfnxLe0zd5T8Dqe8/rwDXcp4lh9sZ2a+xcxV73zUEsx708z8aDusf43rL3x3JGAomDljpit31Lypfqb/NKFyz+G4jhO/8bbt/ENxeFNZWpeia3VpmFd0YcTO8b1hPMuoZ+FWwx5B/m7EJvg+4Q95KOs8FcVwxnykxgb29kWPeO39HkAVkfxTfmp9PlIp8r/MR8j3g4I1Ezhh1W4tPaTANshaME8zMPcNvdZJPGDe0H5h4xWc3tCI8oNqzGMARmZ6TYR3Et466956B2s7db2f8YGy9IjPGG63ovlg88O0tiekmn5KYxGL/pYXu4lPqluVTxd0ejyDPFqbiGYPyhimlZfqbz2usshFNzk/mcE9mGkV4nrhmsTTWafjcUfIvtuTvk3uWSVE5PeUF9NqoZdra3OX8h7sP8cf47wW90vf/hpGa+2Oz7WYnPbLJ/TR4cfHU+xh2KrqXSLMUhrpGyvsByRtwyuG5cE85HdQHNV15XhNOvLYXA0lAJ1rMnMF56LzjAfKIY6/p+JLlodSFI4shsxLlUlmM/fJHEViSyw8ai4RAkH1iCaCgo3Dnr4Iq0rupqsPE14m58NZWYIOL1CJigfI2+T19bYDLlCiTT3IOw6XVH4GqHQ8qbWmNPk3dRzCLMy+oiGYZRbOD81lzLcQWdU5GyDutHPmc2+acmwXntEsnr7Q371i/Gimyms5wsldZv+Qmr4PMSPND4mZv2c/tQblGfY1cwvh9H7rUN1Vwe5/ZT110yPar3o0HylpGAX7TrQpNm7DkHLpMa+L95vmZVOB/l4/3OLkxaE/SBuceEc2sLSH5srObyObVlasyL20NvL5GcsTsfv7/CzXi/9HhVrdCFc+FeO/TZSZpYDIeiON+qx9C/gNrmvs4NcHSfY3ahvhoTD//ywfSEj+BHheH7f3rBog+zvWhNp8XN6D+L6jrqrZxNzsEeKZdr/YNRXmF1t/KOar2t7TT35u8+Nytg0FSbT/4DLrZJ8frB7hnm40WauER+o/UGy7W1hTGfODfhf0/oIkk=",
        "encoding": "base64",
        "path": [
         "colors",
         "compressed_buffer"
        ]
       },
       {
        "data": "eNpjYGiwZ8AAxIsBAF7EAv0=",
        "encoding": "base64",
        "path": [
         "model_matrix",
         "compressed_buffer"
        ]
       },
       {
        "data": "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",
        "encoding": "base64",
        "path": [
         "positions",
         "0.0",
         "compressed_buffer"
        ]
       },
       {
        "data": "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",
        "encoding": "base64",
        "path": [
         "positions",
         "1.3333333333333333",
         "compressed_buffer"
        ]
       },
       {
        "data": "eNoNl4dDD1wUhpvapGm0pIGSov2756JFlJKGSFYhQsiIJCpNq0F7iYqEhtTvnosUUhKyVxJR2ekT4fMvnHPe9zyPuaYWzpXOR4OPBaRg/H128PJPDGrtFjgP2tDmH9eg9XIX23HCj2c86QI9neWwSteaLFu2Gd94ioJR2w/S9FqBbg3/DsHf88HwdysxzdlK47oFcHdzOn+xzRnfW8/kx5SNMXHNCO5ls4v2Lx8ibw6N5DIjU3Ge6w6bqrNHSd7EFfjhmRbvvNxD+ia7YeKUs8TK+Ce0u7mh27AcfOg0gFKfltOqrr10bsZbQlZexFs3ZPlHs1/CE/o5cNNlCrOa+xw6Fg/iiw3zMDzUgibfH8ElSlbzi1HjbLvTPfhnkxzwVBgBHwauQO+ffGokIoLOgwK69HEWdjW9J96NTrzi4G+hsMiDFURK84m6X4nfsGn0Y0YOThs1mV8Zq0hHfz5HsK+JOWtoA2kKQBe1h1C1diRMShZQCZl7UO12FvvAnQ33iIa1QhXuEdIEjh490L7Mkgb9KBQm3d7HlBVkuaHCNVB85wJTSheBvHUFSk1vh7Cv2nwcSSAHcx7hIbOLoPb1Goic3U2MwiTZrrOHISVTlfo9uYMxswzwzfHdQo/y9TTG4CVJ/eYL046ps5CtUuThcKGwVCcKwkN+C1s2y2CskgcMVYVBhUc+PMqZQ4N9D6Bi0ycy3Xw8DS+oxKje86RKWpTPmeOOkUc8qGDzWKjfzrFYZBGq31Ml6yarU53L29DgciOQO844T/4JVimeZa76WWA2zkNw3cFOUGr6E9OnKlBTWSPuH3QEgw/p8ZKdZax42jXy6dItUBwK5ON+KeKHyCjoGruA7PC/ihNzC+FM/HFoiZPmz1xn0pBH04SP10SypkRVGmcgQTOHDaf9Jqog8DemM/TuYb+LAm/3WlebvUeGumqq8HKnPtC/vBOzow4D9x0k7umRuFlRlJvv+oKeQePQZNZ64hR4lIi92APp2UrM/pIifDB+TljAwzrNeXkg3NUDGtcaMGaKId2eMRdTrw1it40FKzy1CRcrXULJf3e2PTwC1mwuAcfOO7xknRXYhO+AhZ8OsejdHMmpJnS2zBW0zDLmFgskcShPwNskx1LqvoQzno/Xd5pyjR0j8bPpBfC0XIM7vjbCTRiJS4c9AkOVN2DoaYz54dP5bDtf+NHmwv6zqMYpiRdg8Ztd+HLhcJjVcgjbF07h1ltUeUDJRxL5tBDD8QKsc1Gl1810ae4OPSi6+hvimpexcN0kDG08jiEJByCSv8EVkS9Acc9wXmnwBNnEGExSPgK3m014v0WNoPi0Gm9VMQCla6LocXMLjGttEazcFEucC/WQzNkFLyPukKJQCdqz0YC7zx1E+fvvYGVeOax4tEo47cIMajRak8sVJ5BFC83YRY+ZYPPiLojLRWORWxYcWlzC6GMnSpechjEXhLgsfAgTdWWp8gl5Mn+hkm3SvVFgMroeZyxz5+EhqSh17AGLvjkKiw6KUJHk3wKlifNxxalNfKXISxDMtMeuuDIYd+oe/NL6DtVDRrSyzYnXtIpi0vpqbP8pysJSbSDkXQncuTwXDsup0tX7VLh8kTjt0TzGMhflosuj56z2RzY+aU4UyITZwanzR1jSS0+crDUCor5YQ3qlPNVYcQ6yzNUw40kz7Ivwo93Zk6jm2LPCY/u1MdUkmC4cXIpv3+rRhfV3ofnDODouG4VnAy2w0cgMCksGiLNrPJNXKETxeZZ8UukIenSJK7Id1Sx81gU4U7OCa9xfCg5G1WTzsm6scPoAaWv8BZun52CAWRBdOTuHKFWW16246g+hyumg4StFq3grVCVMgfCPgfz6iBKIHugGv2Ql7LNqIF60uja6pIr4vnBDid0iwi9hV6FfCWH8OAXurzOFHrSJhtUto4iM7k2IOJPM1uoY0Ha5Zmxwmgi3TYbzqb/78f1LFXrkST6amo+loV8fQtGz0TSy5RWc9LGzlexdBY7VQfiuMUVQaP0WrpFJvGzfUrybexj8T/4kR4LPYoH1RZSolOHmE7PgSLID3bfyKm6dvxWmP/Nl7FsL0VBRRTm3WBhtehFOqO3CD3nuXDlXFaw27ocb10S40qvrsGbrK1CrV+CRWx7jA6eRUHHLlgdt/wwRMS/R8sphaJePxs31tShvexqDIzzI8/ul7PvmH2xsoCF9uPsokbc3h11PBlHKbQkVnzARy9fYgcV4OTjo3ox9+gl4u/kFbrw7kf7nKYr6c1pJxQkBntrjBJ4kHto9ZmLrm+kgZbyHLPrdBBabTcAr8jBPHtaNntvH0WkzLkLA7LHCwc530P5gD7me+S9LYWZk7/39+PPbC0zaIcrtH+zDkKQJvHv2Ivi1eSmfv9QEkmNdIUl3K9sT/5wEZDXAkZyn+LHej/q6pJFQNOdN2Z6YLRXDCmaMxDGGiGsil9Dth3+Ax+Q68lBiFV/UVo5sbj5T3qdDx1pIcT/TI/zruR/YV3AFx79LQYO06VRp1kj6tkSBOW+pgYdHk6Fofj1+OfqIONSehN8LVvLvl0VouEccDFfZBI2LxnC1/qMsf5I5DXj7lAT8N558FKwhTweqYEKTCzXbewTeOcSieYAoVb9eD7puhqj+IwHe1Y+iel9dSPbda6Afakm9c6bQIgURaJheTMKXKfHYGZuwuGIYLdFPQaOXnuDhN5z7LT0GxTfEqE68P2btv4J6Y/K5ydRDrDrzAF2jYkO7d3xDL/e3KKHxAdMiLsOugFyQGH1faPnBmKany6Nu7QouWSiOIp3edOH70fxpeT+sSefo/KcGB4+ewL7BaSirk4rv912DSwrOdYJML/xzoxg2riiHb6QUJtjJMPUjbiiTM4iuQy24OapX6PPtPZKCC9DyvpqJdR8VXj+9FzpulJAJNTO4QdpdmN/5hEQMrsXSq48FDcfSIHG1PMmILwANyznoMI7hvQf76HdFC/Bra8eEtlnk5wUxemtXOxGJLiBVaxtYatNkPENswHOKEX+GD5nUKzMUqsvxB4ba/Fn6IDq8KYLDvWOhLG8qXWE7D7IPWeGL2+sgesdp3jWqgk30HCT2txYBHRnHl7/rZCd87WjRf5Z8V2YsNSaIf3cl4iHpsVTk8muSGGvH196OAyujEEFd0z48NW4sPvgmT2f/54MxDj7Y1uEKYt3fUOOQJpWNGAbJ+vOg7HgInOwow8enHXCYeSMILRbSe3uKWMDWGDR+74Nar5vJMGVtPql3CW/ffQRVnopRs2ctENDpDjHT/+Vu3ikodT0IDlrj0UDmOC5W7oQad1GyW+4KDAasIo6XG2Ccw2FS81Sb6JmF8/9KLDFJJYl47MwAeS1lZh2oBrXhASDbfJX0W8uDhtRu2mQbjevqfXHRmwTo+FrA1c/+JpE94dz4Sx4vM7Kn6fEPBD+UWvFm+mya3TKRD2UE2cbH6vBrcUr8RN0+9jozH5e8WsaKcseg1LhwKrfWGCIsM+ioLcPAVLuKdKT8IGfmVeGuxYH891YtWvB6PNkoN4lm2htg6WYbbnKmnNX9nsqHmyXzbildPtbIj/95Pp4eqjzPfHqm8V+YKzwlnsx2ddjzH7PGC3YmTSA1HgFQpp4kcFy0DusylrDPnVGQ/HgCuAQcE3geTIMbj/3hXYQKnbIhGhKepqIaMRFKtEthWpkeDf9WCCOfZtaGhsbjZaLBa2RaQDLnFXSUKlHjhpNgvygafdUJ+1w6iF3Pt3H15PP4tTIRWKYMvS0+gu32z2fdNaFk9+TRoNSwDneHLUXPvP0gYRYFoVES/LvjaC5jsYbYzhOyBQUiaOL4hAyuGWJX+AVMtJuEnX/uQ9jnWTh3006cUbsFBcb/Ydm25ZA+KMo12w/BOukqolB1CeUvPQAl60M4dmsdWL4whpDqy6jbqkFvvJfk0e/t6erHv0F9/QQ6yjMDCrdocRuFOLjbkMNW56eS2R/E6ZjlHFr3lePReUZ8Q9sQNJduhIYnGVgd/Y97N71jq7+voyNjjpMzOedQdPFIcGkyo8F663hengUvrtSh7x2U6VvZR9juNYQmz/VI9NMQrM07QMQLTLBMv4QH3g0Ap00HsK++kOluvwWRWt/wQt1SVFRzh7sCf1zVaw4N2fYQ739emKG5nS58fh7DNjwj8s2rBQknL4Cv6ypGyRC6v02u87PV5EFxWhAjdhuNnlSzBxrzQEZkN6ps8qLLf/yba+IAk94jzQ17PuAt6Wdg/uwxtNrdgDXLMnjh9FPY1LGZlAr6oWhyICt5b8mX7FfHnuP+1OF8KEh0P4KIxkyhxPP38DRbjoZsWsdn/5gAH0dtZrk9YsjlPsGHkSsFr643Ys1RLvw7+hbu/1wLzxQ/o0uft+3sgcsQIHEHpn9vB4fXI2jN0W6w2hBke6yvlGx8r87cT50THsKbEK2tQoNXfwa1i9Ngfc4UvmxVCG98VcKUD7VBjd0doZTJH3js/ZEE+oijSukjduKtHHeUsSZPezKgM+sXplRF85OtsnRgdAOoJCTy2c46tLlmFr7vTwDV9Va4+nyYIPpcIdbXX8dIOw6PFV0EvunfsHrGI1ghvpertJjxkTc68HFJPBb969Vzr5/i3mBd6mJ9AiKO97HUJw/g9DgF1L08kybtPobGx5sIvfQeI3R7yMRVCtTllhdXPXsX3yydhEXSgdh+15TT4sfYuTsDVo5+hI5+JwTqFjOIGB/F3a46/HMDJ75KIgvld2vSnKAJWB41lc7YFsSVbNqI8aEhzH5hTQ6M3WdbML6JLBnvS1VLj/C3tsVoaCJLZJLOEV+Jozj0eg/0rgmjbeUTyCXZApLSZY3N9Ttw0v0MHPhlBVGZ8TRyxxYcP300vNBshh3T7XlH1H8wd2cf9ERY0e8iVZAXqg+9ye4s83oD0ajZCxE27/DwiTOYGMUxrVSGWk28KlD1NwI1OSXc3d/0j7nE6d6xJvT12CaMqZzGWsP30muS0kReEIvTK/cSzzUBsPG4NPe45ofP/9Pmmk23YGNJG3PoWiycbK3Ea0W8+LJz39AvbQT3/DqKhp0NwL+FQoh59QIsBo7AkQ2SfNacY1gvksjENnZBtI8uKfhhSCxbHWjuCjO6dvpBeLBVCqlpMou/ksO/KKfhQ5HOOpnoH7YxUWvR9vUYKuX6V5ju7sXT7Tz4qr9tKFN6rU6s8zn7eF9ARtrVYH7hU4GWXQGY3u2GKHYPFIYKwLdtAI3uvIKWwdk0LiEVssNS8VhuGUpUiLDCvjVYd0CMR4lpUytrU2zfKsmdvkyC4EmVKLfrJQbdkKSeuRJ06IoyL3H75zvkDBwPU2EqE92x/Yk0XzuQIBy885dd3/rpHw89xy0JDsL/Vp2H5k4dGtxtDCs8THnA1v3EpGIfzD29C58+WMT9Uk35gTw7cLCOBL31C6G8oZIFvajCBv9YtBYdBi/mpAn9pikQb/VrbIPhYbgv9xq6tYtZbOJ71DWdTldcf8nKl3VhqySCm3srehYQzj648oRFjbArfR541ojxp9Li3IJrcCm3Nsj01KNir9zh7PNc/K47Evc0ZUC0cTx5bj2PesFEFH85hqasa0bHl7+YRyIItsYXkZTqYmxu7xCOP9YOFcXH0O9nzz9ve06yMxyhKoaStM2ecGJNCJja7oD48zMxd0w/2f6lGZUTn0LR1HuosWwqq9g5wNDCCo8XV5HQSX6omrAJL89uQ+V18nz5woegnHuZOWgMY653Y+iVeYZ0csk/Rjk7g3sctsQg+3jB4ZUFQjqQzuRNq9D64z7QyPXjXXYTqcn7WPbQZTdq5s3g3pfsUcXaitgbn6GRzqtp4/o9GHjGm5+/kgZP3WT5vZD92Pz9HKNmRVjic4Ws6m9inrqefNb0LnZPYybQ0cf48mnTqd4lC/zabypcad0MTec6GNzcD7YHC8BHl6PxjALY7v0UZPRPw9N3AvT/LgfK55SFfqrzYemANF3S0YzPnMQFSYcOchfyBK2HEsH4+r/+rOzGF62uOJoPp1qOmRCWI0o7XLShpeuJ7QvBX1JdqIWxFxAnbY2DyVufE22Nl3Ag4gZTTdkBn1yk+alwTezrjWZDiwidm9Il3OfhD1Nt19HUXEU4+Ws62v9sxjB+CszqYlD2qxxqT7djmyeuwTFfDLnJ7VDoGuPBq3Ez+PYmQof3Cqr4/i30zXKgimN0+PC7UjTJOZFGrw3nXv17UGWjEOPLV3KF2SLUu+AQ0Ti9HvbJzIaHo7cTxekioCGzkOH3VwzWeFPHggycCZrsgHg0OMg3g15NJERIyCJveoHqRy4LdLxy2d/JdQjRcXB5yzAe9VIah1dms9+VT0Dlpzr39rmJJVBJyo7ngGqgBA1abcfW+YynCzdcw9znu9F6VRP6p42h5QdeQZdZPQQtdCax+kcw/0gmnRdcy3ykvwHLd0PHD3/ZOZ/daLBBHYMCR8EJ4RvccyMfxl43hjIPS146zQ0Mns+lXy1q2MazSqBxVJEkL1Aj3Ts34EUTOXrzix+9ZDGLqlU8RTmXfcJHB8+xXG1tfqP6OQzX92Xb6iR53prpqH9dAurbKYke9xHKs8Rpl00hqqbKQ+ebebTUBdCp6CQ26day5ODNcDWxHK70ivPVIbq4RHEJ7BjlDBEKu2FLdQJsfXIPXlq7omJ1D0TNF+P2i12hKk0OHopoUq9TeyH55B/46H4aRs/4CKFacrR8ZQGROtyOW1RdUMNmEZ49OJJaHlvGHrlfAZabAkO13dhjN4qHfx/JT534xxt/p2GZ5ScgNT58nogDGmcqkNtaHA0qJek1CYrxz0bQspd30H1VFfvbewE+9rjxdfeUeLAgGh8bSnDjmybIf46kun8i+F3Rq/BfRhp4Nv4Eiw+38MUSDXrncxHM4GsxRn8ZOq//Sn6PvY4q/5g0ov8rXlAVw+VFM+ibC4HYnCyKM+aYUqc2BZgw4wqGVy/E6OUJgmX7/dE7NBnGSxwFxZvJZEv6CB6w+xYEVMtBUHUSO1xwGgryi5jU4avUfmkUH4gaTRcrjOEzNx0g2T5z8bRsne1iuSlw4sLUOu0torzx1y4cnF3NmMUAywg+gecHHDG8bDzvOvZGWDPbnBT1zSWP4TLq9+6AvfHz2JuPhC1bGQWnPY7ADadKgV/rEPH7kQlzZstDVKIx//XPz1rCjHDJrBF4Ru8uHP3QRPoP/Sa/3HYCO05w41A2/tkpQ7u/rAS3nzpc1KkIbUSukBXO61nwTmlapJUGLR9/Q+n37ZRlnaM5wxh7Y6jJ4wImcZ091zFjsiJ0tUQS0053fO4ogFA5xN8Lb6JHlgK/LaVM3cJK0VpOnC9v0qB+SguZZ9FXeLbQlgQUSdM/kiXQtL0Yk3+pcZG+RHpGuQNyWu9D67IA3jn/MxuRnc4mzl1NqpxHQGPUVrr9+wao/pQOnsnatGCaFxD+Gt1uRGLftT+QEFIG0q7R6GBlhPP3WuNTl8OQ1DORKnYXsvTI03B+AsG/vaooXPkdZF9wbBtFYXShIn1S28Su54ZDRU4WOXqzDDaELoTnpUvwvK8WbRV9wAbWPMcQnTb2VEWFLpjUTKqC4/neqeK8sfYmLP9bgzoGgzBrigLfNc0J+0Lj2JczZig5twCO1bdj3vlGolKUBTKtuyhGZ2NclDyvv/MLE2pbiLzFdtZ0fjg7lDYGllkmgrzDHDaUPp4W/WlBxjOEhlqqXM/PgPZXm/G6TwXCpMv9xEF8L87a6sWvP/uG8q/GQ+zN72T4VRU60r4CD294g7VCT8q3cfZo4yJu6b2YqrReBg91dWHIJF3c1b2RTTUsEF6rnEHXzRDhHrO/onfWeHqxdiSLaXSnqaaH4ZzUD+H5/jgomqAJoxqdQGGbO15eawTtXo3EY58ru/85j91Iy2LRkq/wygQZlmdyhu1zHElCOOJ6DRHUd6nHcpPRdKzPeD6no0qQEziLRs0cyT3mJEKLgjRXfCFNsqdmoOSNRyB3fyW01FzjZV35mPUjAn+9/sSWnXRE34+1MNvtBnl/+ivD18t5uK8+bSi9Q/o/WcGw3iY4f8qDt8zqhpinxrwrQRUlpzly6pmIz+WnsBtuJ+hNEkftrtYJ7H/FwdhgJ94x14COX6rKd9yKhYWXUjCszpMW36wFq5wDAuvNPjx0jS+P+HWA5X33g2mrYvDx+0hMLv6MH4oW8CL51bRnWQuYDyzjBpkHuN0lCXyySIavuGrAg9bGEam3Ery56jO5n9YjnDC7gmxSa4W2nl14pmMcn3dVShBp/p5IDFmiz8wMXGGjSjdXX0GVcAE4y3zABXZW4Nfcgln1lFcbqOH6LhPSonob+t0GMFf2J2n/mI8mMZvwxQoLsiC+DBo6Rfhe7SlYUGlPtUt9uFbbEVbkL0HbRk+jh9cbcDp7DTDJSnzStpeJVhWSqdlTSWeKCM9g0rRP2gwsyqX5B5vh6J0i/29c/XjSegJrX2/EvNYehLzDQJ3ujOL+kbG0r8OAR788i0675VCFBKPhfwGQ5e0AVsG68Er5OomUG7JukrLgm71SuVXxdZz3ezt5perKj/PR5PGIBIgQC0OZqHO2xz9NpH8m7wGNzHS0H7OQhd1bDXf1smGfYlZdzVRlmjR6I/Z5G/H/Ov8IWXYamMuYQ0j+brCwmy8QHBPhZfa6vEJGkuXXm/PP0yxp6PG/oOGwixrt/AVLvqXy/TPK/vWKLPfVFJLYPwnk73AR7uw6CcwWC2hLRi9OVlejZ1sW48lyd9g8ajWMuzeSzhw2BxNIJeMq38H5wSFWal2MRdZzsKbpBsqEqVC92bfQM14UHMb4Yt7NREy4KoFt8i8xfUQ9zsiRh6pnd9FEJ4741SexRrO16LtNm/gqCKHVU4N+yS0D55I4tDw8gc57tpYabzgA+oukaOrBJPJB5jGIvRpDvZtsaEn/Etpqd52UR/TBtMSDmHzRjfbNEYNfx9WZr92XutkjJ0HAjTg4W1SCUY9qceelm2g3NQCm1XvTwmWH4dGlYWRU6zEWEiRS119XQ2Z4Jwjm5zWBw6QhmPW6k7Qc2Qcrf7YyVc2T7H2zCf1U3YaH7A5DzYMJfKaELhVNGvaP0R/Dq34ZGpnsjjfSZcm97do0OH83j/g6jK9qjbe6b5UGuZ4lbJLpXUKD/QUfExmR0zRELeUWvHPLEgZvh2C1G+WSlnP4UJkN1TuymAeNuw8GCmoC83ejeIOhA/z9zupQR5Wf+nUbniVkCj/v0qBXgk4y35rtYHNKi7e/HkcvvbskDNg7gC7furDunSVGBn/Gkqe5sHWJMneJU8b3jn9Aq8qCNjSK8RXXw3HniFrM0tTjL26rkO7wtbRTfQlNWrEDAn8I6NVjyzFKPgG/m+/CHUvOg4msMQ1vzIY1505BxL1ytt3UjycqBdMsl79g63MRTE8N5086PKFZWxaTokQw+JgcrwnfRg4MjOYTDXOwV/oMlmUWQv2ReozxbSOan8YQ0kxQ8dlUCOR3QKzg7UXl4oX0x8MY3GdfAOMtl2L6wAls//4Duz5I4XKbcbyeLyC+R9cI15BG4dOuDfDYrEuQ5qFAV8iP4D7Dn5BL6qJ8ge8ZCOg8hlzVnibd3IS1xm+EMwIfQJiSJg0XfMDHMgr8lMETUtUdiPMGLuIBJkf8IobRsco+ULrpEbxJGI6pZ3KYh850EjZeBQ1mzoT64Dz8Pu8ctDhQaE5/jeXbf8Cxuhb0La7GY/tzcZkNwyerG0ngyQRwsTkPIDaad41oxaGfAaCnPJVbHqnB/lOVrEG/G9hWWxxZlYZ+1Ys5sWrHResb0FunCA9/iUE1yZPoO+0xBt/ugZAUGbo95xh9uzUF5ONukzUXbuPwhZux/6gN2zTdjzttVObm/l68MOAMPBJToVdd5ajCg1jaHfkLtl0w4asmebJOs/H0dIs+ZmS7sd4BAZY4HIAX9yajTHQqXtp+ibhaGWPqJxv4b8AX8wVdyOI24PYDqnD8jTdGfj5IsizCqHpxJ6jvvI97u2fis45GEBOV4TUpWcQmczuOXGLAv/1OhjniZcQkrB8bR8rShtDyfxlfD4UkUBAy0gHGfbqN688aCTyTE9H+TwqT370flHTycO5RBf5UxBDips7GG5X6XGe2ItVfJKBsayfkDptLtWzWkoFCZdTfOwZvXfjHgMczsaJhEEP9xEhI+Wn0e7aNGq1TJNvvBRHrhXHCkIMjiIbdY5QxGyCJmnH0hJEJ5Md6cqsBwk+NuwIv5PehTusVnPgKbcW0LxAfKsuPbV0NWreqiaLzfbzmVUgcJ5rzSJ8h6F7XifYZF5nSgWMw5f4J2Ff9mc2ZsJQPCFJANvA42owy5UMnVLmPeCv2LS3A9lHnUOdqAJ/othGe3LjJBt0z2VCbBWzxLsLsE8Ng8nIVarjxh1BLfj1fuqiZ1Iu+gjwfcbrqkggMptWw/aerYe/SUdjy76c03D8k3O9nRg5PDeZfDApRPSSWOxjcxZlUmi/p0aDz32VR43wlLrUtFB/VaFCTqDRMfhHAHK768lODySCUkOZfMq1gSWwnOsvHgor3FFjX6krDNF3hjW4iqtamE5FlJvRzsSHudhqL0akhuCpVhH4bNwaYxBjObu1kgZLVAr2KBcwmehduO52Pnr2/YMJKB7Yx8AR4tjvVddy7IHxNxVHhVw0WpX/EewVS/PNHEeo1fhP9SJLJ95lj6MSQA+hosxVdCsLRe4Mng4170W//cQExtOZdx01pR0CKMEz2GXgtuIwxbu/YweOleNZXhX48kYcNV1vI/nZNnnTrLho/kKd+k7cCvCCQbNWDX4pvY8ivPuafW4nr/2jw9g89oPphOx++2pTOf+/Cl1Ynwo5VR7FB0QP0X0lQgfMgBDQXgOGtlRDpOgz3PNamDu9XUKvT6SiploPj/7HVfaW3WHVxGNf3HwfR3tvALdoVJ6uOpboGujS1fARNUzmOr82aodVrJo72PQQz29RhykcDDHqsxd8NiUDW+iOwpkqD9kS6Y79yFMxnHtRw3kWQulZFQot/gPyfHZBkDHTS1LvgXyFGu4wimfrwZFCU3k9r3C9BwB8F3veGMM1DVbBPyYgvDtwLwUUi6GDyiqjZmtOI/CsspfAF7k46Cjt3xZPLon04qUkLNj1rxHZuxiZaKmLXJhNStDKT+v3I+wcfKag7L0voOdyb+5t9I0czGYuonUsbLywGPfEgzF7wE/72pVPRKY9xxBlZod+DLTQ2XYpeqNyHIee+Q/ckQwwIVeDW66oxaUssyDYy5ppjCzZe2RCqGcqvXS3A0GtHYMO//oyef4ftiZ4ErRuLWes7H075a/I1JQDTfDvYgSkTSGvfJrzw24Wb3zxB/htfQl7WjIT1vrqof/Y4q9O/zdRtvsCF8Gp8d8ucB+TrgeTgG0Z2WvLtT50oe52BDZlf0PlGuTBynTpTc1sKn0XDWGiNGf/iGg8dLuXwxH88fTt9H68u+om+h2qx+7IYTBpezFQHj6Ol93MhEZ0CInPfY8S553hGpIPYHAzDK6QSShaUoq7SF6ayplnY/bUQrKc/Iwn9E+BkkTb/nlXIVpR1k4mS1lyl6CiEvBqGNz1nk/NaR2DFK1c8f1ATwv2V6fzsTpY49h1075kGsxOy4X7TDlq/eQ/Jmrkei1uV+fA0dYg+cIfEh5pjoXYGROrEckGyEez/F7OdWXNRJes5XI7JwY2NKRBOVMB25hEqHa4qUNn5FysuSvK1Ifb85ycLmLr5jbB0ig6Pm3gPpTNyBGG2ifjBMpF7JOrQqdP+4riPargp3JQMdTIMnd2J9Vd+QrDeW7hnMJ7LD1UhXyzOUxWrmLmlNCbpbKvTVFwAXO0jXFcLxo6EyzD81DfGDH/hp8PHIWRTHo691YzicVOoQ9sFOk5gSfMbmsBnmQe/5ZUPe/IqyYKbxjDdPxGN95/AoIdlsNVHk0o4/gDH8M94V/Yn06mdxft+/2BqvkqkYVUBFaxwIi/0nrCgE6up5aP5qGg8H1fOuE2qi9YRU8OJtM9Ojw5NQia3fSr97imge0IS+LP0SfRDxRKiuyGJPp/rTzffWSBIu7ODBFu50D01jYKGcXvphfIZeH5LKZrMlKN3tMx5dcotDG6+ixbrAnD6VFl612wmb1ilQ89EukOo9QEIfjmMK/ZfwLK0LBja+Yp98BnLBpzF6d2eBAxvqCYrTnxkts6HyWLZPKKd2YFDU0dCzx8xKHKog6n3+she5YnMPyeA60rtFG5PVeYxM8PZnn3JUH/eip/Sz4Ow0evxTPZB2Bh1iH2eMoQKj41o/6cf4Hp9Cj2Q5Yp+KXKw6GMVhM8tgoJbjqxRZBW3v2VGexeZ0LTg1UKfWx2gf6kb3nlmwrZTJmCz2Jlr318GE1Icodt7tfBRryY4vNoCMf9NJs96N1BDp0hq+vEHaLNnUOmzAKeLHBdscN6FvKUIfC7PwYYpp3D91DZULw5CYdxjkKd/8F6JDmQOxUIKecZClnxjMT1D2De6GTSzNVjsahM8oX0K6ifM5dMNR/LnqXmgpfiIDI66B5qfZ9N5085ie/dZZt0iQY1+1tVJWG3EEavNsfeLF29J3Im9Eav4adElmGo7HzMsNnHJXnHoPzcBzI2KIHzIm4daZAudbWR50eL3ZHXtWjo49Ic8VNiCtnFG4BneBKG7fxPVmEJsi6gnMauUiVqdKM1e5oBNIiUY5OmELs9XYmKvK9VLKWIOFTlcx/gtiIePIkdlS2DLkCt16JhB6pXcaPC+SkFwTCu5Hx7JqgJ+MeMdi8iD89cElrX/fCNmUPhlUJ4nzHwNs7Sl6Zc4Q4yeFwzdC1Wg3cQNUs/Hcp3QhWh7fxhfXN1E+vvuwf7Em4IpC1EYX3yaeo1eAqOdBtBXxZIXNmfRbA2E1UuMMPJmL1g8HIAVV8cw0x5NvijAlWqp/gHbXZOZqfcYFlu/jdzbfYwOHkyBhUOx7NCjsby6qgxGGvhCzZX9EDC3SCiUzsUlqw6i+Jka3HllGU2ZfR8OTaV4ARTYjM0NRNxbDeZ/FQWJS1k0fNtqjO/JJUpr45lcjzidfyARJ8szYF5J0H7lLZg3PQWTdQOk3SmSmLq0kq2v5YjM8zH8acs6HFPqzHsb9GjX80ZW7bcTZfbcxtzibUgCXrDcNnthyVVHrh9nxp927hCuu69OPaSBW6vJ823bKv7t8w4LfTgTHsV5YlejEhX7nYcrvMfS5ava8ULHLB6Ah1mu4S54s7EHXSILWUjWDr66QED9Xs0lTzW/EJkRkWBXp4uBH6eA8TxbcHfJ4IJlfnBVMoFq+3cQ0QgZ2F52FJ/ESKNDzB1yulyCD188E35HefJfq93w4LH9GCPxHL4FqVGyogUdNjvSIdNA0EvywmuR9ugoLqAil7OgU0y/rsiYkdErpsPI6TkQ4n4PFuW2wfVYGbgxTA4O7v8KF1Qlqfbfg+R7Uy02SVyHh/wJRCIT6Dlq0jdrImB50QVBKBGnTcZB2FhUK9h98A6erJiHJY35daGHerE9fxqMfTcMTOVd4NXGGIjR+io8s1KKSojMZxW3DxLnI9L45NAw6h+yHA90qcFFmWuon7gcKgK1MTRHkk6dcx/cpZ/AVaMzRDakEsMdU/nf0afQYk4HqV2gwc2GSknxTjG680wMto4xxbRIJdidqsElcl3BVeIsk9xVCBoPLGC2uz/PkNbHrJnf0EokmamsNOfRncP4r9EE3NccwelLknhWmxpTfpjFcvr0uPLWY/g16Q+pIfuI8EQf3hidh7hxEi7rv46O0/qwp/kGim3cgf7r7JA2rIRN/Bk7nryAk0xxOnnUS1Llo057Z06jVi1deGVqPHpZPsH2wTamd7kJs2s3YFaJL+4oOo1W/e0YAOPo4Np1dN1ABVvdGw5JKWq4WSMRVvQ+xltXLPhmYgJrrh6D417JJCTGD0+1noXQG2P4J4cZ9Nn+WdRlyJg7uXpDntNC9LL9DHPqL7KuPe0g8ToLNSaM4abnDkJg6yuI8tYAqr4B1Fpm4dKve7Hl9QY8cxq4UnkZNLxyp7NHuNCydxPw6L5pdHD9H/zqVgQ4NxkjTD7hcMcBeFEQSPUK9alRzTNQTzej628zkPlrC0K7t1D+4CzGZ4wHtUde8Nn4HM54uZubqdhjzpmzcOp3Eqw3mwfhMwYFJmpjeV64JXQ9/yPcElbKjCcmQyqZzSH0KgpCo/FYbj4t/7EHDE8nIKmswSi1RWxMqTsfO7gXpTsmUkn5ABb3IRM9T54mPYdNeGhLOfnplQw3f9QRv3029K3NcYhVkqC4Q4XLxYzBpBkcotcNQGLkQia/PobeyNSjq7YcFgTGJP9zOlEk5tlc68oo2GDQzRROJsOWCxcx/HMyObF5Et8e68jDs8V5VY0RDbFLoZC8FzSGSjB6qB7iRdPQAl6S37eXQEjgedvAm0Hc/mIeGib4cg37WFQ+Ik0q9g2jA8XK+LukgkSHboHsp/7ktN9w7gBq5KfOBQgLiuPRr6Xprl8LBe1Lr6LsucncFRQoaO9nqeMKybFKdd5WeA1//rJj76ea4wzRSazW6Qs+FMlA44p+vO3wABeP/Y/1iNyCOfduoJ7N7389U4aqh0rxflk5+g/bSCW0xNB4QjmsL1HE23Mm0pZkY1L/46cgoEad9+50BQNIhEp1BZqkKsGvu8rxbN18iM39Q7bONaJjzIrgq8txDK47RLI9/PjJgSY4fLaX7HkvAs9yXhL8lQCeT9f/+7cj6Jwfx2HFTiU6ZbkHbhDWoPmILJQV3gH1T+E4VyOIh2Sth1b8RAb21uHXKePwybczcO7tNsj4/QCypyrhm4h8NNc+wzQCH7Dh0xKIrIM5yH+pgAezi+FaoiSIT9Ol6VaMVCxdx2J8AZ89PAlDjhN4zupFNL7CnPjcyGKPffaDdNcjrNFdQC7/Wgf/Awf8toM=",
        "encoding": "base64",
        "path": [
         "positions",
         "2.6666666666666665",
         "compressed_buffer"
        ]
       },
       {
        "data": "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",
        "encoding": "base64",
        "path": [
         "positions",
         "4.0",
         "compressed_buffer"
        ]
       }
      ],
      "model_module": "k3d",
      "model_module_version": "2.7.3",
      "model_name": "ObjectModel",
      "state": {
       "_view_count": null,
       "_view_module": null,
       "_view_module_version": "",
       "_view_name": null,
       "color": 255,
       "colors": {
        "dtype": "uint32",
        "shape": [
         1000
        ]
       },
       "compression_level": 0,
       "id": 140203846891112,
       "mesh_detail": 2,
       "model_matrix": {
        "dtype": "float32",
        "shape": [
         4,
         4
        ]
       },
       "name": "Points #1",
       "opacity": 1,
       "point_size": 0.2,
       "positions": {
        "0.0": {
         "dtype": "float32",
         "shape": [
          1000,
          3
         ]
        },
        "1.3333333333333333": {
         "dtype": "float32",
         "shape": [
          1000,
          3
         ]
        },
        "2.6666666666666665": {
         "dtype": "float32",
         "shape": [
          1000,
          3
         ]
        },
        "4.0": {
         "dtype": "float32",
         "shape": [
          1000,
          3
         ]
        },
        "timeSeries": true
       },
       "shader": "3d",
       "type": "Points",
       "visible": true
      }
     },
     "cfa65979cec144c28142e1c28d191506": {
      "model_module": "@jupyter-widgets/base",
      "model_module_version": "1.2.0",
      "model_name": "LayoutModel",
      "state": {}
     },
     "ee981e080b124865a503cbd2cf6e708c": {
      "model_module": "@jupyter-widgets/base",
      "model_module_version": "1.2.0",
      "model_name": "LayoutModel",
      "state": {}
     }
    },
    "version_major": 2,
    "version_minor": 0
   }
  }
 },
 "nbformat": 4,
 "nbformat_minor": 2
}
