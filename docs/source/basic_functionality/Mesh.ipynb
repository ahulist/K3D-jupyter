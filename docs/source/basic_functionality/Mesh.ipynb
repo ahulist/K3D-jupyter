{
 "cells": [
  {
   "cell_type": "markdown",
   "metadata": {},
   "source": [
    "## Mesh\n",
    "\n",
    "Mesh is a object which displays triangles in 3D.\n",
    "A scalar can be displayed on the mesh using a colormap."
   ]
  },
  {
   "cell_type": "code",
   "execution_count": 1,
   "metadata": {},
   "outputs": [
    {
     "data": {
      "application/vnd.jupyter.widget-view+json": {
       "model_id": "ead44407478a4d708b8c0f1ce4f4943f",
       "version_major": 2,
       "version_minor": 0
      },
      "text/plain": [
       "Plot(antialias=3, axes=['x', 'y', 'z'], axes_helper=1.0, background_color=16777215, camera=[2, -3, 0.2, 0.0, 0…"
      ]
     },
     "metadata": {},
     "output_type": "display_data"
    }
   ],
   "source": [
    "from matplotlib.tri import Triangulation\n",
    "import numpy as np\n",
    "import k3d\n",
    "\n",
    "# this code is a part of matplotlib trisurf3d_demo\n",
    "n_radii = 8\n",
    "n_angles = 36\n",
    "\n",
    "radii = np.linspace(0.125, 1.0, n_radii, dtype=np.float32)\n",
    "angles = np.linspace(0, 2*np.pi, n_angles, endpoint=False, dtype=np.float32)[..., np.newaxis]\n",
    "\n",
    "x = np.append(np.float32(0), (radii*np.cos(angles)).flatten())\n",
    "y = np.append(np.float32(0), (radii*np.sin(angles)).flatten())\n",
    "\n",
    "z = np.sin(-x*y)\n",
    "indices = Triangulation(x,y).triangles.astype(np.uint32)\n",
    "\n",
    "plot = k3d.plot()\n",
    "plot"
   ]
  },
  {
   "cell_type": "code",
   "execution_count": 2,
   "metadata": {},
   "outputs": [],
   "source": [
    "plt_mesh = k3d.mesh(np.vstack([x,y,z]).T, indices,\n",
    "                   color_map = k3d.colormaps.basic_color_maps.Jet, \n",
    "                   attribute=z,\n",
    "                   color_range = [-1.1,2.01])\n",
    "plot += plt_mesh"
   ]
  },
  {
   "cell_type": "markdown",
   "metadata": {},
   "source": [
    "Scalars can be updated interactively using ipywidgets communication:"
   ]
  },
  {
   "cell_type": "code",
   "execution_count": 3,
   "metadata": {},
   "outputs": [],
   "source": [
    "plt_mesh.attribute = 2*x**2+y**2"
   ]
  },
  {
   "cell_type": "markdown",
   "metadata": {},
   "source": [
    "It is possible to send time series of an attribute values:"
   ]
  },
  {
   "cell_type": "code",
   "execution_count": 4,
   "metadata": {},
   "outputs": [],
   "source": [
    "plt_mesh.attribute = {str(t):3*t*x**2+y**2 for t in np.linspace(0,2,20)}"
   ]
  }
 ],
 "metadata": {
  "kernelspec": {
   "display_name": "Python 3",
   "language": "python",
   "name": "python3"
  },
  "language_info": {
   "codemirror_mode": {
    "name": "ipython",
    "version": 3
   },
   "file_extension": ".py",
   "mimetype": "text/x-python",
   "name": "python",
   "nbconvert_exporter": "python",
   "pygments_lexer": "ipython3",
   "version": "3.6.8"
  },
  "nbTranslate": {
   "displayLangs": [
    "en",
    "pl"
   ],
   "hotkey": "alt-t",
   "langInMainMenu": true,
   "sourceLang": "pl",
   "targetLang": "en",
   "useGoogleTranslate": true
  },
  "widgets": {
   "application/vnd.jupyter.widget-state+json": {
    "state": {
     "74b5d0f59d2144fe95038d66be187dff": {
      "model_module": "@jupyter-widgets/base",
      "model_module_version": "1.2.0",
      "model_name": "LayoutModel",
      "state": {}
     },
     "c95aa633074844e9bb1a169faac7bbf8": {
      "buffers": [
       {
        "data": "eNq9kk9IVFEUxu9TsUYRhwkqRJkIxpdBixZBvXvOeQMqbYKgTbuglkp7d85KIndBLaRNq/5AUKsitNQWmZWUIg6zqQhqFUEQE4Xz+l16+9eqgR/fd+Zyufd933Wu+Pe+p30KkqXvVz3qN37XBS+L1SVhlr5r3xLwtdW54OXgUa94fTv9SJnVuYYHca4cPKxB2ZybgIatz295kPHdy4rqicma4W1P+1ZYs6Fkv4BeiO4qai+fTBne2ns/h7U0cnUBjVwT6ha5G9CEfWEtfTpwSUBnznYUtcWFB4a3ucqxsJY2T88I6NSdfkPt8M8Vw6fRAQtr6d+7N/I7N2ANyvw/EdYK9xed77g/aJbtcEbdsuw67EAlrKVF3/+a/EAmyQ/Vk+SHtxL5MVsX+YN0kz+q3eSPtx7yZ7YK/YEfoz9UqvSH1236Y9Yf9A/JOv2j/gP94+UV/TPL1/ulGoze+7QwisbPq+djfHxuczNmPvKF/ZCssh/12+zHywr7mWWA88HHnI/KEOfjdYvzmbWTzXqQLBsMHl6Q1aB1snGYLXw/I+QHepH8UNsgP7ztkt/IP7yfZfpbzvtD7Vne3xX6Y05b9A86Tf+tvH982kX/rf/wforuP8z3D+fvB7U3+fv5xfczp+/ID+QM+aHqyQ9v/eTHbL28H5Be3g+qfbwfvJV4P8x2iP7AH6c/VMboD68f6Y9ZH9M/JLfpH/UP6R8vN+mfWf4ALuykGA==",
        "encoding": "base64",
        "path": [
         "attribute",
         "0.0",
         "compressed_buffer"
        ]
       },
       {
        "data": "eNq9kj9ok1EUxb+hfiIaCaKIIg6CUpyNHfLueZoUap0cOhppo04OYqGUOjVJJwnWSrVDFyMoKJ9/ti7FpUNL/DNIoaMObQaHTi6CqL8HLyBdUheHwzknl/C9e85NkiTpf9MqApfbKhhsr1s/Da3C/KTwqvisCNzw6kWDrTaXCq3G10aY6fOLdhG4g7+vG2zZyEmhtefsYpjpWvlHEbjNQtNgay2XhNb8xrsw0+z5Yw7YWCUzWLp5W2jdW/wWZr6vNeCAnXn0yWB9mJgVWkMLB8LMdwojDtjT5W2DdaL9TGgNTp0KM/+yfssBq031CdaRX0tC+/1XzoWZ31y664Dd2ZsTrOzLitC+/d2HmU+SaQcsSfKCwRrI8/tgmPX8/87vH97x/S3eD8hl22Ad5/1olXk/vuf+D8gPWJX8YJXID60m+eH9KPkDMmoaTE4lofWY/PFapz/g8vQH2yv6Qyulv/XQH/0Dd5n+YavTP1oz9I/Xv95PfZf3k8b7qfD+Srwf2J7E+3nI+/Hq7j8W978Q76e7f0p+wPrJD9ZH8kNrmPzSXdxPRn9Z7A/W0dhfjv7wvkP/wMbpvxP7R/v39N/5D/fT6/3d/U//tT9al+L+c+QH7Ab5wSqTH1r3yQ/vq+RfjfcD2/N4Pwvkj9cG/QF3iP5ge0t/aO2jP7yu0j9wQ/QP2zT9o1Wjf7z+AMHg2xk=",
        "encoding": "base64",
        "path": [
         "attribute",
         "0.10526315789473684",
         "compressed_buffer"
        ]
       },
       {
        "data": "eNqlkjFoU1EYhR8i1CqVog4KKm0RLeIimlr1/udHFHFyd9G6SCUIDg4KCh20pdRKSlLp4NDWqLjoVEQICAWxpou4ODu4ad8zCB1c/B7cSAhICg6Hc/78vNx7zzlJkiSDr/sDsJ5vSwbr1cJdoVWorIvZhyYOBGD7dr81WE8nx4TW1vS3mL305kgAdv/issEaTceF1lTYnO/88tmTAdjH4ieDtVArCa3Kl55858MvLgRgfbWvBqu6/ERodc3vyXe+1nUpAPsx+MtgHXv0UmjtOHww3/lqcTQAW6xtEqyhypLQPtE4mu/88fqtAOz8ardg3bj6TmgvTZ/Od/7z0L0A7Pa17YJV+PBeaK98PpPvPEnGArAk6RUMVkAvv5/Ldx2/73R++/0L8f7j8f6d3n8K/4D14x+s5/iH1hb8Y/Yr+A+sjv8w/11SPfrP7DPkB+wB+cG6Tn5oPSQ/Zj9B/sD2kz+sKvmjtY38mf1/+/Ov86fi+c3+rMT+zHN/tMqxP83398X3P4v9ab4/wz9ga/gH6zj+obUL/5i9jv/16H+9rT/MPkd+czE/WDdjfjPkx+wN8gd2h/wbMX+0z5J/YwP9yfg+i/3J2vqTbaA/ne6f8n5g33l/GvuD1k7en7b0Z6ClPwMt/o3g/0jsD6xq7M8s/jN7mfzKMT9YxZjfNPkx/81/b8x/kfzR6o75/wHkusue",
        "encoding": "base64",
        "path": [
         "attribute",
         "0.21052631578947367",
         "compressed_buffer"
        ]
       },
       {
        "data": "eNqtkrFrk1EUxb+xttJ0aBUC/gH+CUneOxdtJwtSHRXjH9AiUhRUaltqm81ZcHMpVMF2cDSNsU1b082lnx2KYLI6RFeNv4ev8PEhBMXhcO7NJd9995yTJElSr8074NuzQ4I19bAuaru4WTJ62/4674CfXh8SrLV2XdT24WcpzKxUvOeAb149I1gLb7ZFbeOdcpjZaPe+Az6dGRasXvGdqK066cLMvpx/4IC/+3REsDY+NkVtV3o+zOzTnUcO+BsnZwXr+fqOqO3krYWZbb1YcMB/K44K1vVqS9R2OHspzOzJ3KIDfuRCQbD2dvdEbROHl8PMfjxbcsAvtQqC1Xi9L2q7tTUZZpYkyw74JBkTDA7AGL9PhdnA/5/uH87sp7bxuD///pn4/nZ8/6D7O+jXifrBepnRj94K6F+I+sN8+7f+t9Gf3sr4B/x7/IP1GP+obQL/6K2B/43oP6xaxn96+9v81HL5Od3fjPuz+Sln8nOUyc9RJj9d7u/G+2G9ivdPcz+9HaMf8DfR7zjqR22f0Y/eNtEf+B76w7qG/r2oP72t4t9q9A/WQfTvHP7RWx//gV/G/370n9qq+N//D/lZYf9K3A+rlckP/cD3p9yfxvykufyk/5Cf77n8VPCvEv2DtRj9C/mp/CE/a7n8/ALdr9+h",
        "encoding": "base64",
        "path": [
         "attribute",
         "0.3157894736842105",
         "compressed_buffer"
        ]
       },
       {
        "data": "eNqdkz9IlWEUxt/gU4IyDFpaKlL0Di1Bbu97jnSv8dlia0tDi9KN6C7G3ZSgxNKCQvAf6CYJXjebqqHh6oWuS2PDFWxoqclFB38vHeHypdxqeHie9zsc3vec5/mccy5XWfYgdOz2CSxryweC1r63T5SzXl1d8iA8/3RDYBk+sy9oPds+Gmv6+MOiB6F/9LrAMl3eE7QuvCjFmt7Lz3oQNovXBJab5Z+C1t7Kg1jTW5/feBDqvkdgWdv5LmidLNyPNd35MeVBkJXLAsupj98Ere+G7saabhUnPAiF8kWB5WHuq6D13O6dWNP3v556ELYfXRBYLuW+CFrnTt+ONW1Lxj0Iz7rPCyyDM5uC1t7pgVhT58Y8CM51CgyqoJPvhVj7oz/N9G9wPwh17t+w+9E6y/2ctcb7a/b+Wub9nFvOf7S/bdtfhf2h9aXt72j/W7b/PPtH4+3v/Wf9e2X+LZp/XfjfZf7DMtLkP2dtlZ9W/f+bnx57f8r8qeUHlnXLT5w/PSY/7oT85C0/RfaP1o5MfuqWnyvm3/wJ+Un/MT8J/Yn1J5n+5C/y0+r9DeYHwTN/w+ZH6wrzN5ryk/3/svmp2v4L7L/a9P+W8A8ExT9YXuOfWn5Kx+RnOOP/Id6I0XU=",
        "encoding": "base64",
        "path": [
         "attribute",
         "0.42105263157894735",
         "compressed_buffer"
        ]
       },
       {
        "data": "eNqVk79LlWEUx9/Fli4lLWFUiqSbP2hoep5zGqIGQdTAUCEEIQUHQcISCiLhFnRd9DrU9To0Ff4BLddbDmLqJojQ4BCVd3DoxxBtfR44Lzy8y4vDl+859/C8z3O+3+9NkiT5c2nXAT94f0JgOff9ilLr29obpdcfR9sO+K0v4wJLR+dlpdb3Z16HmW7NbDrgP1ZHBJah1otKrcst5TDTG+UPDvhasV9g2Z0+r9T6eLEUZrr6ZN0B33tyU2AZ+dek1DrZtxBmem9tzQHfPntdYJk6/CvUOvd1Nsx0o7jkgC8fXhNYXvz+JtTsMB5m2r3+0gG/8qlFYHn06kCotfX2YJjpWffcAb+4cEFg2X+6J9T6c/pOmGmSPHPAJ0mzwOAzaOb3W2GWez69vxzdT61X7f467wd+hffX7f3UOsT76XP3z+o3mtEv1X8j0p9a503/PP+O8f/Y/IelM/KfXvPykz3fkTl/2vzsZPJTZf+q7Q/LmO0/xf70Oox+w6YfLJORfvR8a8nVLD+wFC0/A+hfi/KT+jdv/rWZfwX8L5j/hcj/X/hfOEV+SlF+SlF+uri/y+6HZS7KD33u+9P922z/B+xPrQ9t/wr6Ad+DfhX7//VYfipRflL990z/bH7q5t9d/KtH/jXwv2H+NyL/3+E/vf4H2+vw/g==",
        "encoding": "base64",
        "path": [
         "attribute",
         "0.5263157894736842",
         "compressed_buffer"
        ]
       },
       {
        "data": "eNqVkjFI1GEYxv+BRDiI/VuqRZyiLTAX+b73XWzQrcmzEzcniRxcarpDOGxIB7WlMOucPLm7LYyahIizsgYJykk6aeq6K2jt98GrfBzBH4eH53nv5X/v9z7PmyRJ8qbUccA3ZhcFltH7XtF6vbaj1LqVthzwhQclgeXx2xFF63jvy9DTK4NNB/yzo4LA8vXckKJ14m4t9LSveeCArz2fE1g6V68pWqd3y6Gnv27uOuCXn+QFlqniZUXr4vxa6On72zUH/Hl3S2D58feConVjpBR6/NdTB3xz+IbA8uL1H0Hr6pd7oaebM48c8HfSAYHl089DQevmQi709OL8ggN+9eiSwDI180HQ+mpsLPQ0SQoO+CTpFxi8A/38Php6md+fzJ+0+fvMR2vZ5td5P/DHvL9u70frGu+nzty/jX9t86/d5R/1qf/1yP965H93ft+68quQf8Xyr3TlT61Z95P1fdb8rPvpsH/H9odl2vZ/yP7Uuod/e+YfLMeRf9RaxX/gv+M/LBv4j9YV/K9G95Oz/D6TXy66n5T8U8sflnyUf3qG+1mx+wnfo3XH7qfM/LLdDywfo/uhznx/g/2B72H/hu3fY/tTawv/gF/CP1jy+Ldk99OK7qdq/v/G/+p/7mfd8jskv/Uov23yB75I/tuWf9Hyp9Z/IsnwOQ==",
        "encoding": "base64",
        "path": [
         "attribute",
         "0.631578947368421",
         "compressed_buffer"
        ]
       },
       {
        "data": "eNrFkz1oFFEUhYewGxVZSKPubjAIBnaDrSaF8+7ZOEkKI0mw0mJHi4iE9EKqBFwQW00VfzZa5A/BXiySTtJYqcF6/cNoJYKd38BbeGwCi5XF4Zw7l+G9e859URRFyULBAZuvNg3WQqEutF4+2xN1beTscQfs6b3HBuvI7etC63vhnahrw3M5B6z+e9lgzbamhFb/zq6oa60Lv2LgZtL7Bltp14TWpT+vRK2xHx9j4H5evmOw1Y+dE1obT9aznkbz2zFw3/LXDLb+3Emh1Zt7mPX0/PVaDNzw8kWDLU16hNaHmcWsp/KZBzFwA7ODBlv1asvQqu7cyHo69aIRA/do9ITB9vnKW0PrbmUy6ymKlmLgoqjPYPAG9PF9LOsd+P9Tx//dzm/ffyS4P1p7/v7d5h/Hv3HvH2yp928T/6jVzf92fmmQXxrk15n/0Y78//f+TDD/hJ8ftpt+/i3mp1YN/4D7in+wlfEPrTz+UWsV/4E7j/+w1fEfrff4vxrsz2mf3xD5oTXk8yuSf9HnXwzyb5B/8R/2ZyXYn5Vgf0qcX/L7A1vF70+F86m73l/MD9wX5oetxPxo5ZifWgn+AbePf4l/f/v+/SXB/kx7/8v4P33I/rTzu9WRXzv/ZpB/M8j/L+iJpRk=",
        "encoding": "base64",
        "path": [
         "attribute",
         "0.7368421052631579",
         "compressed_buffer"
        ]
       },
       {
        "data": "eNqtkk9IlFEUxb9NhJIyQQiBMyDBOK7c1O5790wZrZR27swSdDFKbg2STFBnI5YMI4hgE7gQyiSaKHC2opX0ZyO0Mfrjpmxhi3bi74OnfEgyFC0O55z3eNx3z71BEASZJ00OWN23ssFaKt0WWhcKv4XPnq2kHLCVwlODNXRySGhNnv4lfHbrYoMDlqxdNFg/VnNCa+vMtvDZa201Dth6/6zBunSrU2g1t34QPju7sBsC1zycN9iu33dCa331pfB6/uJdCNzG25zBdjVxTmgNbMxHdypsLofAje9eMdgGMrVCq653IrrTvY/FELgv5RaD7W75u6G1tNcX3Sn1dSwE7uGDBoNt8Px7Q6vjREd0pyAYCYELgoTBYA0kOL8c3SnJ+6R/n4y9b+c9/rD+Z19/hPpoPfL1i/wfuDz/L/r/o1XP//FV+z+a340j+R2Xf8bn/4n5AUsxP1g7zC/l54evOv//vT87f7k/c/Q/5/uHrcf3/5r+8XpGfsC9IT/Y2skPrX7yw2ua/IEbI3/YcuSP1inyn47tz8H8Rv38Hh+zPzf/cX9Kfn+i96XY/kxRf8rXh+1ObH/wVf9/0P+rWP9o5Xz/M+QHXJr8YOsmv7TfH7y6yB/YGvnDaiN/tNLk3xXbn0a/Pz+ZX+Mf9qcSm38lNv997Njuyg==",
        "encoding": "base64",
        "path": [
         "attribute",
         "0.8421052631578947",
         "compressed_buffer"
        ]
       },
       {
        "data": "eNqtkk9IlFEUxd9mKjBBgszMFjEuBgITod337vmy1iEWLYMKNxmuMwiksGyCWplGK1czoaiLVv3ZmwUVZZaOi4gWRRDYvxla1O+DN/I2NRQtDuee93jcd8+5zjnX/G6/BzY39dhgrbdfE7WOH2xK0emPYz0e2MrUgsH6euSqqDVR3JLdpVfaCx5YZfcDg3Xv6EVRq/+Oy+7SxcE2D6x3eNpgnS4MiVpbB94LnX7vynlgyy/GDdbJnX2i1odPj4RO9555kwA/f/O8wXaho1vUenZjRmhdWr+bAL/c12+wDTdvE7Xm9lzP7rRp/FYCfHnzPoNtpe2zUasnGcru1NlxOQH+9s8dBltt13OjVuvbw9mdnBtJgHeuxWCwAFo4P5TdbbwvR+/L0ft6/1Lo/4r+paj/GP8H/jX/h+0c/6fWPP9Hq9H8VfyrBv9gnYr8Qzf0v0h+wNbIrxjyWwv5oX+b/2TI/1/3Z/I/7U+N+WthflgDYf6PzI9OC/hXCP7BNhL8e4p/aI3iP/Av8R+2s/hPrVn8H432pxTtT+kP+1P9y/3J8z4f9icf3mf7s533aOXonwv9c9H+dNMf3fD/9flno/mp9STM/w3/gC3hH6wT+LcU9gedPsR/YAfwH9Yg/lOrCf/RG/mthvzuk99qlF89/0rI/wv5V6L8fwEprc2+",
        "encoding": "base64",
        "path": [
         "attribute",
         "0.9473684210526315",
         "compressed_buffer"
        ]
       },
       {
        "data": "eNqdlD9oU1EUxq84Vts6SbpIpZCmaLGSFIV3z3mDdhDEKi4OBhEVWnQsJNhBIsQ3uBTEof9oq7MRlKo0g4tgunVwNAri5CLt1i7+HpzAJW0Idfj4znmHy73n+77EOed2Bq54INeLvwTW3t9LSq1r9YGYPv7+97IHsvumKbCOvp5Xap16fjKdxfmdix7I4tiWwHpkYk6pNV/sTWfx+IusB1Kv1gXWzT8VpdbSVZfO4tM9JzyQZ2deCaz3V+8qtR7LNJU+Xj21HQG/OZYILOvDXqn1wp1PSq/l418i4IdrtwWW6nZGqXWy+TKd6ey1lQj4R7fyAsv52V2h1o/lmXSmIzeTCPi3xYzA8vToN6HWn58n05k69yQC3rl+gcFX0M/3S+ls3/mKnf9h51v3Pwzup9Z1u/8x7wd+hPfDkvB+ar3B++m12/4t/RLT7wH6JYF+nfQvm/4F/AOyhH8F849aC/hH39H/afP/f/Mz3SU/hQ75abTlZ4j9hyw/sE5ZfvrYnz5eRr9l0w+W96bfOPrRawn9gc+if8nyk7X8lIL8tPv3oUN+KofMT47zwNc4n7PzNctP7oD8nGvLT7f3t/Zv2P7v2L8R7D+IfkCq6AfrPfSrWn4Gg/xsBPnZCPLT8m8h8G8h+P038R/IHv7Dehb/9+z/gz7+B+r0vbw=",
        "encoding": "base64",
        "path": [
         "attribute",
         "1.0526315789473684",
         "compressed_buffer"
        ]
       },
       {
        "data": "eNqdk0FIlEEcxadbYYGnjMVLl2ij2DXW1OWb/xsiLxoS3TKxm7UZ3oICDx26ZCEU1sFgo0BIIuqkUCsGpQQR3apTnqyoQ6l76tTvg3H5iGKrw+O99w3DzLz3/5xz7v2xYQ9sI/fDYOUfPRRaq537Aj4sTpzwwHbV6gbrdH1WaPVM7knXwodX/R7Yyd5Vg9XbdUdo7dzanq6Fe7VDHljn1GuDNfx8UmiNfm5J18LRT+0eWNflxwbrTP680Dpw+Lvw4WpliwdWu3XdYH0p9Qmtan5Z+HBu75sE+Is7Kgbb1LvdQmt9uiq8NrbNJMAffNBjsC1/c0IrmR9P11S8diUBfn4hZ7Bt//rW0JqtHk/X5NylBHjnWg0GL0Er34+ka439c5n9c5n965wPfAfnw7bE+R3xfLzGuD/w49wftpvcH60698er2fs38+uO+VXIrzuTX7P8V+gP2BD9rcT+0GqjP/wf+y/H/v93fspN5qftL+dngPcPxPmBNRrnp8j78WGC/IA9JT9YH8kPrdvkhw9nyR/4C+QP2w3yR2uN/PGN/oqxv3R+ipn+fp2fln+cnwL7C3F+CnF/Oj/32V/4zfy8iPNTjuc3u//m+59k3o/WdHx/P/kBK5EfrBHyQ2s/+eHDXfIHViJ/WKfIvxTzxzf6G8z0N5j5/5/RP7Ac/cMaof9c7B8ffgLpDduT",
        "encoding": "base64",
        "path": [
         "attribute",
         "1.1578947368421053",
         "compressed_buffer"
        ]
       },
       {
        "data": "eNqdk89L1FEUxZ9U0A8KdzE57lo4f4CBMO+eF039BYEEJRO4KCSo0aiBFoUQ6SpCXUxQzSCm0CSBFUHTRhcirVwpQqvKfWI11aLPF17DF0FGWhzOud/L4717zv0651zjfskDWxk6KFiFckPokJvvC9ShevKaB1YZPCBYTwvvhA6HH/YmvfBg+pIH1nWhabDGe+pC6+erXNILx76c9cDmq58M1rdKRWgNjB5PeuHWYo8H9nWjYbBer40Kree9HUkvnFs85IG9/F0xWN2n+4XWvq1VUYeBM+t54FeGRgy22vsc7x/RRP+MqHV1aS4P/I8/ZrCVqvuF1uVf95KeTi2N54H/kM0abFOra4bW8J3zSU/O3c0D71ynwWAZdPK9kPRa5xup82iV4vkr3A/8d+6H7Qb3o1XkfmoVeT/wH3l/Mb4frSneT61289/GP2Cb+AfrDf5tRv+o2/o/Rn7AsuQ3FvNDq0l+1K38H6fyR4cjMf+97s9u53fbn+Ye96fM/OW4P7Dexv2ZZX7qUMA/YHX8g3UC/9DqwD/qcBH/gV/Gf9ie4T9aj/CfupXfdswv2Z/tVH4792ci7k/pP/dnss3+XN+xP+3e/2/+F3H+DPOj5eL8N/EP2Gf8g7WAf2jN4B91OIr/wOr4D2sL/+vRf+pWfplUfpnU/18j/1rMH9aTVP7U4S/XeOgT",
        "encoding": "base64",
        "path": [
         "attribute",
         "1.263157894736842",
         "compressed_buffer"
        ]
       },
       {
        "data": "eNqVk89L1FEUxd8qIggGc9EPZ4oEkVrVSBp+3z0vm02BgyK1KNAWEURF4CoKS4hqES2CoWjjpEa7tE1Co0sDMaJl4YQu+gP6ByL6fOM5fBkYxhaHc+738njvnnO/zjk3Ov7QAzu0vk+wJs5+ETrc7D0XqMOZiWkP7NiNnGB9r6wJHerPS2kvnJy67YHdWtolWF8PLAsdNi73p71wd+8FD6x38ZfBejz5VmiNFLrTXpit9nlgL4qfDdZS1zOh1X9+T9oLLt/hgb2+8sZgjQ5fFVrXV7ZEHUbGfybAH1x/YLAtzp4QWqc6F0StrfsLCfAr5ZLBVhjbLbS6Xz1Ke0p+P02A/3Qvb7AdqW0YWsmli2lPzk0nwDuXMxisgRzfS2mvcX41nj/M+dXM+U3uB36Z+zfj/Wgd5X5qjfF+4Au8H7b3vB+tgc5/PbWbfw7/gL3Ev7noH1oD+Efd1v8i+RVjfsVMfnXyo27kfzyTPzr8iPnvdH9anW+1P/Ud7s8888/H/YH1Me7PaeanDn+6OjywKv7BKuMfWtfwjzqU8R/4/fgP2zv8R6sP/6kb+dUy+dUy+TXnX2jK/3/3Z/v8YIv9yTftT7v3b88/E+cfZv6ZzPxV/ANWwT9YH/CvEv8/6nAH/4H14D+sJ/jfE/2nbvv/D5H/UMwf1rdM/tThL3p6sqY=",
        "encoding": "base64",
        "path": [
         "attribute",
         "1.3684210526315788",
         "compressed_buffer"
        ]
       },
       {
        "data": "eNqNk71rFFEUxadIbFRcSGUEbS3EwiTEwL57LhNXUIQIrhCbYGFnlUZYhLiFEVQCQcXadBoVQQkmSxQbMfsRsfETrZJYqX+Dv4EXGRbWSXE4587lcd87506SJMl4bS4Au3z4kGDV9v4Q2p8tTDq1HztyKwBbnj4gWKWtz0L747vnsp7/WawHYGfelARrYHdTaF/tr2Q93xy5FICdnUoEa//p50J7unI063n7qgdgldtfDNbLi/eF1rupgaznjSuDAdidt08N1vUL00Lr/ewvUXta+10GYeTerMG2emNMaH36sCRqnR97UQah/uCUwdbq2yO0fo7ezHoaH54rg9D5dtBgW1z4bmjtOj6Z9ZQk9TIISVIyGKyBEt9PZD2lnAehzXnYHnEerX7OU6vK/GqcX83N32I+tSrcH4RR7g/ba+6P1lfuT62i93fwD9hJ/OtE/9Bawz/qQv975fcq5red/0ouf7Q/ifnvdH96nS+aX3T/dd6/HvcHViPuT5P3U/sy/gGbxz9YdfxDq41/1O74D8Iw/sPWwH+0PuI/9b/8ZnL5zeTy687/YVf+O92fVu48Wn099qcZ92czzi+6f/f7r8X3t+L7m/gHLMU/WEv4l8b/j9o38B/YBP7DGsT/iej/xn/2Z/v/HyL/oZg/rH25/Kn9L7NZyRw=",
        "encoding": "base64",
        "path": [
         "attribute",
         "1.4736842105263157",
         "compressed_buffer"
        ]
       },
       {
        "data": "eNq1kk9IlFEUxb+lIKGbNtKiP9JCWviHiYp599xGkRmIzAgUIYkgCGo3ZEIkEhFI5UbDXbkQcpWLoinC1jJIRQvbtQikTSsNh4EW/T54wsdAfEG0OJxz3+Xx7j3nJUmSnFxcCsDWH/QI1uKXH0L7btd1p/ZjzYUArDx9XLAqhe9C+90nV9OeDy7NBWAn6l2CNf5rS2hfXruY9nx0shqAHdhuE6wXR94L7YVLZ9Ke742dC8D2vm0brLcrz4TWePVQ2vOpT0cDsPs9NYP15tqM0CqMNEXNjI0iCJODDw22+o2zQmv68Tr7NLS5WyuCMLxz3mCbet0htFa3HqU9VW7OF0H4fPqwwTYw99XQ+nhwIu0pSWaLICRJp8FgA3RyPpT2VOZ+Od6HrT/e/8B9atV5H4Qh3q/H99F6zvvUOsX8IFxhftg2mR+tO8xPrbz99/1rZPxrZPzL8z8vv/38K5n80T4T8//b//On+//6f5rs34z/B9a7+H8m2J/aq/gH7B7+wXqFf2j14R+19+M/CJfxH7YN/EfrNv5T5+bX+n/6Mvn/j/9zq+X9vPlb938Z9++N+//EP2A7+Aerhn9ojeEftV/Af2Dt+A9rDf/bo//UXiK/UsyvlMnvKflRezf5d8f8YZUz+VP7b8J96BQ=",
        "encoding": "base64",
        "path": [
         "attribute",
         "1.5789473684210527",
         "compressed_buffer"
        ]
       },
       {
        "data": "eNqNkz1oFFEUhQdsjIkQ0YCIgnH9QxEUTCP77rmaWKhktbBQRLH0pzERtZNdZNUuIQR3BS0iGqxiqegKNv6kD0nsLBSDIIILAcHCb+ANDNEwFodz7lwu971z3iRJkux8NhGArf7SJ1hTE7+F9r7xG07t6949DMBmb+4TrFp9UWgfbAylPW/cGgvAuma2CtaD75+F9urp82nPz/XXArDpy2sE69CvaaF9x4/Dac837z8VgD050DZYLxeeCq2FO9vSnu/dtTsAuz7yxmAtvqgLrcGuFWnPx+eSAOz2z1GDNXviiNDacPStqP3gVKsMwqqBkwZb6cJaoXXp2qiodfzxSBmEj81eg+31lU+G1v32mbSnJKmWQUiSboPBB9DN94G099d8K84347yzH4QO9sO2hf0dcT+17nF+YHc5P6x5zo/WRs5PXXj/zL/JnH+TOf+K/F8uv1rML8t/Lpc/2isx//99P8vNF+0vOn+J+5fi+4HViu/nG/en9j34B+wq/sFq4x9ax/CP2sfwH1gd/2HN4D9a6/Gf2rP8VubyQ+tizG9p/q+W5F/0firMgzDPfCXOo9VgvvKP99Mb30+2v+j82f2Hc/cfzt1/E/4Be4R/sJ7jH1pf8Y/az+I/sPf4D6sf/9G+Hf+pvUl+wDrJrxnz64z/P7X3kH9PzB9WNZc/tf8BZw7HSQ==",
        "encoding": "base64",
        "path": [
         "attribute",
         "1.6842105263157894",
         "compressed_buffer"
        ]
       },
       {
        "data": "eNqlkj1oVFEQhS9KHgQMbiHIamcnxjSSbu+cEYMoLoHAClooGlaTyp9OsQlEg4hFINHGNKksQhAtxN+AnQobY6FpjMpiROLaBMFO/B68hcdCeAGLwzlzh+HeOeeGEMLut3MR2OlDBwVrtT9xtL+cGHdq75q6H4Gdv1ERrJW1LY72yepY2vNfF+9FYK2VPsFqfl4X2utbL6Q9n16+GYFNrJcF6+PSB6F9162htOfHSvUIbN/RIFjPex8J7Vdn+tKer40fiMBGf78xWCXdFlrhcnfa857Vrgjswexdg/Wtf0hovUgaovYno68qIC7dOWmwvSvvFFr7d0yLWsc/TVZA/Ppnj8F2+ETT0Bp+fyrtKYSxCoghlAwGr0GJ84G0t+H82Wz+MfeDuMj9sC1yP1q93E+t7bwf2EPeD+s770drgfdTF+5fxb9q5l+1wz/qQv+L8mvnP5LLfySX/2b/z0bz//t/Btl/MNsf1kK2/zX2p/Yf+AfsHP7B6sE/tP5e6k57vg3/gc3jP6wm/qP1DP+pvZ1fI5dfI5dfZ/4DHfkX/Z8a8yB+Yb6WzaN1hvnaJv5P0fvb+9dz+9dz+x/BP2B78Q/WU/xD+xX8o/Yp/Ad2Hf9hLeM/2sv4T+0t8gP2k/xaWX5oHyY/ak/IP8nyTzryp/Z/3ZLmMg==",
        "encoding": "base64",
        "path": [
         "attribute",
         "1.789473684210526",
         "compressed_buffer"
        ]
       },
       {
        "data": "eNqNkztolFEQhS8IoomPgFYp4wPUYKvg3jmjJthYWK1m1Y2lmEIRXDbGwiaJkEYWwSZNIIWNxAQsRMFClLDBB2gQCwtBs41ICNkEO78fbmCJhH+Lwzmzw3Bnzvk3hBB2/3oegc1MnResle49jvby2Qmn9rXB2QhsdeKcYP2tdTjaq+/Hs56fvjIdgS00TgrWvuvB0d73dCTreX3oYQR2ZrhHsG48+SG07zp0Nev5nd83I7Btze2C9erWS6F95+yJrOfT309FYJcGPhusI29rQmtucW/W87GVjgjs64VJg9l/QGiV33wRtR8/8K4A4qNG2WC7t9AttJbnHotal/fXCiA2igcNtk/6aWj1zgxmPYVwvwBiCF0Gg3nQxe99We+/+Y9p/lia7+V9EGu8D9td3kfrD+9T6wH7A/vG/rBW2R+ta+xPnXt/Bf8qyb/KJv+oc/3fKr/+lN9G/s2W/Jst+bf7/Ww1n/d+3v5V7q+m+2G9Tvd3cj+1T+EfsIv4B+sw/qH1DP+ofRT/gS3iP6xl/EerhP/Unpff5vw/pPyPtvn9lJgHcYn5UppfSvOlNr6fvP037i+23F9suf82/gEL+AfrBf6hfQf+Ufs8/gNz/Ic1hP9o78R/anfyA1YnP0/51dP/n9rXyR/YGvmvp/zRPkz+1P4Pgqjnjg==",
        "encoding": "base64",
        "path": [
         "attribute",
         "1.894736842105263",
         "compressed_buffer"
        ]
       },
       {
        "data": "eNqlksFLVFEUxh+zcRUzuJiluzKivZRzzzmUCyMJclFPaTHPJPofIpqF7oKgiRyzQGdaJUGKthFMwUD6C4KmbTELg6h2+l6/C3fiUcQTHPj4vjOHc8875ztR5H87DkgUxQqDqqFBE+zY1/NbDsjc40mFtTo6aGhLrj3yOXs6/toBWf1+SWHdrA8Y2pqrcz7HGy3eb0mWnePtlqYPDhRt6bu7PmfL+/cckE/LpxTW7Y09Rduz9+ZzVh8Zc0AmtrsC6+Wri4rWOxerPmdZVnaA91dAWdOszvsr9OnCZXv5+UMNuKkLswLL2ftDitb160tKrDMTzRpw3zZPCyzTw18Erb8eJj7HNzdqgBkq7KgB9kGF/8d8ThPqk1APy1So/0k9sXboD1xMf1iG6Y/WNfoTaymqOCClqA0qxAloa6nR9bnC+Yv2V7T/Iv/6/s/n/J/P+X/c+/lf/Unvp8P8nTA/rLth/hfMT2y32B+QK+wPVmN/aJ1lf8SWcj9AUu4H1kPuB62H3A+xtfEPuBv4B8sZ/EPrG/wj/sf/m3/5X3Q/deqBO6Aelph6tP6gnlj7/eNc/zjXv+j7+/OP5+ZH6+0w/3P2B+Qj+4N1i/2hbZH9EbOfBd5fkCP2D2vG/o/C/on/+Pcq+PcW/9D2JPjXw/9e8L+X838G/4ntN+OB6Pg=",
        "encoding": "base64",
        "path": [
         "attribute",
         "2.0",
         "compressed_buffer"
        ]
       },
       {
        "data": "eNpjYGjYzwAHAvZlMu5I/Ab7mRpd+2BsEJbgaNoD5NhD+Az2uueL7WByIFVfftvB2Qh9DHA+AAjLEVw=",
        "encoding": "base64",
        "path": [
         "color_map",
         "compressed_buffer"
        ]
       },
       {
        "data": "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",
        "encoding": "base64",
        "path": [
         "indices",
         "compressed_buffer"
        ]
       },
       {
        "data": "eNpjYGiwZ8AAxIsBAF7EAv0=",
        "encoding": "base64",
        "path": [
         "model_matrix",
         "compressed_buffer"
        ]
       },
       {
        "data": "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",
        "encoding": "base64",
        "path": [
         "vertices",
         "compressed_buffer"
        ]
       }
      ],
      "model_module": "k3d",
      "model_module_version": "2.7.3",
      "model_name": "ObjectModel",
      "state": {
       "_color_range_high": 2.01,
       "_color_range_low": -1.1,
       "_view_count": null,
       "_view_module": null,
       "_view_module_version": "",
       "_view_name": null,
       "attribute": {
        "0.0": {
         "dtype": "float32",
         "shape": [
          289
         ]
        },
        "0.10526315789473684": {
         "dtype": "float32",
         "shape": [
          289
         ]
        },
        "0.21052631578947367": {
         "dtype": "float32",
         "shape": [
          289
         ]
        },
        "0.3157894736842105": {
         "dtype": "float32",
         "shape": [
          289
         ]
        },
        "0.42105263157894735": {
         "dtype": "float32",
         "shape": [
          289
         ]
        },
        "0.5263157894736842": {
         "dtype": "float32",
         "shape": [
          289
         ]
        },
        "0.631578947368421": {
         "dtype": "float32",
         "shape": [
          289
         ]
        },
        "0.7368421052631579": {
         "dtype": "float32",
         "shape": [
          289
         ]
        },
        "0.8421052631578947": {
         "dtype": "float32",
         "shape": [
          289
         ]
        },
        "0.9473684210526315": {
         "dtype": "float32",
         "shape": [
          289
         ]
        },
        "1.0526315789473684": {
         "dtype": "float32",
         "shape": [
          289
         ]
        },
        "1.1578947368421053": {
         "dtype": "float32",
         "shape": [
          289
         ]
        },
        "1.263157894736842": {
         "dtype": "float32",
         "shape": [
          289
         ]
        },
        "1.3684210526315788": {
         "dtype": "float32",
         "shape": [
          289
         ]
        },
        "1.4736842105263157": {
         "dtype": "float32",
         "shape": [
          289
         ]
        },
        "1.5789473684210527": {
         "dtype": "float32",
         "shape": [
          289
         ]
        },
        "1.6842105263157894": {
         "dtype": "float32",
         "shape": [
          289
         ]
        },
        "1.789473684210526": {
         "dtype": "float32",
         "shape": [
          289
         ]
        },
        "1.894736842105263": {
         "dtype": "float32",
         "shape": [
          289
         ]
        },
        "2.0": {
         "dtype": "float32",
         "shape": [
          289
         ]
        },
        "timeSeries": true
       },
       "click_callback": false,
       "color": 255,
       "colorLegend": true,
       "color_map": {
        "dtype": "float32",
        "shape": [
         28
        ]
       },
       "color_range": [
        -1.1,
        2.01
       ],
       "compression_level": 0,
       "flat_shading": true,
       "hover_callback": false,
       "id": 139860583244520,
       "indices": {
        "dtype": "uint32",
        "shape": [
         540,
         3
        ]
       },
       "model_matrix": {
        "dtype": "float32",
        "shape": [
         4,
         4
        ]
       },
       "name": "Mesh #1",
       "opacity": 1,
       "type": "Mesh",
       "vertices": {
        "dtype": "float32",
        "shape": [
         289,
         3
        ]
       },
       "visible": true,
       "wireframe": false
      }
     },
     "ead44407478a4d708b8c0f1ce4f4943f": {
      "model_module": "k3d",
      "model_module_version": "2.7.3",
      "model_name": "PlotModel",
      "state": {
       "_backend_version": "2.7.3",
       "_dom_classes": [],
       "_view_count": null,
       "antialias": 3,
       "auto_rendering": true,
       "axes": [
        "x",
        "y",
        "z"
       ],
       "axes_helper": 1,
       "background_color": 16777215,
       "camera": [
        0.661042166541436,
        -1.9820393495850614,
        0.647502956076559,
        0.30122293956287405,
        0.08831375750589235,
        -0.05767205719090346,
        -0.12549763209549467,
        0.2462330856098737,
        0.9610513055448584
       ],
       "camera_animation": [],
       "camera_auto_fit": true,
       "camera_fov": 60,
       "camera_no_pan": false,
       "camera_no_rotate": false,
       "camera_no_zoom": false,
       "clipping_planes": [],
       "colorbar_object_id": -1,
       "fps": 25,
       "fps_meter": false,
       "grid": [
        -1,
        -1,
        -1,
        1,
        1,
        1
       ],
       "grid_auto_fit": true,
       "grid_visible": true,
       "height": 512,
       "layout": "IPY_MODEL_74b5d0f59d2144fe95038d66be187dff",
       "lighting": 1.5,
       "menu_visibility": true,
       "mode": "view",
       "name": null,
       "object_ids": [
        139860583244520
       ],
       "rendering_steps": 1,
       "screenshot": "",
       "screenshot_scale": 2,
       "snapshot": "",
       "time": 0,
       "voxel_paint_color": 0
      }
     }
    },
    "version_major": 2,
    "version_minor": 0
   }
  }
 },
 "nbformat": 4,
 "nbformat_minor": 4
}
