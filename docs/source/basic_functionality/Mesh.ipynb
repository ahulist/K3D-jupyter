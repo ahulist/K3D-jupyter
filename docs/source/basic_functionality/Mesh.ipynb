{
 "cells": [
  {
   "cell_type": "markdown",
   "metadata": {},
   "source": [
    "## Mesh\n",
    "\n",
    "Mesh is a object which displays triangles in 3D.\n",
    "A scalar can be displayed on the mesh using a colormap."
   ]
  },
  {
   "cell_type": "code",
   "execution_count": 1,
   "metadata": {},
   "outputs": [
    {
     "data": {
      "application/vnd.jupyter.widget-view+json": {
       "model_id": "33739412788d4b96acf62eae86908314",
       "version_major": 2,
       "version_minor": 0
      },
      "text/plain": [
       "Plot(antialias=3, axes=['x', 'y', 'z'], axes_helper=1.0, background_color=16777215, camera=[2, -3, 0.2, 0.0, 0…"
      ]
     },
     "metadata": {},
     "output_type": "display_data"
    }
   ],
   "source": [
    "from matplotlib.tri import Triangulation\n",
    "import numpy as np\n",
    "import k3d\n",
    "\n",
    "# this code is a part of matplotlib trisurf3d_demo\n",
    "n_radii = 8\n",
    "n_angles = 36\n",
    "\n",
    "radii = np.linspace(0.125, 1.0, n_radii, dtype=np.float32)\n",
    "angles = np.linspace(0, 2*np.pi, n_angles, endpoint=False, dtype=np.float32)[..., np.newaxis]\n",
    "\n",
    "x = np.append(np.float32(0), (radii*np.cos(angles)).flatten())\n",
    "y = np.append(np.float32(0), (radii*np.sin(angles)).flatten())\n",
    "\n",
    "z = np.sin(-x*y)\n",
    "indices = Triangulation(x,y).triangles.astype(np.uint32)\n",
    "\n",
    "plot = k3d.plot()\n",
    "plot"
   ]
  },
  {
   "cell_type": "code",
   "execution_count": 2,
   "metadata": {},
   "outputs": [],
   "source": [
    "plt_mesh = k3d.mesh(np.vstack([x,y,z]).T, indices,\n",
    "                   color_map = k3d.colormaps.basic_color_maps.Jet, \n",
    "                   attribute=z,\n",
    "                   color_range = [-1.1,2.01])\n",
    "plot += plt_mesh"
   ]
  },
  {
   "cell_type": "markdown",
   "metadata": {},
   "source": [
    "Scalars can be updated interactively using ipywidgets communication:"
   ]
  },
  {
   "cell_type": "code",
   "execution_count": 3,
   "metadata": {},
   "outputs": [],
   "source": [
    "plt_mesh.attribute = 2*x**2+y**2"
   ]
  },
  {
   "cell_type": "markdown",
   "metadata": {},
   "source": [
    "It is possible to send time series of an attribute values:"
   ]
  },
  {
   "cell_type": "code",
   "execution_count": 4,
   "metadata": {},
   "outputs": [],
   "source": [
    "plt_mesh.attribute = {str(t):3*t*x**2+y**2 for t in np.linspace(0,2,20)}"
   ]
  }
 ],
 "metadata": {
  "kernelspec": {
   "display_name": "Python 3",
   "language": "python",
   "name": "python3"
  },
  "language_info": {
   "codemirror_mode": {
    "name": "ipython",
    "version": 3
   },
   "file_extension": ".py",
   "mimetype": "text/x-python",
   "name": "python",
   "nbconvert_exporter": "python",
   "pygments_lexer": "ipython3",
   "version": "3.6.8"
  },
  "nbTranslate": {
   "displayLangs": [
    "en",
    "pl"
   ],
   "hotkey": "alt-t",
   "langInMainMenu": true,
   "sourceLang": "pl",
   "targetLang": "en",
   "useGoogleTranslate": true
  },
  "widgets": {
   "application/vnd.jupyter.widget-state+json": {
    "state": {
     "01b12fe0a7ed46d194dfadba906385e0": {
      "model_module": "k3d",
      "model_module_version": "2.7.2",
      "model_name": "PlotModel",
      "state": {
       "_backend_version": "2.7.2",
       "_dom_classes": [],
       "_view_count": null,
       "antialias": 3,
       "auto_rendering": true,
       "axes": [
        "x",
        "y",
        "z"
       ],
       "axes_helper": 1,
       "background_color": 16777215,
       "camera": [
        1.177447665659132,
        -1.7707193919749553,
        1.363289880729755,
        0,
        0,
        0,
        -0.19375598196117474,
        0.4594994979229049,
        0.8667864967008017
       ],
       "camera_auto_fit": true,
       "camera_fov": 60,
       "camera_no_pan": false,
       "camera_no_rotate": false,
       "camera_no_zoom": false,
       "clipping_planes": [],
       "colorbar_object_id": -1,
       "fps": 25,
       "fps_meter": false,
       "grid": [
        -1,
        -1,
        -1,
        1,
        1,
        1
       ],
       "grid_auto_fit": true,
       "grid_visible": true,
       "height": 512,
       "layout": "IPY_MODEL_e369c2a99dc1403289cffbe12d554d9b",
       "lighting": 1.5,
       "menu_visibility": true,
       "mode": "view",
       "name": null,
       "object_ids": [
        4600902264
       ],
       "rendering_steps": 1,
       "screenshot": "",
       "screenshot_scale": 2,
       "snapshot": "",
       "time": 0,
       "voxel_paint_color": 0
      }
     },
     "0285e1612d9b4602b957d1d320940554": {
      "buffers": [
       {
        "data": "eNqFkk1IFGEch9dDIZmurobBKl2D1h13V2Nl5n0LN29R9CmBlCKUn2kEwuTFbmKuRXjpg8pY9qIHc7YP3ZnxsoSEh3RpDWmVvqyoLurNPfQEe1iC2MMwM7zM7/88v/k7HI4hR56rvlqJd1YpZmkmYT5wKtZybNjyGgnr6vQuuyLktcPhSPzrSMQ86Wywuloj1vmgw35ZHbT39Ou2NCfsDiMd/zGVNtcbdaukKW1davPYH7YHbGc0ar9OpexX7kz8kCtjbs2ELV3fsZbmQ/Zowag9NGjaRtFm3vP/5Zdm88fg24DvFHzd8DXDNwtfEXxH4Avi141fOX6P8HuHnw+/Pvwq8fNaai2XL1mX9HH3L07e9fPsXzGdAd4Dh6sVtatK0coyCe2hUxHJ2LBQjISgH7kv5JWj4Yj6ZSSi0Y/obI2Ic0GHpB9Z2K9LYU7ILiOt/pxKax8bdVHalBatbR65tj0gy6JRuZBKyTl3Rq1xZTT8xaC+I5LzIYm/vDloyudFm3nP8+Xfge87fKfh64XvAnxz8BXDdxQ+Db8+/Crxe4rfe/zq8buOnxs/rxWf5nqWrDszw31mcdJl8GysmLcN3o0G+u2h3wr6fZzt10+//fS7n37z/Z98/xf/eE12P/C3lrP7gb+Nvz3LuSd7fuOf8xjnl8n/Rn6a/L3kXyR/lfwS8hPk34LvM3wn4OuA7yx8L+DbDZ8GXwC/K/iV4HcPv7f4efDrwc/1d3/WjitctVv6Ri1333jxEx/PPvdqlZ93fx39dtAv32v36XeJfvle9NJvOf0yX2W+xnzBfMF8yXzJfMl8Cb8Kvwa/gF/AL+GX8Ev4Jf6qJ7sf+IvlnP2I5ezPds7+hHP2p4f83+R/It9Ffjv56+S7yH9D/jh8v+Brhu8afC3wzcNXAd8x+A7i14JfAX5j+C3gdwC/dvwK8fsDi+0nNQ==",
        "encoding": "base64",
        "path": [
         "attribute",
         "compressed_buffer"
        ]
       },
       {
        "data": "eNpjYGjYzwAHAvZlMu5I/Ab7mRpd+2BsEJbgaNoD5NhD+Az2uueL7WByIFVfftvB2Qh9DHA+AAjLEVw=",
        "encoding": "base64",
        "path": [
         "color_map",
         "compressed_buffer"
        ]
       },
       {
        "data": "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",
        "encoding": "base64",
        "path": [
         "indices",
         "compressed_buffer"
        ]
       },
       {
        "data": "eNpjYGiwZ8AAxIsBAF7EAv0=",
        "encoding": "base64",
        "path": [
         "model_matrix",
         "compressed_buffer"
        ]
       },
       {
        "data": "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",
        "encoding": "base64",
        "path": [
         "vertices",
         "compressed_buffer"
        ]
       }
      ],
      "model_module": "k3d",
      "model_module_version": "2.7.2",
      "model_name": "ObjectModel",
      "state": {
       "_color_range_high": 0.1,
       "_color_range_low": -0.1,
       "_view_count": null,
       "_view_module": null,
       "_view_module_version": "",
       "_view_name": null,
       "attribute": {
        "compressed_buffer": {},
        "dtype": "float32",
        "shape": [
         289
        ]
       },
       "click_callback": false,
       "color": 255,
       "colorLegend": true,
       "color_map": {
        "compressed_buffer": {},
        "dtype": "float32",
        "shape": [
         28
        ]
       },
       "color_range": [
        -0.1,
        0.1
       ],
       "compression_level": 0,
       "flat_shading": true,
       "hover_callback": false,
       "id": 4919714536,
       "indices": {
        "compressed_buffer": {},
        "dtype": "uint32",
        "shape": [
         540,
         3
        ]
       },
       "model_matrix": {
        "compressed_buffer": {},
        "dtype": "float32",
        "shape": [
         4,
         4
        ]
       },
       "name": "Mesh #1",
       "opacity": 1,
       "type": "Mesh",
       "vertices": {
        "compressed_buffer": {},
        "dtype": "float32",
        "shape": [
         289,
         3
        ]
       },
       "visible": true,
       "wireframe": false
      }
     },
     "0386335a8ea64f6497f3b86413a9d3be": {
      "model_module": "k3d",
      "model_module_version": "2.7.2",
      "model_name": "PlotModel",
      "state": {
       "_backend_version": "2.7.2",
       "_dom_classes": [],
       "_view_count": null,
       "antialias": 3,
       "auto_rendering": true,
       "axes": [
        "x",
        "y",
        "z"
       ],
       "axes_helper": 1,
       "background_color": 16777215,
       "camera": [
        2.477592547151882,
        -3.7163888207278233,
        0.24775925471519036,
        0,
        0,
        0,
        0,
        0,
        1
       ],
       "camera_auto_fit": true,
       "camera_fov": 60,
       "camera_no_pan": false,
       "camera_no_rotate": false,
       "camera_no_zoom": false,
       "clipping_planes": [],
       "colorbar_object_id": -1,
       "fps": 25,
       "fps_meter": false,
       "grid": [
        -1,
        -1,
        -1,
        1,
        1,
        1
       ],
       "grid_auto_fit": true,
       "grid_visible": true,
       "height": 512,
       "layout": "IPY_MODEL_4f4f00950e3a41b88c73d01f394d418b",
       "lighting": 1.5,
       "menu_visibility": true,
       "mode": "view",
       "name": null,
       "object_ids": [
        4996556392,
        4996486144
       ],
       "rendering_steps": 1,
       "screenshot": "",
       "screenshot_scale": 2,
       "snapshot": "",
       "time": 0,
       "voxel_paint_color": 0
      }
     },
     "08888b3fcf9842e2ac3ae1534a5ee1b9": {
      "buffers": [
       {
        "data": "eNqFkk1IFGEch9dDIZmurobBKl2D1h131ViZed/CzVsUfUogpQjlZxqBMHmxm5hrEV76oDKWvejBnO1Dd2a8LCHhQV1aQ1qlLyuqi3pzDz3BHpag9jDMDC/z+z/Pb/4Oh2PQ8Z+rrlKJdVQoZnE6bj5wKtZydMjyGnHr6tQuuyzotUOhcOzLcNg86ay3OlvC1vmAw35ZGbD39Om2NMftdiMV+z6ZMtcbdKuoMWVdavXY77f7bWckYr9OJu1X7nTskCttbk2HLF3fsZbmgvZI3og9OGDaRsFmzvN/5Rdn8kfh24DvFHxd8DXBNwNfAXxH4Avg14VfKX6P8HuLnw+/XvzK8fNaajWXL1Gb8HH3L0zc9fPsXzGdNbzXHK5U1M4KRStJx7WHTkUkokNCMeKCfuS+oFeOhMLq5+GwRj+ioyUszgUckn5kfp8uhTkuO42U+mMypX1o0EVxY0q0tHrk2na/LIlE5HwyKWfdabXKldbwFwP6jkjMBSX+8uaAKZ8XbOY8z5V/B75v8J2Grwe+C/DNwlcI31H4NPx68SvH7yl+7/Crw+86fm78vFZsiutZovbMNPfphQmXwbOxYt42eDfq6bebfsvo93GmXz/99tHvfvrN9X9y/V/8Y1WZ/cDfWs7sB/42/vYM557M+Y2/zqOcXyb/K/kp8veSf5H8VfKLyI+Tfwu+T/CdgK8dvrPwvYBvN3wafDX4XcGvCL97+C3i58GvGz/Xn/1ZO65wVW/pG9XcfWOFT3w8+9yrFX7e/bX0206/fK/dp98l+uV70UO/pfTLfJX5GvMF8wXzJfMl8yXzJfwq/Br8An4Bv4Rfwi/hl/irnsx+4C+Ws/YjmrU/21n7E8ran27yf5H/kXwX+W3kr5PvIv8N+WPw/YSvCb5r8DXDNwdfGXzH4DuIXzN+efiN4jeP3wH82vDLx+83S0smtQ==",
        "encoding": "base64",
        "path": [
         "attribute",
         "compressed_buffer"
        ]
       },
       {
        "data": "eNpjYGjYzwAHAvZlMu5I/Ab7mRpd+2BsEJbgaNoD5NhD+Az2uueL7WByIFVfftvB2Qh9DHA+AAjLEVw=",
        "encoding": "base64",
        "path": [
         "color_map",
         "compressed_buffer"
        ]
       },
       {
        "data": "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",
        "encoding": "base64",
        "path": [
         "indices",
         "compressed_buffer"
        ]
       },
       {
        "data": "eNpjYGiwZ8AAxIsBAF7EAv0=",
        "encoding": "base64",
        "path": [
         "model_matrix",
         "compressed_buffer"
        ]
       },
       {
        "data": "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",
        "encoding": "base64",
        "path": [
         "vertices",
         "compressed_buffer"
        ]
       }
      ],
      "model_module": "k3d",
      "model_module_version": "2.7.2",
      "model_name": "ObjectModel",
      "state": {
       "_color_range_high": 0.1,
       "_color_range_low": -0.1,
       "_view_count": null,
       "_view_module": null,
       "_view_module_version": "",
       "_view_name": null,
       "attribute": {
        "compressed_buffer": {},
        "dtype": "float32",
        "shape": [
         288
        ]
       },
       "click_callback": false,
       "color": 255,
       "colorLegend": true,
       "color_map": {
        "compressed_buffer": {},
        "dtype": "float32",
        "shape": [
         28
        ]
       },
       "color_range": [
        -0.1,
        0.1
       ],
       "compression_level": 0,
       "flat_shading": true,
       "hover_callback": false,
       "id": 4988366520,
       "indices": {
        "compressed_buffer": {},
        "dtype": "uint32",
        "shape": [
         538,
         3
        ]
       },
       "model_matrix": {
        "compressed_buffer": {},
        "dtype": "float32",
        "shape": [
         4,
         4
        ]
       },
       "name": "Mesh #1",
       "opacity": 1,
       "type": "Mesh",
       "vertices": {
        "compressed_buffer": {},
        "dtype": "float32",
        "shape": [
         288,
         3
        ]
       },
       "visible": true,
       "wireframe": true
      }
     },
     "096eb337b76d40ab8b1daffa04022dd9": {
      "model_module": "@jupyter-widgets/base",
      "model_module_version": "1.2.0",
      "model_name": "LayoutModel",
      "state": {}
     },
     "0e30893e8eb844519d8018cad301f9bd": {
      "model_module": "k3d",
      "model_module_version": "2.7.2",
      "model_name": "PlotModel",
      "state": {
       "_backend_version": "2.7.2",
       "_dom_classes": [],
       "_view_count": null,
       "antialias": 3,
       "auto_rendering": true,
       "axes": [
        "x",
        "y",
        "z"
       ],
       "axes_helper": 1,
       "background_color": 16777215,
       "camera": [
        2.2972306018717394,
        -1.0942941302954385,
        3.679218295107695,
        0,
        0,
        0,
        -0.6550766249871247,
        0.4468499356127847,
        0.6092616436624942
       ],
       "camera_auto_fit": true,
       "camera_fov": 60,
       "camera_no_pan": false,
       "camera_no_rotate": false,
       "camera_no_zoom": false,
       "clipping_planes": [],
       "colorbar_object_id": -1,
       "fps": 25,
       "fps_meter": false,
       "grid": [
        -1,
        -1,
        -1,
        1,
        1,
        1
       ],
       "grid_auto_fit": true,
       "grid_visible": true,
       "height": 512,
       "layout": "IPY_MODEL_977e729d109040819b9b1466d7dbefe5",
       "lighting": 1.5,
       "menu_visibility": true,
       "mode": "view",
       "name": null,
       "object_ids": [
        5029745328
       ],
       "rendering_steps": 1,
       "screenshot": "",
       "screenshot_scale": 2,
       "snapshot": "",
       "time": 0,
       "voxel_paint_color": 0
      }
     },
     "0e5f552c82144d5b944f4bcdcf6c6100": {
      "model_module": "@jupyter-widgets/base",
      "model_module_version": "1.2.0",
      "model_name": "LayoutModel",
      "state": {}
     },
     "1184f10bc60e4e04aeb250483334dddb": {
      "model_module": "@jupyter-widgets/base",
      "model_module_version": "1.2.0",
      "model_name": "LayoutModel",
      "state": {}
     },
     "14885a68d27c463b99566bd4e097ace0": {
      "model_module": "k3d",
      "model_module_version": "2.7.2",
      "model_name": "PlotModel",
      "state": {
       "_backend_version": "2.7.2",
       "_dom_classes": [],
       "_view_count": null,
       "antialias": 3,
       "auto_rendering": true,
       "axes": [
        "x",
        "y",
        "z"
       ],
       "axes_helper": 1,
       "background_color": 16777215,
       "camera": [
        2.477592547151882,
        -3.7163888207278233,
        0.24775925471518775,
        0,
        0,
        0,
        0,
        0,
        1
       ],
       "camera_auto_fit": true,
       "camera_fov": 60,
       "camera_no_pan": false,
       "camera_no_rotate": false,
       "camera_no_zoom": false,
       "clipping_planes": [],
       "colorbar_object_id": -1,
       "fps": 25,
       "fps_meter": false,
       "grid": [
        -1,
        -1,
        -1,
        1,
        1,
        1
       ],
       "grid_auto_fit": true,
       "grid_visible": true,
       "height": 512,
       "layout": "IPY_MODEL_7f0457f290184c2a8ce0260d0685e452",
       "lighting": 1.5,
       "menu_visibility": true,
       "mode": "view",
       "name": null,
       "object_ids": [
        4894823088
       ],
       "rendering_steps": 1,
       "screenshot": "",
       "screenshot_scale": 2,
       "snapshot": "",
       "time": 0,
       "voxel_paint_color": 0
      }
     },
     "182fb2e5e6a3478e817838da0f9bf489": {
      "model_module": "@jupyter-widgets/base",
      "model_module_version": "1.2.0",
      "model_name": "LayoutModel",
      "state": {}
     },
     "1c9df2b06208490abe503ea21d77dd62": {
      "model_module": "k3d",
      "model_module_version": "2.7.2",
      "model_name": "PlotModel",
      "state": {
       "_backend_version": "2.7.2",
       "_dom_classes": [],
       "_view_count": null,
       "antialias": 3,
       "auto_rendering": true,
       "axes": [
        "x",
        "y",
        "z"
       ],
       "axes_helper": 1,
       "background_color": 16777215,
       "camera": [
        2.8778826572598577,
        -4.316823985889787,
        0.28778826572598526,
        0,
        0,
        0,
        0,
        0,
        1
       ],
       "camera_auto_fit": true,
       "camera_fov": 60,
       "camera_no_pan": false,
       "camera_no_rotate": false,
       "camera_no_zoom": false,
       "clipping_planes": [],
       "colorbar_object_id": -1,
       "fps": 25,
       "fps_meter": false,
       "grid": [
        -1,
        -1,
        -1,
        1,
        1,
        1
       ],
       "grid_auto_fit": true,
       "grid_visible": true,
       "height": 512,
       "layout": "IPY_MODEL_6218a516236741a09c8752ceca355e9a",
       "lighting": 1.5,
       "menu_visibility": true,
       "mode": "view",
       "name": null,
       "object_ids": [],
       "rendering_steps": 1,
       "screenshot": "",
       "screenshot_scale": 2,
       "snapshot": "",
       "time": 0,
       "voxel_paint_color": 0
      }
     },
     "31aca517490340348d40e4a8aa1d5477": {
      "buffers": [
       {
        "data": "eNqFk0tIVFEch8dFYZgOjvbCkdbROC/NtHvvIZzcRVERElgpLhxfNLUQJltYK9GZhGoTFSkNs9GFzZ0eOvceN1NIuKiGxjDG6CX2oIW6cxZ9wl1IULM43Hv4M7/zfb97xmazDdoKrPpqT6rL6THs+bRx3+4x3yaHTLeeNvumtsldAbeMRmOpb8Mx46S90exui5ktDTb5rLpB7giFpTDGZVDPpb5P5oylprBZ1pwzL7S75If1fmmPx+XLbFY+r8qnDjryxmoial4Nb5hvZgNypCgiBwcMqZesFpxv5v/4T/5N+JbhOwVfj8U3DV+JxdeIXy9+Dvwe4vcOPx9+l/Dbi5/bVLwsX6Yu4+Ppn5+45efdv2DYa9nXHq72KN1Oj1qeT6sP7B4tkxzSvHpaox+xO+AWkWhM+TocU+lH62qLaWcbbIJ+RHEoLDRjXHTrOeXnZE791BTW7M057WK7Syyt94vyeFzMZbNipiqv1Djy6loiqg2EN7TMbEBEiiLi+oAhnpSsFpwXyh+FbwW+0/D1wXcOvhn4SuE7Cp+GXwi/Pfg9wu89fvX4XcHPiZ/bTE2xHmfqziR4JuYnHDrv+oIxqrPXj9BvH/1W0u8Y/Wbpt5Z+Q/S7j34LfZ9C3xf/VI11P/A3M9b9wF/iL6eZu5ivbZlHrHmSeSf5K+TnyN9J/nnyF8kvI/8F+SPwfYHvBHxB+Ph+8il82+FT4avDrxO/Mvzu4vcaPxd+PfhVbN6fpeMelnctvOzl6btTOubj3Ve16PSz9x+i3yD98nv1Hv3y/9Jq6LeXfivpl/MVzlc5Xwta94fzBecLzhfwK/Cr8Gvwa/AL+AX8An6Bv+L6x/1I/nV/rm2Z37DuTy/5v8n/TL6D/A7yP5LvIP8V+bfh+wVfC3yX4WuFbxa+CviOwXcAv1b8bPiN4jeH3378OvArxu8PkO0nQg==",
        "encoding": "base64",
        "path": [
         "attribute",
         "compressed_buffer"
        ]
       },
       {
        "data": "eNpjYGjYzwAHAvZlMu5I/Ab7mRpd+2BsEJbgaNoD5NhD+Az2uueL7WByIFVfftvB2Qh9DHA+AAjLEVw=",
        "encoding": "base64",
        "path": [
         "color_map",
         "compressed_buffer"
        ]
       },
       {
        "data": "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",
        "encoding": "base64",
        "path": [
         "indices",
         "compressed_buffer"
        ]
       },
       {
        "data": "eNpjYGiwZ8AAxIsBAF7EAv0=",
        "encoding": "base64",
        "path": [
         "model_matrix",
         "compressed_buffer"
        ]
       },
       {
        "data": "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",
        "encoding": "base64",
        "path": [
         "vertices",
         "compressed_buffer"
        ]
       }
      ],
      "model_module": "k3d",
      "model_module_version": "2.7.2",
      "model_name": "ObjectModel",
      "state": {
       "_color_range_high": 2,
       "_color_range_low": -1,
       "_view_count": null,
       "_view_module": null,
       "_view_module_version": "",
       "_view_name": null,
       "attribute": {
        "compressed_buffer": {},
        "dtype": "float32",
        "shape": [
         289
        ]
       },
       "click_callback": false,
       "color": 255,
       "colorLegend": true,
       "color_map": {
        "compressed_buffer": {},
        "dtype": "float32",
        "shape": [
         28
        ]
       },
       "color_range": [
        -1,
        2
       ],
       "compression_level": 0,
       "flat_shading": false,
       "hover_callback": false,
       "id": 5034036808,
       "indices": {
        "compressed_buffer": {},
        "dtype": "uint32",
        "shape": [
         540,
         3
        ]
       },
       "model_matrix": {
        "compressed_buffer": {},
        "dtype": "float32",
        "shape": [
         4,
         4
        ]
       },
       "name": "Mesh #1",
       "opacity": 1,
       "type": "Mesh",
       "vertices": {
        "compressed_buffer": {},
        "dtype": "float32",
        "shape": [
         289,
         3
        ]
       },
       "visible": true,
       "wireframe": false
      }
     },
     "321e39e3b3b34b62be35c4184be596e8": {
      "model_module": "@jupyter-widgets/base",
      "model_module_version": "1.2.0",
      "model_name": "LayoutModel",
      "state": {}
     },
     "350a6871e4bf44a1856a9b0d588c0506": {
      "model_module": "@jupyter-widgets/base",
      "model_module_version": "1.2.0",
      "model_name": "LayoutModel",
      "state": {}
     },
     "379a56fa760043ceb52c6951d344536e": {
      "model_module": "@jupyter-widgets/base",
      "model_module_version": "1.2.0",
      "model_name": "LayoutModel",
      "state": {}
     },
     "398c3e6305264c65ad38e8a0109cb980": {
      "buffers": [
       {
        "data": "eNqFkk1IFGEch9dDIZmurobBKl2D1h13V2Nl5n0LN29R9CmBlCKUn2kEwuTFbmKuRXjpg8pY9qIHc7YP3ZnxsoSEh3RpDWmVvqyoLurNPfQEe1iC2MMwM7zM7/88v/k7HI4hR56rvlqJd1YpZmkmYT5wKtZybNjyGgnr6vQuuyLktcPhSPzrSMQ86Wywuloj1vmgw35ZHbT39Ou2NCfsDiMd/zGVNtcbdaukKW1davPYH7YHbGc0ar9OpexX7kz8kCtjbs2ELV3fsZbmQ/Zowag9NGjaRtFm3vP/5Zdm88fg24DvFHzd8DXDNwtfEXxH4Avi141fOX6P8HuHnw+/Pvwq8fNaai2XL1mX9HH3L07e9fPsXzGdAd4Dh6sVtatK0coyCe2hUxHJ2LBQjISgH7kv5JWj4Yj6ZSSi0Y/obI2Ic0GHpB9Z2K9LYU7ILiOt/pxKax8bdVHalBatbR65tj0gy6JRuZBKyTl3Rq1xZTT8xaC+I5LzIYm/vDloyudFm3nP8+Xfge87fKfh64XvAnxz8BXDdxQ+Db8+/Crxe4rfe/zq8buOnxs/rxWf5nqWrDszw31mcdJl8GysmLcN3o0G+u2h3wr6fZzt10+//fS7n37z/Z98/xf/eE12P/C3lrP7gb+Nvz3LuSd7fuOf8xjnl8n/Rn6a/L3kXyR/lfwS8hPk34LvM3wn4OuA7yx8L+DbDZ8GXwC/K/iV4HcPv7f4efDrwc/1d3/WjitctVv6Ri1333jxEx/PPvdqlZ93fx39dtAv32v36XeJfvle9NJvOf0yX2W+xnzBfMF8yXzJfMl8Cb8Kvwa/gF/AL+GX8Ev4Jf6qJ7sf+IvlnP2I5ezPds7+hHP2p4f83+R/It9Ffjv56+S7yH9D/jh8v+Brhu8afC3wzcNXAd8x+A7i14JfAX5j+C3gdwC/dvwK8fsDi+0nNQ==",
        "encoding": "base64",
        "path": [
         "attribute",
         "compressed_buffer"
        ]
       },
       {
        "data": "eNpjYGjYzwAHAvZlMu5I/Ab7mRpd+2BsEJbgaNoD5NhD+Az2uueL7WByIFVfftvB2Qh9DHA+AAjLEVw=",
        "encoding": "base64",
        "path": [
         "color_map",
         "compressed_buffer"
        ]
       },
       {
        "data": "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",
        "encoding": "base64",
        "path": [
         "indices",
         "compressed_buffer"
        ]
       },
       {
        "data": "eNpjYGiwZ8AAxIsBAF7EAv0=",
        "encoding": "base64",
        "path": [
         "model_matrix",
         "compressed_buffer"
        ]
       },
       {
        "data": "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",
        "encoding": "base64",
        "path": [
         "vertices",
         "compressed_buffer"
        ]
       }
      ],
      "model_module": "k3d",
      "model_module_version": "2.7.2",
      "model_name": "ObjectModel",
      "state": {
       "_color_range_high": 1,
       "_color_range_low": -1,
       "_view_count": null,
       "_view_module": null,
       "_view_module_version": "",
       "_view_name": null,
       "attribute": {
        "compressed_buffer": {},
        "dtype": "float32",
        "shape": [
         289
        ]
       },
       "click_callback": false,
       "color": 255,
       "colorLegend": true,
       "color_map": {
        "compressed_buffer": {},
        "dtype": "float32",
        "shape": [
         28
        ]
       },
       "color_range": [
        -1,
        1
       ],
       "compression_level": 0,
       "flat_shading": true,
       "hover_callback": false,
       "id": 4461224120,
       "indices": {
        "compressed_buffer": {},
        "dtype": "uint32",
        "shape": [
         540,
         3
        ]
       },
       "model_matrix": {
        "compressed_buffer": {},
        "dtype": "float32",
        "shape": [
         4,
         4
        ]
       },
       "name": "Mesh #1",
       "opacity": 1,
       "type": "Mesh",
       "vertices": {
        "compressed_buffer": {},
        "dtype": "float32",
        "shape": [
         289,
         3
        ]
       },
       "visible": true,
       "wireframe": false
      }
     },
     "3f07903609f8404aa9590b5c3d917e5c": {
      "model_module": "k3d",
      "model_module_version": "2.7.2",
      "model_name": "PlotModel",
      "state": {
       "_backend_version": "2.7.2",
       "_dom_classes": [],
       "_view_count": null,
       "antialias": 3,
       "auto_rendering": true,
       "axes": [
        "x",
        "y",
        "z"
       ],
       "axes_helper": 1,
       "background_color": 16777215,
       "camera": [
        2.8778826572598577,
        -4.316823985889787,
        0.28778826572598526,
        0,
        0,
        0,
        0,
        0,
        1
       ],
       "camera_auto_fit": true,
       "camera_fov": 60,
       "camera_no_pan": false,
       "camera_no_rotate": false,
       "camera_no_zoom": false,
       "clipping_planes": [],
       "colorbar_object_id": -1,
       "fps": 25,
       "fps_meter": false,
       "grid": [
        -1,
        -1,
        -1,
        1,
        1,
        1
       ],
       "grid_auto_fit": true,
       "grid_visible": true,
       "height": 512,
       "layout": "IPY_MODEL_1184f10bc60e4e04aeb250483334dddb",
       "lighting": 1.5,
       "menu_visibility": true,
       "mode": "view",
       "name": null,
       "object_ids": [],
       "rendering_steps": 1,
       "screenshot": "",
       "screenshot_scale": 2,
       "snapshot": "",
       "time": 0,
       "voxel_paint_color": 0
      }
     },
     "4264ae3a0dcb426fa5410840086a67f3": {
      "buffers": [
       {
        "data": "eNq9kk1IVFEYhs9V0UYRhwkyBJkIxptCixZB3fN93x1QaRMEbdoFtVTau3NWLnIX2ELatOoHglwVoYI/0PSDlBIzzKKIoEUQgZsRxLk9h9zfTTjw8L7fHA7n3Pc9zuX/vvW0r0Kytn/fo37nsCp4WS2vCbP0P/iTgK9sLgQvZye84vXT7CtlVudqHsS5YvBQh6I5NwU1e7+450Emj+4pqpenK4a3vvbjsGYjyRkBvR09U9TevZkxvLVP/QxraeSqAhq5JlQtcg+hCafDWro+eFdA5250FLXV5ZeGt4XSxbCWNq/NCejM0wFD7fzBhuHTaNjCWvrv7rXjO9egDkX+nwprufvzznfcHzTLGpxRtSxbggaUwlqa9/0fyQ9kmvxQvUJ+eCuQH7N1kT9IN/mj2k3+eOshf2Yr0R/4cfpDpUx/eP1Cf8y6T/+Q1Okf9V/pHy8f6J9Zfr8oVGDs+Y/lMTTeKt+K8fHN3d2Y+cIv9kOyzX7UN9iPly32M8sg54OPOR+VEc7H6x7nM2snm/cgWTYUPLwlqyHrZJMwn/t+RskP9A75obZDfng7Ir/R//B+WvQPOkv/reP+8WkX/bdO4P3k3T/v+z+TH8h18kPVkx/eBsiP2Xp5PyC9vB9U+3k/eCvwfpjtHP2Bv0R/qIzTH16/0x+zvqZ/SJ7QP+pX6B8vj+ifWf4CJTykGw==",
        "encoding": "base64",
        "path": [
         "attribute",
         "0.0",
         "compressed_buffer"
        ]
       },
       {
        "data": "eNq9kjFIlHEYxr/BvohSDsnBiIZAkebOhvu/zz/vBNGpwVFDr5ocoiBCJ89ziiMVLAenCxSSy9pcxMUhOashBMca9IYGJ5dArN8fPiMO5MTB4eF53u/lz/e+z/NGURR1fSxngGveTxtsq+UjQys9/1LUGvaVDHD9n3sMtsJcLLSKP4uhp+/vqxngWv48Mtgqg7eE1qU7i6Gnh7nfGeD20iWDrbyeFVrzuxuhp5nudgdsdLhisPTkqdB6tfgr9HxT+Z4D1vHmm8HafjEjtPoWroWer6UHHbB36wcG62Z1SWj1jt8OPb8yNeaAFcabBKvteE1of/XB3dDze2sTDtizy82CVfmxKbSvHvrQ81E06YBFUUow2AIpvveGXsP39f+/Xvf/feYH+HJgsG4wP1o55qf+t39nsv8X9u/8b/9Z/AOWxz9YWfxDq4R/1H4E/wEelQzGp6zQeov/1NohP+BS5AfbB/JDKya/nZAf+QM3QP6wTZE/WtPkT61G93Pa+2Ly/rT7ic94Pyf7jyb730/u52T/GP+AdeEfrK/4h1Y//sXnuJ/6/GrkD+w5+deS/NF+m/xrF3A/jeZvtP8c/gF7jH+wcviH1mv8o/Z5/M8n9wPbcnI/C/hPrV3yA66V/GD7RH5oXSE/ag2RP3B95A/bJPmjVSB/av0FwmTbHQ==",
        "encoding": "base64",
        "path": [
         "attribute",
         "0.10526315789473684",
         "compressed_buffer"
        ]
       },
       {
        "data": "eNq1kj1oVHEQxB8ixCiRIBYKKkkQDWLjxyV+/HcWUcTK3kZjI5HDzkJBIYUmSIye5GJlYWJUbLQKIhwIAVFfGrGxtrAziR5CCht/D/bJEdArxGKY2Vvu/XdnNsuyrP9FbwLW9WXOYD2fvia0KvUVUfvA2M4EbPuWVwbr0a0RobV++aeovfZybwJ24/S8wRpeHhVa42lt0fOzxw8nYO+rHwzWdKMmtOqfuoqeH3p6KgHraXw2WLPzD4RWx8OtRc+XOs4kYF/7fxis/XeeCa1Ne3YVPV+oDidgM401gjVQnxPax5r7ip7fX7mcgJ1c6BSsS+dfC+21iaNFz7/vvp6AXbmwUbAqb98I7fWPx4qeZ9lIApZl3YLBO9DN7yeKXtv/t3t/9fyVmH805i/3X4z9D7D/Ysv+R/APWC/+wXqCf2itwz9qP4f/wHL8h/l2TXn4T+33yA/YTfKDdZH80LpNftQ+SP7AdpD/YOSP1gbyp/Z/vZ8/vT8e75f3k8f9tM5f3E+5f0/s/zjup9z/G/4BW8I/WAfxD63N+EftOf7n4X++6n7yv9zP3civSf7ArpJ/M/JH+xT5N//j/ZTvt5u/3f6lf30t99PX4t8Q/g+F/7Bmw/8p/Kf2SfKbjPxgVSO/CfKj/p3/tsh/hvzR6oz8fwHbPsuh",
        "encoding": "base64",
        "path": [
         "attribute",
         "0.21052631578947367",
         "compressed_buffer"
        ]
       },
       {
        "data": "eNq9kr9L21EUxb+jvzAOihDoH+CfkOS9c6k6KRTb0WL6ByiliEJbrEqL2Zxb3FyEWlCHjsY0rbFt3DqpUCk0WTukrjb9PHyFkArBxeFwzs0l3/vuOTdJkqRYmHfAV2e7BGv8WVFoG9nNGLUd/Jp3wE9udQnWWrUotH39kwk9y6QXHPDle92CtfT+QGgbrGVDz/rriw74k6kewWqkPwht+TEXevZz+KkD/sl6r2C9/VYW2iYaPvTs5PFzB/z0eZ9gvdn6JLR937fQs73NJQf873S/YD3IV4S249m7oWev5pYd8L13UoJ1dHgktA0dj4aeXb5eccCvVFKCVdr5LLTN7I2FniXJqgM+SQYEgy9ggN/HQ6/j/18yH/ge5sOqMB9tg8yn/u/9U/H91fj+U/Y/jfvD2oj7n7M/tdXwrxb9g7Xd4h+1pfA/Ff2H+faV/4/wn9qy5Af8R/KD9YL80DZEftRWIv9SzB9WoSV/arvp/RTa7uff/HKc33o/2Wvu56LtfursX4/7w3oX959kf2o7wz/gH+LfWfQPbT/wj9p28R/4Bv7Duo//jeg/dcf8muQP/Cr5N2P+aMuTf/MW7qfT+zvtf9P7uWi7nxz55WJ+sJZjfuF+ctfcz1rb/fwFsIffmA==",
        "encoding": "base64",
        "path": [
         "attribute",
         "0.3157894736842105",
         "compressed_buffer"
        ]
       },
       {
        "data": "eNqtkz9olEEUxFcwImgkgo2FCkbMFTaC6XbniXfKxUZbGwubiCfiNZHrDIEo/kkCihAxkHQhQs4uVtHC4pIDk8YyhYFY2Ghlo6C/xT05NobPwmKYed9j2bcz73POuVJzzoPQuzUoWItzP4S2wad3jNqOv5z1INx7e0awhvd9F9r27xmJPbu9PONBODtyWrAmGt+EthcP67FnV8vTHoSV2inBOtf4IrQNNG/Enl1498SDsOZPCtbi5ieh7UHlWuzZx8+PPQhh/phg/VzeENrmL12JPVut3fcgVBqHBetm6YPQdmDrcuzZ669jHoT1W4cE62jpvdD2fO/F2LOe3aMehPETBwVr6NmK0DYwcT72zLm7HgTn+gSDFujjeyX2tp2vZueXuB+ENe5fSvejbZr7qa3N/O00fzubn9o2eT8I4v2wdr3ZENoWeD/1H//Wk39N/EPbo+Rfx//V5H8Z/9Fk+9v/PL/JlN9Myq+f/PtT/rCud+VPbUX7U3T+X/enM38lm7/K+6tpf2C9SvsT30+9zT+X+dfZn3Lanxr+o6037U+e35Esv6L8//f+5PcXzV/0/p3+v3x/Wl3+t7r+3zr5gWDkB2uK/CztT/0v+zOc5f8LjH3SdA==",
        "encoding": "base64",
        "path": [
         "attribute",
         "0.42105263157894735",
         "compressed_buffer"
        ]
       },
       {
        "data": "eNqVk89L1FEUxb+b2jSUtAmjEqXaldGiNu/d4yJsIUQaFBqIEKTgIpAwjQRRmILGTY6LmsZFq8I/oM34zRaiODshhBYtQptZtOjHItr1efCEL9Pii4vDOXcuw7v3nvNNkiT5fXLLAd8/fM9gO7p3Wmi9qb0Stb592XDAr38eMdjOnT8ltN4dfhl6Wn/w0QH/oTposA10nBBai+3l0NOV8nsHfK14w2DbGj8mtKYWSqGn109WHPCXvvcYbIN/Dwmt0b750NPt5WUHfOfEZYPt/s4fQ+vh14nQ02rxhQO+vHPWYHv6a9fQ7DASerq48swBv7TWbrA9ev7J0Oro7Q89HXFzDviF+eMG2/ZM3dD6MX499JQksw74JGkzGGyCNn6/Fnq5/7/A+8CXeR+2Sd5H6wzvUytlfuCXmD+N86M1wPzUusP+wHexP2xj7I/WJPtT/3e/oZb77d9/NXN/tKbj/fP8a+B/I/rfaPGfWnn5yft/3vtXmR/4lPlhqzM/Wo+Zn1pV9q/G/WG7G/cfY/9qJj9dMT+jmfuF/NS4fy3mB7ZizM9N7k+d618B/wvR/0LG/5/4XzhAfkqZ/JQOkJ+8+fP2r3A/4Lu5XyV+f90xP5VMfva/33r8flvzk0b/buFfmvGvif/N6H8z4/9b/KfWP7Hv8Pg=",
        "encoding": "base64",
        "path": [
         "attribute",
         "0.5263157894736842",
         "compressed_buffer"
        ]
       },
       {
        "data": "eNqVkj9oU2EUxZ+DRRxsfS7qUpzETVCX8n33LHWoWyerKXXqJKJDF50SCqEO1iGti9LWppMpSTax1Kkg4j9cRNBOxRQnY54FV38ffJZHqDwcDufcXF6+e8+5SZIkL6uZA/7NzTmDbfSuF1rnWi9ErWdp1wFfvlc12B69GhFaV44+Dz2dOtNxwC/vlA22L4cuCK2rt1qhp2OdTw741tM7Blt2+qzQmtqqh55+XtxywD98XDLYJisnhdbczGLo6e14ywF/2F022HZ/HxFayyPV0OO/njjgO5fOG2yrm3uG1sLn26GntekHDvjr6bDB9vHHtqG1NjsRejo+M+uAX9g5YbBNTr83tDbGxkJPSVJ2wCfJkMHgNRji99HQK/y+zvvAX+N92D7wPlp13qdWm/mB32X+dpwfrUXmp9Y79gd+gP1h+87+aK2wP7V6+NeL/vX6/KPe97+d87+d878/v699+TXIvxHzb/TlT62i+yn6vuj9QeYfjPPDthfnv8H81MrYP4v7wzYV97/P/lnufgZy9/PXv3A/TfwH/hv+w7aC/2jV8J96P7+JXH5orcb8UvJPY/6wlXL5p/9xP7Xc/dQOuJ9/vV80f9H+XfwDfh7/YCvh33y8n27ufprxfn7hf/OA+1mK+W2T31Iuv3XyB75C/usx/0rMn1p/APmK8DI=",
        "encoding": "base64",
        "path": [
         "attribute",
         "0.631578947368421",
         "compressed_buffer"
        ]
       },
       {
        "data": "eNq1kz9oU2EUxR+SKCKBLmqSWhEqJuCq7eD77kl9aYZWbHXSIU+Hioi70EnBQumqneqfqIP/ELqXDnaTLp2qxTkWxeokgpu/B1/KR4wEB4fDOTeX8N17zn1RFEXJbMEBu1ltGazZQlNoLT/dEnVtdPiAA/Z4/qHB2nf9stD6WtgUdW3kRs4Ba/5cNFgz7fNCa3BtXdS19ukfMXDT6YLBVlo3oXX214qoVf/2MQbu+8Qtg625/6TQevnoRdZTLf82Bu5z/pLBVsodElr53P2sp2erz2PgRhbPGGxpskdofZi+nfVUPnYvBu7ozHGDrXqxbWhV165kPR1+MxcD92DsoMG2fW7D0Lpbmcx6iqI7MXBRNGAweAcG+L2e9f74/6eu/5d4v+Tfh63i36/wPvXu/KPB/Ght+fnH2B+4L+wP2yD7o7WX/ak1jn/j3j/YUu/fK/yjVj//O/mlQX5pkF+//P/3/WwzP3AXmB+2I8yPVp35qdVg/4bfH7arfv/X7N/ocT/lrvt5gv/AncJ/2Jr4j9Z7/KfezW/I53eC/IaC/IrkX/T5F4P858i/+A/3sxTcz1KP+/nb+/3m77d/gn/A7eBf4r+/Hf/9JcH9TPn7KeP/VI/76eR3rSu/Tv6tIP9WkP9vwwGlFA==",
        "encoding": "base64",
        "path": [
         "attribute",
         "0.7368421052631579",
         "compressed_buffer"
        ]
       },
       {
        "data": "eNqtkk9IlFEUxb9NhJIxQQiBMxDBOK7a1O6790wprhzatbMyqMUotTXo78JyE6kME4hQE7QQxSIaKWi2opn0ZxO0Mfq3KVvYol30++AtPiZtIFoczjnv8Xj3nnujKIoKD/Yb8I7PdYe1ULsotA5Xfgpf3NfIGfBnlUcOa3TnqNC6ueeH8MX1I50GPNs+67C+LZWF1vreL8IXT/S2GfCV4WmHdfTCcaHVffCN8MXp+5sxsO5L4w77qUkTWitLT4VX/cmrGNjqy7LDXsocEFrltTvJnSpvH8bArm/2O+wjhXah1XHmRnKniXfVGNjHeo/Dfq3+1dFa+HU2uVPu01gM7N7dTof9/KHXjlZpRym5UxRdjYFFUcZhsAwynPcld8ryPhveZ1PvB3iP1y3+B/aB/2G/wv9ozfM/XlXqBzZO/dVQP1q7qR+vRfoHtkb/sB+jf7RG6B+v5vyGmvLbLv9CyP898wOeY36wNphfLswP33L+/3t/NrbZn+eh/j7qR6sn1D9D/zOhf9hPh/5X6R+vx+QH7AX5wT5AfmgNkx9eU+QPbIz8YS+TP1q7yB//x/wuh/nNhfk178+5f9yfWmp/an/Zn+b/W9Xfqv/b5AcsT36wnyS/fNgfvAbJH/gy+cPqJX+08uQ/mNqfrrA/35lf1xb700jNv5Ga/2+vgO65",
        "encoding": "base64",
        "path": [
         "attribute",
         "0.8421052631578947",
         "compressed_buffer"
        ]
       },
       {
        "data": "eNqdkk9IlFEUxd/GCsyQFmVmi5gWHwUlQrvv3fOlrkMsWgYVbrJcZxBIkeUEtTIVV66cKJpZtOrP3v4sirIpHRcRLYogsH8ztKjfB0/5GIvBFodz7ns83r3nXOeca/lw0AMrzjwzWMvt14XW8Z7mhDr5dazLA1uYmTNY349cE1oT+U3pXTLWHnlglV2PDNaDo5eEVv89l94lTwbbPLDu4dsG63Q0JLQ2D3wUdfJzf5MHVn41brBO7ugTWp++PBV1svfMuxj44tQFg22ko1NoPb95R9QaXb4fA1/u6zfYhlu2Cq3i7hvpnTaMT8fAFzYeMNgW2r4aWl3xUHqnPR1XYuBv/d5usNV2vjS0tr0/nN7JuZEYeOdaDQZzoJXz3vRu9X0h876Qed/E/8DP8j9sb/gfrU7+p9ZV+gf+Lf3Ddp7+0SrRP7X2MT/wJeaH7SLzo/WC+alVxb9q8A/WqYx/1A39z5MfsCXyy4f8lkJ+1P/MfzLk/7/7M7nO/ekN/Z+lf7S2hP5rzF8L88MaCPN/Zn7qJMK/KPgXhf0phf2h1mX8B/41/sN2Dv/Ruov/1GvyK9flV78/1XXuT473ubA/ufB+ZX9yf9mf+v8b9d9o/h/4B2we/2CdwL/5sD/UyWP8B3YI/2EN4j9azfhPvZrfYsjvIfktZvJbyb8S8v9G/pVM/n8A/DbNtA==",
        "encoding": "base64",
        "path": [
         "attribute",
         "0.9473684210526315",
         "compressed_buffer"
        ]
       },
       {
        "data": "eNqdlDFoU3EQxl9xVGudJF2kUkhbVKwkVSH/+96gDoJYpYuDQUSFFh2FxHSQCPENLoI4WBuNOhsHLUqDuAhSJwdHoyBOLtJu7eLvwQUeagk6fHx37zj+d/d9SRRF0drwiQDsdPmbwRr8vihiPe4Mx+Tx55/HArD1Z12Dtf/pfRFr9vautBYX1o4EYA8mPxqsgeN3RKxCeTCtxVN38wFYp9ExWCs/6iJW5WSU1uI9W3cGYLf2PjFYl1oXRKxtua7I44e7V0sgrEwmBtuLsSBiTZ1/LXJVt78rgTDWPmewNVZzItZ0915a0/ypRyUQrp4tGGwH59eNWK+q19KaJmaSEgjPyzmD7eaWT0asr2+n05qi6EYJhCgaMhi8B0N8P5rW/uive/8X7++9f8XfP8D7xFry92vMD8IE88OWMD+xzjA/uVrs3/L9YVvy/Q+zP7l690v8fpe5X5K532b3r/r9i+gHbBH9iq4fsYroR76p/nOu///6Z66Pf4run0PMD+wN88P6wPzEus785PEo+4+6f2DNun92sD953OR+Tb9f8zf/kKvC/UHIc/+K+yfv/iFXDf1qrl8to99L9Kv9xT/1f/TPOP0gtOkf9/62+4e87/v95u+3/wj3A9bgfrAucr+G+2ck45/ljH+WM/7p6beQ0W8h8/vvoj+wDfSHtQ/9N/z/gzz+Bb/cvbA=",
        "encoding": "base64",
        "path": [
         "attribute",
         "1.0526315789473684",
         "compressed_buffer"
        ]
       },
       {
        "data": "eNqtkzFok1EUhZ+bUoVOVkIXFzGiECU1bfjfPQ+xi5UgblapWzW2ugkKHRxcbKWgVAeVSBWHIqJTO5hSQSmCiJs62alWdKhpMzn5/fAI/6D8IA6Hc24uP+/ec26cc+7ziREPbLPwy2AVnz8TWqt9+wJ1WJo85YHtarYN1rn2nNAamN6T9sKXd0Me2OnBVYM1WHkotHZu7U174VHzsAfWN/PeYI28nhZaY9+60l44vtbrgVWuvzBY54uXhdaBIz9FHSbrWzyw5t1bBmutfExoPSguizqM7/2QAH91R91gm/m0W2ht3GuIWpvbniTAH3o6YLAtrzuhlSxMpD2Vbt5IgF9YLBhs2398NLTmGifTnpy7lgDvXLfB4C3o5vejaa/z/Xzm+/nM9xu8D/xB3oftDe+jVeV9al1ifuAnmB+2O8yPVpv5qTXF/lNxf1jf4/4N9qfu+Ncf/avjX3/Gvzz/V8gP2BnyW4n5odVDftR/zb8a8//X+6nm3E9PvJ/HzA+swvywzjI/WheZnzrU2L8W7wfWWLyfEvvXMvfzMt7PV/xD6368nwv4D/wV/IftNv6j1cJ/arXID/gS+bVifqWYX+sP99P1n+8n7/28+fP2H8I/YGX8gzWKf2jtxz/qMIv/wMr4Pxv9L8f7oe7kN5zJbzjz/39F/sAK5A9rlPwLMX/q8BvJcduN",
        "encoding": "base64",
        "path": [
         "attribute",
         "1.1578947368421053",
         "compressed_buffer"
        ]
       },
       {
        "data": "eNqdk81LlGEUxV8poQ80d6FNuxbOH2AQzHPPE03+BYEIqRMEU0gQk1EDLQoh1JWEuZigmkG0Fm8a9EHQtNGFSCtXRtCqdK99TbXo98LD8BLJRIvDOXcuL8+959yJoiiq3y45YGuj+wQrX64L7bOLJzy1rx675IBVzrcL1oP8K6H9gem+pOcn5oYcsCODDYM11RsLre9Ps0nPd3467YAtVj8YrO1KRWgNjx9Oev7acq8Dtvm+brCeb4wLrYW+tqTn88v7HbAnPysGq+fkgNBq21kXtR8+9S4H3NromMFWe51l/jHNDMyLWhdXHueA+/bLDLZSda/QOvfjVtLT8ZWpHHBvMhmDbXZ9w9C6cuNM0lMU3cwBF0VdBoNV0MXv+aTX/L6e+h6tUvj+Au8D95X3YbvM+2gVeJ9aBeYH7i3zF8L8aM0yP7X62b8/7A/raNh/D/tT++v4B2wL/2C9wL+t4B91S/8nyQ9YhvwmQ35oNciPupn/vVT+aH8w5P+v97Pb97vdTyPczyHmB7bE/LA+Mz9aI8xP7cvsXw73A+tluJ9H7F9O3U+cup84dT9n8R+4VfyH7SH+o3UH/6lVJD/gvpBfMeSH1gj5Ff9yPzPhfkr/eT93/7ifVu+3mr/V/lfxD9hH/IP1DP/Qmsc/at+B/8Bi/Ie1g/9xuB/qZn7dqfy6U///GvnXQv6w7qfyp/a/AaZg6AQ=",
        "encoding": "base64",
        "path": [
         "attribute",
         "1.263157894736842",
         "compressed_buffer"
        ]
       },
       {
        "data": "eNqdk89LVFEcxd8qJAgGc9GPmSkSRGxVI2n47vfcbDYFDZrUokBbRBEpgStJKiH6AdEiGIpWkxrt0jYJjS4NxIiWhZO56A/oH4ipz4ubPAJ54eJwzvd9udzvPef7oiiKBofvOmD7V3cL1sjJj0L70c5TntqfGJlywLqu5wTrS3VFaN94Uk56/uitGw7Y2MIOwfq0d1Fov3axJ+n5m7vOOWCd8z8M1v3xV0JroNie9Px0rdsBe1r6YLAW8o+FVs/pnUnP/8q3OmC1Sy8NVuXMZaF1dWlD1H5g+HsM3L7VOwbb/PQRoXWsbU7U2rg9FwO3VCkbbMWhFqHV/vxe0lP881EM3PvJgsF2sL5maMUXzic9RdFUDFwU5QwGKyDH93LS2zy/HM4f4Pxy6vw37gdukfthK3A/Woe4n1pDzA9ckflhe8P8aPW2/ekpKrQ6YC94P6xB3o/WNd5P7WfwD9gz/JsJ/qHVi3/Umf6XyK8U8iul8muQH/Vm/odT+aP915D//+7PVue32p9G2J9J5gfWxfywHjI/WmeZn9rP8v7ZsD+w3oX9Oc77qX2T/WmG/Wmm9ucK/lH7Cv4Dtwf/YXuN/2h14z+11skPuDr5wZYnv3rIbz21P3/zL/6T/3b3py+cz7o/a/6s99fwD1gV/2C9xb9q+P+o/QT+A+vAf1gP8L8j7A915v/fT/79IX9Yn1P5U/vfnbe2mQ==",
        "encoding": "base64",
        "path": [
         "attribute",
         "1.3684210526315788",
         "compressed_buffer"
        ]
       },
       {
        "data": "eNqNk71rFFEUxacwNioupDKKthZiYRJiYN89l0lWUIT4ESE2wcLOKo2wCGELI6gERMXadBoVQQnuLlFsxP2K2PiJVomp1L/B38ALDEqcFIdzzjwe795z7yRJkoxV5wOwSwcPCFZ113eh/enClOP9yKEbAVh9Zq9glX58Etof3TmbnfnvxVoAdvJ1SbD6d7SF9uW+Snbma8MXA7BT04lg7TnxTGhPG4ezM+9e8QCscvOzwXpx4Z7Qejvdn5154/JAAHbrzRODVTs/I7R6cz+F97T6qwzC8N05g2352qjQ+vh+SXidG31eBqF2/7jB1tm2U2itj1zPzjQ2NF8Gofd1v8G2uPDN0Np+dCo7U5LUyiAkSclg0AIlvo9nZ0q5D0KX+7A95D5afdzHa5L3J+P7sLXj+2u8j1eF+kEYoX7YXlE/Wl+oH68m/QO7Tf+wrtI/Wu/oH+898gN2jPx6MT+0WuSHL8x/s/m9jPPbmH8jN3+0P47z3+r+bHa/6P116gd2mvph7aN+tI9TP95X6H8l7g+sZtyfNv3jvU5+9bg/9dz+dMkP707+IAyRP2xN8kfrA/njdYb5gTDL/GBrMb/ZOD/8P/N/8Nf8t7o/ndz9Tu5+0ftF9Rf13yY/YCn5wVoivzT+f3hfJX9gE+QPa4D8J+L+rP5nfzb+/0HmPxjnD2t3bv54/wN70ckG",
        "encoding": "base64",
        "path": [
         "attribute",
         "1.4736842105263157",
         "compressed_buffer"
        ]
       },
       {
        "data": "eNqtkjtoFGEUhacUgprGJlj4CBbBJivri/3vuW6C7IL4CEJCwCCCIGg3MQbEICJC8NEYSacWolbGQlxFYj0sQcUidhZCsLFKJMuChd/Ar0yhjIXF4Zw7l+G/95ybJEmyd24+AFu8MSBYc5++Ce1rfeec2nd27wZgjeldgtWsfhXar9w7k/d8aH42ANvd7hOssR/LQvvDhZG85ycm0gBs48oGwXq2/a3QXj15MO/5+uiRAGz9y4rBev3ogdAaS7fmPZ/8sCMAuzbQMlgvzs4IrcqxrqiZsVMDYWLopsHWPn9IaE3fXmSfjpbWWjUQDq8eNdimXm4WWk+Xb+U9NS/cqYHw8cA2g23P7GdD6/2W8bynJLlaAyFJeg0GGejl+3DeU4P/G/F/2Crx/3f8T60274MwzPuwXeR9tJ7wPrX2Mz8Ip5kftiXmR+sy81Nriv2BXWd/WK/YH60q+1P/9q9T8K9T8K/M/7L8fuXfLOSP9pmY/7/ez9/+L3t/hPmBbWJ+WM+ZH+37mJ/au+zfjfcD6028n3H2p/YU/9J4P2nhfgbxj9or+A/CKfyHLcN/tC7hP7Uy8stifrBNxvwek1/2h/sZLOT/P+6n7P2y+cv2/45/wFbxD1YL/9AaxT9qP47/wHrwH9YC/vfE+6H2OvnVY371Qn73yY/a+8m/P+YPq1HIn9p/AnNV5/c=",
        "encoding": "base64",
        "path": [
         "attribute",
         "1.5789473684210527",
         "compressed_buffer"
        ]
       },
       {
        "data": "eNqNkz1oVFEQhR/YqIkQ0YCIQsL6F8WgYBrZO2c0a6GS1cJCEcUyahOJP53sIqt2CSGYFbSIaLCKpaIr2PiT1CFZOwvFIIjgSkCw8HtwI4sxPIvDOfMuw505574kSZIdT8YDsDWfegRrcvyX0N4zes2pff2b+wHY7PW9glWuLAjtfWOX0jMfuzESgLXObBGse18/Cu2lU+fSMz/bWw7Api6uFayDP6eE9u3fDqVn3rHvZAD2aH/DYD2ffyy05m9tTc+8e+euAOzy0CuD9eNZRWgdbV2RnvnoXBKA3fw+bLBmjx8WWhuPvBa1H5is5UFYXThhsOX61wmtC1eGRa1jD4fyILyvdhpsLwc+GFp3G6fTMyVJKQ9CkrQZDN6BNr4X0rMl/bXYX439zv0grOJ+2Dq5H63z3E+tO8wP7Dbzw6ozP1qbmJ/a97A/sKvsD2uB/dHqY3/qP/5NNPk30eRflv/L5VeO+S3mP9eUP9qLMf//fT/L9Wfdvzj/dJy/wPxo74rz59g/F98PrFp8P1/Yn9p34x+wQfyD1cC/wfh+qH0E/4FV8B/WDP6jtQH/qd3ID4SV5AdbB/mh1U9+9o/38+Kv/LPeT5F+EOr0F2N/PfZTK+v+rPmz9t+Mf8Ae4B+sp/iH1mf8o/Yz+A/sLf7D6sV/tG/Df2qvkh+wFvKrxvxa4v9P7e3k3x7zh1Vqyp/afwMYQscp",
        "encoding": "base64",
        "path": [
         "attribute",
         "1.6842105263157894",
         "compressed_buffer"
        ]
       },
       {
        "data": "eNqNkk1IVVEUhQ+FFwKtNwjiaaNmoTkJZ+/stSOLwocgFNSgIPFv1M+saCJoJtFAUJvkpFGDiCgk+hWaVfDMBiVBZjwywl4TCZpF36VbyCO5DRZrrXs4nL3XuiGE0PLyVgR2cv8+wVrpSBztT8dGHO8NkzcjsIFLJcFaWt3kaJ8oD6dn/u3M9QisttQuWNUPa0J73+bT6ZlPLY5HYGNrRcF6u/BGaG++0pOeeVehLwJrPRwE63HbPaH9wkx7euarI3sjsIHvLwzWVl0VWj/PbknPvGmlIQK7c+OawfrU0SO0niQV4f3B0LMSiAvTxw22V8UdQmvP9inhdfT9RAnEjz92GWwHj1UNrd7XJ9IzhTBcAjGEgsHgOSjwvTM92/D+qez+fd4HcZ73YZvnfbTaeB+vbcwP7C7zw/rM/GjNMT/+7/5D2f4F9kcrnPu9f5n8yll+5br88Ln55/X3p//Bdf0Pruv/f/+fje7nvT/N/MAuMz+sd8yP9p3Mj/du9u/O9oc1l+1/kf3x/oX8gPWTH6wm8uvP/h+8N5I/sNvkD6tK/mg9In+8z9IfiBX6g61Cf2i10t/sP/6fzrr+8/6fI9wHcZn7sB3g/nJ2H6+89/Pmz9v/EPkB201+sB6SH9rPkx/eJ8kf2Cj5w1okf7QXyR/vNfoD9pX+all/aO+lP7wn9J9k/Sd1/eP9F4Nf5yI=",
        "encoding": "base64",
        "path": [
         "attribute",
         "1.789473684210526",
         "compressed_buffer"
        ]
       },
       {
        "data": "eNqNkz1ok2EUhV8QRFutBZ06+ouxuCqY956rRlwcnNRGTR3FIopgSNTBxR/oIkFwcSl0cJGagoMoOIhSUvwBLeLgIGizqJTStLj5fPAWirV8HQ7n3Fwu773nfAkhhI0/nkZgYyPHBGu2r8fRXjk87NQ+P9iMwOaGjwrWn0aXo7329k7W84NnRiOwyfZ+wdp8PjjaS4+vZz1vDd2LwA7VtwrWhUffhPYNO85mPb/681IEtqazVrBeXH4utK9v7st6Pvr1QAR2auCjwdr1uiG0mlObsp7fnu2KwD4ff2gw+w8IrcqrT6L2vdveFEG8364YbDcm+4TWzPgDUev0lkYRxPaJ7QbbB303tPrHBrOeQrhZBDGEXoPBBOjl91LWWzb/Ps3vSfP9vA9ig/dhu8b7aP3mfWrdZX9gX9gf1hz7o3WO/amX3b873T+e7q/iXzX5V/3HP+pc/1fK70jKbzH/zpL8O0vyX+33s9J83vuL+5fS/hfZH+09af8a99fS/bBepvu7uZ/aR/AP2En8g7UT/9B6gn/Ufgv/gU3hP6wZ/EerjP/UXiC/QsoPtnrK7xf5Ff7z/bxL+RdW+f2UmQdxmvlymp9O89TKez9v/7z7r+AfsIB/sJ7hH9rX4R+1T+A/MMd/WEP4j/Zu/Kd2Jz9gLfLzlF8r/f+pfYH8gc2T/0LKH+118qf2v3Ms54I=",
        "encoding": "base64",
        "path": [
         "attribute",
         "1.894736842105263",
         "compressed_buffer"
        ]
       },
       {
        "data": "eNqNkk9LVGEUxq+zaRUztJhlO0uyfVTznnMyF/mHoBY2RsRckfA7RDQL3QmBEzlawji2SoKIbCPYBAXSJwgat8osRghqp/f2e+FNBkWuAw/Pc+Zw3nPPeU4U+V/LAYmissKgaGhQAy3bu7rpgMwu3FdYizcvGNriuy98zl7dee+ArP8eUlg3KucMbbX1WZ/jjTrv1yVNr/B2XZPnXUVb8mXG56yx/dQB+dU4r7BuffqmaFv+bj5nj68NOyCjW22B9dbYkqJ1+kbR5yxN8w7w/irIa5JWeH+VPm04b293fpSAm7w+LbAMPLuoaP1477US69R4rQTc/ka/wPLw8q6g9e987HN8c7UEmKHAjqpgGxT4f9jnNKY+DvWwTIb6P9QTa5P+wJXpD8sl+qP1A/2JNRcVHJBc1AQF4hg0NVdt+5xVmB/IOPPDepv50fqE+Ykz95e1/yz//vs/1+P/XI//Z72f0+qz+vfx/UD6okGF2UsXHrRca8bnbI3518L8sH4N868wP7E9Yn9ARtgfrMb+RsL9EFvC/QBJuB9YD7gftB5wP8TWwD/gJvAPln78mwj+EZ/w/8Ex/896P91QX6a+21Of1T/r+7Pmf8P+gPxkf7Busj+0LbE/YvazyPuLcsj9wJpyP4fhfoiP/HsX/PuMf2h7Gfzr4H8n+N/p8X8K/4ntH8zU4uo=",
        "encoding": "base64",
        "path": [
         "attribute",
         "2.0",
         "compressed_buffer"
        ]
       },
       {
        "data": "eNpjYGjYzwAHAvZlMu5I/Ab7mRpd+2BsEJbgaNoD5NhD+Az2uueL7WByIFVfftvB2Qh9DHA+AAjLEVw=",
        "encoding": "base64",
        "path": [
         "color_map",
         "compressed_buffer"
        ]
       },
       {
        "data": "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",
        "encoding": "base64",
        "path": [
         "indices",
         "compressed_buffer"
        ]
       },
       {
        "data": "eNpjYGiwZ8AAxIsBAF7EAv0=",
        "encoding": "base64",
        "path": [
         "model_matrix",
         "compressed_buffer"
        ]
       },
       {
        "data": "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",
        "encoding": "base64",
        "path": [
         "vertices",
         "compressed_buffer"
        ]
       }
      ],
      "model_module": "k3d",
      "model_module_version": "2.7.2",
      "model_name": "ObjectModel",
      "state": {
       "_color_range_high": 2.01,
       "_color_range_low": -1.1,
       "_view_count": null,
       "_view_module": null,
       "_view_module_version": "",
       "_view_name": null,
       "attribute": {
        "0.0": {
         "compressed_buffer": {},
         "dtype": "float32",
         "shape": [
          289
         ]
        },
        "0.10526315789473684": {
         "compressed_buffer": {},
         "dtype": "float32",
         "shape": [
          289
         ]
        },
        "0.21052631578947367": {
         "compressed_buffer": {},
         "dtype": "float32",
         "shape": [
          289
         ]
        },
        "0.3157894736842105": {
         "compressed_buffer": {},
         "dtype": "float32",
         "shape": [
          289
         ]
        },
        "0.42105263157894735": {
         "compressed_buffer": {},
         "dtype": "float32",
         "shape": [
          289
         ]
        },
        "0.5263157894736842": {
         "compressed_buffer": {},
         "dtype": "float32",
         "shape": [
          289
         ]
        },
        "0.631578947368421": {
         "compressed_buffer": {},
         "dtype": "float32",
         "shape": [
          289
         ]
        },
        "0.7368421052631579": {
         "compressed_buffer": {},
         "dtype": "float32",
         "shape": [
          289
         ]
        },
        "0.8421052631578947": {
         "compressed_buffer": {},
         "dtype": "float32",
         "shape": [
          289
         ]
        },
        "0.9473684210526315": {
         "compressed_buffer": {},
         "dtype": "float32",
         "shape": [
          289
         ]
        },
        "1.0526315789473684": {
         "compressed_buffer": {},
         "dtype": "float32",
         "shape": [
          289
         ]
        },
        "1.1578947368421053": {
         "compressed_buffer": {},
         "dtype": "float32",
         "shape": [
          289
         ]
        },
        "1.263157894736842": {
         "compressed_buffer": {},
         "dtype": "float32",
         "shape": [
          289
         ]
        },
        "1.3684210526315788": {
         "compressed_buffer": {},
         "dtype": "float32",
         "shape": [
          289
         ]
        },
        "1.4736842105263157": {
         "compressed_buffer": {},
         "dtype": "float32",
         "shape": [
          289
         ]
        },
        "1.5789473684210527": {
         "compressed_buffer": {},
         "dtype": "float32",
         "shape": [
          289
         ]
        },
        "1.6842105263157894": {
         "compressed_buffer": {},
         "dtype": "float32",
         "shape": [
          289
         ]
        },
        "1.789473684210526": {
         "compressed_buffer": {},
         "dtype": "float32",
         "shape": [
          289
         ]
        },
        "1.894736842105263": {
         "compressed_buffer": {},
         "dtype": "float32",
         "shape": [
          289
         ]
        },
        "2.0": {
         "compressed_buffer": {},
         "dtype": "float32",
         "shape": [
          289
         ]
        },
        "timeSeries": true
       },
       "click_callback": false,
       "color": 255,
       "colorLegend": true,
       "color_map": {
        "compressed_buffer": {},
        "dtype": "float32",
        "shape": [
         28
        ]
       },
       "color_range": [
        -1.1,
        2.01
       ],
       "compression_level": 0,
       "flat_shading": true,
       "hover_callback": false,
       "id": 4787773680,
       "indices": {
        "compressed_buffer": {},
        "dtype": "uint32",
        "shape": [
         540,
         3
        ]
       },
       "model_matrix": {
        "compressed_buffer": {},
        "dtype": "float32",
        "shape": [
         4,
         4
        ]
       },
       "name": "Mesh #1",
       "opacity": 1,
       "type": "Mesh",
       "vertices": {
        "compressed_buffer": {},
        "dtype": "float32",
        "shape": [
         289,
         3
        ]
       },
       "visible": true,
       "wireframe": false
      }
     },
     "4356d5311fc64edaade9b4d4c2946638": {
      "model_module": "k3d",
      "model_module_version": "2.7.2",
      "model_name": "PlotModel",
      "state": {
       "_backend_version": "2.7.2",
       "_dom_classes": [],
       "_view_count": null,
       "antialias": 3,
       "auto_rendering": true,
       "axes": [
        "x",
        "y",
        "z"
       ],
       "axes_helper": 1,
       "background_color": 16777215,
       "camera": [
        2.477592547151882,
        -3.7163888207278233,
        0.24775925471519036,
        0,
        0,
        0,
        0,
        0,
        1
       ],
       "camera_auto_fit": true,
       "camera_fov": 60,
       "camera_no_pan": false,
       "camera_no_rotate": false,
       "camera_no_zoom": false,
       "clipping_planes": [],
       "colorbar_object_id": -1,
       "fps": 25,
       "fps_meter": false,
       "grid": [
        -1,
        -1,
        -1,
        1,
        1,
        1
       ],
       "grid_auto_fit": true,
       "grid_visible": true,
       "height": 512,
       "layout": "IPY_MODEL_e46ce84d17fd4252a366e885050f21c1",
       "lighting": 1.5,
       "menu_visibility": true,
       "mode": "view",
       "name": null,
       "object_ids": [
        4919714536
       ],
       "rendering_steps": 1,
       "screenshot": "",
       "screenshot_scale": 2,
       "snapshot": "",
       "time": 0,
       "voxel_paint_color": 0
      }
     },
     "441912ba4fce445fabedeb5f72c2f2bf": {
      "model_module": "k3d",
      "model_module_version": "2.7.2",
      "model_name": "PlotModel",
      "state": {
       "_backend_version": "2.7.2",
       "_dom_classes": [],
       "_view_count": null,
       "antialias": 3,
       "auto_rendering": true,
       "axes": [
        "x",
        "y",
        "z"
       ],
       "axes_helper": 1,
       "background_color": 16777215,
       "camera": [
        2.477592547151882,
        -3.7163888207278233,
        0.24775925471519036,
        0,
        0,
        0,
        0,
        0,
        1
       ],
       "camera_auto_fit": true,
       "camera_fov": 60,
       "camera_no_pan": false,
       "camera_no_rotate": false,
       "camera_no_zoom": false,
       "clipping_planes": [],
       "colorbar_object_id": -1,
       "fps": 25,
       "fps_meter": false,
       "grid": [
        -1,
        -1,
        -1,
        1,
        1,
        1
       ],
       "grid_auto_fit": true,
       "grid_visible": true,
       "height": 512,
       "layout": "IPY_MODEL_be41a3b77f9d4a06bda9450068aff00f",
       "lighting": 1.5,
       "menu_visibility": true,
       "mode": "view",
       "name": null,
       "object_ids": [
        4461224120
       ],
       "rendering_steps": 1,
       "screenshot": "",
       "screenshot_scale": 2,
       "snapshot": "",
       "time": 0,
       "voxel_paint_color": 0
      }
     },
     "446738b3e228467eb728f33163a98b78": {
      "model_module": "@jupyter-widgets/base",
      "model_module_version": "1.2.0",
      "model_name": "LayoutModel",
      "state": {}
     },
     "4478f1695d204052b5f3aea1ae69519e": {
      "buffers": [
       {
        "data": "eNqFkl1IU3EYhxcWo7rpRnYVbjs7ZyLVTR9u52Nn0BdkYfRJ6EVaBEmI2UVelE4aFTgyF400A+dFRDCSJLBCEmtuOglqNzYqCqF2Mye2WB9EPdI/6O4MDuccXn6///O8Ozab9e9TX3Hbo96ibzHqUEfOFFVzRVR763bosXiPHg4U9MM92drucNbvTq3Sjjmy2lRbSH/astKQ1p4zhhpnjeBv02crmao82q7tDZp6Wc7rXVqr0VueM1J1WwKxXR2+1OYO1fduUGu1n9fTiUqjSeo3hpJrAs7cScv5v36F/n30f6M/RP910X8UvkvweeBrgC8F3zh8XviG4VvAbxy/En5j+O3A7yN+A/hF8CskVru4pKrgJg93+dW6ezLPiv10XOHdmyc/Rn6J/EPyQfLvxX6ukD/A+Z1iP0c4/4XYj5Pz73D+dvgr4K+Bvx7+H/CH4b8B/wz8/fjP4K/ifxb/DP7N+A/j78bfam7V3wjfVfgU+I7Dl4HvGXw18N2F7zt+afx+4vccvzr8PuMXxy/2dz9uLg87kbkr7Efh2ct+vLxXL5KfIF8m/4T8TvLz5AfJXyNv9f9Y/b/L/tPi+2gT/svfR1z43xJz/3/zZjF3MTfo//XFVCX699D/lf6L9EfoT9K/H74L8DnhOwTfJHyP4VsP3234PuD3AL8Cfvfx8+P3Br8ofp345ZakKi5XQ1e9m7tUcqUlnj2VWyc8vMvz5EfJL5BPkDfI58jfJN9N3up8K34r/wHmGfH9tDOfZX5CfD8S893029n/RvoP0l+h5PXL9Mfof0n/Kfii8G2ArwW+1/BNwVcL3wh8k/j14TeHXwS/avyS+IXwa8LvDyCY2lg=",
        "encoding": "base64",
        "path": [
         "attribute",
         "compressed_buffer"
        ]
       },
       {
        "data": "eNpjYGjYzwAHAvZlMu5I/Ab7mRpd+2BsEJbgaNoD5NhD+Az2uueL7WByIFVfftvB2Qh9DHA+AAjLEVw=",
        "encoding": "base64",
        "path": [
         "color_map",
         "compressed_buffer"
        ]
       },
       {
        "data": "eNpN2A28jvUdx/H7HA9NznEcj8lxqGQka3qSIitMyUM2etBohUxKLZqEmFVbWCphhKJZk6c1NSUSqxR6mIoN1SoPhTJSrZTt/9t5X6/d9+v1ef2//+//d9/3dV/X7/e7/td9Ti6Xa5P4fuLlxJrE84lfJ8YnfoP7ePUSjRPliR6JnonLE5fSFyX+lHg6sSxRUpDLHZOoidDfwX/Seo4XOrwc/e9EpcTxad4wUd28yDHGsa5PbE38PfHPxEu81xD6desR9wa28t8Q87L5el58zurEc1jPW0NnfsT8JfEi/RId3/2q+Wu8uxN3Je5I/Ja+G/fygsl5a3G+p+Be3hR+XI8rnPNLXYOevJsTNyUGJ35mPhg/5V2X6M8rSVRNHBPXIFGTPoYuoSOmvKCCxgUVXrPEyfKhXG6E15xuYoy8qY/j+Nla5tfzXSW+N/Nres9ZibMT5ye+R5/lt8dvuQw9eB3EtPGes3kr5ObT9HOu4xp6hfMQv69JQQWh4zdXla81jCV0gVwtNEauFsrZ6nTkxKbEC3iRVyfFFyXqJhoZy+k65mV0I/UQ88q5CuI7wiuiM79YvZR5X3gnJhrEMSaGJW6UC9fJhWEYLIfGytnIyWsTVyUGJKbK1QcTk+ip5rPp3yUeSczAfbwZ8jjmSxNLEn/AY7yl9DJ6hWu0jF5qHnX3FDJvCf2UY5mTWIA5ed+1hPf7xKNiZ+d54xIjE7dhPG+8Ggz9CzHjcAdvnJisxu/gTVfn92IKb4rzMl2Nxvm/GoPl99XGy3FFXswV3ldXHZXTxeZFdHjfVaON0ZxXIraGsZiuofZL6GLzlolTE2eox6jFVon2dNTcD9TfOXQH84vo8Lokfij+fH4XdBDbxdgTPXg9vDf0H+XMI+5By3jL+KHrqrVi1MirtxjrGWvQ9fS6crqGmj9WXdfKVehC8wI6vNrqNGqztvoto6s7jiJ+eH/VF6JH/Ms98EuEjvviUfPQX9DhfUp/4V74UeI94x76Pfe+WH8/8XGu4rWXDu+r+A0FFX6MMS9M4wn6RvSP0C1y/3814BXrO1UQOvpOVWtV3D+q5sU0cm4b6km1fEfo8E6XX+fSp8i7lvzT1VvU163GsfRd+tKdGMvrneiX+Amu4g2gwxto7MfPvBsSQ+mBdKz3ce/pj368PnRvuXoZ7zq9dxD68waJ708PNB8k/gYM5F2vLw/AUN6jetiixPLE4/Rq951VxhfoJfrlYizgLfY5C+hF5tP0qjn62XTeND30QXpO3nwyb7L3TNOHI2aucTrdNO5b9hZn6int9JX2vHZy4EycoR+dqg9lfivvK/d5jVA3zyvjlfEb6Zmh66Cu9dPsl9vQZ+t/bejwznM87eiOcvhc/nl6XfSuzmjP68yPfKmv75TYPx9XUOHVz/Mai6lvvUleTBPrpXpSLUR9leJ4NVxqjFf0p6j7Solv9ZjY+3xBh/dhYltie2JfYn/iM/3kQ94H9F56W978fd4e/Wt34gC9h/5ILzzAy+Zf8r4Uf0Bvix63xX5+K73FPvx1v+1viX/g/TxvG2+b48piPhB3UJ/c6z0f8w7qm/E6ZL6Xd5C31/k4hH3OVYOCiv1iAV1q3oCXvUp5WV+uhtI8r5B3PL+WsRrd0Fot1M6erejwTtR3T0JDOV+mJsP7lRqeRN9pfq48v9DYlb6E7qi/Rr/qm/izvrQcK3mz9a+HMDXPi/4zH4u8f764WJ9Fz9fb4p76LFbxnvVdy62v5D2pxz1FPytmVd76ct/7pHEx/bDeNYOea/4w7xE8xnuYzvaic3llznlt1OHVsr/I/Ia82vwi1OG10086GTvTnVyPjvR5YjvSnexholdUM5bSHtf/p6vx41VFj6jq+Sj2SFWMxXQVukgPifjPE5+o38/xqT3Mu2p5D3bz3lXP73l2irp+27iF3iIu9Nf2L1+px0O8oJKaCX3E/Gsxn+GI2GPVUcQfq1aq0YVqqDo/vGvk+LWIe/I1zteoxC9xD+9+uTuTnplX+/fwNuhTr2At7xV+9lrL20Cvw0r5/ow6W4l1vGfotfRan9dbznQzdqK72cvEemXXuMg94wivyHmpbKxEb3Qsm/BmrsLb4Bg2Yp24zX7jBnpb3nwjbzP9Jr1d3GZezN+iN9Gb5NGr8iW8d+TPbvpt83esx3yEPeZY/S/64BjjaDpbG4MRvOH0GLHD6a7O74/xI15vfTPzL8nz+vL6ig/9czkWr178vvIocm4i7uc9Lh8WYj6vu2vdme5m3ofubo/Sh+4uNrxv1PO3iNz4xliZ/kaORK7scn5305/qDbt4MR+ihq73267hDfGbc35n+FeiF+/KvPrLzsuVzm+cn4uNveiL3bu60r28b5bz9oBxIj3VfecBPCR2krXMn8gb5ZhvwXC5cLtrNAq38G6nR7tWUZ9PYCHvCX72WsibT8/TV2bRs6zNEz+Tnic+5xrGdTqM/a7LJ9YO65P782KO8A577xHxEbMTu3gfqsvM38fbT++0r4hr0TYxwTnM+uftvAlqbxIm5vmjrU0QP1quxTHsMO6ks/rfgZ2Ob7u+scP4Fn2h/LgAbXkX8LNXW15rz6zZs0BbXgvPtq2Np9M5a63Rlneb/51uws285/2PuQJP84aJG0mP9Nx8sv+CWqGZZ5mj/mOI/ziPGqvaH57ief8EuoVeOMxn3kjf6vNb2Ts2pU/1Hc08KzXz/9NpaO756jR+c/vOU/w30JLO9qhNfeZJxpaec1fZmz1pT7da3x3uOXmE8QbHfCsvm49Qo0Py6nSI/jPU52R+5v0XaOTL7Q==",
        "encoding": "base64",
        "path": [
         "indices",
         "compressed_buffer"
        ]
       },
       {
        "data": "eNpjYGiwZ8AAxIsBAF7EAv0=",
        "encoding": "base64",
        "path": [
         "model_matrix",
         "compressed_buffer"
        ]
       },
       {
        "data": "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",
        "encoding": "base64",
        "path": [
         "vertices",
         "compressed_buffer"
        ]
       }
      ],
      "model_module": "k3d",
      "model_module_version": "2.7.2",
      "model_name": "ObjectModel",
      "state": {
       "_color_range_high": 1,
       "_color_range_low": -1,
       "_view_count": null,
       "_view_module": null,
       "_view_module_version": "",
       "_view_name": null,
       "attribute": {
        "compressed_buffer": {},
        "dtype": "float32",
        "shape": [
         289
        ]
       },
       "click_callback": false,
       "color": 255,
       "colorLegend": true,
       "color_map": {
        "compressed_buffer": {},
        "dtype": "float32",
        "shape": [
         28
        ]
       },
       "color_range": [
        -1,
        1
       ],
       "compression_level": 0,
       "flat_shading": true,
       "hover_callback": false,
       "id": 5029745328,
       "indices": {
        "compressed_buffer": {},
        "dtype": "uint32",
        "shape": [
         540,
         3
        ]
       },
       "model_matrix": {
        "compressed_buffer": {},
        "dtype": "float32",
        "shape": [
         4,
         4
        ]
       },
       "name": "Mesh #1",
       "opacity": 1,
       "type": "Mesh",
       "vertices": {
        "compressed_buffer": {},
        "dtype": "float32",
        "shape": [
         289,
         3
        ]
       },
       "visible": true,
       "wireframe": false
      }
     },
     "4584f9ca0fc843bdb3fa707a27a827ee": {
      "model_module": "@jupyter-widgets/base",
      "model_module_version": "1.2.0",
      "model_name": "LayoutModel",
      "state": {}
     },
     "45ac77e08e7542e8bbb3255a07280506": {
      "buffers": [
       {
        "data": "eNq9kk1IVFEYhs9VsUYRhwkqBBkJxptBixZB3fN93x1QcSMEbdoJtVTau3NWLmwX6ELatOoHgloVoUEZNP0g/iAzzKKQoEUQgZsJwrk9h1x3N9LAw/t+czicc9/3OPfv35ee9lVI1g+WPOo3f1cFL2vldWGWvrs/E/CVN4vBy9kLXvG6NfdcmdW5mgdxrhg81KFozk1AzT7c2fUg44e3FdXLkxXD24n2/bBmQ8lpAZ2JHilq71/OGt7aJ7+FtTRyVQGNXBOqFrkVaMKpsJa+GrgloPPXOora2upTw9ti6WJYS5tT8wI6+7DfUDv367Xh0+iMhbX0791rR3euQR2K/D8R1nL3553vuD9oljU4o2pZtgwNKIW1NO/7P5EfyCT5oXqF/PBWID9m6yJ/kG7yR7Wb/PHWQ/7MVqI/8GP0h0qZ/vC6R3/MekD/kNTpH/Wf6R8vH+mfWX48KVRg9PHX1VE03ijfiPHx9Z2dmPn8d/ZD8pb9qG+wHy8b7GeWAc4HH3M+KkOcj9ddzmfWTrbgQbJsMHh4R1aD1snGYSH3/QyTH+hN8kNtk/zwdkh+w8fwflr0DzpH/62j/vFpF/23/sP7ybt/3vdvkx/INPmh6skPb/3kx2y9vB+QXt4Pqn28H7wVeD/MNkJ/4C/RHypj9IfXffpj1hf0D8kD+kf9M/rHyz36Z5Y/JTikGw==",
        "encoding": "base64",
        "path": [
         "attribute",
         "0.0",
         "compressed_buffer"
        ]
       },
       {
        "data": "eNq9kj9I1HEYxm+wX0QZR+iQRIOQHM2dDvd9n6/eCWJTg2NGnjY1SEGETp7nJId/wHJw+gUFxpVtLtLSUJzVIIJjDnpDg5OLENXnCz9DDvSioeHhed7fy5ff+z7Pm1mLc5m12LXuZw22t/EPQyu79FTUGvbVHHCDH/sMttJiJLTKu+XQ09ZqLQfc5V+jBlt16LrQOndzJfR0r3CUA24vWzHY4o280FraeR96mu++6oCNDFcNlh6MC63Zle+h51viHgfsxrOvBmvzybzQGli+FHq+nh1ywF5sHBisa7WXQqt/ojP0/Ovphw5YaaJFsNp/rgvtL965FXp+b33SAXt0vlWwqt8+CO1rhz70fCo15YClUmnB4BNI870/9Jq+b/x/W8P/95kf4MuBwepgfrQKzE/9Z/+uZP/P7N91Yv8F/ANWxD9YefxDq4J/1P4+/gM8qhiMT3mh9Rz/qbVNfsClyQ+2N+SHVkR+2yE/8gfuNvnDNk3+aM2QP3W4kTPv57T35eT9afcT/eX9HO8/kuzfm9zP8f4R/gHL4B+sL/iH1iD+Rf9wP4351ckf2GPyryf5o/0m+df/w/00m7/Z/ov4B2wM/2AV8A+tOfyj9kX8Lyb3A9ur5H6W8Z9aO+QH3BXyg+0d+aF1gfyodZf8gRsgf9imyB+tEvlT6zfCYNsd",
        "encoding": "base64",
        "path": [
         "attribute",
         "0.10526315789473684",
         "compressed_buffer"
        ]
       },
       {
        "data": "eNq1kk9IlFEUxYcIzMKQaFFg4kjUEG36M9qfd88limjVvk3ZJoyhXYuCAheliFkjjq1cqFnRJlcSwUAgRPW5iTatW7RLrSFw0abfg/fFIOQsosXhnDuX+d6959zSQjGUForW8XXRYL2cvSO0yrV1UXvfyP4AbN+e1wbryeiQ0Nq+9kvUXn11OAC7d3HJYA2uDQutsbA19vzy2ZMB2IfKR4M1W68KrdrnjtjzE88vBGA99S8Ga35pWmi1zeyNPV9tuxSAfSv9NFhHH74QWrsOHYg9X64MBmBz9S2C1VdbFNpHGkdizx+v3wzAzi+3C9aNq2+E9ur46djzHwfvBmC3ru0UrPK7t0J77dOZ2PNCYSgAKxQ6BYP3oJPfz8Vey/+3en/j/OU0/3CaP99/Je1/jP1XmvY/hX/AivgH6xn+obUN/6j9Cv4Dy/Af5ttVZcl/ap8gP2D3yQ/WdfJD6wH5UXs/+QPrJv/+lD9aO8if2kv/eD9/e38svZ/fT5bup3n+eD/5/j1p/6fpfvL9v+MfsFX8g3Uc/9DajX/UnuF/lvzPNtxPtsn9PEr5Ncgf2G3yb6T80T5F/o3/eD/5+63mb7V/7l9v0/30Nvk3gP8DyX9Y88n/Kfyn9knym0z5waqk/MbJj/pP/l0p/znyR6s95f8b2zrLoQ==",
        "encoding": "base64",
        "path": [
         "attribute",
         "0.21052631578947367",
         "compressed_buffer"
        ]
       },
       {
        "data": "eNq9kjFL21EUxTNaFeOgFAL9AP0ISd47l1YnhWIdK6YfQJESWmiLVVHM5tzSrYtQhergaEzTGm3j1kmFimCydkhda/w9+oQQheDicDjn5pL/ffecWyzkXbGQ99WpLsEaflMU2h5upI3adv7kHfCjq12CtVwtCm0/L9KhZ+nUSwd8+ck9wZrd2hHaBmqZ0LO++isH/OFYt2A1Ul+FttyQCz07u//aAf9ipUewPv8qC20jDR96djjz1gH/7KRXsD6sfhfafm9b6Nnmp1kH/N9Un2CN5ypC28HUo9Czpek5B3zPg6Rg7e3uCW2DB49Dz/69n3fAz1eSglX6si+0TW4OhZ4lEgsO+ESiXzD4Afr5fTj0Ov5/kfnAdzMfVoX5aBtgPvW194/F91fj+4/Y/yjuD+tj3P+E/amthn+16B+stRb/qC2J/8noP8y3//v/HP+pLUN+wH8jP1jvyA9tg+RHbSXyL8X8YRVa8qcON3Kr+ym03c/V/HKc33o/mRvu57ztfursX4/7w1qP+4+yP7Ud4x/wE/h3HP1D2yn+UdsG/gPfwH9YT/G/Ef2n7phfk/yBXyD/ZswfbTnyb97B/XR6f6f9b3s/5233kyW/bMwP1lzML9xP9ob7WW67n0uwg9+Y",
        "encoding": "base64",
        "path": [
         "attribute",
         "0.3157894736842105",
         "compressed_buffer"
        ]
       },
       {
        "data": "eNqtkzFI1VEYxf9BRVCGQotDChn5BpdAt3vPF71XvFpqbWloMXwSvUV5WyFUZGmQBEZCb5MCX5tN1tDw9EG6ODoo6OBSU4tB/i7dF49r9RoaDud8/4/L/e453z9Xq7pcreo7tocEa6H6XWgbmhk3ajvz9rUD/uHHQcEaPr4ntJ04OhZ6dndpzgF/Yey8YE1VvgltrybLoWc387MO+OXSgGBdrHwR2vprI6Fnlz89d8CvunOCtbC1I7Q9LtwKPdvcfeqA9/O9gvVjaUNom792I/RspfTIAV+odAvWaG5daDu5fT307P3XCQf82p1TgtWT+yy0vTx2NfTsyOH7DvgHZ7sE68qLZaGtf+pS6FmW3XPAZ1mnYFAHnXwvhN6B88Xk/CL3A7/K/YvxfrTNcj+1NZi/EedvJPNT2xbvB168H9ahDxtC2xveT/3Lv7XoXw3/0PYk+tf0fyX6n8d/NNn+9D/NbzrmNxfz6yP/vpg/rNst+VOHHfnr/rQ7/6/705y/kMxf5P3FuD+w3sX9Ce+nPuBflvjX3J983J8S/qOtI+5Pmt/pJL92+f/v/Unvbzd/u/f/6f9L96fe4n+95f8tkx/wRn6wnpGfxf0p/2Z/hpP89wGMedJ0",
        "encoding": "base64",
        "path": [
         "attribute",
         "0.42105263157894735",
         "compressed_buffer"
        ]
       },
       {
        "data": "eNqVk79L21EUxbPo0qDSpShqUKybtXTQ5b17HUodBPEHKLYgglAFB0HEWlEoFWKhcdE4aBqHThX/gC7x23YQJdkKRXBwkLbJ4OCPQdz6efCELyn4xeFwzs0lvHvvOd+rury5qsvb/tFxgaXqT4Oi9XNuS6n178mBAXb/eExgedxar2jdqdx0Pd2f/mGA/ZYdEVgGEo8Ureu1adfTjvRXA2wu2Suw5KeqFa3zqynX00+LuwbYp2ddAsvITYWidaJn2fV0aHvbANs080xgeX10LWidPZ1xPd1Lrhlg00ctAsvK5W9Bs8OY6+mT3Q8G2I3vtQLLm4+/BK2JF/2upw/MewPs6vJDgeXnUkHQej7V7Xoai70zwMZiNQKDQ1DD789dL/L/bbwPbJr3YZnjfbQ28j61BswP7AbzB35+tA4wP7UOsz+wzewPyyT7o3WO/an/u9/Lsvvd3n8vdH+0vvX3j/KviP9F73+xzH9ql5E78xP1/6j3O5kf2ID5YSkwP1oXmJ9as+yf9fvD8srvP8n+2VB+mn1+JkL3c/nJcf+czw8sSZ+fPu5PHelfHP/j3v94yP8L/I/fIz+pUH5S98hP1PxR+2e4H7Dt3C/jv792n59MKD+332/Bf7/l+Qm8f4P4F4T8K+F/yftfCvn/Bf+p9R+x6/D4",
        "encoding": "base64",
        "path": [
         "attribute",
         "0.5263157894736842",
         "compressed_buffer"
        ]
       },
       {
        "data": "eNqVkj9Mk1EUxesgMQ6Cn4u6GCbiZiIu5N17FxxwcxItwYnJGBhYYGpD0uAgDAUXDSBloqTtRjQykRjjv7gYE2QilDBZ+0ni6u8lD/LSoF8cTs65vfn67j3nbpVSt1VK5f2jWYV1cEoMbdfrr4za1pOWA1KYLimsz94OGNrunN/0PbvS23RAlvcKCuvOmZuGtnuP675nF5pfHZD6ywmFNb3aZ2gb3a74nv3s33ZA5p/nFdaR4mVD2+zkou/Zh7t1B+Ssu62wHvw+Z2hbHij5Hv/1wgFp3rqhsK6+OVK0LXwb9z1bG3vqgDxIrimsX37sKtrWZoZ9zy5OzjggC3uXFNaRsU+KttdDQ75nuVzBAcnlehQG70APvw/6Xub3Fd4Hcp/3Yf3M+2ir8D61NZgfyAHzN8L8aFtkfmr7yP5Autgf1kP2R9sK+1NbG//awb92h3/UJ/43Iv8bkf+d+X3vyK9K/tWQf7Ujf2p/I/+8n6zvs97vZv7uMD+sR2H+h8xPbSn7p2F/WEfD/k/YP43upyu6n2P//P3U8B/IPv7DuoL/aCvjP/VJfsNRfmhbDfkl5J+E/GHNR/kn/3E/5eh+yqfcz9/ez5o/a/8W/gGZwz9Y8/g3F+6nFd1PLdzPL/yvnXI/SyG/XfJbivLbIH8gRfLfCPkXQ/7U9gf5hvAy",
        "encoding": "base64",
        "path": [
         "attribute",
         "0.631578947368421",
         "compressed_buffer"
        ]
       },
       {
        "data": "eNq1kz9oU2EUxYMkikigi5qkrQiKCbhqO/i+e1JfmkHFtk465OlQEXEXMllooXS1nfov6uA/BHdxsJt0cVKLc1oUq5MIbv4efCkfMRIcHA7n3FzCd+8598XNvIubebtTaRmsZr4htF4+3BJ1dfTEIQdsfX7VYB24dU1ofc2/F3V15HbWAWv8XDJY0+3LQmtwY1PU1fbZHxFwk8mCwVbcNKF1/tcrUav27VME3PcLdw22xsHTQuvp2pO0p2ruTQTc59xVg62YPSK0ctnFtKdHrx9HwI0snTPYknif0Po4eS/tqXT8fgTcsemTBlvlStvQqmxcT3s6+mIuAm5l7LDBtnPpnaE1W76Y9pTJzETAZTIDBoO3YIDfa2nvj/9vd/2/yPtF/z5sZf9+mfep9+YfDeZHa8vPP8b+wH1hf9gG2R+t/exPrXH8G/f+wZZ4/57hH7X6+d/JLwnyS4L8+uUf/+f72WF+4KaYH7Yh5kerxvzUqrN/3e8P2w2//3P2r/e4n1LX/TzAf+DO4D9sDfxH6wP+U+/lN+zzO0V+w0F+BfIv+PwLQf5z5F/4h/tZDu5nucf9/O39fvP32z/GP+B28S/239+u//7i4H4m/P2U8H+ix/108rvZlV8n/1aQfyvI/zfC/aUU",
        "encoding": "base64",
        "path": [
         "attribute",
         "0.7368421052631579",
         "compressed_buffer"
        ]
       },
       {
        "data": "eNqtkk1IlGEUhWcTkqRMEELgDEgwfq7a1O6794wprRzatbM/qMUotTXod2G6iX4YRhChJmgRhYY4UdBsRTPpZxO0MfrblC1s0S56PngXH5M2IC0O55z35eW999wbzfVYNNfjHV/qDmu2dkFoHaz8Er64t5E34M8r8w5rrG1MaF3f/VP44lp/lwHPtT9wWN8Xy0Jrbc9X4YvHBnYa8OWRaYd16PxRodW7/63wxen7GzGw3ouTDvuJWya0lhefCa/609cxsJVXZYe9lN0ntMqrd5I7Vd49joFd2zjssI9G7UKr4/REcqeb76sxsE/1Pof9av2bozX7+0xyp/zn8RjYvbtdDvu5A28crdKOUnKnTOZKDCyTyToMlkCW88HkTjne58L7XOr9EO/xusH/wD7yP+yX+R+tR/yPV5X6gU1SfzXUj1Yn9eP1hP6BrdI/7EfoH61R+serOb+TTfltlX8U8v/A/IDnmR+sdeaXD/PDt5x/9J/3Z32L/XkR6h+kfrT6Qv0z9D8T+of9VOh/hf7xWiA/YC/JD/Yh8kNrhPzwuk3+wMbJH/Yy+aO1i/zxf83vUpjfwzC/5v05u839qaX2p/aP/Wn+v1X9rfqfIj9gBfKD/Tj5FcL+4DVM/sCXyB/WAPmjVSD/4dT+dIf9+cH8ujfZn0Zq/o3U/P8Ar3zuuQ==",
        "encoding": "base64",
        "path": [
         "attribute",
         "0.8421052631578947",
         "compressed_buffer"
        ]
       },
       {
        "data": "eNqdkk9IVFEYxd9GC3RCWpT/Wsi0eBSUCO7e/c6rXIeYtAwq3GS5ziCQQqsJcmUZrVw1kTSzaJW1tz+LomxKx0WEiyII1GqGFvV7cJXHVAy2OJzz3cvlft85X2al12VWeq0w88JgrbbfEFonjjTF1PHP4z0O2OLMvMH6duy60LqV257cxdfaQwesvOeJwZobvCy0Bh4GyV38bLjVATs8et9gnQlHhFbz0CdRxz8ONDhgpTdTButUW7/Q+vz1uajjfWc/RMAVbl802MY6u4XWy5uzotbE6qMIuFL/gME2mtkptApdk8mdGqfuRMDltx002BZb1wytnmgkudPezisRcPd+7TbYqh2vDa1dH48mdwqCsQi4IGgxGMyDFs77krvN9/nU+3zqfQP/A3eX/2F7x/9odfM/ta7SP3Dv6R+2C/SPVpH+qbWf+YErMj9sl5gfrVfMT60K/lW8f7BOp/yjrut/jvyALZNfzue37POj/mf+0z7/zH/uz/QW96fP93+O/tHa4fuvMn/Vzw9ryM//hfmp4xD/Qu9f6Pen6PeHWuP4D9xb/IftPP6j9QD/qf/Ir1STX+3+VLa4P1neZ/3+ZP37jf3J/mV/av+v13+9+b/jH7AF/IN1Ev8W/P5Qx0/xH9gh/Ic1jP9oNeE/9WZ+Sz6/x+S3lMpvI/+yz3+d/Mup/H8D/DLNtA==",
        "encoding": "base64",
        "path": [
         "attribute",
         "0.9473684210526315",
         "compressed_buffer"
        ]
       },
       {
        "data": "eNqdlDFoU3EQxiOOaq2TJItUCmmLipWkKuR/3xvUoSBWcXEwiKjQoqOQNB0kQnyDiyAO1kajzsZBi9IgLoLUycHRKIiTizRbu/h7cIGHWoIOH9/dO47/3X1f0stNh15u2k6Xvxmsoe9LItbjTi4ijz7/PB6ArT/rGqwDT++LWLO3dye1qNA7GoA9mPxosLacuCNiFcpDSS2aupsPwDqNjsFa/VEXsSonM0kt2rttVwB2a98Tg3W5dVHE2p7tijx6uGetBMLqZGywvRgLItbUhdciV3XHuxIIY+3zBltjLStizXTvJTUtnHpUAuHauYLBdmhh3Yj1qno9qWnibFwC4Xk5a7Dd3PrJiPX17UxSUyZzowRCJjNsMHgPhvl+LKn90V/3/i/e33//qr9/kPeJtezv15gfhAnmhy1mfmKdYX5ytdi/5fvDtuz7H2F/cvXvF/v9rnC/OHW/ze5f9fsX0Q/YEvoVXT9iFdGPfFP951z/3n/6Z26Af4run8PMD+wN88P6wPzEmmd+8miU/UfdP7Bm3T872Z88anK/pt+v+Zt/yFXh/iDkuX/F/ZN3/5Crhn4116+W0u8l+tX+4p/6P/pnnH4Q2vSPe3/b/UM+8P1B8w/af4T7AWtwP1iXuF/D/TOS8s9Kyj8rKf/09VtM6beY+v130R/YBvrD2o/+G/7/QR79Ar/YvbA=",
        "encoding": "base64",
        "path": [
         "attribute",
         "1.0526315789473684",
         "compressed_buffer"
        ]
       },
       {
        "data": "eNqtkzFoU2EUhZ+bUoVOVkIXFzGiECU1bXj/PT9iFyuhuFklbq2x6iYodHDoYisFpTqoRKo4FBGd2sGIglIEKd00UzvVig6aNpOT34Of8AblgXQ4nHNzefz3nnPTHK665nDVtnK/DVb+5Quhtd53yFP7t1NnHbB9jbbBGmvPC62BmQNJz69+GnLAzg2uG6zB0mOhtXdnb9LzTxrHHbC+2WWDVX0/I7TGv3UlPX96o9cBK02+MlgX89eE1pETv0Ttp2o7HLDG/TsGa6N4Smg9yi+J2l8+uBIDd2NPzWCb/bJfaG0+qItaW7uexcAdez5gsC39jIRWvDiR9FS4fSsGbvFNzmDb/eOzoTVfP5P0FEU3Y+CiqNtg8BF08/vJpNf5fiH1/ULq+03eB+4o78P2gffRKvM+ta4yP3ATzA/bPeZHq8381Jpm/+mwP6zvYf86+1N3/OsP/tXwrz/lX5b/a+QH7Dz5rYX80OohP+p/5l8O+Tf/837KGffTE+7nKfMDKzE/rAvMj9YV5qf2FfavhPuBNR7up8D+ldT9vA738xX/0HoY7ucS/gN3Hf9hu4v/aLXwn1ot8gOuQH6tkF8h5Nf6y/10bfP9ZL2fNX/W/kP4B6yIf7BG8Q+tw/hH7efwH1gR/+eC/8VwP9Sd/EZS+Y2k/v/vyB9YjvxhjZJ/LuRP7f8AyW3bjQ==",
        "encoding": "base64",
        "path": [
         "attribute",
         "1.1578947368421053",
         "compressed_buffer"
        ]
       },
       {
        "data": "eNqdk81LlGEUxUcq6IPSXVjTroXzBxgE89zzRJN/gSBB6QTBFBLEm1EDLQpB0lWEuRhBmyGsFm8W9EHQ20YXIq1cKYKryn32NdWi3wsPw0skEy0O59y5vDz3nnMnGYtcMhbZ8vBuwSpVE6F9Yf64p/b1o5ccsNr5XYI1W3ottN97pzft+dsPzjpgh083DdZETyy0vj8rpD1/4MMpB2y+vmGwPtVqQmtw9GDa89cWehywj+uJwXqxOiq0HvZ2pD1fWtjjgD35WTNYh04MCK2OrRVR+8GTa0XglodHDLbGmwLzj2hyYE7Uurj4uAjct19msEX1nULr3I9baU/HFieKwL3N5w22qZVVQ+vKjf60p1zuZhG4XK7LYLAEuvi9lPZa3yeZ79GKwvcXeB+4r7wP22XeR6vM+9QqMz9w75i/HOZHa4r5qdXH/n1hf1hHwv472J/aX8c/YJv4B+sl/m0G/6jb+j9OfsDy5Dce8kOrSX7UrfynM/mj/b6Qf/KP97Pd99vdTzPcTyfzA3vK/LA+Mz9aQ8xP7avsXw33A+tVuJ9H7F/N3E+cuZ84cz9n8B+4JfyH7T7+o3UX/6lVIT/gvpBfJeSH1hD5Vf5yP5PhfqL/vJ97f9xPu/fbzd9u/6v4B+w9/sF6jn9ozeEftd+P/8Bi/Ie1hf9xuB/qVn7dmfy6M///Bvk3Qv6wZjL5U/vfplzoBA==",
        "encoding": "base64",
        "path": [
         "attribute",
         "1.263157894736842",
         "compressed_buffer"
        ]
       },
       {
        "data": "eNqdk89LVFEcxd8qIggGc9GPmSkSRGxVI2n47vfcbDYFDU5Si4KxRRRREbQKpRKkHxAtgqFoNanRLm2T0OjSQIxoWTiZi/6A/oGY+ry4ySOQFy0O53zfl8v93nO+r1qbdNXapO1Z2SFYo8c+CO2v9hz31P7o6IQD1nslJ1if68tC+9bjctLzh25dd8CuzW8RrI+7FoT2q+f6k54f237aAeuZ+26w7t14KbSGi11Jz081+hywJ6X3Bms+/0ho9Z/YlvT8z3yHA9Y4/8JgVU5eEFqXFtdF7Ydr32Lgdq/cMdjmpg4KrcOds6LW+u3ZGLjFStlgK45sFVpdz+4mPcU/HsbAvRsvGGz7mquGVnz2TNJTFE3EwEVRzmCwDHJ8Lye9jfNL4fxezi+lzn/lfuAWuB+2AvejtZ/7qTXC/MAVmR+218yP1kDn756iQocD9pz3w6ryfrQu835qP41/wJ7i33TwD60B/KPO9L9EfqWQXymVX4v8qDfyP5DKH+2/hPyr/7g/m53fbH9aYX/GmR9YL/PDesD8aJ1ifmo/w/tnwv7Aehv25wjvp/Zt9qcd9qed2p+L+EftK/gP3E78h+0V/qPVh//UWiM/4JrkB1ue/Johv7XU/vzJv/hX/v+7P4PhfNb9WfNnvb+Bf8Dq+AfrDf7Vw/9H7W/iP7Bu/Id1H/+7w/5QZ/7/Q+Q/FPKH9SmVP7X/BZ2ztpk=",
        "encoding": "base64",
        "path": [
         "attribute",
         "1.3684210526315788",
         "compressed_buffer"
        ]
       },
       {
        "data": "eNqNk71rVFEQxV9hbFRcSGUUbS3EwiTEwN45w9usoAjxI0JsgoWdVRphEcIWRlBZEBVr02lUBCW4u0SxEfcrYuMnWiWmUv8Gfw9u4KHETXE457zL5c6cmVeq1EKpUrNLBw8IVmXXd6H96cK04/3IoRsBWH12r2AVfnwS2h/dOZud+e/FagB28nVBsAZ3tIX25YFyduZroxcDsFMziWDtOfFMaE8bh7Mz717xAKx887PBenHhntB6OzOYnXnj8lAAduvNE4NVPT8rtHrzP4X3tPKrCMLo3XmDbfnauND6+H5JeJ0bf14EoXr/uMHW2bZTaK2PXc/OVBqpFUHofd1vsC0ufDO0th+dzs6UJNUiCElSMBi0QIHvE9mZUu6D0OU+bA+5j9YA9/Ga4v2p+D5s7fj+Gu/jVaZ+EMaoH7ZX1I/WF+rHq0n/wG7TP6yr9I/WO/rHe4/8gB0jv17MD60W+eH75r/Z/F7G+W3Mv5GbP9ofx/mXtrg/m93v9/469QM7Tf2w9lE/2ieoH+8r9L8S9wdWM+5Pm/7xXie/etyfem5/uuSHdyd/EEbIH7Ym+aP1gfzxOsP8QJhjfrC1mN9cnB/+n/k/+Gv+W92fTu5+J3e/3/v96u/Xf5v8gKXkB2uJ/NL4/+F9lfyBTZI/rCHyn4z7s/qf/dn4/4eZ/3CcP6zdufnj/Q97zckG",
        "encoding": "base64",
        "path": [
         "attribute",
         "1.4736842105263157",
         "compressed_buffer"
        ]
       },
       {
        "data": "eNqtkjtoVGEQhbcUgprGJlj4CBbBJiu7Pth/zrgJsgviIwgJAYMIgqDdxhgIBhERgo/Gle3UQtTKWIirSKwvS1CxiJ2FEGysEsmyYOF34VduoVwLi8M5c4fLP3POlJutUG62bOnGkGA1P30T2tcHzju17+7dDcBqs3sEq176KrRfuXc27flIayEA29sZEKyJHytC+8PFsbTnJ6caAdjm1U2C9WznW6G9dOpQ2vON8aMB2MaXVYP1+tEDoTXR2J72fPrDrgDs2lDbYL04Ny+0isd7ombGbgWEqZGbBlvnwmGhNXt7iX26Wl5vV0A4snbMYJt5uVVoPV25lfZUv3inAsLHgzsMtn0Lnw2t99sm054KhasVEAqFfoNBAvr5Ppr2VOP/WvwftmL8/x3/U6vD+yCM8j5sl3gfrSe8T60DzA/CGeaHbZn50ZpjfmrNsD+w6+wP6xX7o1Vif+rf/nUz/nUz/uX5n5ffr/zrmfzRPh/zL//j/fzt/7z3x5gf2Bbmh/Wc+dG+n/mpvcf+vXg/sN7E+5lkf2pv4F8j3k8jcz/D+EftRfwH4TT+w5bgP1qX8Z9aCfklMT/YpmN+j8kv+cP9DGfy/x/3k/d+3vx5+3/HP2Br+AerjX9ojeMftZ/Af2B9+A9rEf/74v1Qe5X8qjG/aia/++RH7YPkPxjzh1XL5E/tPwFzUef3",
        "encoding": "base64",
        "path": [
         "attribute",
         "1.5789473684210527",
         "compressed_buffer"
        ]
       },
       {
        "data": "eNqNkz9ok1EUxQMuaitUtCBSoSX+iYqiYBfJu+dq46DS6OCgiOJYdanU6iYJEnVrKcVG0CGixakdFY3g4p86lzZuDopFEMFIQXDw98GrBLV8Dodz7ve4vHvPeV9uuhZy0zVb87FXsKZqP4X23vGrTu3rX90LwOau7RWscmVRaO+fuJSc+cT1sQCsfXazYN398kFoL506l5z52b5yADZzca1gHfwxI7Rv+3ooOfPufScDsIf7mwbr6cIjobVwc0ty5rt37AzALo+8MFjfn1SE1tH2FcmZj89nArAb30YN1tzxw0Jr45GXovYDU/U8CKsLJwy27MA6oXVheFTUOvZgJA/Cu2qPwfZ88L2hdad5OjlTJlPKg5DJdBgM3oAOvheSs7/667G/Gvud+0FYxf2w9XA/Wue5n1q3mR/YLeaH1WB+tLqYn9r3sD+wK+wPa5H90epnf+rf/k22+DfZ4l+a/8vlV475LeU/35I/2osx/9x/vp/l+tPuX5r/bZy/wPxo3x7nz7J/Nr4fWPX4fj6zP7Xvwj9gQ/gHq4l/Q/H9UPsY/gOr4D+sWfxHawP+U7uRHwgryQ+2bvJDa4D87B/v59kf+ae9nyL9IDToL8b+RuynVtr9afOn7b8J/4Ddxz9Yj/EPrU/4R+1n8B/Ya/yH1Yf/aN+K/9ReJT9gbeRXjfm1xf+f2jvJvzPmD6vUkj+1/wIYPscp",
        "encoding": "base64",
        "path": [
         "attribute",
         "1.6842105263157894",
         "compressed_buffer"
        ]
       },
       {
        "data": "eNqNkj1oVFEUhB9KHghGtxBkXSs7SUwj6faeOWIUxSUQUNBCwZC/yp9OsQlEo4hFIImNNlYWQUQJ4m/ATgMbkyIGwRhZjEhcmyDYid/Dq4TF8CyGmXmXyz1n5pWmJ0JpesJO7d8nWMvtqaP9xfCQ471p9G4A1nelLFiLKxsc7SOVwezMv529FYDVF9sEq/ZhVWjv2XgmO/OxhWsB2PBqUbDezs4L7Tuud2VnfqTQE4C1HE4E61nrQ6H94u227MxXhvYGYH3fXxusLbohtH6e25SdefNyUwB2/85Ng/WpvUtoPU+rwvvjgZdlEGbHTxhsb4rbhdaebWPC69j7kTIIH3/sMtgOHq8ZWt1zJ7MzJclgGYQkKRgMXoEC3zuys3Xvn473H/E+CDO8D9sM76PVyvt4bWV+YA+YH9Zn5kdrivnxf/cfiPsX2B+t5Pzv/SvkV4n5VRryw+fmn9ffn/771/Tfv6b/0n/+P+vdz3t/nPmBXWV+WO+YH+07mR/vnezfGfeHNRX3v8T+eP9CfsB6yQ9WM/n1xv8H75vJH9g98odVI3+0npI/3ifpD4Qq/cFWpT+0Wuhv8h//T0dD/3n/z1Hug7DEfdgOcH8p3scr7/28+fP2P0R+wHaTH6wn5If2C+SH91HyB3aZ/GEtkD/ai+SP9zr9AftKf/XYH9q76Q/vKf2nsf+0oX+8/wKDW+ci",
        "encoding": "base64",
        "path": [
         "attribute",
         "1.789473684210526",
         "compressed_buffer"
        ]
       },
       {
        "data": "eNqNkz1ok2EUhT8QRFtTCzp1rH8Yi6uCee+5asTFwUlt1NRRLKIIhkQduvgDXSQILi6FDi5SU+ggCg6ilBR/QIs4OAi2WVRKaVrcfD54C6W1fB0O59xcLu+953zJzUyE3MyEjY2cEqz5ni5He/n4sFP74kAjAFsYPilYf+sdjvbq+/tpz49eGA3AplqHBWvH5cTRXnx2O+15c/BhAHas1itYV57+ENq37bmY9vzmr2sB2Kb2ZsF6df2l0L61cSjt+ej3IwHYuf7PBmvf27rQakxvT3t+b74jAPt6+onB7N8vtMpvvojaD+56VwDhUatssN2Z6hFac+OPRa3zO+sFEFpndhtsn/TT0OobG0h7SpKhAghJ0m0wmATd/F5Me2vmP8b5A3G+j/dBqPM+bLd4H60/vE+tB+wP7Bv7w1pgf7QusT/1mvv3x/vH4/0V/KtE/yqr/KPO9H+9/E7E/Jbzb6/Iv70i/9wGv5/15rPeX96/GPe/yv5o74r7V7m/Gu+H9Tre38n91D6Cf8DO4h+svfiH1nP8o/a7+A9sGv9hzeE/WiX8p/Y8+eVjfrDVYn6/yS//n+/nQ8w/v8Hvp8Q8CLPMl+L8bJynVtb7Wftn3X8D/4Al+AfrBf6hfQv+Ufsk/gNz/Ic1iP9o78R/anfyA9YkP4/5NeP/n9qXyB/YIvkvxfzRXiN/av8Hcyjngg==",
        "encoding": "base64",
        "path": [
         "attribute",
         "1.894736842105263",
         "compressed_buffer"
        ]
       },
       {
        "data": "eNqNkk9rU1EQxW+zcSUJXWTpriq2+2LNnRm1C6tFqIuaSpG8UqTfQcQs2p0gGLGpfyBNXVkEEeum0EaoUPwEgnGrZBFB0F37nr8LVwmKvC4O58wb5s6bOeNcxzvXEeeqCoOyoUEDdOzr2LYHsvzgmsJaPjdsaEuu3g85e3TppQey+f2CwrpVO2Zoa2wuhxxvNHm/KVl2hrebmt7tK9rS3aWQs9b+bQ/kU+u4wrrzZk/R9vi9hZzdHJ/0QC7vdAXW81fWFK2LE+WQsywresD766CoaVbj/XX6dOGiPf/8oQL83NlFgeX0nROK1tczT5RYF6YbFeC/bY0ILDdOfRG0/ryXhBz/XK8AZiixozrYByW+T4acJtQnsR6WuVj/g3pibdMf+Cr9YTlJf7S+oj+xFlzJAym4NigRJ6CthXo35KzG/ECmmR/Wi8yP1lvMT5y7v7z95/n32/+VAf9XBvx3R7yf/9Xn9R/i/4EMuVGF2UsfHrVCZynkbIP5N+L8sL6L8z9jfmKbZ39AptgfrMb+puL9EFvK/QBJuR9YD7gftB5wP8TWwj/gZ/EPlhH8m43+Ef/j//W//D/q/fRjfZX6/kB9Xv+8/8+b/yn7A/KR/cG6zf7Qtsb+iNnPKu+vyiH3A2vG/RzG+yH+49+L6N9b/EPbw+hfD/970f/egP8L+E9svwDM0OLq",
        "encoding": "base64",
        "path": [
         "attribute",
         "2.0",
         "compressed_buffer"
        ]
       },
       {
        "data": "eNpjYGjYzwAHAvZlMu5I/Ab7mRpd+2BsEJbgaNoD5NhD+Az2uueL7WByIFVfftvB2Qh9DHA+AAjLEVw=",
        "encoding": "base64",
        "path": [
         "color_map",
         "compressed_buffer"
        ]
       },
       {
        "data": "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",
        "encoding": "base64",
        "path": [
         "indices",
         "compressed_buffer"
        ]
       },
       {
        "data": "eNpjYGiwZ8AAxIsBAF7EAv0=",
        "encoding": "base64",
        "path": [
         "model_matrix",
         "compressed_buffer"
        ]
       },
       {
        "data": "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",
        "encoding": "base64",
        "path": [
         "vertices",
         "compressed_buffer"
        ]
       }
      ],
      "model_module": "k3d",
      "model_module_version": "2.7.2",
      "model_name": "ObjectModel",
      "state": {
       "_color_range_high": 2.01,
       "_color_range_low": -1.1,
       "_view_count": null,
       "_view_module": null,
       "_view_module_version": "",
       "_view_name": null,
       "attribute": {
        "0.0": {
         "compressed_buffer": {},
         "dtype": "float32",
         "shape": [
          288
         ]
        },
        "0.10526315789473684": {
         "compressed_buffer": {},
         "dtype": "float32",
         "shape": [
          288
         ]
        },
        "0.21052631578947367": {
         "compressed_buffer": {},
         "dtype": "float32",
         "shape": [
          288
         ]
        },
        "0.3157894736842105": {
         "compressed_buffer": {},
         "dtype": "float32",
         "shape": [
          288
         ]
        },
        "0.42105263157894735": {
         "compressed_buffer": {},
         "dtype": "float32",
         "shape": [
          288
         ]
        },
        "0.5263157894736842": {
         "compressed_buffer": {},
         "dtype": "float32",
         "shape": [
          288
         ]
        },
        "0.631578947368421": {
         "compressed_buffer": {},
         "dtype": "float32",
         "shape": [
          288
         ]
        },
        "0.7368421052631579": {
         "compressed_buffer": {},
         "dtype": "float32",
         "shape": [
          288
         ]
        },
        "0.8421052631578947": {
         "compressed_buffer": {},
         "dtype": "float32",
         "shape": [
          288
         ]
        },
        "0.9473684210526315": {
         "compressed_buffer": {},
         "dtype": "float32",
         "shape": [
          288
         ]
        },
        "1.0526315789473684": {
         "compressed_buffer": {},
         "dtype": "float32",
         "shape": [
          288
         ]
        },
        "1.1578947368421053": {
         "compressed_buffer": {},
         "dtype": "float32",
         "shape": [
          288
         ]
        },
        "1.263157894736842": {
         "compressed_buffer": {},
         "dtype": "float32",
         "shape": [
          288
         ]
        },
        "1.3684210526315788": {
         "compressed_buffer": {},
         "dtype": "float32",
         "shape": [
          288
         ]
        },
        "1.4736842105263157": {
         "compressed_buffer": {},
         "dtype": "float32",
         "shape": [
          288
         ]
        },
        "1.5789473684210527": {
         "compressed_buffer": {},
         "dtype": "float32",
         "shape": [
          288
         ]
        },
        "1.6842105263157894": {
         "compressed_buffer": {},
         "dtype": "float32",
         "shape": [
          288
         ]
        },
        "1.789473684210526": {
         "compressed_buffer": {},
         "dtype": "float32",
         "shape": [
          288
         ]
        },
        "1.894736842105263": {
         "compressed_buffer": {},
         "dtype": "float32",
         "shape": [
          288
         ]
        },
        "2.0": {
         "compressed_buffer": {},
         "dtype": "float32",
         "shape": [
          288
         ]
        },
        "timeSeries": true
       },
       "click_callback": false,
       "color": 255,
       "colorLegend": true,
       "color_map": {
        "compressed_buffer": {},
        "dtype": "float32",
        "shape": [
         28
        ]
       },
       "color_range": [
        -1.1,
        2.01
       ],
       "compression_level": 0,
       "flat_shading": true,
       "hover_callback": false,
       "id": 4600902264,
       "indices": {
        "compressed_buffer": {},
        "dtype": "uint32",
        "shape": [
         538,
         3
        ]
       },
       "model_matrix": {
        "compressed_buffer": {},
        "dtype": "float32",
        "shape": [
         4,
         4
        ]
       },
       "name": "Mesh #1",
       "opacity": 1,
       "type": "Mesh",
       "vertices": {
        "compressed_buffer": {},
        "dtype": "float32",
        "shape": [
         288,
         3
        ]
       },
       "visible": true,
       "wireframe": false
      }
     },
     "47c954dfa7f843c5bf4e629893bcdac2": {
      "model_module": "@jupyter-widgets/output",
      "model_module_version": "1.0.0",
      "model_name": "OutputModel",
      "state": {
       "layout": "IPY_MODEL_7cb732592e8c46bcbf8fe377c68d3094",
       "outputs": [
        {
         "data": {
          "application/vnd.jupyter.widget-view+json": {
           "model_id": "7b8c8c1bd7784a1ca80f28e77448fe6d",
           "version_major": 2,
           "version_minor": 0
          },
          "text/plain": "Plot(antialias=3, axes=['x', 'y', 'z'], axes_helper=1.0, background_color=16777215, camera=[4.5, 4.5, 4.5, 0.0…"
         },
         "metadata": {},
         "output_type": "display_data"
        }
       ]
      }
     },
     "489efdb84b34465a9e5d0c6bbdec03bc": {
      "model_module": "k3d",
      "model_module_version": "2.7.2",
      "model_name": "PlotModel",
      "state": {
       "_backend_version": "2.7.2",
       "_dom_classes": [],
       "_view_count": null,
       "antialias": 3,
       "auto_rendering": true,
       "axes": [
        "x",
        "y",
        "z"
       ],
       "axes_helper": 1,
       "background_color": 16777215,
       "camera": [
        2.8778826572598577,
        -4.316823985889787,
        0.28778826572598526,
        0,
        0,
        0,
        0,
        0,
        1
       ],
       "camera_auto_fit": true,
       "camera_fov": 60,
       "camera_no_pan": false,
       "camera_no_rotate": false,
       "camera_no_zoom": false,
       "clipping_planes": [],
       "colorbar_object_id": -1,
       "fps": 25,
       "fps_meter": false,
       "grid": [
        -1,
        -1,
        -1,
        1,
        1,
        1
       ],
       "grid_auto_fit": true,
       "grid_visible": true,
       "height": 512,
       "layout": "IPY_MODEL_9cc23ce4b5454fc8a7ce5a5e6919da48",
       "lighting": 1.5,
       "menu_visibility": true,
       "mode": "view",
       "name": null,
       "object_ids": [],
       "rendering_steps": 1,
       "screenshot": "",
       "screenshot_scale": 2,
       "snapshot": "",
       "time": 0,
       "voxel_paint_color": 0
      }
     },
     "4ad60ad6e9574f95b28abb5db42c5a1a": {
      "model_module": "@jupyter-widgets/base",
      "model_module_version": "1.2.0",
      "model_name": "LayoutModel",
      "state": {}
     },
     "4b06c5352ca143e7bcc230532892f674": {
      "buffers": [
       {
        "data": "eNoDAAAAAAE=",
        "encoding": "base64",
        "path": [
         "attribute",
         "compressed_buffer"
        ]
       },
       {
        "data": "eNoDAAAAAAE=",
        "encoding": "base64",
        "path": [
         "color_map",
         "compressed_buffer"
        ]
       },
       {
        "data": "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",
        "encoding": "base64",
        "path": [
         "indices",
         "compressed_buffer"
        ]
       },
       {
        "data": "eNpjYGiwZ8AAxIsBAF7EAv0=",
        "encoding": "base64",
        "path": [
         "model_matrix",
         "compressed_buffer"
        ]
       },
       {
        "data": "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",
        "encoding": "base64",
        "path": [
         "vertices",
         "compressed_buffer"
        ]
       }
      ],
      "model_module": "k3d",
      "model_module_version": "2.7.2",
      "model_name": "ObjectModel",
      "state": {
       "_view_count": null,
       "_view_module": null,
       "_view_module_version": "",
       "_view_name": null,
       "attribute": {
        "compressed_buffer": {},
        "dtype": "float32",
        "shape": [
         0
        ]
       },
       "click_callback": false,
       "color": 255,
       "color_map": {
        "compressed_buffer": {},
        "dtype": "float32",
        "shape": [
         0
        ]
       },
       "color_range": [],
       "compression_level": 0,
       "flat_shading": true,
       "hover_callback": false,
       "id": 4991236136,
       "indices": {
        "compressed_buffer": {},
        "dtype": "uint32",
        "shape": [
         540,
         3
        ]
       },
       "model_matrix": {
        "compressed_buffer": {},
        "dtype": "float32",
        "shape": [
         4,
         4
        ]
       },
       "name": "Mesh #1",
       "opacity": 1,
       "type": "Mesh",
       "vertices": {
        "compressed_buffer": {},
        "dtype": "float32",
        "shape": [
         289,
         3
        ]
       },
       "visible": true,
       "wireframe": false
      }
     },
     "4f4f00950e3a41b88c73d01f394d418b": {
      "model_module": "@jupyter-widgets/base",
      "model_module_version": "1.2.0",
      "model_name": "LayoutModel",
      "state": {}
     },
     "578f7723b5ef4a0c9a02a6d838e93609": {
      "model_module": "@jupyter-widgets/base",
      "model_module_version": "1.2.0",
      "model_name": "LayoutModel",
      "state": {}
     },
     "5ce57941260343caa79ff2862046d0f4": {
      "model_module": "@jupyter-widgets/base",
      "model_module_version": "1.2.0",
      "model_name": "LayoutModel",
      "state": {}
     },
     "6218a516236741a09c8752ceca355e9a": {
      "model_module": "@jupyter-widgets/base",
      "model_module_version": "1.2.0",
      "model_name": "LayoutModel",
      "state": {}
     },
     "629e36c42872454abd08b42d70310b17": {
      "buffers": [
       {
        "data": "eNqFkl1IU2Ech+dNjPyYTsNgSglDgtRym2G0c96DztuiLyVwpQjmZ5pdre1iXXRjziK8qaSgC28cLjyz1La9B4yQ8CIdaUgpfRfVlSIMvOgJdjGC2MXhnMPL+f2f53f+JpMpaMpy1ZVHYt1lkXjhrifxwBJJrETNskb3yCtPbsqSxikZCtnjX4btiVOWuURPm1021wfls/JZuXcwJdVYhdGle+M/wt7EZkMqUdDklZfaw/Ld9o60TFQaL1ebjVlbIH7YGkhsTedLn88vl+WCHMnJM4J+t6HnDmU9/19+YTp/FL6v8J2Grxe+Fvjm4MuFT8BXj18vfsX4PcTvDX61+A3gV4pfTfx5LZcj6Trr5O5cmrS6eHatxW67eHcdK4+4e8oiStGuRx23RNRk1CyO6B5BP2Jf45QYCdmVz8N2lX7U7ja7OF8fFPQjzIMpocQqtB7dq/wMe9UPDSm1sMkr2trDYmN7RxRNVGqLq83avC2gVFsDKv7C7/OLpFwQ+Gs3/G5tJnco63m2/DvwfYfvDHz98F2Abx6+fPg0+Nz4DeBXit9j/N7iV4ffNfxs+NXET0xz6UlXUuceXZq8G+U5uhazzPA+c5x+++i3hH4fpft10O8g/e6n32z/J9v/xT9end4P/OVKej/wN/A35jivSp9f/+c8ynkn+d/If09+HvkXyV8nv4D8F+Tfgu8TfCfh64LvHHxP4dsDnxs+J36X8SvA7x5+r/Grwq8PP+vf/dlYOspVu+XrdHB3jOUfdPLstK2PO3l3uui3i375Xr1Pv8v0y/ein36L6Zf5CvNV5qvMF8wXzBfMF8zX4FfgV+FX4RfwC/gF/Br8Gv5KVXo/8BcrGfsRzdif7Yz9CWXsTx/5v8n/SL6V/A7yN8m3kv+K/DH4fsHXAt9V+Frhk/CVwOeB7xB+rfjl4DeK3yJ+B/DrwM+M3x+S7xHw",
        "encoding": "base64",
        "path": [
         "attribute",
         "compressed_buffer"
        ]
       },
       {
        "data": "eNpjYGjYzwAHAvZlMu5I/Ab7mRpd+2BsEJbgaNoD5NhD+Az2uueL7WByIFVfftvB2Qh9DHA+AAjLEVw=",
        "encoding": "base64",
        "path": [
         "color_map",
         "compressed_buffer"
        ]
       },
       {
        "data": "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",
        "encoding": "base64",
        "path": [
         "indices",
         "compressed_buffer"
        ]
       },
       {
        "data": "eNpjYGiwZ8AAxIsBAF7EAv0=",
        "encoding": "base64",
        "path": [
         "model_matrix",
         "compressed_buffer"
        ]
       },
       {
        "data": "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",
        "encoding": "base64",
        "path": [
         "vertices",
         "compressed_buffer"
        ]
       }
      ],
      "model_module": "k3d",
      "model_module_version": "2.7.2",
      "model_name": "ObjectModel",
      "state": {
       "_color_range_high": 1,
       "_color_range_low": -1,
       "_view_count": null,
       "_view_module": null,
       "_view_module_version": "",
       "_view_name": null,
       "attribute": {
        "compressed_buffer": {},
        "dtype": "float32",
        "shape": [
         289
        ]
       },
       "click_callback": false,
       "color": 255,
       "colorLegend": true,
       "color_map": {
        "compressed_buffer": {},
        "dtype": "float32",
        "shape": [
         28
        ]
       },
       "color_range": [
        -1,
        1
       ],
       "compression_level": 0,
       "flat_shading": true,
       "hover_callback": false,
       "id": 4907461712,
       "indices": {
        "compressed_buffer": {},
        "dtype": "uint32",
        "shape": [
         540,
         3
        ]
       },
       "model_matrix": {
        "compressed_buffer": {},
        "dtype": "float32",
        "shape": [
         4,
         4
        ]
       },
       "name": "Mesh #1",
       "opacity": 1,
       "type": "Mesh",
       "vertices": {
        "compressed_buffer": {},
        "dtype": "float32",
        "shape": [
         289,
         3
        ]
       },
       "visible": true,
       "wireframe": false
      }
     },
     "729a85305d5a4ca7b5e129bab5985ff7": {
      "model_module": "k3d",
      "model_module_version": "2.7.2",
      "model_name": "PlotModel",
      "state": {
       "_backend_version": "2.7.2",
       "_dom_classes": [],
       "_view_count": null,
       "antialias": 3,
       "auto_rendering": true,
       "axes": [
        "x",
        "y",
        "z"
       ],
       "axes_helper": 1,
       "background_color": 16777215,
       "camera": [
        2.477592547151882,
        -3.7163888207278233,
        0.24775925471519036,
        0,
        0,
        0,
        0,
        0,
        1
       ],
       "camera_auto_fit": true,
       "camera_fov": 60,
       "camera_no_pan": false,
       "camera_no_rotate": false,
       "camera_no_zoom": false,
       "clipping_planes": [],
       "colorbar_object_id": -1,
       "fps": 25,
       "fps_meter": false,
       "grid": [
        -1,
        -1,
        -1,
        1,
        1,
        1
       ],
       "grid_auto_fit": true,
       "grid_visible": true,
       "height": 512,
       "layout": "IPY_MODEL_cbb24dd53d3840e4b16dd66082f34247",
       "lighting": 1.5,
       "menu_visibility": true,
       "mode": "view",
       "name": null,
       "object_ids": [
        5016670840,
        5029745328
       ],
       "rendering_steps": 1,
       "screenshot": "",
       "screenshot_scale": 2,
       "snapshot": "",
       "time": 0,
       "voxel_paint_color": 0
      }
     },
     "73bc3f2ce01140718cf0efc4f988efb4": {
      "model_module": "@jupyter-widgets/base",
      "model_module_version": "1.2.0",
      "model_name": "LayoutModel",
      "state": {}
     },
     "7549465e2cae4662b67f66349a0d2f84": {
      "buffers": [
       {
        "data": "eNqFkk1IFGEch9dDIZmurobBKl2D1h13V2Nl5n0LN29R9CmBlCKUn2kEwuTFbmKuRXjpg8pY9qIHc7YP3ZnxsoSEh3RpDWmVvqyoLurNPfQEe1iC2MMwM7zM7/88v/k7HI4hR56rvlqJd1YpZmkmYT5wKtZybNjyGgnr6vQuuyLktcPhSPzrSMQ86Wywuloj1vmgw35ZHbT39Ou2NCfsDiMd/zGVNtcbdaukKW1davPYH7YHbGc0ar9OpexX7kz8kCtjbs2ELV3fsZbmQ/Zowag9NGjaRtFm3vP/5Zdm88fg24DvFHzd8DXDNwtfEXxH4Avi141fOX6P8HuHnw+/Pvwq8fNaai2XL1mX9HH3L07e9fPsXzGdAd4Dh6sVtatK0coyCe2hUxHJ2LBQjISgH7kv5JWj4Yj6ZSSi0Y/obI2Ic0GHpB9Z2K9LYU7ILiOt/pxKax8bdVHalBatbR65tj0gy6JRuZBKyTl3Rq1xZTT8xaC+I5LzIYm/vDloyudFm3nP8+Xfge87fKfh64XvAnxz8BXDdxQ+Db8+/Crxe4rfe/zq8buOnxs/rxWf5nqWrDszw31mcdJl8GysmLcN3o0G+u2h3wr6fZzt10+//fS7n37z/Z98/xf/eE12P/C3lrP7gb+Nvz3LuSd7fuOf8xjnl8n/Rn6a/L3kXyR/lfwS8hPk34LvM3wn4OuA7yx8L+DbDZ8GXwC/K/iV4HcPv7f4efDrwc/1d3/WjitctVv6Ri1333jxEx/PPvdqlZ93fx39dtAv32v36XeJfvle9NJvOf0yX2W+xnzBfMF8yXzJfMl8Cb8Kvwa/gF/AL+GX8Ev4Jf6qJ7sf+IvlnP2I5ezPds7+hHP2p4f83+R/It9Ffjv56+S7yH9D/jh8v+Brhu8afC3wzcNXAd8x+A7i14JfAX5j+C3gdwC/dvwK8fsDi+0nNQ==",
        "encoding": "base64",
        "path": [
         "attribute",
         "compressed_buffer"
        ]
       },
       {
        "data": "eNpjYGjYzwAHAvZlMu5I/Ab7mRpd+2BsEJbgaNoD5NhD+Az2uueL7WByIFVfftvB2Qh9DHA+AAjLEVw=",
        "encoding": "base64",
        "path": [
         "color_map",
         "compressed_buffer"
        ]
       },
       {
        "data": "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",
        "encoding": "base64",
        "path": [
         "indices",
         "compressed_buffer"
        ]
       },
       {
        "data": "eNpjYGiwZ8AAxIsBAF7EAv0=",
        "encoding": "base64",
        "path": [
         "model_matrix",
         "compressed_buffer"
        ]
       },
       {
        "data": "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",
        "encoding": "base64",
        "path": [
         "vertices",
         "compressed_buffer"
        ]
       }
      ],
      "model_module": "k3d",
      "model_module_version": "2.7.2",
      "model_name": "ObjectModel",
      "state": {
       "_view_count": null,
       "_view_module": null,
       "_view_module_version": "",
       "_view_name": null,
       "attribute": {
        "compressed_buffer": {},
        "dtype": "float32",
        "shape": [
         289
        ]
       },
       "click_callback": false,
       "color": 255,
       "color_map": {
        "compressed_buffer": {},
        "dtype": "float32",
        "shape": [
         28
        ]
       },
       "color_range": [
        -1,
        1
       ],
       "compression_level": 0,
       "flat_shading": true,
       "hover_callback": false,
       "id": 4894823088,
       "indices": {
        "compressed_buffer": {},
        "dtype": "uint32",
        "shape": [
         540,
         3
        ]
       },
       "model_matrix": {
        "compressed_buffer": {},
        "dtype": "float32",
        "shape": [
         4,
         4
        ]
       },
       "name": "Mesh #1",
       "opacity": 1,
       "type": "Mesh",
       "vertices": {
        "compressed_buffer": {},
        "dtype": "float32",
        "shape": [
         289,
         3
        ]
       },
       "visible": true,
       "wireframe": false
      }
     },
     "75888af14a764fdaa787838fec3254b6": {
      "buffers": [
       {
        "data": "eNqFkk1IFGEch9dDIZmurobBKl2D1h131ViZed/CzVsUfUogpQjlZxqBMHmxm5hrEV76oDKWvejBnO1Dd2a8LCHhQV1aQ1qlLyuqi3pzDz3BHpag9jDMDC/z+z/Pb/4Oh2PQ8Z+rrlKJdVQoZnE6bj5wKtZydMjyGnHr6tQuuyzotUOhcOzLcNg86ay3OlvC1vmAw35ZGbD39Om2NMftdiMV+z6ZMtcbdKuoMWVdavXY77f7bWckYr9OJu1X7nTskCttbk2HLF3fsZbmgvZI3og9OGDaRsFmzvN/5Rdn8kfh24DvFHxd8DXBNwNfAXxH4Avg14VfKX6P8HuLnw+/XvzK8fNaajWXL1Gb8HH3L0zc9fPsXzGdNbzXHK5U1M4KRStJx7WHTkUkokNCMeKCfuS+oFeOhMLq5+GwRj+ioyUszgUckn5kfp8uhTkuO42U+mMypX1o0EVxY0q0tHrk2na/LIlE5HwyKWfdabXKldbwFwP6jkjMBSX+8uaAKZ8XbOY8z5V/B75v8J2Grwe+C/DNwlcI31H4NPx68SvH7yl+7/Crw+86fm78vFZsiutZovbMNPfphQmXwbOxYt42eDfq6bebfsvo93GmXz/99tHvfvrN9X9y/V/8Y1WZ/cDfWs7sB/42/vYM557M+Y2/zqOcXyb/K/kp8veSf5H8VfKLyI+Tfwu+T/CdgK8dvrPwvYBvN3wafDX4XcGvCL97+C3i58GvGz/Xn/1ZO65wVW/pG9XcfWOFT3w8+9yrFX7e/bX0206/fK/dp98l+uV70UO/pfTLfJX5GvMF8wXzJfMl8yXzJfwq/Br8An4Bv4Rfwi/hl/irnsx+4C+Ws/YjmrU/21n7E8ran27yf5H/kXwX+W3kr5PvIv8N+WPw/YSvCb5r8DXDNwdfGXzH4DuIXzN+efiN4jeP3wH82vDLx+83S0smtQ==",
        "encoding": "base64",
        "path": [
         "attribute",
         "compressed_buffer"
        ]
       },
       {
        "data": "eNoDAAAAAAE=",
        "encoding": "base64",
        "path": [
         "color_map",
         "compressed_buffer"
        ]
       },
       {
        "data": "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",
        "encoding": "base64",
        "path": [
         "indices",
         "compressed_buffer"
        ]
       },
       {
        "data": "eNpjYGiwZ8AAxIsBAF7EAv0=",
        "encoding": "base64",
        "path": [
         "model_matrix",
         "compressed_buffer"
        ]
       },
       {
        "data": "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",
        "encoding": "base64",
        "path": [
         "vertices",
         "compressed_buffer"
        ]
       }
      ],
      "model_module": "k3d",
      "model_module_version": "2.7.2",
      "model_name": "ObjectModel",
      "state": {
       "_color_range_high": 0.4727455675601959,
       "_color_range_low": -0.4727455675601959,
       "_view_count": null,
       "_view_module": null,
       "_view_module_version": "",
       "_view_name": null,
       "attribute": {
        "compressed_buffer": {},
        "dtype": "float32",
        "shape": [
         288
        ]
       },
       "click_callback": false,
       "color": 255,
       "colorLegend": false,
       "color_map": {
        "compressed_buffer": {},
        "dtype": "float32",
        "shape": [
         0
        ]
       },
       "color_range": [
        -0.4727455675601959,
        0.4727455675601959
       ],
       "compression_level": 0,
       "flat_shading": true,
       "hover_callback": false,
       "id": 4996486144,
       "indices": {
        "compressed_buffer": {},
        "dtype": "uint32",
        "shape": [
         538,
         3
        ]
       },
       "model_matrix": {
        "compressed_buffer": {},
        "dtype": "float32",
        "shape": [
         4,
         4
        ]
       },
       "name": "Mesh #2",
       "opacity": 1,
       "type": "Mesh",
       "vertices": {
        "compressed_buffer": {},
        "dtype": "float32",
        "shape": [
         288,
         3
        ]
       },
       "visible": true,
       "wireframe": false
      }
     },
     "76fa1467c683439fb93c801ff4da0dec": {
      "model_module": "@jupyter-widgets/base",
      "model_module_version": "1.2.0",
      "model_name": "LayoutModel",
      "state": {}
     },
     "7b8c8c1bd7784a1ca80f28e77448fe6d": {
      "model_module": "k3d",
      "model_module_version": "2.7.2",
      "model_name": "PlotModel",
      "state": {
       "_backend_version": "2.7.2",
       "_dom_classes": [],
       "_view_count": null,
       "antialias": 3,
       "auto_rendering": true,
       "axes": [
        "x",
        "y",
        "z"
       ],
       "axes_helper": 1,
       "background_color": 16777215,
       "camera": [
        2.037180424287297,
        -3.0557706364309434,
        2.5541255022526532,
        0,
        0,
        0,
        -0.291001796970361,
        0.4365026954555417,
        0.8513420881291299
       ],
       "camera_auto_fit": true,
       "camera_fov": 60,
       "camera_no_pan": false,
       "camera_no_rotate": false,
       "camera_no_zoom": false,
       "clipping_planes": [],
       "colorbar_object_id": -1,
       "fps": 25,
       "fps_meter": false,
       "grid": [
        -1,
        -1,
        -1,
        1,
        1,
        1
       ],
       "grid_auto_fit": true,
       "grid_visible": true,
       "height": 512,
       "layout": "IPY_MODEL_c2edc50f11c548e0b3c02ab6b7447198",
       "lighting": 1.5,
       "menu_visibility": true,
       "mode": "view",
       "name": null,
       "object_ids": [
        4489490560
       ],
       "rendering_steps": 1,
       "screenshot": "",
       "screenshot_scale": 2,
       "snapshot": "",
       "time": 0,
       "voxel_paint_color": 0
      }
     },
     "7c99d3bf9b164a7ba8b6818d9875f2bd": {
      "buffers": [
       {
        "data": "eNqFk0tIVFEch8dFYZgOjvbCkdbROC/NtHvvIZzcRVERElgpLhxfNLUQJltYK9GZhGoTFSkNs9GFzZ0eOvceN1NIuKiGxjDG6CX2oIW6cxZ9wl1IULM43Hv4M7/zfb97xmazDdoKrPpqT6rL6THs+bRx3+4x3yaHTLeeNvumtsldAbeMRmOpb8Mx46S90exui5ktDTb5rLpB7giFpTDGZVDPpb5P5oylprBZ1pwzL7S75If1fmmPx+XLbFY+r8qnDjryxmoial4Nb5hvZgNypCgiBwcMqZesFpxv5v/4T/5N+JbhOwVfj8U3DV+JxdeIXy9+Dvwe4vcOPx9+l/Dbi5/bVLwsX6Yu4+Ppn5+45efdv2DYa9nXHq72KN1Oj1qeT6sP7B4tkxzSvHpaox+xO+AWkWhM+TocU+lH62qLaWcbbIJ+RHEoLDRjXHTrOeXnZE791BTW7M057WK7Syyt94vyeFzMZbNipiqv1Djy6loiqg2EN7TMbEBEiiLi+oAhnpSsFpwXyh+FbwW+0/D1wXcOvhn4SuE7Cp+GXwi/Pfg9wu89fvX4XcHPiZ/bTE2xHmfqziR4JuYnHDrv+oIxqrPXj9BvH/1W0u8Y/Wbpt5Z+Q/S7j34LfZ9C3xf/VI11P/A3M9b9wF/iL6eZu5ivbZlHrHmSeSf5K+TnyN9J/nnyF8kvI/8F+SPwfYHvBHxB+Ph+8il82+FT4avDrxO/Mvzu4vcaPxd+PfhVbN6fpeMelnctvOzl6btTOubj3Ve16PSz9x+i3yD98nv1Hv3y/9Jq6LeXfivpl/MVzlc5Xwta94fzBecLzhfwK/Cr8Gvwa/AL+AX8An6Bv+L6x/1I/nV/rm2Z37DuTy/5v8n/TL6D/A7yP5LvIP8V+bfh+wVfC3yX4WuFbxa+CviOwXcAv1b8bPiN4jeH3378OvArxu8PkO0nQg==",
        "encoding": "base64",
        "path": [
         "attribute",
         "compressed_buffer"
        ]
       },
       {
        "data": "eNoDAAAAAAE=",
        "encoding": "base64",
        "path": [
         "color_map",
         "compressed_buffer"
        ]
       },
       {
        "data": "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",
        "encoding": "base64",
        "path": [
         "indices",
         "compressed_buffer"
        ]
       },
       {
        "data": "eNpjYGiwZ8AAxIsBAF7EAv0=",
        "encoding": "base64",
        "path": [
         "model_matrix",
         "compressed_buffer"
        ]
       },
       {
        "data": "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",
        "encoding": "base64",
        "path": [
         "vertices",
         "compressed_buffer"
        ]
       }
      ],
      "model_module": "k3d",
      "model_module_version": "2.7.2",
      "model_name": "ObjectModel",
      "state": {
       "_view_count": null,
       "_view_module": null,
       "_view_module_version": "",
       "_view_name": null,
       "attribute": {
        "compressed_buffer": {},
        "dtype": "float32",
        "shape": [
         289
        ]
       },
       "click_callback": false,
       "color": 255,
       "color_map": {
        "compressed_buffer": {},
        "dtype": "float32",
        "shape": [
         0
        ]
       },
       "color_range": [
        -2,
        2
       ],
       "compression_level": 0,
       "flat_shading": true,
       "hover_callback": false,
       "id": 4989708608,
       "indices": {
        "compressed_buffer": {},
        "dtype": "uint32",
        "shape": [
         540,
         3
        ]
       },
       "model_matrix": {
        "compressed_buffer": {},
        "dtype": "float32",
        "shape": [
         4,
         4
        ]
       },
       "name": "Mesh #1",
       "opacity": 1,
       "type": "Mesh",
       "vertices": {
        "compressed_buffer": {},
        "dtype": "float32",
        "shape": [
         289,
         3
        ]
       },
       "visible": true,
       "wireframe": false
      }
     },
     "7cb732592e8c46bcbf8fe377c68d3094": {
      "model_module": "@jupyter-widgets/base",
      "model_module_version": "1.2.0",
      "model_name": "LayoutModel",
      "state": {}
     },
     "7d8b889581a3473b9252933ee77f7958": {
      "model_module": "@jupyter-widgets/base",
      "model_module_version": "1.2.0",
      "model_name": "LayoutModel",
      "state": {}
     },
     "7f0457f290184c2a8ce0260d0685e452": {
      "model_module": "@jupyter-widgets/base",
      "model_module_version": "1.2.0",
      "model_name": "LayoutModel",
      "state": {}
     },
     "807de0321a48482281003efdc9372996": {
      "buffers": [
       {
        "data": "eNqFkk1IFGEch9dDIZmurobBKl2D1h13V2Nl5n0LN29R9CmBlCKUn2kEwuTFbmKuRXjpg8pY9qIHc7YP3ZnxsoSEh3RpDWmVvqyoLurNPfQEe1iC2MMwM7zM7/88v/k7HI4hR56rvlqJd1YpZmkmYT5wKtZybNjyGgnr6vQuuyLktcPhSPzrSMQ86Wywuloj1vmgw35ZHbT39Ou2NCfsDiMd/zGVNtcbdaukKW1davPYH7YHbGc0ar9OpexX7kz8kCtjbs2ELV3fsZbmQ/Zowag9NGjaRtFm3vP/5Zdm88fg24DvFHzd8DXDNwtfEXxH4Avi141fOX6P8HuHnw+/Pvwq8fNaai2XL1mX9HH3L07e9fPsXzGdAd4Dh6sVtatK0coyCe2hUxHJ2LBQjISgH7kv5JWj4Yj6ZSSi0Y/obI2Ic0GHpB9Z2K9LYU7ILiOt/pxKax8bdVHalBatbR65tj0gy6JRuZBKyTl3Rq1xZTT8xaC+I5LzIYm/vDloyudFm3nP8+Xfge87fKfh64XvAnxz8BXDdxQ+Db8+/Crxe4rfe/zq8buOnxs/rxWf5nqWrDszw31mcdJl8GysmLcN3o0G+u2h3wr6fZzt10+//fS7n37z/Z98/xf/eE12P/C3lrP7gb+Nvz3LuSd7fuOf8xjnl8n/Rn6a/L3kXyR/lfwS8hPk34LvM3wn4OuA7yx8L+DbDZ8GXwC/K/iV4HcPv7f4efDrwc/1d3/WjitctVv6Ri1333jxEx/PPvdqlZ93fx39dtAv32v36XeJfvle9NJvOf0yX2W+xnzBfMF8yXzJfMl8Cb8Kvwa/gF/AL+GX8Ev4Jf6qJ7sf+IvlnP2I5ezPds7+hHP2p4f83+R/It9Ffjv56+S7yH9D/jh8v+Brhu8afC3wzcNXAd8x+A7i14JfAX5j+C3gdwC/dvwK8fsDi+0nNQ==",
        "encoding": "base64",
        "path": [
         "attribute",
         "compressed_buffer"
        ]
       },
       {
        "data": "eNpjYGjYzwAHAvZlMu5I/Ab7mRpd+2BsEJbgaNoD5NhD+Az2uueL7WByIFVfftvB2Qh9DHA+AAjLEVw=",
        "encoding": "base64",
        "path": [
         "color_map",
         "compressed_buffer"
        ]
       },
       {
        "data": "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",
        "encoding": "base64",
        "path": [
         "indices",
         "compressed_buffer"
        ]
       },
       {
        "data": "eNpjYGiwZ8AAxIsBAF7EAv0=",
        "encoding": "base64",
        "path": [
         "model_matrix",
         "compressed_buffer"
        ]
       },
       {
        "data": "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",
        "encoding": "base64",
        "path": [
         "vertices",
         "compressed_buffer"
        ]
       }
      ],
      "model_module": "k3d",
      "model_module_version": "2.7.2",
      "model_name": "ObjectModel",
      "state": {
       "_color_range_high": 0.1,
       "_color_range_low": -0.1,
       "_view_count": null,
       "_view_module": null,
       "_view_module_version": "",
       "_view_name": null,
       "attribute": {
        "compressed_buffer": {},
        "dtype": "float32",
        "shape": [
         289
        ]
       },
       "click_callback": false,
       "color": 255,
       "colorLegend": true,
       "color_map": {
        "compressed_buffer": {},
        "dtype": "float32",
        "shape": [
         28
        ]
       },
       "color_range": [
        -0.1,
        0.1
       ],
       "compression_level": 0,
       "flat_shading": true,
       "hover_callback": false,
       "id": 4747198416,
       "indices": {
        "compressed_buffer": {},
        "dtype": "uint32",
        "shape": [
         540,
         3
        ]
       },
       "model_matrix": {
        "compressed_buffer": {},
        "dtype": "float32",
        "shape": [
         4,
         4
        ]
       },
       "name": "Mesh #1",
       "opacity": 1,
       "type": "Mesh",
       "vertices": {
        "compressed_buffer": {},
        "dtype": "float32",
        "shape": [
         289,
         3
        ]
       },
       "visible": true,
       "wireframe": false
      }
     },
     "840dee2f01454e73a2a3f612bf3a91ef": {
      "model_module": "@jupyter-widgets/output",
      "model_module_version": "1.0.0",
      "model_name": "OutputModel",
      "state": {
       "layout": "IPY_MODEL_446738b3e228467eb728f33163a98b78",
       "outputs": [
        {
         "data": {
          "application/vnd.jupyter.widget-view+json": {
           "model_id": "fa199cb111cb4c43b6c2ed2696c090a8",
           "version_major": 2,
           "version_minor": 0
          },
          "text/plain": "Plot(antialias=3, axes=['x', 'y', 'z'], axes_helper=1.0, background_color=16777215, camera=[4.5, 4.5, 4.5, 0.0…"
         },
         "metadata": {},
         "output_type": "display_data"
        }
       ]
      }
     },
     "84491b1de4de4286953e8b0057482f70": {
      "model_module": "k3d",
      "model_module_version": "2.7.2",
      "model_name": "PlotModel",
      "state": {
       "_backend_version": "2.7.2",
       "_dom_classes": [],
       "_view_count": null,
       "antialias": 3,
       "auto_rendering": true,
       "axes": [
        "x",
        "y",
        "z"
       ],
       "axes_helper": 1,
       "background_color": 16777215,
       "camera": [
        2.477592547151882,
        -3.7163888207278233,
        0.24775925471518775,
        0,
        0,
        0,
        0,
        0,
        1
       ],
       "camera_auto_fit": true,
       "camera_fov": 60,
       "camera_no_pan": false,
       "camera_no_rotate": false,
       "camera_no_zoom": false,
       "clipping_planes": [],
       "colorbar_object_id": -1,
       "fps": 25,
       "fps_meter": false,
       "grid": [
        -1,
        -1,
        -1,
        1,
        1,
        1
       ],
       "grid_auto_fit": true,
       "grid_visible": true,
       "height": 512,
       "layout": "IPY_MODEL_096eb337b76d40ab8b1daffa04022dd9",
       "lighting": 1.5,
       "menu_visibility": true,
       "mode": "view",
       "name": null,
       "object_ids": [
        5029745328
       ],
       "rendering_steps": 1,
       "screenshot": "",
       "screenshot_scale": 2,
       "snapshot": "",
       "time": 0,
       "voxel_paint_color": 0
      }
     },
     "84e453f9d81f42d584126b9af9536f36": {
      "model_module": "k3d",
      "model_module_version": "2.7.2",
      "model_name": "PlotModel",
      "state": {
       "_backend_version": "2.7.2",
       "_dom_classes": [],
       "_view_count": null,
       "antialias": 3,
       "auto_rendering": true,
       "axes": [
        "x",
        "y",
        "z"
       ],
       "axes_helper": 1,
       "background_color": 16777215,
       "camera": [
        2.477592547151882,
        -3.7163888207278233,
        0.24775925471518775,
        0,
        0,
        0,
        0,
        0,
        1
       ],
       "camera_auto_fit": true,
       "camera_fov": 60,
       "camera_no_pan": false,
       "camera_no_rotate": false,
       "camera_no_zoom": false,
       "clipping_planes": [],
       "colorbar_object_id": -1,
       "fps": 25,
       "fps_meter": false,
       "grid": [
        -1,
        -1,
        -1,
        1,
        1,
        1
       ],
       "grid_auto_fit": true,
       "grid_visible": true,
       "height": 512,
       "layout": "IPY_MODEL_379a56fa760043ceb52c6951d344536e",
       "lighting": 1.5,
       "menu_visibility": true,
       "mode": "view",
       "name": null,
       "object_ids": [
        4747198416
       ],
       "rendering_steps": 1,
       "screenshot": "",
       "screenshot_scale": 2,
       "snapshot": "",
       "time": 0,
       "voxel_paint_color": 0
      }
     },
     "8c4517554b7949108433ee0760eb763e": {
      "model_module": "k3d",
      "model_module_version": "2.7.2",
      "model_name": "PlotModel",
      "state": {
       "_backend_version": "2.7.2",
       "_dom_classes": [],
       "_view_count": null,
       "antialias": 3,
       "auto_rendering": true,
       "axes": [
        "x",
        "y",
        "z"
       ],
       "axes_helper": 1,
       "background_color": 16777215,
       "camera": [
        2.477592547151882,
        -3.7163888207278233,
        0.24775925471519036,
        0,
        0,
        0,
        0,
        0,
        1
       ],
       "camera_auto_fit": true,
       "camera_fov": 60,
       "camera_no_pan": false,
       "camera_no_rotate": false,
       "camera_no_zoom": false,
       "clipping_planes": [],
       "colorbar_object_id": -1,
       "fps": 25,
       "fps_meter": false,
       "grid": [
        -1,
        -1,
        -1,
        1,
        1,
        1
       ],
       "grid_auto_fit": true,
       "grid_visible": true,
       "height": 512,
       "layout": "IPY_MODEL_a97be647a9454dcfb2bbbd20583ae1c4",
       "lighting": 1.5,
       "menu_visibility": true,
       "mode": "view",
       "name": null,
       "object_ids": [
        4894823088
       ],
       "rendering_steps": 1,
       "screenshot": "",
       "screenshot_scale": 2,
       "snapshot": "",
       "time": 0,
       "voxel_paint_color": 0
      }
     },
     "8ebf236a116d4515b2a3035230510f51": {
      "model_module": "@jupyter-widgets/base",
      "model_module_version": "1.2.0",
      "model_name": "LayoutModel",
      "state": {}
     },
     "8f5906f1042047c3845a3ed08f24d75d": {
      "model_module": "@jupyter-widgets/base",
      "model_module_version": "1.2.0",
      "model_name": "LayoutModel",
      "state": {}
     },
     "9105859924f24689945e823e913412de": {
      "model_module": "k3d",
      "model_module_version": "2.7.2",
      "model_name": "PlotModel",
      "state": {
       "_backend_version": "2.7.2",
       "_dom_classes": [],
       "_view_count": null,
       "antialias": 3,
       "auto_rendering": true,
       "axes": [
        "x",
        "y",
        "z"
       ],
       "axes_helper": 1,
       "background_color": 16777215,
       "camera": [
        1.7020418266276656,
        -2.08561082186122,
        2.340639633403697,
        0,
        0,
        0,
        -0.3447083115662929,
        0.5090770397106549,
        0.7886803836641002
       ],
       "camera_auto_fit": true,
       "camera_fov": 60,
       "camera_no_pan": false,
       "camera_no_rotate": false,
       "camera_no_zoom": false,
       "clipping_planes": [],
       "colorbar_object_id": -1,
       "fps": 25,
       "fps_meter": false,
       "grid": [
        -1,
        -1,
        -1,
        1,
        1,
        1
       ],
       "grid_auto_fit": true,
       "grid_visible": true,
       "height": 512,
       "layout": "IPY_MODEL_7d8b889581a3473b9252933ee77f7958",
       "lighting": 1.5,
       "menu_visibility": true,
       "mode": "view",
       "name": null,
       "object_ids": [
        5034036808
       ],
       "rendering_steps": 1,
       "screenshot": "",
       "screenshot_scale": 2,
       "snapshot": "",
       "time": 0,
       "voxel_paint_color": 0
      }
     },
     "927b175231cc4c119eeeb207fd7915a2": {
      "model_module": "@jupyter-widgets/output",
      "model_module_version": "1.0.0",
      "model_name": "OutputModel",
      "state": {
       "layout": "IPY_MODEL_182fb2e5e6a3478e817838da0f9bf489",
       "outputs": [
        {
         "data": {
          "application/vnd.jupyter.widget-view+json": {
           "model_id": "0e30893e8eb844519d8018cad301f9bd",
           "version_major": 2,
           "version_minor": 0
          },
          "text/plain": "Plot(antialias=3, axes=['x', 'y', 'z'], axes_helper=1.0, background_color=16777215, camera=[4.5, 4.5, 4.5, 0.0…"
         },
         "metadata": {},
         "output_type": "display_data"
        }
       ]
      }
     },
     "929f2e24008d4179941ba46c83a4dfbd": {
      "model_module": "@jupyter-widgets/base",
      "model_module_version": "1.2.0",
      "model_name": "LayoutModel",
      "state": {}
     },
     "977e729d109040819b9b1466d7dbefe5": {
      "model_module": "@jupyter-widgets/base",
      "model_module_version": "1.2.0",
      "model_name": "LayoutModel",
      "state": {}
     },
     "9cc23ce4b5454fc8a7ce5a5e6919da48": {
      "model_module": "@jupyter-widgets/base",
      "model_module_version": "1.2.0",
      "model_name": "LayoutModel",
      "state": {}
     },
     "a083447a64a44824aeee0b408f3729cb": {
      "model_module": "k3d",
      "model_module_version": "2.7.2",
      "model_name": "PlotModel",
      "state": {
       "_backend_version": "2.7.2",
       "_dom_classes": [],
       "_view_count": null,
       "antialias": 3,
       "auto_rendering": true,
       "axes": [
        "x",
        "y",
        "z"
       ],
       "axes_helper": 1,
       "background_color": 16777215,
       "camera": [
        0.7835564733754506,
        -3.6717304429245803,
        2.4322479627625557,
        0,
        0,
        0,
        -0.2113975026969854,
        0.4590219175075871,
        0.8629078601456449
       ],
       "camera_auto_fit": true,
       "camera_fov": 60,
       "camera_no_pan": false,
       "camera_no_rotate": false,
       "camera_no_zoom": false,
       "clipping_planes": [],
       "colorbar_object_id": -1,
       "fps": 25,
       "fps_meter": false,
       "grid": [
        -1,
        -1,
        -1,
        1,
        1,
        1
       ],
       "grid_auto_fit": true,
       "grid_visible": true,
       "height": 512,
       "layout": "IPY_MODEL_8ebf236a116d4515b2a3035230510f51",
       "lighting": 1.5,
       "menu_visibility": true,
       "mode": "view",
       "name": null,
       "object_ids": [
        4989708608
       ],
       "rendering_steps": 1,
       "screenshot": "",
       "screenshot_scale": 2,
       "snapshot": "",
       "time": 0,
       "voxel_paint_color": 0
      }
     },
     "a6c298ffeeeb4493926aa6b6e7ef562c": {
      "model_module": "k3d",
      "model_module_version": "2.7.2",
      "model_name": "PlotModel",
      "state": {
       "_backend_version": "2.7.2",
       "_dom_classes": [],
       "_view_count": null,
       "antialias": 3,
       "auto_rendering": true,
       "axes": [
        "x",
        "y",
        "z"
       ],
       "axes_helper": 1,
       "background_color": 16777215,
       "camera": [
        -0.06616500683215437,
        -1.1822961636033558,
        1.0373823447096981,
        0,
        0,
        0,
        -0.19232761423317787,
        0.6108851847234344,
        0.7680035025237749
       ],
       "camera_auto_fit": true,
       "camera_fov": 60,
       "camera_no_pan": false,
       "camera_no_rotate": false,
       "camera_no_zoom": false,
       "clipping_planes": [],
       "colorbar_object_id": -1,
       "fps": 25,
       "fps_meter": false,
       "grid": [
        -1,
        -1,
        -1,
        1,
        1,
        1
       ],
       "grid_auto_fit": true,
       "grid_visible": true,
       "height": 512,
       "layout": "IPY_MODEL_0e5f552c82144d5b944f4bcdcf6c6100",
       "lighting": 1.5,
       "menu_visibility": true,
       "mode": "view",
       "name": null,
       "object_ids": [
        4907461712
       ],
       "rendering_steps": 1,
       "screenshot": "",
       "screenshot_scale": 2,
       "snapshot": "",
       "time": 0,
       "voxel_paint_color": 0
      }
     },
     "a97be647a9454dcfb2bbbd20583ae1c4": {
      "model_module": "@jupyter-widgets/base",
      "model_module_version": "1.2.0",
      "model_name": "LayoutModel",
      "state": {}
     },
     "bd828bd8a5314de19f5d2416071f1a3b": {
      "buffers": [
       {
        "data": "eNqFkltIFFEch40sqV56kX2KbXYuK4W9dFtnzuwsFEJIVBgiGFHhQ0n3HvLB2JSNSKVwWS1jibYghDAWpEikUmovuBHFvtSSURHlQ7akxRIJ9kEnkIWYgWHOcPj9zvf9Zyoq3K9PfcUt968UA9+jHvPe0aIZXBK13vo84lqiR3QFZ0RTT35rVyRfp2SWWc2evJU6eV6MtVXa2qozdmLfc9tZcAILc47pHzlt7Qw54pc+LTqt4/bl0ms707Ap2F/fHkhvbDfNqbh1rOqsyA5X24fUQftmamXQW2h13f9ff5/sb4YvAp8GXwt8GfgewWfAdxu+r/iN4fcTvwf4bcfvPX7X8evGb2Z4hcKtekMbNJ76y9VDOmuj6kjC4N3/mfxD8rPkk+RD5KfkfCLkGzk/LOfTxPlP5XwUzr/B+dvgX/rDMdfDvxv+efgvwB+DPwf/IP6T0v8U/jnpn8Bfxd9t361/P3yX4NPhOwBfDr4n8K2D7w58JfzS+P3GbwK/Bvy+4HcLv/6/8/Fxa8xE52kwH4O1n/n4ea8pkn9MvkR+VM73I/k4+V7ybt/H7fuW+0+W+V9lPyv3T5TtK+wL+ufpV+nfQX+J/nP099L/jP498HXAtxa+Rvgm4BuFbw18cfje4ZfE7xt+Q/jV4fcGvxh+HfgVZlUvt9IS3uXjqc4pWZW1Vr15XONd/0B+RObvkhcyP0A+TN7tfDd+N/9/8xOL/p/WRfOrp385/08t/XvprzSmxUX6B+h/Qf9h+GLw1cLXBt8r+NLwBeBLwjeOXxS/An7d+NXgl8KvE7+D+P0BrurdRQ==",
        "encoding": "base64",
        "path": [
         "attribute",
         "compressed_buffer"
        ]
       },
       {
        "data": "eNpjYGjYzwAHAvZlMu5I/Ab7mRpd+2BsEJbgaNoD5NhD+Az2uueL7WByIFVfftvB2Qh9DHA+AAjLEVw=",
        "encoding": "base64",
        "path": [
         "color_map",
         "compressed_buffer"
        ]
       },
       {
        "data": "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",
        "encoding": "base64",
        "path": [
         "indices",
         "compressed_buffer"
        ]
       },
       {
        "data": "eNpjYGiwZ8AAxIsBAF7EAv0=",
        "encoding": "base64",
        "path": [
         "model_matrix",
         "compressed_buffer"
        ]
       },
       {
        "data": "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",
        "encoding": "base64",
        "path": [
         "vertices",
         "compressed_buffer"
        ]
       }
      ],
      "model_module": "k3d",
      "model_module_version": "2.7.2",
      "model_name": "ObjectModel",
      "state": {
       "_color_range_high": 1,
       "_color_range_low": -1,
       "_view_count": null,
       "_view_module": null,
       "_view_module_version": "",
       "_view_name": null,
       "attribute": {
        "compressed_buffer": {},
        "dtype": "float32",
        "shape": [
         289
        ]
       },
       "click_callback": false,
       "color": 255,
       "colorLegend": true,
       "color_map": {
        "compressed_buffer": {},
        "dtype": "float32",
        "shape": [
         28
        ]
       },
       "color_range": [
        -1,
        1
       ],
       "compression_level": 0,
       "flat_shading": true,
       "hover_callback": false,
       "id": 4346877936,
       "indices": {
        "compressed_buffer": {},
        "dtype": "uint32",
        "shape": [
         540,
         3
        ]
       },
       "model_matrix": {
        "compressed_buffer": {},
        "dtype": "float32",
        "shape": [
         4,
         4
        ]
       },
       "name": "Mesh #1",
       "opacity": 1,
       "type": "Mesh",
       "vertices": {
        "compressed_buffer": {},
        "dtype": "float32",
        "shape": [
         289,
         3
        ]
       },
       "visible": true,
       "wireframe": false
      }
     },
     "be41a3b77f9d4a06bda9450068aff00f": {
      "model_module": "@jupyter-widgets/base",
      "model_module_version": "1.2.0",
      "model_name": "LayoutModel",
      "state": {}
     },
     "beae6fc21bf347d8abcef9b11b59b9d4": {
      "buffers": [
       {
        "data": "eNqFkk1IFGEch9dDIZmurobBKl2D1h131ViZed/CzVsUfUogpQjlZxqBMHmxm5hrEV76oDKWvejBnO1Dd2a8LCHhQV1aQ1qlLyuqi3pzDz3BHpag9jDMDC/z+z/Pb/4Oh2PQ8Z+rrlKJdVQoZnE6bj5wKtZydMjyGnHr6tQuuyzotUOhcOzLcNg86ay3OlvC1vmAw35ZGbD39Om2NMftdiMV+z6ZMtcbdKuoMWVdavXY77f7bWckYr9OJu1X7nTskCttbk2HLF3fsZbmgvZI3og9OGDaRsFmzvN/5Rdn8kfh24DvFHxd8DXBNwNfAXxH4Avg14VfKX6P8HuLnw+/XvzK8fNaajWXL1Gb8HH3L0zc9fPsXzGdNbzXHK5U1M4KRStJx7WHTkUkokNCMeKCfuS+oFeOhMLq5+GwRj+ioyUszgUckn5kfp8uhTkuO42U+mMypX1o0EVxY0q0tHrk2na/LIlE5HwyKWfdabXKldbwFwP6jkjMBSX+8uaAKZ8XbOY8z5V/B75v8J2Grwe+C/DNwlcI31H4NPx68SvH7yl+7/Crw+86fm78vFZsiutZovbMNPfphQmXwbOxYt42eDfq6bebfsvo93GmXz/99tHvfvrN9X9y/V/8Y1WZ/cDfWs7sB/42/vYM557M+Y2/zqOcXyb/K/kp8veSf5H8VfKLyI+Tfwu+T/CdgK8dvrPwvYBvN3wafDX4XcGvCL97+C3i58GvGz/Xn/1ZO65wVW/pG9XcfWOFT3w8+9yrFX7e/bX0206/fK/dp98l+uV70UO/pfTLfJX5GvMF8wXzJfMl8yXzJfwq/Br8An4Bv4Rfwi/hl/irnsx+4C+Ws/YjmrU/21n7E8ran27yf5H/kXwX+W3kr5PvIv8N+WPw/YSvCb5r8DXDNwdfGXzH4DuIXzN+efiN4jeP3wH82vDLx+83S0smtQ==",
        "encoding": "base64",
        "path": [
         "attribute",
         "compressed_buffer"
        ]
       },
       {
        "data": "eNoDAAAAAAE=",
        "encoding": "base64",
        "path": [
         "color_map",
         "compressed_buffer"
        ]
       },
       {
        "data": "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",
        "encoding": "base64",
        "path": [
         "indices",
         "compressed_buffer"
        ]
       },
       {
        "data": "eNpjYGiwZ8AAxIsBAF7EAv0=",
        "encoding": "base64",
        "path": [
         "model_matrix",
         "compressed_buffer"
        ]
       },
       {
        "data": "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",
        "encoding": "base64",
        "path": [
         "vertices",
         "compressed_buffer"
        ]
       }
      ],
      "model_module": "k3d",
      "model_module_version": "2.7.2",
      "model_name": "ObjectModel",
      "state": {
       "_color_range_high": 0.4727455675601959,
       "_color_range_low": -0.4727455675601959,
       "_view_count": null,
       "_view_module": null,
       "_view_module_version": "",
       "_view_name": null,
       "attribute": {
        "compressed_buffer": {},
        "dtype": "float32",
        "shape": [
         288
        ]
       },
       "click_callback": false,
       "color": 255,
       "colorLegend": true,
       "color_map": {
        "compressed_buffer": {},
        "dtype": "float32",
        "shape": [
         0
        ]
       },
       "color_range": [
        -0.4727455675601959,
        0.4727455675601959
       ],
       "compression_level": 0,
       "flat_shading": true,
       "hover_callback": false,
       "id": 4516832872,
       "indices": {
        "compressed_buffer": {},
        "dtype": "uint32",
        "shape": [
         538,
         3
        ]
       },
       "model_matrix": {
        "compressed_buffer": {},
        "dtype": "float32",
        "shape": [
         4,
         4
        ]
       },
       "name": null,
       "opacity": 1,
       "type": "Mesh",
       "vertices": {
        "compressed_buffer": {},
        "dtype": "float32",
        "shape": [
         288,
         3
        ]
       },
       "visible": true,
       "wireframe": false
      }
     },
     "c2edc50f11c548e0b3c02ab6b7447198": {
      "model_module": "@jupyter-widgets/base",
      "model_module_version": "1.2.0",
      "model_name": "LayoutModel",
      "state": {}
     },
     "c3008cf6d9e84fa9806239d1502da80d": {
      "buffers": [
       {
        "data": "eNoDAAAAAAE=",
        "encoding": "base64",
        "path": [
         "attribute",
         "compressed_buffer"
        ]
       },
       {
        "data": "eNoDAAAAAAE=",
        "encoding": "base64",
        "path": [
         "color_map",
         "compressed_buffer"
        ]
       },
       {
        "data": "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",
        "encoding": "base64",
        "path": [
         "indices",
         "compressed_buffer"
        ]
       },
       {
        "data": "eNpjYGiwZ8AAxIsBAF7EAv0=",
        "encoding": "base64",
        "path": [
         "model_matrix",
         "compressed_buffer"
        ]
       },
       {
        "data": "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",
        "encoding": "base64",
        "path": [
         "vertices",
         "compressed_buffer"
        ]
       }
      ],
      "model_module": "k3d",
      "model_module_version": "2.7.2",
      "model_name": "ObjectModel",
      "state": {
       "_view_count": null,
       "_view_module": null,
       "_view_module_version": "",
       "_view_name": null,
       "attribute": {
        "compressed_buffer": {},
        "dtype": "float32",
        "shape": [
         0
        ]
       },
       "click_callback": false,
       "color": 255,
       "color_map": {
        "compressed_buffer": {},
        "dtype": "float32",
        "shape": [
         0
        ]
       },
       "color_range": [],
       "compression_level": 0,
       "flat_shading": true,
       "hover_callback": false,
       "id": 5001915752,
       "indices": {
        "compressed_buffer": {},
        "dtype": "uint32",
        "shape": [
         540,
         3
        ]
       },
       "model_matrix": {
        "compressed_buffer": {},
        "dtype": "float32",
        "shape": [
         4,
         4
        ]
       },
       "name": null,
       "opacity": 1,
       "type": "Mesh",
       "vertices": {
        "compressed_buffer": {},
        "dtype": "float32",
        "shape": [
         289,
         3
        ]
       },
       "visible": true,
       "wireframe": false
      }
     },
     "c6657aff014742eb98688796180ca170": {
      "buffers": [
       {
        "data": "eNqFkltIFFEch40sqV56kX2KbXYuK4W9dFtnzuwsFEJIVBgiGFHhQ0n3HvLB2JSNSKVwWS1jibYghDAWpEikUmovuBHFvtSSURHlQ7akxRIJ9kEnkIWYgWHOcPj9zvf9Zyoq3K9PfcUt968UA9+jHvPe0aIZXBK13vo84lqiR3QFZ0RTT35rVyRfp2SWWc2evJU6eV6MtVXa2qozdmLfc9tZcAILc47pHzlt7Qw54pc+LTqt4/bl0ms707Ap2F/fHkhvbDfNqbh1rOqsyA5X24fUQftmamXQW2h13f9ff5/sb4YvAp8GXwt8GfgewWfAdxu+r/iN4fcTvwf4bcfvPX7X8evGb2Z4hcKtekMbNJ76y9VDOmuj6kjC4N3/mfxD8rPkk+RD5KfkfCLkGzk/LOfTxPlP5XwUzr/B+dvgX/rDMdfDvxv+efgvwB+DPwf/IP6T0v8U/jnpn8Bfxd9t361/P3yX4NPhOwBfDr4n8K2D7w58JfzS+P3GbwK/Bvy+4HcLv/6/8/Fxa8xE52kwH4O1n/n4ea8pkn9MvkR+VM73I/k4+V7ybt/H7fuW+0+W+V9lPyv3T5TtK+wL+ufpV+nfQX+J/nP099L/jP498HXAtxa+Rvgm4BuFbw18cfje4ZfE7xt+Q/jV4fcGvxh+HfgVZlUvt9IS3uXjqc4pWZW1Vr15XONd/0B+RObvkhcyP0A+TN7tfDd+N/9/8xOL/p/WRfOrp385/08t/XvprzSmxUX6B+h/Qf9h+GLw1cLXBt8r+NLwBeBLwjeOXxS/An7d+NXgl8KvE7+D+P0BrurdRQ==",
        "encoding": "base64",
        "path": [
         "attribute",
         "compressed_buffer"
        ]
       },
       {
        "data": "eNpjYGjYzwAHAvZlMu5I/Ab7mRpd+2BsEJbgaNoD5NhD+Az2uueL7WByIFVfftvB2Qh9DHA+AAjLEVw=",
        "encoding": "base64",
        "path": [
         "color_map",
         "compressed_buffer"
        ]
       },
       {
        "data": "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",
        "encoding": "base64",
        "path": [
         "indices",
         "compressed_buffer"
        ]
       },
       {
        "data": "eNpjYGiwZ8AAxIsBAF7EAv0=",
        "encoding": "base64",
        "path": [
         "model_matrix",
         "compressed_buffer"
        ]
       },
       {
        "data": "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",
        "encoding": "base64",
        "path": [
         "vertices",
         "compressed_buffer"
        ]
       }
      ],
      "model_module": "k3d",
      "model_module_version": "2.7.2",
      "model_name": "ObjectModel",
      "state": {
       "_color_range_high": 1,
       "_color_range_low": -1,
       "_view_count": null,
       "_view_module": null,
       "_view_module_version": "",
       "_view_name": null,
       "attribute": {
        "compressed_buffer": {},
        "dtype": "float32",
        "shape": [
         289
        ]
       },
       "click_callback": false,
       "color": 255,
       "colorLegend": true,
       "color_map": {
        "compressed_buffer": {},
        "dtype": "float32",
        "shape": [
         28
        ]
       },
       "color_range": [
        -1,
        1
       ],
       "compression_level": 0,
       "flat_shading": true,
       "hover_callback": false,
       "id": 5016618488,
       "indices": {
        "compressed_buffer": {},
        "dtype": "uint32",
        "shape": [
         540,
         3
        ]
       },
       "model_matrix": {
        "compressed_buffer": {},
        "dtype": "float32",
        "shape": [
         4,
         4
        ]
       },
       "name": "Mesh #1",
       "opacity": 1,
       "type": "Mesh",
       "vertices": {
        "compressed_buffer": {},
        "dtype": "float32",
        "shape": [
         289,
         3
        ]
       },
       "visible": true,
       "wireframe": false
      }
     },
     "ca0cf69f90154382b4379c9e7f26a98d": {
      "model_module": "k3d",
      "model_module_version": "2.7.2",
      "model_name": "PlotModel",
      "state": {
       "_backend_version": "2.7.2",
       "_dom_classes": [],
       "_view_count": null,
       "antialias": 3,
       "auto_rendering": true,
       "axes": [
        "x",
        "y",
        "z"
       ],
       "axes_helper": 1,
       "background_color": 16777215,
       "camera": [
        0.2287488602319312,
        -1.5361917079574585,
        1.1995981590148561,
        0,
        0,
        0,
        -0.22109552721633635,
        0.53372286719712,
        0.8162454709680265
       ],
       "camera_auto_fit": true,
       "camera_fov": 60,
       "camera_no_pan": false,
       "camera_no_rotate": false,
       "camera_no_zoom": false,
       "clipping_planes": [],
       "colorbar_object_id": -1,
       "fps": 25,
       "fps_meter": false,
       "grid": [
        -1,
        -1,
        -1,
        1,
        1,
        1
       ],
       "grid_auto_fit": true,
       "grid_visible": true,
       "height": 512,
       "layout": "IPY_MODEL_578f7723b5ef4a0c9a02a6d838e93609",
       "lighting": 1.5,
       "menu_visibility": true,
       "mode": "view",
       "name": null,
       "object_ids": [
        4787773680
       ],
       "rendering_steps": 1,
       "screenshot": "",
       "screenshot_scale": 2,
       "snapshot": "",
       "time": 0,
       "voxel_paint_color": 0
      }
     },
     "cbb24dd53d3840e4b16dd66082f34247": {
      "model_module": "@jupyter-widgets/base",
      "model_module_version": "1.2.0",
      "model_name": "LayoutModel",
      "state": {}
     },
     "cef3446646e84cf9bd94ac6c46c401e9": {
      "model_module": "@jupyter-widgets/base",
      "model_module_version": "1.2.0",
      "model_name": "LayoutModel",
      "state": {}
     },
     "d002b6765291414a94c46d77ce7e0568": {
      "buffers": [
       {
        "data": "eNqFkk1IFGEch9dDIZmurobBKl2D1h131ViZed/CzVsUfUogpQjlZxqBMHmxm5hrEV76oDKWvejBnO1Dd2a8LCHhQV1aQ1qlLyuqi3pzDz3BHpag9jDMDC/z+z/Pb/4Oh2PQ8Z+rrlKJdVQoZnE6bj5wKtZydMjyGnHr6tQuuyzotUOhcOzLcNg86ay3OlvC1vmAw35ZGbD39Om2NMftdiMV+z6ZMtcbdKuoMWVdavXY77f7bWckYr9OJu1X7nTskCttbk2HLF3fsZbmgvZI3og9OGDaRsFmzvN/5Rdn8kfh24DvFHxd8DXBNwNfAXxH4Avg14VfKX6P8HuLnw+/XvzK8fNaajWXL1Gb8HH3L0zc9fPsXzGdNbzXHK5U1M4KRStJx7WHTkUkokNCMeKCfuS+oFeOhMLq5+GwRj+ioyUszgUckn5kfp8uhTkuO42U+mMypX1o0EVxY0q0tHrk2na/LIlE5HwyKWfdabXKldbwFwP6jkjMBSX+8uaAKZ8XbOY8z5V/B75v8J2Grwe+C/DNwlcI31H4NPx68SvH7yl+7/Crw+86fm78vFZsiutZovbMNPfphQmXwbOxYt42eDfq6bebfsvo93GmXz/99tHvfvrN9X9y/V/8Y1WZ/cDfWs7sB/42/vYM557M+Y2/zqOcXyb/K/kp8veSf5H8VfKLyI+Tfwu+T/CdgK8dvrPwvYBvN3wafDX4XcGvCL97+C3i58GvGz/Xn/1ZO65wVW/pG9XcfWOFT3w8+9yrFX7e/bX0206/fK/dp98l+uV70UO/pfTLfJX5GvMF8wXzJfMl8yXzJfwq/Br8An4Bv4Rfwi/hl/irnsx+4C+Ws/YjmrU/21n7E8ran27yf5H/kXwX+W3kr5PvIv8N+WPw/YSvCb5r8DXDNwdfGXzH4DuIXzN+efiN4jeP3wH82vDLx+83S0smtQ==",
        "encoding": "base64",
        "path": [
         "attribute",
         "compressed_buffer"
        ]
       },
       {
        "data": "eNpjYGjYzwAHAvZlMu5I/Ab7mRpd+2BsEJbgaNoD5NhD+Az2uueL7WByIFVfftvB2Qh9DHA+AAjLEVw=",
        "encoding": "base64",
        "path": [
         "color_map",
         "compressed_buffer"
        ]
       },
       {
        "data": "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",
        "encoding": "base64",
        "path": [
         "indices",
         "compressed_buffer"
        ]
       },
       {
        "data": "eNpjYGiwZ8AAxIsBAF7EAv0=",
        "encoding": "base64",
        "path": [
         "model_matrix",
         "compressed_buffer"
        ]
       },
       {
        "data": "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",
        "encoding": "base64",
        "path": [
         "vertices",
         "compressed_buffer"
        ]
       }
      ],
      "model_module": "k3d",
      "model_module_version": "2.7.2",
      "model_name": "ObjectModel",
      "state": {
       "_color_range_high": 0.1,
       "_color_range_low": -0.1,
       "_view_count": null,
       "_view_module": null,
       "_view_module_version": "",
       "_view_name": null,
       "attribute": {
        "compressed_buffer": {},
        "dtype": "float32",
        "shape": [
         288
        ]
       },
       "click_callback": false,
       "color": 255,
       "colorLegend": true,
       "color_map": {
        "compressed_buffer": {},
        "dtype": "float32",
        "shape": [
         28
        ]
       },
       "color_range": [
        -0.1,
        0.1
       ],
       "compression_level": 0,
       "flat_shading": true,
       "hover_callback": false,
       "id": 4996556392,
       "indices": {
        "compressed_buffer": {},
        "dtype": "uint32",
        "shape": [
         538,
         3
        ]
       },
       "model_matrix": {
        "compressed_buffer": {},
        "dtype": "float32",
        "shape": [
         4,
         4
        ]
       },
       "name": "Mesh #1",
       "opacity": 1,
       "type": "Mesh",
       "vertices": {
        "compressed_buffer": {},
        "dtype": "float32",
        "shape": [
         288,
         3
        ]
       },
       "visible": true,
       "wireframe": false
      }
     },
     "d65aadd19136412c9b0ecbbeb7dda5bc": {
      "model_module": "k3d",
      "model_module_version": "2.7.2",
      "model_name": "PlotModel",
      "state": {
       "_backend_version": "2.7.2",
       "_dom_classes": [],
       "_view_count": null,
       "antialias": 3,
       "auto_rendering": true,
       "axes": [
        "x",
        "y",
        "z"
       ],
       "axes_helper": 1,
       "background_color": 16777215,
       "camera": [
        2.477592547151882,
        -3.7163888207278233,
        0.24775925471519036,
        0,
        0,
        0,
        0,
        0,
        1
       ],
       "camera_auto_fit": true,
       "camera_fov": 60,
       "camera_no_pan": false,
       "camera_no_rotate": false,
       "camera_no_zoom": false,
       "clipping_planes": [],
       "colorbar_object_id": -1,
       "fps": 25,
       "fps_meter": false,
       "grid": [
        -1,
        -1,
        -1,
        1,
        1,
        1
       ],
       "grid_auto_fit": true,
       "grid_visible": true,
       "height": 512,
       "layout": "IPY_MODEL_73bc3f2ce01140718cf0efc4f988efb4",
       "lighting": 1.5,
       "menu_visibility": true,
       "mode": "view",
       "name": null,
       "object_ids": [
        5016618488
       ],
       "rendering_steps": 1,
       "screenshot": "",
       "screenshot_scale": 2,
       "snapshot": "",
       "time": 0,
       "voxel_paint_color": 0
      }
     },
     "db024331d2974c2ba165fc8d090776b6": {
      "model_module": "k3d",
      "model_module_version": "2.7.2",
      "model_name": "PlotModel",
      "state": {
       "_backend_version": "2.7.2",
       "_dom_classes": [],
       "_view_count": null,
       "antialias": 3,
       "auto_rendering": true,
       "axes": [
        "x",
        "y",
        "z"
       ],
       "axes_helper": 1,
       "background_color": 16777215,
       "camera": [
        2.8778826572598577,
        -4.316823985889787,
        0.28778826572598526,
        0,
        0,
        0,
        0,
        0,
        1
       ],
       "camera_auto_fit": true,
       "camera_fov": 60,
       "camera_no_pan": false,
       "camera_no_rotate": false,
       "camera_no_zoom": false,
       "clipping_planes": [],
       "colorbar_object_id": -1,
       "fps": 25,
       "fps_meter": false,
       "grid": [
        -1,
        -1,
        -1,
        1,
        1,
        1
       ],
       "grid_auto_fit": true,
       "grid_visible": true,
       "height": 512,
       "layout": "IPY_MODEL_5ce57941260343caa79ff2862046d0f4",
       "lighting": 1.5,
       "menu_visibility": true,
       "mode": "view",
       "name": null,
       "object_ids": [],
       "rendering_steps": 1,
       "screenshot": "",
       "screenshot_scale": 2,
       "snapshot": "",
       "time": 0,
       "voxel_paint_color": 0
      }
     },
     "dd2788d0470c4cb0ad2b8535309c4580": {
      "buffers": [
       {
        "data": "eNqFkk1IFGEch9dDIZmurobBKl2D1h131ViZed/CzVsUfUogpQjlZxqBMHmxm5hrEV76oDKWvejBnO1Dd2a8LCHhQV1aQ1qlLyuqi3pzDz3BHpag9jDMDC/z+z/Pb/4Oh2PQ8Z+rrlKJdVQoZnE6bj5wKtZydMjyGnHr6tQuuyzotUOhcOzLcNg86ay3OlvC1vmAw35ZGbD39Om2NMftdiMV+z6ZMtcbdKuoMWVdavXY77f7bWckYr9OJu1X7nTskCttbk2HLF3fsZbmgvZI3og9OGDaRsFmzvN/5Rdn8kfh24DvFHxd8DXBNwNfAXxH4Avg14VfKX6P8HuLnw+/XvzK8fNaajWXL1Gb8HH3L0zc9fPsXzGdNbzXHK5U1M4KRStJx7WHTkUkokNCMeKCfuS+oFeOhMLq5+GwRj+ioyUszgUckn5kfp8uhTkuO42U+mMypX1o0EVxY0q0tHrk2na/LIlE5HwyKWfdabXKldbwFwP6jkjMBSX+8uaAKZ8XbOY8z5V/B75v8J2Grwe+C/DNwlcI31H4NPx68SvH7yl+7/Crw+86fm78vFZsiutZovbMNPfphQmXwbOxYt42eDfq6bebfsvo93GmXz/99tHvfvrN9X9y/V/8Y1WZ/cDfWs7sB/42/vYM557M+Y2/zqOcXyb/K/kp8veSf5H8VfKLyI+Tfwu+T/CdgK8dvrPwvYBvN3wafDX4XcGvCL97+C3i58GvGz/Xn/1ZO65wVW/pG9XcfWOFT3w8+9yrFX7e/bX0206/fK/dp98l+uV70UO/pfTLfJX5GvMF8wXzJfMl8yXzJfwq/Br8An4Bv4Rfwi/hl/irnsx+4C+Ws/YjmrU/21n7E8ran27yf5H/kXwX+W3kr5PvIv8N+WPw/YSvCb5r8DXDNwdfGXzH4DuIXzN+efiN4jeP3wH82vDLx+83S0smtQ==",
        "encoding": "base64",
        "path": [
         "attribute",
         "compressed_buffer"
        ]
       },
       {
        "data": "eNpjYGjYzwAHAvZlMu5I/Ab7mRpd+2BsEJbgaNoD5NhD+Az2uueL7WByIFVfftvB2Qh9DHA+AAjLEVw=",
        "encoding": "base64",
        "path": [
         "color_map",
         "compressed_buffer"
        ]
       },
       {
        "data": "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",
        "encoding": "base64",
        "path": [
         "indices",
         "compressed_buffer"
        ]
       },
       {
        "data": "eNpjYGiwZ8AAxIsBAF7EAv0=",
        "encoding": "base64",
        "path": [
         "model_matrix",
         "compressed_buffer"
        ]
       },
       {
        "data": "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",
        "encoding": "base64",
        "path": [
         "vertices",
         "compressed_buffer"
        ]
       }
      ],
      "model_module": "k3d",
      "model_module_version": "2.7.2",
      "model_name": "ObjectModel",
      "state": {
       "_color_range_high": 2.01,
       "_color_range_low": -1.1,
       "_view_count": null,
       "_view_module": null,
       "_view_module_version": "",
       "_view_name": null,
       "attribute": {
        "compressed_buffer": {},
        "dtype": "float32",
        "shape": [
         288
        ]
       },
       "click_callback": false,
       "color": 255,
       "colorLegend": false,
       "color_map": {
        "compressed_buffer": {},
        "dtype": "float32",
        "shape": [
         28
        ]
       },
       "color_range": [
        -1.1,
        2.01
       ],
       "compression_level": 0,
       "flat_shading": true,
       "hover_callback": false,
       "id": 4922152496,
       "indices": {
        "compressed_buffer": {},
        "dtype": "uint32",
        "shape": [
         538,
         3
        ]
       },
       "model_matrix": {
        "compressed_buffer": {},
        "dtype": "float32",
        "shape": [
         4,
         4
        ]
       },
       "name": "Mesh #3",
       "opacity": 1,
       "type": "Mesh",
       "vertices": {
        "compressed_buffer": {},
        "dtype": "float32",
        "shape": [
         288,
         3
        ]
       },
       "visible": true,
       "wireframe": false
      }
     },
     "dde5bd7b59744628bdd8458028d9309a": {
      "buffers": [
       {
        "data": "eNqFk0tIVFEch8dFYZgOjvbCkdbROC/NtHvvIZzcRVERElgpLhxfNLUQJltYK9GZhGoTFSkNs9GFzZ0eOvceN1NIuKiGxjDG6CX2oIW6cxZ9wl1IULM43Hv4M7/zfb97xmazDdoKrPpqT6rL6THs+bRx3+4x3yaHTLeeNvumtsldAbeMRmOpb8Mx46S90exui5ktDTb5rLpB7giFpTDGZVDPpb5P5oylprBZ1pwzL7S75If1fmmPx+XLbFY+r8qnDjryxmoial4Nb5hvZgNypCgiBwcMqZesFpxv5v/4T/5N+JbhOwVfj8U3DV+JxdeIXy9+Dvwe4vcOPx9+l/Dbi5/bVLwsX6Yu4+Ppn5+45efdv2DYa9nXHq72KN1Oj1qeT6sP7B4tkxzSvHpaox+xO+AWkWhM+TocU+lH62qLaWcbbIJ+RHEoLDRjXHTrOeXnZE791BTW7M057WK7Syyt94vyeFzMZbNipiqv1Djy6loiqg2EN7TMbEBEiiLi+oAhnpSsFpwXyh+FbwW+0/D1wXcOvhn4SuE7Cp+GXwi/Pfg9wu89fvX4XcHPiZ/bTE2xHmfqziR4JuYnHDrv+oIxqrPXj9BvH/1W0u8Y/Wbpt5Z+Q/S7j34LfZ9C3xf/VI11P/A3M9b9wF/iL6eZu5ivbZlHrHmSeSf5K+TnyN9J/nnyF8kvI/8F+SPwfYHvBHxB+Ph+8il82+FT4avDrxO/Mvzu4vcaPxd+PfhVbN6fpeMelnctvOzl6btTOubj3Ve16PSz9x+i3yD98nv1Hv3y/9Jq6LeXfivpl/MVzlc5Xwta94fzBecLzhfwK/Cr8Gvwa/AL+AX8An6Bv+L6x/1I/nV/rm2Z37DuTy/5v8n/TL6D/A7yP5LvIP8V+bfh+wVfC3yX4WuFbxa+CviOwXcAv1b8bPiN4jeH3378OvArxu8PkO0nQg==",
        "encoding": "base64",
        "path": [
         "attribute",
         "compressed_buffer"
        ]
       },
       {
        "data": "eNpjYGjYzwAHAvZlMu5I/Ab7mRpd+2BsEJbgaNoD5NhD+Az2uueL7WByIFVfftvB2Qh9DHA+AAjLEVw=",
        "encoding": "base64",
        "path": [
         "color_map",
         "compressed_buffer"
        ]
       },
       {
        "data": "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",
        "encoding": "base64",
        "path": [
         "indices",
         "compressed_buffer"
        ]
       },
       {
        "data": "eNpjYGiwZ8AAxIsBAF7EAv0=",
        "encoding": "base64",
        "path": [
         "model_matrix",
         "compressed_buffer"
        ]
       },
       {
        "data": "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",
        "encoding": "base64",
        "path": [
         "vertices",
         "compressed_buffer"
        ]
       }
      ],
      "model_module": "k3d",
      "model_module_version": "2.7.2",
      "model_name": "ObjectModel",
      "state": {
       "_view_count": null,
       "_view_module": null,
       "_view_module_version": "",
       "_view_name": null,
       "attribute": {
        "compressed_buffer": {},
        "dtype": "float32",
        "shape": [
         289
        ]
       },
       "click_callback": false,
       "color": 255,
       "color_map": {
        "compressed_buffer": {},
        "dtype": "float32",
        "shape": [
         28
        ]
       },
       "color_range": [
        -2,
        2
       ],
       "compression_level": 0,
       "flat_shading": true,
       "hover_callback": false,
       "id": 5016670840,
       "indices": {
        "compressed_buffer": {},
        "dtype": "uint32",
        "shape": [
         540,
         3
        ]
       },
       "model_matrix": {
        "compressed_buffer": {},
        "dtype": "float32",
        "shape": [
         4,
         4
        ]
       },
       "name": "Mesh #1",
       "opacity": 1,
       "type": "Mesh",
       "vertices": {
        "compressed_buffer": {},
        "dtype": "float32",
        "shape": [
         289,
         3
        ]
       },
       "visible": true,
       "wireframe": false
      }
     },
     "e2da600299f44ad08c8e4f60aeee1c7a": {
      "buffers": [
       {
        "data": "eNqFkk1IFGEch9dDIZmurobBKl2D1h131ViZed/CzVsUfUogpQjlZxqBMHmxm5hrEV76oDKWvejBnO1Dd2a8LCHhQV1aQ1qlLyuqi3pzDz3BHpag9jDMDC/z+z/Pb/4Oh2PQ8Z+rrlKJdVQoZnE6bj5wKtZydMjyGnHr6tQuuyzotUOhcOzLcNg86ay3OlvC1vmAw35ZGbD39Om2NMftdiMV+z6ZMtcbdKuoMWVdavXY77f7bWckYr9OJu1X7nTskCttbk2HLF3fsZbmgvZI3og9OGDaRsFmzvN/5Rdn8kfh24DvFHxd8DXBNwNfAXxH4Avg14VfKX6P8HuLnw+/XvzK8fNaajWXL1Gb8HH3L0zc9fPsXzGdNbzXHK5U1M4KRStJx7WHTkUkokNCMeKCfuS+oFeOhMLq5+GwRj+ioyUszgUckn5kfp8uhTkuO42U+mMypX1o0EVxY0q0tHrk2na/LIlE5HwyKWfdabXKldbwFwP6jkjMBSX+8uaAKZ8XbOY8z5V/B75v8J2Grwe+C/DNwlcI31H4NPx68SvH7yl+7/Crw+86fm78vFZsiutZovbMNPfphQmXwbOxYt42eDfq6bebfsvo93GmXz/99tHvfvrN9X9y/V/8Y1WZ/cDfWs7sB/42/vYM557M+Y2/zqOcXyb/K/kp8veSf5H8VfKLyI+Tfwu+T/CdgK8dvrPwvYBvN3wafDX4XcGvCL97+C3i58GvGz/Xn/1ZO65wVW/pG9XcfWOFT3w8+9yrFX7e/bX0206/fK/dp98l+uV70UO/pfTLfJX5GvMF8wXzJfMl8yXzJfwq/Br8An4Bv4Rfwi/hl/irnsx+4C+Ws/YjmrU/21n7E8ran27yf5H/kXwX+W3kr5PvIv8N+WPw/YSvCb5r8DXDNwdfGXzH4DuIXzN+efiN4jeP3wH82vDLx+83S0smtQ==",
        "encoding": "base64",
        "path": [
         "attribute",
         "compressed_buffer"
        ]
       },
       {
        "data": "eNpjYGjYzwAHAvZlMu5I/Ab7mRpd+2BsEJbgaNoD5NhD+Az2uueL7WByIFVfftvB2Qh9DHA+AAjLEVw=",
        "encoding": "base64",
        "path": [
         "color_map",
         "compressed_buffer"
        ]
       },
       {
        "data": "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",
        "encoding": "base64",
        "path": [
         "indices",
         "compressed_buffer"
        ]
       },
       {
        "data": "eNpjYGiwZ8AAxIsBAF7EAv0=",
        "encoding": "base64",
        "path": [
         "model_matrix",
         "compressed_buffer"
        ]
       },
       {
        "data": "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",
        "encoding": "base64",
        "path": [
         "vertices",
         "compressed_buffer"
        ]
       }
      ],
      "model_module": "k3d",
      "model_module_version": "2.7.2",
      "model_name": "ObjectModel",
      "state": {
       "_color_range_high": 2.01,
       "_color_range_low": -1.1,
       "_view_count": null,
       "_view_module": null,
       "_view_module_version": "",
       "_view_name": null,
       "attribute": {
        "compressed_buffer": {},
        "dtype": "float32",
        "shape": [
         288
        ]
       },
       "click_callback": false,
       "color": 255,
       "colorLegend": false,
       "color_map": {
        "compressed_buffer": {},
        "dtype": "float32",
        "shape": [
         28
        ]
       },
       "color_range": [
        -1.1,
        2.01
       ],
       "compression_level": 0,
       "flat_shading": true,
       "hover_callback": false,
       "id": 4914579720,
       "indices": {
        "compressed_buffer": {},
        "dtype": "uint32",
        "shape": [
         538,
         3
        ]
       },
       "model_matrix": {
        "compressed_buffer": {},
        "dtype": "float32",
        "shape": [
         4,
         4
        ]
       },
       "name": "Mesh #2",
       "opacity": 1,
       "type": "Mesh",
       "vertices": {
        "compressed_buffer": {},
        "dtype": "float32",
        "shape": [
         288,
         3
        ]
       },
       "visible": true,
       "wireframe": false
      }
     },
     "e369c2a99dc1403289cffbe12d554d9b": {
      "model_module": "@jupyter-widgets/base",
      "model_module_version": "1.2.0",
      "model_name": "LayoutModel",
      "state": {}
     },
     "e46ce84d17fd4252a366e885050f21c1": {
      "model_module": "@jupyter-widgets/base",
      "model_module_version": "1.2.0",
      "model_name": "LayoutModel",
      "state": {}
     },
     "e5bae973e52941c7b6763104a3f22b95": {
      "model_module": "k3d",
      "model_module_version": "2.7.2",
      "model_name": "PlotModel",
      "state": {
       "_backend_version": "2.7.2",
       "_dom_classes": [],
       "_view_count": null,
       "antialias": 3,
       "auto_rendering": true,
       "axes": [
        "x",
        "y",
        "z"
       ],
       "axes_helper": 1,
       "background_color": 16777215,
       "camera": [
        1.5832590966553386,
        -2.3748886449830087,
        0.15832590966553536,
        0,
        0,
        0,
        0,
        0,
        1
       ],
       "camera_auto_fit": true,
       "camera_fov": 60,
       "camera_no_pan": false,
       "camera_no_rotate": false,
       "camera_no_zoom": false,
       "clipping_planes": [],
       "colorbar_object_id": -1,
       "fps": 25,
       "fps_meter": false,
       "grid": [
        -1,
        -1,
        -1,
        1,
        1,
        1
       ],
       "grid_auto_fit": true,
       "grid_visible": true,
       "height": 512,
       "layout": "IPY_MODEL_350a6871e4bf44a1856a9b0d588c0506",
       "lighting": 1.5,
       "menu_visibility": true,
       "mode": "view",
       "name": null,
       "object_ids": [
        4489490560
       ],
       "rendering_steps": 1,
       "screenshot": "",
       "screenshot_scale": 2,
       "snapshot": "",
       "time": 0,
       "voxel_paint_color": 0
      }
     },
     "e648348a469d463ebbd08c7c376342da": {
      "model_module": "@jupyter-widgets/output",
      "model_module_version": "1.0.0",
      "model_name": "OutputModel",
      "state": {
       "layout": "IPY_MODEL_8f5906f1042047c3845a3ed08f24d75d",
       "outputs": [
        {
         "data": {
          "application/vnd.jupyter.widget-view+json": {
           "model_id": "14885a68d27c463b99566bd4e097ace0",
           "version_major": 2,
           "version_minor": 0
          },
          "text/plain": "Plot(antialias=3, axes=['x', 'y', 'z'], axes_helper=1.0, background_color=16777215, camera=[4.5, 4.5, 4.5, 0.0…"
         },
         "metadata": {},
         "output_type": "display_data"
        }
       ]
      }
     },
     "e93c19fa3f704938acdc999c27fc0c19": {
      "model_module": "k3d",
      "model_module_version": "2.7.2",
      "model_name": "PlotModel",
      "state": {
       "_backend_version": "2.7.2",
       "_dom_classes": [],
       "_view_count": null,
       "antialias": 3,
       "auto_rendering": true,
       "axes": [
        "x",
        "y",
        "z"
       ],
       "axes_helper": 1,
       "background_color": 16777215,
       "camera": [
        2.477592547151882,
        -3.7163888207278233,
        0.24775925471519036,
        0,
        0,
        0,
        0,
        0,
        1
       ],
       "camera_auto_fit": true,
       "camera_fov": 60,
       "camera_no_pan": false,
       "camera_no_rotate": false,
       "camera_no_zoom": false,
       "clipping_planes": [],
       "colorbar_object_id": -1,
       "fps": 25,
       "fps_meter": false,
       "grid": [
        -1,
        -1,
        -1,
        1,
        1,
        1
       ],
       "grid_auto_fit": true,
       "grid_visible": true,
       "height": 512,
       "layout": "IPY_MODEL_76fa1467c683439fb93c801ff4da0dec",
       "lighting": 1.5,
       "menu_visibility": true,
       "mode": "view",
       "name": null,
       "object_ids": [
        4346877936
       ],
       "rendering_steps": 1,
       "screenshot": "",
       "screenshot_scale": 2,
       "snapshot": "",
       "time": 0,
       "voxel_paint_color": 0
      }
     },
     "ec8a89116fe34afdb95a6646fdc7cf95": {
      "model_module": "k3d",
      "model_module_version": "2.7.2",
      "model_name": "PlotModel",
      "state": {
       "_backend_version": "2.7.2",
       "_dom_classes": [],
       "_view_count": null,
       "antialias": 3,
       "auto_rendering": true,
       "axes": [
        "x",
        "y",
        "z"
       ],
       "axes_helper": 1,
       "background_color": 16777215,
       "camera": [
        0.8251520251658304,
        -1.4473898804764347,
        4.151575847083797,
        0,
        0,
        0,
        -0.4920665096261161,
        0.7609981073154646,
        0.4227912378073312
       ],
       "camera_auto_fit": true,
       "camera_fov": 60,
       "camera_no_pan": false,
       "camera_no_rotate": false,
       "camera_no_zoom": false,
       "clipping_planes": [],
       "colorbar_object_id": -1,
       "fps": 25,
       "fps_meter": false,
       "grid": [
        -1,
        -1,
        -1,
        1,
        1,
        1
       ],
       "grid_auto_fit": true,
       "grid_visible": true,
       "height": 512,
       "layout": "IPY_MODEL_4584f9ca0fc843bdb3fa707a27a827ee",
       "lighting": 1.5,
       "menu_visibility": true,
       "mode": "view",
       "name": null,
       "object_ids": [
        4516832872,
        4914579720,
        4922152496
       ],
       "rendering_steps": 1,
       "screenshot": "",
       "screenshot_scale": 2,
       "snapshot": "",
       "time": 0,
       "voxel_paint_color": 0
      }
     },
     "f21d8f595d7543208d484e3691b4ffbf": {
      "model_module": "k3d",
      "model_module_version": "2.7.2",
      "model_name": "PlotModel",
      "state": {
       "_backend_version": "2.7.2",
       "_dom_classes": [],
       "_view_count": null,
       "antialias": 3,
       "auto_rendering": true,
       "axes": [
        "x",
        "y",
        "z"
       ],
       "axes_helper": 1,
       "background_color": 16777215,
       "camera": [
        0.16823810670049216,
        -0.3657317030137235,
        0.3045678723316317,
        0,
        0,
        0,
        -0.2857914366239992,
        0.48188296570472666,
        0.8283188167100882
       ],
       "camera_auto_fit": true,
       "camera_fov": 60,
       "camera_no_pan": false,
       "camera_no_rotate": false,
       "camera_no_zoom": false,
       "clipping_planes": [],
       "colorbar_object_id": -1,
       "fps": 25,
       "fps_meter": false,
       "grid": [
        -1,
        -1,
        -1,
        1,
        1,
        1
       ],
       "grid_auto_fit": true,
       "grid_visible": true,
       "height": 512,
       "layout": "IPY_MODEL_4ad60ad6e9574f95b28abb5db42c5a1a",
       "lighting": 1.5,
       "menu_visibility": true,
       "mode": "view",
       "name": null,
       "object_ids": [
        4988366520
       ],
       "rendering_steps": 1,
       "screenshot": "",
       "screenshot_scale": 2,
       "snapshot": "",
       "time": 0,
       "voxel_paint_color": 0
      }
     },
     "f42a975b0cd44ad3b6a77f19f4b44e7f": {
      "buffers": [
       {
        "data": "eNqFkk1IFGEch9dDIZmurobBKl2D1h13V2Nl5n0LN29R9CmBlCKUn2kEwuTFbmKuRXjpg8pY9qIHc7YP3ZnxsoSEh3RpDWmVvqyoLurNPfQEe1iC2MMwM7zM7/88v/k7HI4hR56rvlqJd1YpZmkmYT5wKtZybNjyGgnr6vQuuyLktcPhSPzrSMQ86Wywuloj1vmgw35ZHbT39Ou2NCfsDiMd/zGVNtcbdaukKW1davPYH7YHbGc0ar9OpexX7kz8kCtjbs2ELV3fsZbmQ/Zowag9NGjaRtFm3vP/5Zdm88fg24DvFHzd8DXDNwtfEXxH4Avi141fOX6P8HuHnw+/Pvwq8fNaai2XL1mX9HH3L07e9fPsXzGdAd4Dh6sVtatK0coyCe2hUxHJ2LBQjISgH7kv5JWj4Yj6ZSSi0Y/obI2Ic0GHpB9Z2K9LYU7ILiOt/pxKax8bdVHalBatbR65tj0gy6JRuZBKyTl3Rq1xZTT8xaC+I5LzIYm/vDloyudFm3nP8+Xfge87fKfh64XvAnxz8BXDdxQ+Db8+/Crxe4rfe/zq8buOnxs/rxWf5nqWrDszw31mcdJl8GysmLcN3o0G+u2h3wr6fZzt10+//fS7n37z/Z98/xf/eE12P/C3lrP7gb+Nvz3LuSd7fuOf8xjnl8n/Rn6a/L3kXyR/lfwS8hPk34LvM3wn4OuA7yx8L+DbDZ8GXwC/K/iV4HcPv7f4efDrwc/1d3/WjitctVv6Ri1333jxEx/PPvdqlZ93fx39dtAv32v36XeJfvle9NJvOf0yX2W+xnzBfMF8yXzJfMl8Cb8Kvwa/gF/AL+GX8Ev4Jf6qJ7sf+IvlnP2I5ezPds7+hHP2p4f83+R/It9Ffjv56+S7yH9D/jh8v+Brhu8afC3wzcNXAd8x+A7i14JfAX5j+C3gdwC/dvwK8fsDi+0nNQ==",
        "encoding": "base64",
        "path": [
         "attribute",
         "compressed_buffer"
        ]
       },
       {
        "data": "eNpjYGjYzwAHAvZlMu5I/Ab7mRpd+2BsEJbgaNoD5NhD+Az2uueL7WByIFVfftvB2Qh9DHA+AAjLEVw=",
        "encoding": "base64",
        "path": [
         "color_map",
         "compressed_buffer"
        ]
       },
       {
        "data": "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",
        "encoding": "base64",
        "path": [
         "indices",
         "compressed_buffer"
        ]
       },
       {
        "data": "eNpjYGiwZ8AAxIsBAF7EAv0=",
        "encoding": "base64",
        "path": [
         "model_matrix",
         "compressed_buffer"
        ]
       },
       {
        "data": "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",
        "encoding": "base64",
        "path": [
         "vertices",
         "compressed_buffer"
        ]
       }
      ],
      "model_module": "k3d",
      "model_module_version": "2.7.2",
      "model_name": "ObjectModel",
      "state": {
       "_view_count": null,
       "_view_module": null,
       "_view_module_version": "",
       "_view_name": null,
       "attribute": {
        "compressed_buffer": {},
        "dtype": "float32",
        "shape": [
         289
        ]
       },
       "click_callback": false,
       "color": 255,
       "color_map": {
        "compressed_buffer": {},
        "dtype": "float32",
        "shape": [
         28
        ]
       },
       "color_range": [
        -1,
        1
       ],
       "compression_level": 0,
       "flat_shading": true,
       "hover_callback": false,
       "id": 4489490560,
       "indices": {
        "compressed_buffer": {},
        "dtype": "uint32",
        "shape": [
         540,
         3
        ]
       },
       "model_matrix": {
        "compressed_buffer": {},
        "dtype": "float32",
        "shape": [
         4,
         4
        ]
       },
       "name": "Mesh #1",
       "opacity": 1,
       "type": "Mesh",
       "vertices": {
        "compressed_buffer": {},
        "dtype": "float32",
        "shape": [
         289,
         3
        ]
       },
       "visible": true,
       "wireframe": false
      }
     },
     "fa199cb111cb4c43b6c2ed2696c090a8": {
      "model_module": "k3d",
      "model_module_version": "2.7.2",
      "model_name": "PlotModel",
      "state": {
       "_backend_version": "2.7.2",
       "_dom_classes": [],
       "_view_count": null,
       "antialias": 3,
       "auto_rendering": true,
       "axes": [
        "x",
        "y",
        "z"
       ],
       "axes_helper": 1,
       "background_color": 16777215,
       "camera": [
        1.5227296263331966,
        -3.2958217898583766,
        2.6134744229496927,
        0,
        0,
        0,
        -0.28972494235344426,
        0.4575723327859448,
        0.8406467855449873
       ],
       "camera_auto_fit": true,
       "camera_fov": 60,
       "camera_no_pan": false,
       "camera_no_rotate": false,
       "camera_no_zoom": false,
       "clipping_planes": [],
       "colorbar_object_id": -1,
       "fps": 25,
       "fps_meter": false,
       "grid": [
        -1,
        -1,
        -1,
        1,
        1,
        1
       ],
       "grid_auto_fit": true,
       "grid_visible": true,
       "height": 512,
       "layout": "IPY_MODEL_321e39e3b3b34b62be35c4184be596e8",
       "lighting": 1.5,
       "menu_visibility": true,
       "mode": "view",
       "name": null,
       "object_ids": [
        5029745328
       ],
       "rendering_steps": 1,
       "screenshot": "",
       "screenshot_scale": 2,
       "snapshot": "",
       "time": 0,
       "voxel_paint_color": 0
      }
     },
     "fbe2ef4c1f5b453b94f2f89c234fbab6": {
      "model_module": "@jupyter-widgets/output",
      "model_module_version": "1.0.0",
      "model_name": "OutputModel",
      "state": {
       "layout": "IPY_MODEL_cef3446646e84cf9bd94ac6c46c401e9",
       "outputs": [
        {
         "data": {
          "application/vnd.jupyter.widget-view+json": {
           "model_id": "84491b1de4de4286953e8b0057482f70",
           "version_major": 2,
           "version_minor": 0
          },
          "text/plain": "Plot(antialias=3, axes=['x', 'y', 'z'], axes_helper=1.0, background_color=16777215, camera=[4.5, 4.5, 4.5, 0.0…"
         },
         "metadata": {},
         "output_type": "display_data"
        }
       ]
      }
     },
     "fefed03dce2a4dd39d4306a901df5e97": {
      "model_module": "k3d",
      "model_module_version": "2.7.2",
      "model_name": "PlotModel",
      "state": {
       "_backend_version": "2.7.2",
       "_dom_classes": [],
       "_view_count": null,
       "antialias": 3,
       "auto_rendering": true,
       "axes": [
        "x",
        "y",
        "z"
       ],
       "axes_helper": 1,
       "background_color": 16777215,
       "camera": [
        0.34576171822074236,
        -2.8486817934779496,
        3.4317424094692988,
        0,
        0,
        0,
        -0.3079778721718892,
        0.6787576655541772,
        0.6666615795918635
       ],
       "camera_auto_fit": true,
       "camera_fov": 60,
       "camera_no_pan": false,
       "camera_no_rotate": false,
       "camera_no_zoom": false,
       "clipping_planes": [],
       "colorbar_object_id": -1,
       "fps": 25,
       "fps_meter": false,
       "grid": [
        -1,
        -1,
        -1,
        1,
        1,
        1
       ],
       "grid_auto_fit": true,
       "grid_visible": true,
       "height": 512,
       "layout": "IPY_MODEL_929f2e24008d4179941ba46c83a4dfbd",
       "lighting": 1.5,
       "menu_visibility": true,
       "mode": "view",
       "name": null,
       "object_ids": [
        4991236136
       ],
       "rendering_steps": 1,
       "screenshot": "",
       "screenshot_scale": 2,
       "snapshot": "",
       "time": 0,
       "voxel_paint_color": 0
      }
     }
    },
    "version_major": 2,
    "version_minor": 0
   }
  }
 },
 "nbformat": 4,
 "nbformat_minor": 4
}
